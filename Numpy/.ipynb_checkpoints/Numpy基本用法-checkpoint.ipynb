{
 "cells": [
  {
   "cell_type": "markdown",
   "metadata": {},
   "source": [
    "# Numpy的基本用法"
   ]
  },
  {
   "cell_type": "markdown",
   "metadata": {},
   "source": [
    "文章来源：http://www.jianshu.com/p/60bf50100c2f"
   ]
  },
  {
   "cell_type": "markdown",
   "metadata": {},
   "source": [
    "官方文档：http://www.numpy.org/"
   ]
  },
  {
   "cell_type": "markdown",
   "metadata": {},
   "source": [
    "## Numpy数组对象"
   ]
  },
  {
   "cell_type": "markdown",
   "metadata": {},
   "source": [
    "Numpy中的多维数组称为ndarray，是Numpy中最常见的数组对象。ndarray对象通常包含两个部分："
   ]
  },
  {
   "cell_type": "markdown",
   "metadata": {},
   "source": [
    "- ndarray数据本身\n",
    "- 描述数据的元数据"
   ]
  },
  {
   "cell_type": "markdown",
   "metadata": {},
   "source": [
    "### Numpy数组的优势"
   ]
  },
  {
   "cell_type": "markdown",
   "metadata": {},
   "source": [
    "- 通常由相同种类的元素组成，数组中数据项的类型一致，所以能快速确定存储数据所需要的空间大小\n",
    "- 运用向量化运算处理整个数组，速度较快。列表通常需要借助循环语句遍历列表计算，效率较低\n",
    "- 使用了优化过的C API，运算速度较快"
   ]
  },
  {
   "cell_type": "markdown",
   "metadata": {},
   "source": [
    "### 关于向量化和标量化运算"
   ]
  },
  {
   "cell_type": "markdown",
   "metadata": {},
   "source": [
    "** 使用python的list进行循环遍历运算 **"
   ]
  },
  {
   "cell_type": "code",
   "execution_count": 1,
   "metadata": {
    "ExecuteTime": {
     "end_time": "2017-10-03T13:09:26.178393Z",
     "start_time": "2017-10-03T13:09:26.173379Z"
    },
    "collapsed": true
   },
   "outputs": [],
   "source": [
    "def pysum():\n",
    "    a = list(range(10000))\n",
    "    b = list(range(10000))\n",
    "    c = []\n",
    "    for i in range(len(a)):\n",
    "        c.append(a[i]**2 + b[i]**2)\n",
    "    return c"
   ]
  },
  {
   "cell_type": "code",
   "execution_count": 2,
   "metadata": {
    "ExecuteTime": {
     "end_time": "2017-10-03T13:09:30.179032Z",
     "start_time": "2017-10-03T13:09:26.180397Z"
    }
   },
   "outputs": [
    {
     "name": "stdout",
     "output_type": "stream",
     "text": [
      "100 loops, best of 3: 9.65 ms per loop\n"
     ]
    }
   ],
   "source": [
    "%timeit pysum()"
   ]
  },
  {
   "cell_type": "markdown",
   "metadata": {},
   "source": [
    "** 使用numpy进行向量化运算 **"
   ]
  },
  {
   "cell_type": "code",
   "execution_count": 3,
   "metadata": {
    "ExecuteTime": {
     "end_time": "2017-10-03T13:09:30.253229Z",
     "start_time": "2017-10-03T13:09:30.181038Z"
    },
    "collapsed": true
   },
   "outputs": [],
   "source": [
    "import numpy as np\n",
    "def npsum():\n",
    "    a = np.arange(10000)\n",
    "    b = np.arange(10000)\n",
    "    c = a**2 + b**2\n",
    "    return c"
   ]
  },
  {
   "cell_type": "code",
   "execution_count": 4,
   "metadata": {
    "ExecuteTime": {
     "end_time": "2017-10-03T13:09:32.166317Z",
     "start_time": "2017-10-03T13:09:30.255235Z"
    }
   },
   "outputs": [
    {
     "name": "stdout",
     "output_type": "stream",
     "text": [
      "The slowest run took 19.15 times longer than the fastest. This could mean that an intermediate result is being cached.\n",
      "10000 loops, best of 3: 44.8 µs per loop\n"
     ]
    }
   ],
   "source": [
    "%timeit npsum()"
   ]
  },
  {
   "cell_type": "markdown",
   "metadata": {},
   "source": [
    "** numpy的向量化运算效率远远高于python的循环遍历运算（相差几百倍） **"
   ]
  },
  {
   "cell_type": "markdown",
   "metadata": {},
   "source": [
    "## 创建ndarray数组（多维数组）"
   ]
  },
  {
   "cell_type": "code",
   "execution_count": 5,
   "metadata": {
    "ExecuteTime": {
     "end_time": "2017-10-03T13:09:32.171331Z",
     "start_time": "2017-10-03T13:09:32.168354Z"
    },
    "collapsed": true
   },
   "outputs": [],
   "source": [
    "import numpy as np"
   ]
  },
  {
   "cell_type": "markdown",
   "metadata": {},
   "source": [
    "### 基于list或tuple"
   ]
  },
  {
   "cell_type": "code",
   "execution_count": 6,
   "metadata": {
    "ExecuteTime": {
     "end_time": "2017-10-03T13:09:32.216450Z",
     "start_time": "2017-10-03T13:09:32.173336Z"
    }
   },
   "outputs": [
    {
     "data": {
      "text/plain": [
       "array([1, 2, 3, 4])"
      ]
     },
     "execution_count": 6,
     "metadata": {},
     "output_type": "execute_result"
    }
   ],
   "source": [
    "arr_list = np.array([1, 2, 3, 4])\n",
    "arr_list"
   ]
  },
  {
   "cell_type": "code",
   "execution_count": 7,
   "metadata": {
    "ExecuteTime": {
     "end_time": "2017-10-03T13:09:32.232494Z",
     "start_time": "2017-10-03T13:09:32.219458Z"
    }
   },
   "outputs": [
    {
     "name": "stdout",
     "output_type": "stream",
     "text": [
      "[1 2 3 4]\n"
     ]
    }
   ],
   "source": [
    "print(arr_list)"
   ]
  },
  {
   "cell_type": "code",
   "execution_count": 8,
   "metadata": {
    "ExecuteTime": {
     "end_time": "2017-10-03T13:09:32.250541Z",
     "start_time": "2017-10-03T13:09:32.234498Z"
    }
   },
   "outputs": [
    {
     "data": {
      "text/plain": [
       "array([1, 2, 3, 4])"
      ]
     },
     "execution_count": 8,
     "metadata": {},
     "output_type": "execute_result"
    }
   ],
   "source": [
    "arr_tuple = np.array((1, 2, 3, 4))\n",
    "arr_tuple"
   ]
  },
  {
   "cell_type": "code",
   "execution_count": 9,
   "metadata": {
    "ExecuteTime": {
     "end_time": "2017-10-03T13:09:32.271597Z",
     "start_time": "2017-10-03T13:09:32.252547Z"
    }
   },
   "outputs": [
    {
     "data": {
      "text/plain": [
       "array([[1, 2, 4],\n",
       "       [3, 4, 5]])"
      ]
     },
     "execution_count": 9,
     "metadata": {},
     "output_type": "execute_result"
    }
   ],
   "source": [
    "arr_2 = np.array([[1, 2, 4], [3, 4, 5]])\n",
    "arr_2"
   ]
  },
  {
   "cell_type": "markdown",
   "metadata": {},
   "source": [
    "- 创建二维数组时，每个子list外面还有一个\"[]\"，形式为\"[[list1], [list2]]\""
   ]
  },
  {
   "cell_type": "markdown",
   "metadata": {},
   "source": [
    "### 基于np.arange"
   ]
  },
  {
   "cell_type": "code",
   "execution_count": 10,
   "metadata": {
    "ExecuteTime": {
     "end_time": "2017-10-03T13:09:32.294658Z",
     "start_time": "2017-10-03T13:09:32.275608Z"
    }
   },
   "outputs": [
    {
     "data": {
      "text/plain": [
       "array([0, 1, 2, 3, 4])"
      ]
     },
     "execution_count": 10,
     "metadata": {},
     "output_type": "execute_result"
    }
   ],
   "source": [
    "arr1 = np.arange(5)\n",
    "arr1"
   ]
  },
  {
   "cell_type": "code",
   "execution_count": 11,
   "metadata": {
    "ExecuteTime": {
     "end_time": "2017-10-03T13:09:32.311707Z",
     "start_time": "2017-10-03T13:09:32.296664Z"
    }
   },
   "outputs": [
    {
     "data": {
      "text/plain": [
       "array([[0, 1, 2],\n",
       "       [0, 1, 2]])"
      ]
     },
     "execution_count": 11,
     "metadata": {},
     "output_type": "execute_result"
    }
   ],
   "source": [
    "arr2 = np.array([np.arange(3), np.arange(3)])\n",
    "arr2"
   ]
  },
  {
   "cell_type": "markdown",
   "metadata": {},
   "source": [
    "### 基于arange以及reshape创建多维数组"
   ]
  },
  {
   "cell_type": "markdown",
   "metadata": {},
   "source": [
    "三维数组"
   ]
  },
  {
   "cell_type": "code",
   "execution_count": 12,
   "metadata": {
    "ExecuteTime": {
     "end_time": "2017-10-03T13:09:32.333763Z",
     "start_time": "2017-10-03T13:09:32.313711Z"
    }
   },
   "outputs": [
    {
     "data": {
      "text/plain": [
       "array([[[ 0,  1,  2,  3],\n",
       "        [ 4,  5,  6,  7],\n",
       "        [ 8,  9, 10, 11]],\n",
       "\n",
       "       [[12, 13, 14, 15],\n",
       "        [16, 17, 18, 19],\n",
       "        [20, 21, 22, 23]]])"
      ]
     },
     "execution_count": 12,
     "metadata": {},
     "output_type": "execute_result"
    }
   ],
   "source": [
    "arr = np.arange(24).reshape(2, 3, 4)\n",
    "arr"
   ]
  },
  {
   "cell_type": "markdown",
   "metadata": {},
   "source": [
    "- arange的长度与ndarray的维度的乘积要相等， $$24 = 2 * 3 * 4$$"
   ]
  },
  {
   "cell_type": "markdown",
   "metadata": {},
   "source": [
    "### 使用numpy.random创建"
   ]
  },
  {
   "cell_type": "markdown",
   "metadata": {},
   "source": [
    "#### numpy.random.rand(d0, d1, ..., dn)"
   ]
  },
  {
   "cell_type": "markdown",
   "metadata": {},
   "source": [
    "- rand函数根据给定维度生成[0,1)之间的数据\n",
    "- dn每个维度\n",
    "- 返回值为指定维度的array"
   ]
  },
  {
   "cell_type": "code",
   "execution_count": 13,
   "metadata": {
    "ExecuteTime": {
     "end_time": "2017-10-03T13:09:32.351810Z",
     "start_time": "2017-10-03T13:09:32.335768Z"
    }
   },
   "outputs": [
    {
     "data": {
      "text/plain": [
       "array([[ 0.17478438,  0.52430204],\n",
       "       [ 0.52021573,  0.12361116],\n",
       "       [ 0.19791361,  0.83478518],\n",
       "       [ 0.85879997,  0.1798232 ]])"
      ]
     },
     "execution_count": 13,
     "metadata": {},
     "output_type": "execute_result"
    }
   ],
   "source": [
    "np.random.rand(4, 2)"
   ]
  },
  {
   "cell_type": "code",
   "execution_count": 14,
   "metadata": {
    "ExecuteTime": {
     "end_time": "2017-10-03T13:09:32.370862Z",
     "start_time": "2017-10-03T13:09:32.353816Z"
    }
   },
   "outputs": [
    {
     "data": {
      "text/plain": [
       "array([[[ 0.67445322,  0.56544468,  0.50364621,  0.21391765],\n",
       "        [ 0.85810396,  0.90565603,  0.84338505,  0.12397256],\n",
       "        [ 0.28528284,  0.38300346,  0.77051309,  0.24082528]],\n",
       "\n",
       "       [[ 0.83164103,  0.93571379,  0.02764287,  0.24990003],\n",
       "        [ 0.33305747,  0.70364905,  0.03458689,  0.06099245],\n",
       "        [ 0.98195379,  0.59080479,  0.51030936,  0.72428675]]])"
      ]
     },
     "execution_count": 14,
     "metadata": {},
     "output_type": "execute_result"
    }
   ],
   "source": [
    "np.random.rand(2, 3, 4)"
   ]
  },
  {
   "cell_type": "markdown",
   "metadata": {},
   "source": [
    "#### numpy.random.randn(d0, d1,..., dn)"
   ]
  },
  {
   "cell_type": "markdown",
   "metadata": {},
   "source": [
    "- randn函数返回一个或一组样本，具有标准正态分布。\n",
    "- dn表格每个维度\n",
    "- 返回值为指定维度的array"
   ]
  },
  {
   "cell_type": "code",
   "execution_count": 15,
   "metadata": {
    "ExecuteTime": {
     "end_time": "2017-10-03T13:09:32.388909Z",
     "start_time": "2017-10-03T13:09:32.372868Z"
    }
   },
   "outputs": [
    {
     "data": {
      "text/plain": [
       "0.39700902157662404"
      ]
     },
     "execution_count": 15,
     "metadata": {},
     "output_type": "execute_result"
    }
   ],
   "source": [
    "np.random.randn() #  没有参数时返回单个数据"
   ]
  },
  {
   "cell_type": "code",
   "execution_count": 16,
   "metadata": {
    "ExecuteTime": {
     "end_time": "2017-10-03T13:09:32.406958Z",
     "start_time": "2017-10-03T13:09:32.390915Z"
    }
   },
   "outputs": [
    {
     "data": {
      "text/plain": [
       "array([[[-0.06481128, -0.19059487,  0.70850927,  0.99094418],\n",
       "        [ 0.29080487,  1.35855556,  0.52961041, -0.05710338],\n",
       "        [-0.55856482,  0.19737766,  0.32318852,  0.80633156]],\n",
       "\n",
       "       [[ 2.44553194,  1.42780779,  1.39138239, -1.37589894],\n",
       "        [-0.00673195, -0.57642009,  0.79739246, -0.55086421],\n",
       "        [ 0.2712315 ,  0.14260939, -1.44716742,  1.33573542]]])"
      ]
     },
     "execution_count": 16,
     "metadata": {},
     "output_type": "execute_result"
    }
   ],
   "source": [
    "np.random.randn(2, 3, 4)"
   ]
  },
  {
   "cell_type": "markdown",
   "metadata": {},
   "source": [
    "#### numpy.random.randint(low, high=None, size=None, dtype='I')"
   ]
  },
  {
   "cell_type": "markdown",
   "metadata": {},
   "source": [
    "- 返回随机整数，范围区间为[low, high)，包含low，不包含high\n",
    "- 参数：low为最小值，high为最大值，size为数组维度大小，dtype为数据类型，默认为np.int\n",
    "- high没有填写时，默认生成随机数的范围是[0, low)"
   ]
  },
  {
   "cell_type": "code",
   "execution_count": 17,
   "metadata": {
    "ExecuteTime": {
     "end_time": "2017-10-03T13:09:32.423507Z",
     "start_time": "2017-10-03T13:09:32.408966Z"
    }
   },
   "outputs": [
    {
     "data": {
      "text/plain": [
       "array([0, 0, 0, 0, 0])"
      ]
     },
     "execution_count": 17,
     "metadata": {},
     "output_type": "execute_result"
    }
   ],
   "source": [
    "np.random.randint(1, size=5)"
   ]
  },
  {
   "cell_type": "code",
   "execution_count": 18,
   "metadata": {
    "ExecuteTime": {
     "end_time": "2017-10-03T13:09:32.443561Z",
     "start_time": "2017-10-03T13:09:32.425513Z"
    }
   },
   "outputs": [
    {
     "data": {
      "text/plain": [
       "4"
      ]
     },
     "execution_count": 18,
     "metadata": {},
     "output_type": "execute_result"
    }
   ],
   "source": [
    "np.random.randint(1, 5)"
   ]
  },
  {
   "cell_type": "code",
   "execution_count": 19,
   "metadata": {
    "ExecuteTime": {
     "end_time": "2017-10-03T13:09:32.461609Z",
     "start_time": "2017-10-03T13:09:32.445567Z"
    }
   },
   "outputs": [
    {
     "data": {
      "text/plain": [
       "array([[ 4, -5, -2],\n",
       "       [-2, -5, -4],\n",
       "       [ 0, -5, -3]])"
      ]
     },
     "execution_count": 19,
     "metadata": {},
     "output_type": "execute_result"
    }
   ],
   "source": [
    "np.random.randint(-5, 5, size=(3, 3))"
   ]
  },
  {
   "cell_type": "markdown",
   "metadata": {},
   "source": [
    "#### 生成[0, 1)之间的浮点数"
   ]
  },
  {
   "cell_type": "markdown",
   "metadata": {},
   "source": [
    "- np.random.random_sample(size=None)\n",
    "- np.random.random(size=None)\n",
    "- np.random.ranf(size=None)\n",
    "- np.random.sample(size=None)"
   ]
  },
  {
   "cell_type": "code",
   "execution_count": 20,
   "metadata": {
    "ExecuteTime": {
     "end_time": "2017-10-03T13:09:32.486676Z",
     "start_time": "2017-10-03T13:09:32.463615Z"
    }
   },
   "outputs": [
    {
     "data": {
      "text/plain": [
       "array([[ 0.97521491,  0.277576  ],\n",
       "       [ 0.32076637,  0.03211451]])"
      ]
     },
     "execution_count": 20,
     "metadata": {},
     "output_type": "execute_result"
    }
   ],
   "source": [
    "np.random.random_sample(size=(2, 2))"
   ]
  },
  {
   "cell_type": "code",
   "execution_count": 21,
   "metadata": {
    "ExecuteTime": {
     "end_time": "2017-10-03T13:09:32.504724Z",
     "start_time": "2017-10-03T13:09:32.488681Z"
    }
   },
   "outputs": [
    {
     "data": {
      "text/plain": [
       "array([[ 0.99644073,  0.34475651],\n",
       "       [ 0.15738571,  0.5638243 ]])"
      ]
     },
     "execution_count": 21,
     "metadata": {},
     "output_type": "execute_result"
    }
   ],
   "source": [
    "np.random.random(size=(2, 2))"
   ]
  },
  {
   "cell_type": "code",
   "execution_count": 22,
   "metadata": {
    "ExecuteTime": {
     "end_time": "2017-10-03T13:09:32.522772Z",
     "start_time": "2017-10-03T13:09:32.506730Z"
    }
   },
   "outputs": [
    {
     "data": {
      "text/plain": [
       "array([[ 0.65326875,  0.28008585],\n",
       "       [ 0.35083788,  0.04101879]])"
      ]
     },
     "execution_count": 22,
     "metadata": {},
     "output_type": "execute_result"
    }
   ],
   "source": [
    "np.random.ranf(size=(2, 2))"
   ]
  },
  {
   "cell_type": "code",
   "execution_count": 23,
   "metadata": {
    "ExecuteTime": {
     "end_time": "2017-10-03T13:09:32.539816Z",
     "start_time": "2017-10-03T13:09:32.524776Z"
    }
   },
   "outputs": [
    {
     "data": {
      "text/plain": [
       "array([[ 0.37391507,  0.6759526 ],\n",
       "       [ 0.25572725,  0.30681259]])"
      ]
     },
     "execution_count": 23,
     "metadata": {},
     "output_type": "execute_result"
    }
   ],
   "source": [
    "np.random.sample(size=(2, 2))"
   ]
  },
  {
   "cell_type": "markdown",
   "metadata": {},
   "source": [
    "#### numpy.random.choice(a, size=None, replace=True, p=None)"
   ]
  },
  {
   "cell_type": "markdown",
   "metadata": {},
   "source": [
    "- 从给定的一维数组中生成随机数\n",
    "- 参数： a为一维数组类似数据或整数；size为数组维度；p为数组中的数据出现的概率\n",
    "- a为整数时，对应的一维数组为np.arange(a)"
   ]
  },
  {
   "cell_type": "code",
   "execution_count": 24,
   "metadata": {
    "ExecuteTime": {
     "end_time": "2017-10-03T13:09:32.557864Z",
     "start_time": "2017-10-03T13:09:32.541822Z"
    }
   },
   "outputs": [
    {
     "data": {
      "text/plain": [
       "array([1, 0, 0])"
      ]
     },
     "execution_count": 24,
     "metadata": {},
     "output_type": "execute_result"
    }
   ],
   "source": [
    "np.random.choice(5, 3)"
   ]
  },
  {
   "cell_type": "code",
   "execution_count": 25,
   "metadata": {
    "ExecuteTime": {
     "end_time": "2017-10-03T13:09:32.574911Z",
     "start_time": "2017-10-03T13:09:32.559871Z"
    }
   },
   "outputs": [
    {
     "data": {
      "text/plain": [
       "array([2, 0, 4])"
      ]
     },
     "execution_count": 25,
     "metadata": {},
     "output_type": "execute_result"
    }
   ],
   "source": [
    "np.random.choice(5, 3, replace=False)\n",
    "# replace为False表示不能有重复的数值"
   ]
  },
  {
   "cell_type": "code",
   "execution_count": 26,
   "metadata": {
    "ExecuteTime": {
     "end_time": "2017-10-03T13:09:32.592958Z",
     "start_time": "2017-10-03T13:09:32.576916Z"
    }
   },
   "outputs": [
    {
     "data": {
      "text/plain": [
       "array([[4, 1],\n",
       "       [2, 3],\n",
       "       [2, 0]])"
      ]
     },
     "execution_count": 26,
     "metadata": {},
     "output_type": "execute_result"
    }
   ],
   "source": [
    "np.random.choice(5, size=(3, 2))"
   ]
  },
  {
   "cell_type": "code",
   "execution_count": 27,
   "metadata": {
    "ExecuteTime": {
     "end_time": "2017-10-03T13:09:32.615018Z",
     "start_time": "2017-10-03T13:09:32.594964Z"
    }
   },
   "outputs": [
    {
     "data": {
      "text/plain": [
       "array([['d', 'd', 'd'],\n",
       "       ['a', 'b', 'e'],\n",
       "       ['a', 'c', 'c']],\n",
       "      dtype='<U1')"
      ]
     },
     "execution_count": 27,
     "metadata": {},
     "output_type": "execute_result"
    }
   ],
   "source": [
    "demo_list = ['a', 'b', 'c', 'd', 'e']\n",
    "np.random.choice(demo_list, size=(3, 3))"
   ]
  },
  {
   "cell_type": "markdown",
   "metadata": {},
   "source": [
    "- 参数p的长度与参数a的长度需要一致\n",
    "- 参数p为概率，p里的数据之和应为1"
   ]
  },
  {
   "cell_type": "code",
   "execution_count": 28,
   "metadata": {
    "ExecuteTime": {
     "end_time": "2017-10-03T13:09:32.633064Z",
     "start_time": "2017-10-03T13:09:32.617022Z"
    }
   },
   "outputs": [
    {
     "data": {
      "text/plain": [
       "array([['b', 'b', 'b'],\n",
       "       ['b', 'b', 'b'],\n",
       "       ['d', 'b', 'e']],\n",
       "      dtype='<U1')"
      ]
     },
     "execution_count": 28,
     "metadata": {},
     "output_type": "execute_result"
    }
   ],
   "source": [
    "np.random.choice(demo_list, size=(3, 3), p=[0.1, 0.6, 0.1, 0.1, 0.1])"
   ]
  },
  {
   "cell_type": "markdown",
   "metadata": {},
   "source": [
    "#### numpy.random.seed()"
   ]
  },
  {
   "cell_type": "markdown",
   "metadata": {},
   "source": [
    "- np.random.seed()使得随机数据可预测\n",
    "- 当我们设置相同的seed，每次生成的随机数相同。如果不设置seed，则每次会生成不同的随机数"
   ]
  },
  {
   "cell_type": "code",
   "execution_count": 29,
   "metadata": {
    "ExecuteTime": {
     "end_time": "2017-10-03T13:09:32.651113Z",
     "start_time": "2017-10-03T13:09:32.635070Z"
    }
   },
   "outputs": [
    {
     "data": {
      "text/plain": [
       "array([ 0.5488135 ,  0.71518937,  0.60276338,  0.54488318,  0.4236548 ])"
      ]
     },
     "execution_count": 29,
     "metadata": {},
     "output_type": "execute_result"
    }
   ],
   "source": [
    "np.random.seed(0)\n",
    "np.random.rand(5)"
   ]
  },
  {
   "cell_type": "code",
   "execution_count": 30,
   "metadata": {
    "ExecuteTime": {
     "end_time": "2017-10-03T13:09:32.672169Z",
     "start_time": "2017-10-03T13:09:32.653118Z"
    }
   },
   "outputs": [
    {
     "data": {
      "text/plain": [
       "array([ 0.39983389,  0.29426895,  0.89541728,  0.71807369,  0.3531823 ])"
      ]
     },
     "execution_count": 30,
     "metadata": {},
     "output_type": "execute_result"
    }
   ],
   "source": [
    "np.random.seed(1676)\n",
    "np.random.rand(5)"
   ]
  },
  {
   "cell_type": "code",
   "execution_count": 31,
   "metadata": {
    "ExecuteTime": {
     "end_time": "2017-10-03T13:09:32.693225Z",
     "start_time": "2017-10-03T13:09:32.674175Z"
    }
   },
   "outputs": [
    {
     "data": {
      "text/plain": [
       "array([ 0.39983389,  0.29426895,  0.89541728,  0.71807369,  0.3531823 ])"
      ]
     },
     "execution_count": 31,
     "metadata": {},
     "output_type": "execute_result"
    }
   ],
   "source": [
    "np.random.seed(1676)\n",
    "np.random.rand(5)"
   ]
  },
  {
   "cell_type": "markdown",
   "metadata": {},
   "source": [
    "## Numpy的数值类型"
   ]
  },
  {
   "cell_type": "markdown",
   "metadata": {},
   "source": [
    "\n",
    "|数据类型|说明|\n",
    "|:-- |:-- |\n",
    "|bool|占用1bit|\n",
    "|inti|长度取决于平台的整数，一般是int32或int64\n",
    "|int8|字节长度的整数，[-128, 127] |\n",
    "|int16|16位长度的整数，[-32768, 32767] |\n",
    "|int32|32位长度的整数，[-2^31, 2^31 - 1] |\n",
    "|int64|64为长度的整数，[-2^63, 2^63-1]|\n",
    "|uint8|8位无符号整数，[0, 255]|\n",
    "|uint16|[0, 65535] |\n",
    "|uint32|[0, 2^32 - 1] |\n",
    "|uint64|[0, 2^64 - 1] |\n",
    "|float16|16位半精度浮点数：1位符号位，5位指数，10位尾数 |\n",
    "|float32|32位半精度浮点数：1位符号位，8位指数，23位尾数 |\n",
    "|flo64at或float|双精度浮点数：1位符号位，11位指数，52位尾数 |\n",
    "|complex64|复数类型，实部和虚部都是32位浮点数 |\n",
    "|complex128或complex|复数类型， 实部和虚部都是64位浮点数 |"
   ]
  },
  {
   "cell_type": "markdown",
   "metadata": {},
   "source": [
    "每一种数据类型都有相应的数据转换函数"
   ]
  },
  {
   "cell_type": "code",
   "execution_count": 32,
   "metadata": {
    "ExecuteTime": {
     "end_time": "2017-10-03T13:09:32.712276Z",
     "start_time": "2017-10-03T13:09:32.695233Z"
    }
   },
   "outputs": [
    {
     "data": {
      "text/plain": [
       "12"
      ]
     },
     "execution_count": 32,
     "metadata": {},
     "output_type": "execute_result"
    }
   ],
   "source": [
    "np.int8(12.334)"
   ]
  },
  {
   "cell_type": "code",
   "execution_count": 33,
   "metadata": {
    "ExecuteTime": {
     "end_time": "2017-10-03T13:09:32.730324Z",
     "start_time": "2017-10-03T13:09:32.714281Z"
    }
   },
   "outputs": [
    {
     "data": {
      "text/plain": [
       "-56"
      ]
     },
     "execution_count": 33,
     "metadata": {},
     "output_type": "execute_result"
    }
   ],
   "source": [
    "np.int8(200)"
   ]
  },
  {
   "cell_type": "code",
   "execution_count": 34,
   "metadata": {
    "ExecuteTime": {
     "end_time": "2017-10-03T13:09:32.754387Z",
     "start_time": "2017-10-03T13:09:32.732329Z"
    }
   },
   "outputs": [
    {
     "data": {
      "text/plain": [
       "12.0"
      ]
     },
     "execution_count": 34,
     "metadata": {},
     "output_type": "execute_result"
    }
   ],
   "source": [
    "np.float64(12)"
   ]
  },
  {
   "cell_type": "markdown",
   "metadata": {},
   "source": [
    "** 创建ndarray数组时，可以指定数值类型： **"
   ]
  },
  {
   "cell_type": "code",
   "execution_count": 35,
   "metadata": {
    "ExecuteTime": {
     "end_time": "2017-10-03T13:09:32.770430Z",
     "start_time": "2017-10-03T13:09:32.756393Z"
    },
    "collapsed": true
   },
   "outputs": [],
   "source": [
    "a = np.arange(5, dtype=float)"
   ]
  },
  {
   "cell_type": "code",
   "execution_count": 36,
   "metadata": {
    "ExecuteTime": {
     "end_time": "2017-10-03T13:09:32.788479Z",
     "start_time": "2017-10-03T13:09:32.772436Z"
    }
   },
   "outputs": [
    {
     "data": {
      "text/plain": [
       "array([ 0.,  1.,  2.,  3.,  4.])"
      ]
     },
     "execution_count": 36,
     "metadata": {},
     "output_type": "execute_result"
    }
   ],
   "source": [
    "a"
   ]
  },
  {
   "cell_type": "markdown",
   "metadata": {},
   "source": [
    "## ndarray数组的属性"
   ]
  },
  {
   "cell_type": "markdown",
   "metadata": {},
   "source": [
    "**dtype属性，ndarray数组的数据类型。 **"
   ]
  },
  {
   "cell_type": "code",
   "execution_count": 37,
   "metadata": {
    "ExecuteTime": {
     "end_time": "2017-10-03T13:09:32.806526Z",
     "start_time": "2017-10-03T13:09:32.790484Z"
    }
   },
   "outputs": [
    {
     "data": {
      "text/plain": [
       "array([ 0.,  1.,  2.,  3.,  4.])"
      ]
     },
     "execution_count": 37,
     "metadata": {},
     "output_type": "execute_result"
    }
   ],
   "source": [
    "np.arange(5, dtype=float)"
   ]
  },
  {
   "cell_type": "code",
   "execution_count": 38,
   "metadata": {
    "ExecuteTime": {
     "end_time": "2017-10-03T13:09:32.824575Z",
     "start_time": "2017-10-03T13:09:32.808531Z"
    }
   },
   "outputs": [
    {
     "data": {
      "text/plain": [
       "array([ 0.+0.j,  1.+0.j,  2.+0.j,  3.+0.j,  4.+0.j])"
      ]
     },
     "execution_count": 38,
     "metadata": {},
     "output_type": "execute_result"
    }
   ],
   "source": [
    "np.arange(5, dtype='D')"
   ]
  },
  {
   "cell_type": "markdown",
   "metadata": {},
   "source": [
    "**ndim属性，数组的维度 **"
   ]
  },
  {
   "cell_type": "code",
   "execution_count": 39,
   "metadata": {
    "ExecuteTime": {
     "end_time": "2017-10-03T13:09:32.841620Z",
     "start_time": "2017-10-03T13:09:32.826579Z"
    }
   },
   "outputs": [
    {
     "data": {
      "text/plain": [
       "2"
      ]
     },
     "execution_count": 39,
     "metadata": {},
     "output_type": "execute_result"
    }
   ],
   "source": [
    "a = np.array([[1, 2, 3], [4, 5, 6]])\n",
    "a.ndim"
   ]
  },
  {
   "cell_type": "markdown",
   "metadata": {},
   "source": [
    "**shape属性，数组对象的尺度，对于矩阵，即n行m列，shape是一个元组（tuple）**"
   ]
  },
  {
   "cell_type": "code",
   "execution_count": 40,
   "metadata": {
    "ExecuteTime": {
     "end_time": "2017-10-03T13:09:32.859667Z",
     "start_time": "2017-10-03T13:09:32.843625Z"
    }
   },
   "outputs": [
    {
     "data": {
      "text/plain": [
       "(2, 3)"
      ]
     },
     "execution_count": 40,
     "metadata": {},
     "output_type": "execute_result"
    }
   ],
   "source": [
    "a.shape"
   ]
  },
  {
   "cell_type": "markdown",
   "metadata": {},
   "source": [
    "**size属性，用来保存元素的数量，相当于shape中数的乘积**"
   ]
  },
  {
   "cell_type": "code",
   "execution_count": 41,
   "metadata": {
    "ExecuteTime": {
     "end_time": "2017-10-03T13:09:32.878717Z",
     "start_time": "2017-10-03T13:09:32.861673Z"
    }
   },
   "outputs": [
    {
     "data": {
      "text/plain": [
       "6"
      ]
     },
     "execution_count": 41,
     "metadata": {},
     "output_type": "execute_result"
    }
   ],
   "source": [
    "a.size"
   ]
  },
  {
   "cell_type": "markdown",
   "metadata": {},
   "source": [
    "**itemsize属性返回数组中各个元素所占用的字节数大小**"
   ]
  },
  {
   "cell_type": "code",
   "execution_count": 42,
   "metadata": {
    "ExecuteTime": {
     "end_time": "2017-10-03T13:09:32.898772Z",
     "start_time": "2017-10-03T13:09:32.880723Z"
    }
   },
   "outputs": [
    {
     "data": {
      "text/plain": [
       "4"
      ]
     },
     "execution_count": 42,
     "metadata": {},
     "output_type": "execute_result"
    }
   ],
   "source": [
    "a.itemsize"
   ]
  },
  {
   "cell_type": "markdown",
   "metadata": {},
   "source": [
    "**nbytes属性，如果想知道整个数组所需的字节数量，可以使用nbytes属性，其值等于数组的size属性乘以itemsize属性值**"
   ]
  },
  {
   "cell_type": "code",
   "execution_count": 43,
   "metadata": {
    "ExecuteTime": {
     "end_time": "2017-10-03T13:09:32.918825Z",
     "start_time": "2017-10-03T13:09:32.900777Z"
    }
   },
   "outputs": [
    {
     "data": {
      "text/plain": [
       "24"
      ]
     },
     "execution_count": 43,
     "metadata": {},
     "output_type": "execute_result"
    }
   ],
   "source": [
    "a.nbytes"
   ]
  },
  {
   "cell_type": "code",
   "execution_count": 44,
   "metadata": {
    "ExecuteTime": {
     "end_time": "2017-10-03T13:09:32.935870Z",
     "start_time": "2017-10-03T13:09:32.920831Z"
    }
   },
   "outputs": [
    {
     "data": {
      "text/plain": [
       "24"
      ]
     },
     "execution_count": 44,
     "metadata": {},
     "output_type": "execute_result"
    }
   ],
   "source": [
    "a.size * a.itemsize"
   ]
  },
  {
   "cell_type": "markdown",
   "metadata": {},
   "source": [
    "**T属性，数组转置**"
   ]
  },
  {
   "cell_type": "code",
   "execution_count": 45,
   "metadata": {
    "ExecuteTime": {
     "end_time": "2017-10-03T13:09:32.956926Z",
     "start_time": "2017-10-03T13:09:32.937876Z"
    }
   },
   "outputs": [
    {
     "data": {
      "text/plain": [
       "array([[ 0,  1,  2,  3,  4,  5],\n",
       "       [ 6,  7,  8,  9, 10, 11],\n",
       "       [12, 13, 14, 15, 16, 17],\n",
       "       [18, 19, 20, 21, 22, 23]])"
      ]
     },
     "execution_count": 45,
     "metadata": {},
     "output_type": "execute_result"
    }
   ],
   "source": [
    "b = np.arange(24).reshape(4, 6)\n",
    "b"
   ]
  },
  {
   "cell_type": "code",
   "execution_count": 46,
   "metadata": {
    "ExecuteTime": {
     "end_time": "2017-10-03T13:09:32.978985Z",
     "start_time": "2017-10-03T13:09:32.958932Z"
    }
   },
   "outputs": [
    {
     "data": {
      "text/plain": [
       "array([[ 0,  6, 12, 18],\n",
       "       [ 1,  7, 13, 19],\n",
       "       [ 2,  8, 14, 20],\n",
       "       [ 3,  9, 15, 21],\n",
       "       [ 4, 10, 16, 22],\n",
       "       [ 5, 11, 17, 23]])"
      ]
     },
     "execution_count": 46,
     "metadata": {},
     "output_type": "execute_result"
    }
   ],
   "source": [
    "b.T"
   ]
  },
  {
   "cell_type": "markdown",
   "metadata": {},
   "source": [
    "**复数的实部和虚部属性，real和imag属性**"
   ]
  },
  {
   "cell_type": "code",
   "execution_count": 47,
   "metadata": {
    "ExecuteTime": {
     "end_time": "2017-10-03T13:09:32.996031Z",
     "start_time": "2017-10-03T13:09:32.980990Z"
    }
   },
   "outputs": [
    {
     "data": {
      "text/plain": [
       "array([ 1.+2.j,  2.+3.j])"
      ]
     },
     "execution_count": 47,
     "metadata": {},
     "output_type": "execute_result"
    }
   ],
   "source": [
    "d= np.array([1 + 2j, 2 + 3j])\n",
    "d"
   ]
  },
  {
   "cell_type": "code",
   "execution_count": 48,
   "metadata": {
    "ExecuteTime": {
     "end_time": "2017-10-03T13:09:33.013079Z",
     "start_time": "2017-10-03T13:09:32.998036Z"
    }
   },
   "outputs": [
    {
     "data": {
      "text/plain": [
       "array([ 1.,  2.])"
      ]
     },
     "execution_count": 48,
     "metadata": {},
     "output_type": "execute_result"
    }
   ],
   "source": [
    "d.real"
   ]
  },
  {
   "cell_type": "code",
   "execution_count": 49,
   "metadata": {
    "ExecuteTime": {
     "end_time": "2017-10-03T13:09:33.036136Z",
     "start_time": "2017-10-03T13:09:33.015081Z"
    }
   },
   "outputs": [
    {
     "data": {
      "text/plain": [
       "array([ 2.,  3.])"
      ]
     },
     "execution_count": 49,
     "metadata": {},
     "output_type": "execute_result"
    }
   ],
   "source": [
    "d.imag"
   ]
  },
  {
   "cell_type": "markdown",
   "metadata": {},
   "source": [
    "**flat属性，返回一个numpy.flatiter对象，即可迭代对象**"
   ]
  },
  {
   "cell_type": "code",
   "execution_count": 50,
   "metadata": {
    "ExecuteTime": {
     "end_time": "2017-10-03T13:09:33.056191Z",
     "start_time": "2017-10-03T13:09:33.038142Z"
    }
   },
   "outputs": [
    {
     "data": {
      "text/plain": [
       "array([[0, 1, 2],\n",
       "       [3, 4, 5]])"
      ]
     },
     "execution_count": 50,
     "metadata": {},
     "output_type": "execute_result"
    }
   ],
   "source": [
    "e = np.arange(6).reshape(2, 3)\n",
    "e"
   ]
  },
  {
   "cell_type": "code",
   "execution_count": 51,
   "metadata": {
    "ExecuteTime": {
     "end_time": "2017-10-03T13:09:33.073240Z",
     "start_time": "2017-10-03T13:09:33.058196Z"
    }
   },
   "outputs": [
    {
     "data": {
      "text/plain": [
       "<numpy.flatiter at 0x1f6dbffdee0>"
      ]
     },
     "execution_count": 51,
     "metadata": {},
     "output_type": "execute_result"
    }
   ],
   "source": [
    "f = e.flat\n",
    "f"
   ]
  },
  {
   "cell_type": "code",
   "execution_count": 52,
   "metadata": {
    "ExecuteTime": {
     "end_time": "2017-10-03T13:09:33.091298Z",
     "start_time": "2017-10-03T13:09:33.075241Z"
    }
   },
   "outputs": [
    {
     "name": "stdout",
     "output_type": "stream",
     "text": [
      "<numpy.flatiter object at 0x000001F6DBFFDEE0>\n",
      "<numpy.flatiter object at 0x000001F6DBFFDEE0>\n",
      "<numpy.flatiter object at 0x000001F6DBFFDEE0>\n",
      "<numpy.flatiter object at 0x000001F6DBFFDEE0>\n",
      "<numpy.flatiter object at 0x000001F6DBFFDEE0>\n",
      "<numpy.flatiter object at 0x000001F6DBFFDEE0>\n"
     ]
    }
   ],
   "source": [
    "for i in f:\n",
    "    print(f)"
   ]
  },
  {
   "cell_type": "code",
   "execution_count": 53,
   "metadata": {
    "ExecuteTime": {
     "end_time": "2017-10-03T13:09:33.109331Z",
     "start_time": "2017-10-03T13:09:33.093289Z"
    }
   },
   "outputs": [
    {
     "data": {
      "text/plain": [
       "2"
      ]
     },
     "execution_count": 53,
     "metadata": {},
     "output_type": "execute_result"
    }
   ],
   "source": [
    "f[2]"
   ]
  },
  {
   "cell_type": "code",
   "execution_count": 54,
   "metadata": {
    "ExecuteTime": {
     "end_time": "2017-10-03T13:09:33.126377Z",
     "start_time": "2017-10-03T13:09:33.111339Z"
    }
   },
   "outputs": [
    {
     "data": {
      "text/plain": [
       "array([1, 4])"
      ]
     },
     "execution_count": 54,
     "metadata": {},
     "output_type": "execute_result"
    }
   ],
   "source": [
    "f[[1,4]]"
   ]
  },
  {
   "cell_type": "code",
   "execution_count": 55,
   "metadata": {
    "ExecuteTime": {
     "end_time": "2017-10-03T13:09:33.145428Z",
     "start_time": "2017-10-03T13:09:33.128382Z"
    }
   },
   "outputs": [
    {
     "data": {
      "text/plain": [
       "array([[7, 7, 7],\n",
       "       [7, 7, 7]])"
      ]
     },
     "execution_count": 55,
     "metadata": {},
     "output_type": "execute_result"
    }
   ],
   "source": [
    "e.flat = 7\n",
    "e"
   ]
  },
  {
   "cell_type": "code",
   "execution_count": 56,
   "metadata": {
    "ExecuteTime": {
     "end_time": "2017-10-03T13:09:33.162473Z",
     "start_time": "2017-10-03T13:09:33.147433Z"
    }
   },
   "outputs": [
    {
     "data": {
      "text/plain": [
       "array([[7, 1, 7],\n",
       "       [7, 1, 7]])"
      ]
     },
     "execution_count": 56,
     "metadata": {},
     "output_type": "execute_result"
    }
   ],
   "source": [
    "e.flat[[1,4]] = 1\n",
    "e"
   ]
  },
  {
   "cell_type": "markdown",
   "metadata": {},
   "source": [
    "## ndarray数组的切片和索引"
   ]
  },
  {
   "cell_type": "markdown",
   "metadata": {},
   "source": [
    "### 一维数组的切片和索引与python的list类似"
   ]
  },
  {
   "cell_type": "code",
   "execution_count": 57,
   "metadata": {
    "ExecuteTime": {
     "end_time": "2017-10-03T13:09:33.179518Z",
     "start_time": "2017-10-03T13:09:33.164479Z"
    }
   },
   "outputs": [
    {
     "data": {
      "text/plain": [
       "array([0, 1, 2, 3, 4, 5, 6])"
      ]
     },
     "execution_count": 57,
     "metadata": {},
     "output_type": "execute_result"
    }
   ],
   "source": [
    "a = np.arange(7)\n",
    "a"
   ]
  },
  {
   "cell_type": "code",
   "execution_count": 58,
   "metadata": {
    "ExecuteTime": {
     "end_time": "2017-10-03T13:09:33.200575Z",
     "start_time": "2017-10-03T13:09:33.182527Z"
    }
   },
   "outputs": [
    {
     "data": {
      "text/plain": [
       "array([1, 2, 3])"
      ]
     },
     "execution_count": 58,
     "metadata": {},
     "output_type": "execute_result"
    }
   ],
   "source": [
    "a[1:4]"
   ]
  },
  {
   "cell_type": "code",
   "execution_count": 59,
   "metadata": {
    "ExecuteTime": {
     "end_time": "2017-10-03T13:09:33.219624Z",
     "start_time": "2017-10-03T13:09:33.202580Z"
    }
   },
   "outputs": [
    {
     "data": {
      "text/plain": [
       "array([0, 2, 4, 6])"
      ]
     },
     "execution_count": 59,
     "metadata": {},
     "output_type": "execute_result"
    }
   ],
   "source": [
    "a[::2]"
   ]
  },
  {
   "cell_type": "code",
   "execution_count": 60,
   "metadata": {
    "ExecuteTime": {
     "end_time": "2017-10-03T13:09:33.237673Z",
     "start_time": "2017-10-03T13:09:33.221631Z"
    }
   },
   "outputs": [
    {
     "data": {
      "text/plain": [
       "array([5, 6])"
      ]
     },
     "execution_count": 60,
     "metadata": {},
     "output_type": "execute_result"
    }
   ],
   "source": [
    "a[-2:]"
   ]
  },
  {
   "cell_type": "markdown",
   "metadata": {},
   "source": [
    "### 二维数组的切片和索引"
   ]
  },
  {
   "cell_type": "code",
   "execution_count": 61,
   "metadata": {
    "ExecuteTime": {
     "end_time": "2017-10-03T13:09:33.254718Z",
     "start_time": "2017-10-03T13:09:33.239679Z"
    }
   },
   "outputs": [
    {
     "data": {
      "text/plain": [
       "array([[ 0,  1,  2,  3],\n",
       "       [ 4,  5,  6,  7],\n",
       "       [ 8,  9, 10, 11]])"
      ]
     },
     "execution_count": 61,
     "metadata": {},
     "output_type": "execute_result"
    }
   ],
   "source": [
    "b = np.arange(12).reshape(3, 4)\n",
    "b"
   ]
  },
  {
   "cell_type": "markdown",
   "metadata": {},
   "source": [
    "** 先行后列 **"
   ]
  },
  {
   "cell_type": "code",
   "execution_count": 62,
   "metadata": {
    "ExecuteTime": {
     "end_time": "2017-10-03T13:09:33.272766Z",
     "start_time": "2017-10-03T13:09:33.256724Z"
    }
   },
   "outputs": [
    {
     "data": {
      "text/plain": [
       "array([[0, 1],\n",
       "       [4, 5],\n",
       "       [8, 9]])"
      ]
     },
     "execution_count": 62,
     "metadata": {},
     "output_type": "execute_result"
    }
   ],
   "source": [
    "b[0:3, 0:2]"
   ]
  },
  {
   "cell_type": "code",
   "execution_count": 63,
   "metadata": {
    "ExecuteTime": {
     "end_time": "2017-10-03T13:09:33.292820Z",
     "start_time": "2017-10-03T13:09:33.274772Z"
    }
   },
   "outputs": [
    {
     "data": {
      "text/plain": [
       "5"
      ]
     },
     "execution_count": 63,
     "metadata": {},
     "output_type": "execute_result"
    }
   ],
   "source": [
    "b[1, 1]"
   ]
  },
  {
   "cell_type": "markdown",
   "metadata": {},
   "source": [
    "## 处理数组的形状"
   ]
  },
  {
   "cell_type": "markdown",
   "metadata": {
    "collapsed": true
   },
   "source": [
    "### 形状转换"
   ]
  },
  {
   "cell_type": "markdown",
   "metadata": {},
   "source": [
    "- reshape()和resize()"
   ]
  },
  {
   "cell_type": "code",
   "execution_count": 64,
   "metadata": {
    "ExecuteTime": {
     "end_time": "2017-10-03T13:09:33.309865Z",
     "start_time": "2017-10-03T13:09:33.294825Z"
    }
   },
   "outputs": [
    {
     "data": {
      "text/plain": [
       "array([[ 0,  1,  2],\n",
       "       [ 3,  4,  5],\n",
       "       [ 6,  7,  8],\n",
       "       [ 9, 10, 11]])"
      ]
     },
     "execution_count": 64,
     "metadata": {},
     "output_type": "execute_result"
    }
   ],
   "source": [
    "b.reshape(4, 3)"
   ]
  },
  {
   "cell_type": "code",
   "execution_count": 65,
   "metadata": {
    "ExecuteTime": {
     "end_time": "2017-10-03T13:09:33.329918Z",
     "start_time": "2017-10-03T13:09:33.311871Z"
    }
   },
   "outputs": [
    {
     "data": {
      "text/plain": [
       "array([[ 0,  1,  2,  3],\n",
       "       [ 4,  5,  6,  7],\n",
       "       [ 8,  9, 10, 11]])"
      ]
     },
     "execution_count": 65,
     "metadata": {},
     "output_type": "execute_result"
    }
   ],
   "source": [
    "b"
   ]
  },
  {
   "cell_type": "code",
   "execution_count": 66,
   "metadata": {
    "ExecuteTime": {
     "end_time": "2017-10-03T13:09:33.348969Z",
     "start_time": "2017-10-03T13:09:33.331924Z"
    }
   },
   "outputs": [
    {
     "data": {
      "text/plain": [
       "array([[ 0,  1,  2],\n",
       "       [ 3,  4,  5],\n",
       "       [ 6,  7,  8],\n",
       "       [ 9, 10, 11]])"
      ]
     },
     "execution_count": 66,
     "metadata": {},
     "output_type": "execute_result"
    }
   ],
   "source": [
    "b.resize(4, 3)\n",
    "b"
   ]
  },
  {
   "cell_type": "markdown",
   "metadata": {},
   "source": [
    "resize()的作用和reshape()类似，但是会改变所作用的数组，相当于有inplace=True的效果"
   ]
  },
  {
   "cell_type": "markdown",
   "metadata": {},
   "source": [
    "**ravel()和flatten(),将多维数组转换成一维数组**"
   ]
  },
  {
   "cell_type": "code",
   "execution_count": 67,
   "metadata": {
    "ExecuteTime": {
     "end_time": "2017-10-03T13:09:33.367031Z",
     "start_time": "2017-10-03T13:09:33.350976Z"
    }
   },
   "outputs": [
    {
     "data": {
      "text/plain": [
       "array([ 0,  1,  2,  3,  4,  5,  6,  7,  8,  9, 10, 11])"
      ]
     },
     "execution_count": 67,
     "metadata": {},
     "output_type": "execute_result"
    }
   ],
   "source": [
    "b.ravel()"
   ]
  },
  {
   "cell_type": "code",
   "execution_count": 68,
   "metadata": {
    "ExecuteTime": {
     "end_time": "2017-10-03T13:09:33.392083Z",
     "start_time": "2017-10-03T13:09:33.369022Z"
    }
   },
   "outputs": [
    {
     "data": {
      "text/plain": [
       "array([ 0,  1,  2,  3,  4,  5,  6,  7,  8,  9, 10, 11])"
      ]
     },
     "execution_count": 68,
     "metadata": {},
     "output_type": "execute_result"
    }
   ],
   "source": [
    "b.flatten()"
   ]
  },
  {
   "cell_type": "code",
   "execution_count": 69,
   "metadata": {
    "ExecuteTime": {
     "end_time": "2017-10-03T13:09:33.410131Z",
     "start_time": "2017-10-03T13:09:33.394088Z"
    }
   },
   "outputs": [
    {
     "data": {
      "text/plain": [
       "array([[ 0,  1,  2],\n",
       "       [ 3,  4,  5],\n",
       "       [ 6,  7,  8],\n",
       "       [ 9, 10, 11]])"
      ]
     },
     "execution_count": 69,
     "metadata": {},
     "output_type": "execute_result"
    }
   ],
   "source": [
    "b"
   ]
  },
  {
   "cell_type": "markdown",
   "metadata": {},
   "source": [
    "** 两者的区别在于返回拷贝还是返回视图，flatten()返回一份拷贝，需要分配新的内存空间，对拷贝的修改不影响原矩阵**"
   ]
  },
  {
   "cell_type": "markdown",
   "metadata": {},
   "source": [
    "** ravel()返回的是视图，会影响原矩阵 **"
   ]
  },
  {
   "cell_type": "code",
   "execution_count": 70,
   "metadata": {
    "ExecuteTime": {
     "end_time": "2017-10-03T13:09:33.427177Z",
     "start_time": "2017-10-03T13:09:33.412137Z"
    }
   },
   "outputs": [
    {
     "data": {
      "text/plain": [
       "array([[ 0,  1,  2],\n",
       "       [ 3,  4,  5],\n",
       "       [ 6,  7,  8],\n",
       "       [ 9, 10, 11]])"
      ]
     },
     "execution_count": 70,
     "metadata": {},
     "output_type": "execute_result"
    }
   ],
   "source": [
    "b.flatten()[2] = 20\n",
    "b"
   ]
  },
  {
   "cell_type": "code",
   "execution_count": 71,
   "metadata": {
    "ExecuteTime": {
     "end_time": "2017-10-03T13:09:33.444222Z",
     "start_time": "2017-10-03T13:09:33.429182Z"
    }
   },
   "outputs": [
    {
     "data": {
      "text/plain": [
       "array([[ 0,  1, 20],\n",
       "       [ 3,  4,  5],\n",
       "       [ 6,  7,  8],\n",
       "       [ 9, 10, 11]])"
      ]
     },
     "execution_count": 71,
     "metadata": {},
     "output_type": "execute_result"
    }
   ],
   "source": [
    "b.ravel()[2] = 20\n",
    "b"
   ]
  },
  {
   "cell_type": "markdown",
   "metadata": {},
   "source": [
    "**用tuple指定数组的形状**"
   ]
  },
  {
   "cell_type": "code",
   "execution_count": 72,
   "metadata": {
    "ExecuteTime": {
     "end_time": "2017-10-03T13:09:33.462270Z",
     "start_time": "2017-10-03T13:09:33.446228Z"
    }
   },
   "outputs": [
    {
     "data": {
      "text/plain": [
       "array([[ 0,  1, 20,  3,  4,  5],\n",
       "       [ 6,  7,  8,  9, 10, 11]])"
      ]
     },
     "execution_count": 72,
     "metadata": {},
     "output_type": "execute_result"
    }
   ],
   "source": [
    "b.shape = (2, 6)\n",
    "b"
   ]
  },
  {
   "cell_type": "markdown",
   "metadata": {},
   "source": [
    "**转置**"
   ]
  },
  {
   "cell_type": "code",
   "execution_count": 73,
   "metadata": {
    "ExecuteTime": {
     "end_time": "2017-10-03T13:09:33.480319Z",
     "start_time": "2017-10-03T13:09:33.464276Z"
    }
   },
   "outputs": [
    {
     "data": {
      "text/plain": [
       "array([[ 0,  6],\n",
       "       [ 1,  7],\n",
       "       [20,  8],\n",
       "       [ 3,  9],\n",
       "       [ 4, 10],\n",
       "       [ 5, 11]])"
      ]
     },
     "execution_count": 73,
     "metadata": {},
     "output_type": "execute_result"
    }
   ],
   "source": [
    "b.transpose()"
   ]
  },
  {
   "cell_type": "markdown",
   "metadata": {},
   "source": [
    "### 堆叠数组"
   ]
  },
  {
   "cell_type": "code",
   "execution_count": 74,
   "metadata": {
    "ExecuteTime": {
     "end_time": "2017-10-03T13:09:33.497363Z",
     "start_time": "2017-10-03T13:09:33.482324Z"
    }
   },
   "outputs": [
    {
     "data": {
      "text/plain": [
       "array([[ 0,  1, 20,  3,  4,  5],\n",
       "       [ 6,  7,  8,  9, 10, 11]])"
      ]
     },
     "execution_count": 74,
     "metadata": {},
     "output_type": "execute_result"
    }
   ],
   "source": [
    "b"
   ]
  },
  {
   "cell_type": "code",
   "execution_count": 75,
   "metadata": {
    "ExecuteTime": {
     "end_time": "2017-10-03T13:09:33.514409Z",
     "start_time": "2017-10-03T13:09:33.499370Z"
    }
   },
   "outputs": [
    {
     "data": {
      "text/plain": [
       "array([[ 0,  2, 40,  6,  8, 10],\n",
       "       [12, 14, 16, 18, 20, 22]])"
      ]
     },
     "execution_count": 75,
     "metadata": {},
     "output_type": "execute_result"
    }
   ],
   "source": [
    "c = b * 2\n",
    "c"
   ]
  },
  {
   "cell_type": "markdown",
   "metadata": {},
   "source": [
    "**水平叠加 hstack()**"
   ]
  },
  {
   "cell_type": "code",
   "execution_count": 76,
   "metadata": {
    "ExecuteTime": {
     "end_time": "2017-10-03T13:09:33.531454Z",
     "start_time": "2017-10-03T13:09:33.516414Z"
    }
   },
   "outputs": [
    {
     "data": {
      "text/plain": [
       "array([[ 0,  1, 20,  3,  4,  5,  0,  2, 40,  6,  8, 10],\n",
       "       [ 6,  7,  8,  9, 10, 11, 12, 14, 16, 18, 20, 22]])"
      ]
     },
     "execution_count": 76,
     "metadata": {},
     "output_type": "execute_result"
    }
   ],
   "source": [
    "np.hstack((b, c))"
   ]
  },
  {
   "cell_type": "markdown",
   "metadata": {},
   "source": [
    "column_stack()函数以列方式对数组进行叠加，功能类似hstack()"
   ]
  },
  {
   "cell_type": "code",
   "execution_count": 77,
   "metadata": {
    "ExecuteTime": {
     "end_time": "2017-10-03T13:09:33.552510Z",
     "start_time": "2017-10-03T13:09:33.533460Z"
    }
   },
   "outputs": [
    {
     "data": {
      "text/plain": [
       "array([[ 0,  1, 20,  3,  4,  5,  0,  2, 40,  6,  8, 10],\n",
       "       [ 6,  7,  8,  9, 10, 11, 12, 14, 16, 18, 20, 22]])"
      ]
     },
     "execution_count": 77,
     "metadata": {},
     "output_type": "execute_result"
    }
   ],
   "source": [
    "np.column_stack((b, c))"
   ]
  },
  {
   "cell_type": "markdown",
   "metadata": {},
   "source": [
    "**垂直叠加vstack()**"
   ]
  },
  {
   "cell_type": "code",
   "execution_count": 78,
   "metadata": {
    "ExecuteTime": {
     "end_time": "2017-10-03T13:09:33.570558Z",
     "start_time": "2017-10-03T13:09:33.554516Z"
    }
   },
   "outputs": [
    {
     "data": {
      "text/plain": [
       "array([[ 0,  1, 20,  3,  4,  5],\n",
       "       [ 6,  7,  8,  9, 10, 11],\n",
       "       [ 0,  2, 40,  6,  8, 10],\n",
       "       [12, 14, 16, 18, 20, 22]])"
      ]
     },
     "execution_count": 78,
     "metadata": {},
     "output_type": "execute_result"
    }
   ],
   "source": [
    "np.vstack((b, c))"
   ]
  },
  {
   "cell_type": "markdown",
   "metadata": {},
   "source": [
    "row_stack()函数以行方式对数组进行叠加，功能类似vstack()"
   ]
  },
  {
   "cell_type": "code",
   "execution_count": 79,
   "metadata": {
    "ExecuteTime": {
     "end_time": "2017-10-03T13:09:33.587604Z",
     "start_time": "2017-10-03T13:09:33.572563Z"
    }
   },
   "outputs": [
    {
     "data": {
      "text/plain": [
       "array([[ 0,  1, 20,  3,  4,  5],\n",
       "       [ 6,  7,  8,  9, 10, 11],\n",
       "       [ 0,  2, 40,  6,  8, 10],\n",
       "       [12, 14, 16, 18, 20, 22]])"
      ]
     },
     "execution_count": 79,
     "metadata": {},
     "output_type": "execute_result"
    }
   ],
   "source": [
    "np.row_stack((b, c))"
   ]
  },
  {
   "cell_type": "markdown",
   "metadata": {},
   "source": [
    "- concatenate()方法，通过设置axis的值来设置叠加方向\n",
    "- axis = 1时，沿水平方向叠加\n",
    "- axis = 0时，沿垂直方向叠加\n",
    "- 0 - row - 行 - 垂直\n",
    "- 1 - column - 列 - 水平\n",
    "- 先行后列"
   ]
  },
  {
   "cell_type": "code",
   "execution_count": 80,
   "metadata": {
    "ExecuteTime": {
     "end_time": "2017-10-03T13:09:33.604649Z",
     "start_time": "2017-10-03T13:09:33.589609Z"
    }
   },
   "outputs": [
    {
     "data": {
      "text/plain": [
       "array([[ 0,  1, 20,  3,  4,  5,  0,  2, 40,  6,  8, 10],\n",
       "       [ 6,  7,  8,  9, 10, 11, 12, 14, 16, 18, 20, 22]])"
      ]
     },
     "execution_count": 80,
     "metadata": {},
     "output_type": "execute_result"
    }
   ],
   "source": [
    "np.concatenate((b, c), axis=1)"
   ]
  },
  {
   "cell_type": "code",
   "execution_count": 81,
   "metadata": {
    "ExecuteTime": {
     "end_time": "2017-10-03T13:09:33.621695Z",
     "start_time": "2017-10-03T13:09:33.606655Z"
    }
   },
   "outputs": [
    {
     "data": {
      "text/plain": [
       "array([[ 0,  1, 20,  3,  4,  5],\n",
       "       [ 6,  7,  8,  9, 10, 11],\n",
       "       [ 0,  2, 40,  6,  8, 10],\n",
       "       [12, 14, 16, 18, 20, 22]])"
      ]
     },
     "execution_count": 81,
     "metadata": {},
     "output_type": "execute_result"
    }
   ],
   "source": [
    "np.concatenate((b, c), axis=0)"
   ]
  },
  {
   "cell_type": "markdown",
   "metadata": {},
   "source": [
    "**深度叠加（维度叠加）dstack()**"
   ]
  },
  {
   "cell_type": "code",
   "execution_count": 82,
   "metadata": {
    "ExecuteTime": {
     "end_time": "2017-10-03T13:09:33.638744Z",
     "start_time": "2017-10-03T13:09:33.623699Z"
    }
   },
   "outputs": [
    {
     "data": {
      "text/plain": [
       "(2, 6, 2)"
      ]
     },
     "execution_count": 82,
     "metadata": {},
     "output_type": "execute_result"
    }
   ],
   "source": [
    "arr_stack = np.dstack((b, c))\n",
    "arr_stack.shape"
   ]
  },
  {
   "cell_type": "code",
   "execution_count": 83,
   "metadata": {
    "ExecuteTime": {
     "end_time": "2017-10-03T13:09:33.659796Z",
     "start_time": "2017-10-03T13:09:33.640746Z"
    }
   },
   "outputs": [
    {
     "data": {
      "text/plain": [
       "array([[[ 0,  0],\n",
       "        [ 1,  2],\n",
       "        [20, 40],\n",
       "        [ 3,  6],\n",
       "        [ 4,  8],\n",
       "        [ 5, 10]],\n",
       "\n",
       "       [[ 6, 12],\n",
       "        [ 7, 14],\n",
       "        [ 8, 16],\n",
       "        [ 9, 18],\n",
       "        [10, 20],\n",
       "        [11, 22]]])"
      ]
     },
     "execution_count": 83,
     "metadata": {},
     "output_type": "execute_result"
    }
   ],
   "source": [
    "arr_stack"
   ]
  },
  {
   "cell_type": "markdown",
   "metadata": {},
   "source": [
    "叠加前b和c都是（2,6）的二维数组，叠加后，arr_dstack为（2,6,2）的三维数组。相当于原来每个量多了一个平行量来表示同一属性"
   ]
  },
  {
   "cell_type": "markdown",
   "metadata": {},
   "source": [
    "### 数组的拆分"
   ]
  },
  {
   "cell_type": "markdown",
   "metadata": {},
   "source": [
    "与叠加类似，数组的拆分可以分为横向拆分、纵向拆分以及深度拆分。"
   ]
  },
  {
   "cell_type": "markdown",
   "metadata": {},
   "source": [
    "涉及函数为hsplit()、hsplit()、dsplit()、split()"
   ]
  },
  {
   "cell_type": "code",
   "execution_count": 84,
   "metadata": {
    "ExecuteTime": {
     "end_time": "2017-10-03T13:09:33.676840Z",
     "start_time": "2017-10-03T13:09:33.661801Z"
    }
   },
   "outputs": [
    {
     "data": {
      "text/plain": [
       "array([[ 0,  1, 20,  3,  4,  5],\n",
       "       [ 6,  7,  8,  9, 10, 11]])"
      ]
     },
     "execution_count": 84,
     "metadata": {},
     "output_type": "execute_result"
    }
   ],
   "source": [
    "b"
   ]
  },
  {
   "cell_type": "markdown",
   "metadata": {},
   "source": [
    "**横向轴拆分（列拆分） axis = 1**"
   ]
  },
  {
   "cell_type": "code",
   "execution_count": 85,
   "metadata": {
    "ExecuteTime": {
     "end_time": "2017-10-03T13:09:33.694889Z",
     "start_time": "2017-10-03T13:09:33.678847Z"
    }
   },
   "outputs": [
    {
     "data": {
      "text/plain": [
       "[array([[ 0,  1, 20],\n",
       "        [ 6,  7,  8]]), array([[ 3,  4,  5],\n",
       "        [ 9, 10, 11]])]"
      ]
     },
     "execution_count": 85,
     "metadata": {},
     "output_type": "execute_result"
    }
   ],
   "source": [
    "np.hsplit(b, 2)"
   ]
  },
  {
   "cell_type": "code",
   "execution_count": 86,
   "metadata": {
    "ExecuteTime": {
     "end_time": "2017-10-03T13:09:33.713940Z",
     "start_time": "2017-10-03T13:09:33.696894Z"
    }
   },
   "outputs": [
    {
     "data": {
      "text/plain": [
       "[array([[0, 1],\n",
       "        [6, 7]]), array([[20,  3],\n",
       "        [ 8,  9]]), array([[ 4,  5],\n",
       "        [10, 11]])]"
      ]
     },
     "execution_count": 86,
     "metadata": {},
     "output_type": "execute_result"
    }
   ],
   "source": [
    "np.hsplit(b, 3)"
   ]
  },
  {
   "cell_type": "code",
   "execution_count": 87,
   "metadata": {
    "ExecuteTime": {
     "end_time": "2017-10-03T13:09:33.729983Z",
     "start_time": "2017-10-03T13:09:33.715944Z"
    }
   },
   "outputs": [
    {
     "data": {
      "text/plain": [
       "[array([[ 0,  1, 20],\n",
       "        [ 6,  7,  8]]), array([[ 3,  4,  5],\n",
       "        [ 9, 10, 11]])]"
      ]
     },
     "execution_count": 87,
     "metadata": {},
     "output_type": "execute_result"
    }
   ],
   "source": [
    "np.split(b, 2, axis=1)"
   ]
  },
  {
   "cell_type": "markdown",
   "metadata": {},
   "source": [
    "**沿纵向拆分（行拆分） axis = 0**"
   ]
  },
  {
   "cell_type": "code",
   "execution_count": 88,
   "metadata": {
    "ExecuteTime": {
     "end_time": "2017-10-03T13:09:33.747027Z",
     "start_time": "2017-10-03T13:09:33.731987Z"
    }
   },
   "outputs": [
    {
     "data": {
      "text/plain": [
       "[array([[ 0,  1, 20,  3,  4,  5]]), array([[ 6,  7,  8,  9, 10, 11]])]"
      ]
     },
     "execution_count": 88,
     "metadata": {},
     "output_type": "execute_result"
    }
   ],
   "source": [
    "np.vsplit(b, 2)"
   ]
  },
  {
   "cell_type": "code",
   "execution_count": 89,
   "metadata": {
    "ExecuteTime": {
     "end_time": "2017-10-03T13:09:33.768084Z",
     "start_time": "2017-10-03T13:09:33.749033Z"
    }
   },
   "outputs": [
    {
     "data": {
      "text/plain": [
       "[array([[ 0,  1, 20,  3,  4,  5]]), array([[ 6,  7,  8,  9, 10, 11]])]"
      ]
     },
     "execution_count": 89,
     "metadata": {},
     "output_type": "execute_result"
    }
   ],
   "source": [
    "np.split(b, 2, axis=0)"
   ]
  },
  {
   "cell_type": "markdown",
   "metadata": {},
   "source": [
    "**深度拆分**"
   ]
  },
  {
   "cell_type": "code",
   "execution_count": 90,
   "metadata": {
    "ExecuteTime": {
     "end_time": "2017-10-03T13:09:33.787135Z",
     "start_time": "2017-10-03T13:09:33.770089Z"
    }
   },
   "outputs": [
    {
     "data": {
      "text/plain": [
       "array([[[ 0,  0],\n",
       "        [ 1,  2],\n",
       "        [20, 40],\n",
       "        [ 3,  6],\n",
       "        [ 4,  8],\n",
       "        [ 5, 10]],\n",
       "\n",
       "       [[ 6, 12],\n",
       "        [ 7, 14],\n",
       "        [ 8, 16],\n",
       "        [ 9, 18],\n",
       "        [10, 20],\n",
       "        [11, 22]]])"
      ]
     },
     "execution_count": 90,
     "metadata": {},
     "output_type": "execute_result"
    }
   ],
   "source": [
    "arr_stack"
   ]
  },
  {
   "cell_type": "code",
   "execution_count": 91,
   "metadata": {
    "ExecuteTime": {
     "end_time": "2017-10-03T13:09:33.808191Z",
     "start_time": "2017-10-03T13:09:33.789139Z"
    }
   },
   "outputs": [
    {
     "data": {
      "text/plain": [
       "[array([[[ 0],\n",
       "         [ 1],\n",
       "         [20],\n",
       "         [ 3],\n",
       "         [ 4],\n",
       "         [ 5]],\n",
       " \n",
       "        [[ 6],\n",
       "         [ 7],\n",
       "         [ 8],\n",
       "         [ 9],\n",
       "         [10],\n",
       "         [11]]]), array([[[ 0],\n",
       "         [ 2],\n",
       "         [40],\n",
       "         [ 6],\n",
       "         [ 8],\n",
       "         [10]],\n",
       " \n",
       "        [[12],\n",
       "         [14],\n",
       "         [16],\n",
       "         [18],\n",
       "         [20],\n",
       "         [22]]])]"
      ]
     },
     "execution_count": 91,
     "metadata": {},
     "output_type": "execute_result"
    }
   ],
   "source": [
    "np.dsplit(arr_stack, 2)"
   ]
  },
  {
   "cell_type": "markdown",
   "metadata": {},
   "source": [
    "## 数组的类型转换"
   ]
  },
  {
   "cell_type": "markdown",
   "metadata": {},
   "source": [
    "**数组转换成list,使用tolist()**"
   ]
  },
  {
   "cell_type": "code",
   "execution_count": 92,
   "metadata": {
    "ExecuteTime": {
     "end_time": "2017-10-03T13:09:33.825236Z",
     "start_time": "2017-10-03T13:09:33.810200Z"
    }
   },
   "outputs": [
    {
     "data": {
      "text/plain": [
       "array([[ 0,  1, 20,  3,  4,  5],\n",
       "       [ 6,  7,  8,  9, 10, 11]])"
      ]
     },
     "execution_count": 92,
     "metadata": {},
     "output_type": "execute_result"
    }
   ],
   "source": [
    "b"
   ]
  },
  {
   "cell_type": "code",
   "execution_count": 93,
   "metadata": {
    "ExecuteTime": {
     "end_time": "2017-10-03T13:09:33.842281Z",
     "start_time": "2017-10-03T13:09:33.827241Z"
    }
   },
   "outputs": [
    {
     "data": {
      "text/plain": [
       "[[0, 1, 20, 3, 4, 5], [6, 7, 8, 9, 10, 11]]"
      ]
     },
     "execution_count": 93,
     "metadata": {},
     "output_type": "execute_result"
    }
   ],
   "source": [
    "b.tolist()"
   ]
  },
  {
   "cell_type": "markdown",
   "metadata": {},
   "source": [
    "**转换成指定类型，使用astype()函数**"
   ]
  },
  {
   "cell_type": "code",
   "execution_count": 94,
   "metadata": {
    "ExecuteTime": {
     "end_time": "2017-10-03T13:09:33.859331Z",
     "start_time": "2017-10-03T13:09:33.844286Z"
    }
   },
   "outputs": [
    {
     "data": {
      "text/plain": [
       "array([[  0.,   1.,  20.,   3.,   4.,   5.],\n",
       "       [  6.,   7.,   8.,   9.,  10.,  11.]])"
      ]
     },
     "execution_count": 94,
     "metadata": {},
     "output_type": "execute_result"
    }
   ],
   "source": [
    "b.astype(float)"
   ]
  },
  {
   "cell_type": "code",
   "execution_count": 95,
   "metadata": {
    "ExecuteTime": {
     "end_time": "2017-10-03T13:09:33.876372Z",
     "start_time": "2017-10-03T13:09:33.861332Z"
    }
   },
   "outputs": [
    {
     "data": {
      "text/plain": [
       "array([['0', '1', '20', '3', '4', '5'],\n",
       "       ['6', '7', '8', '9', '10', '11']],\n",
       "      dtype='<U11')"
      ]
     },
     "execution_count": 95,
     "metadata": {},
     "output_type": "execute_result"
    }
   ],
   "source": [
    "b.astype(str)"
   ]
  },
  {
   "cell_type": "markdown",
   "metadata": {},
   "source": [
    "## Numpy常用统计函数"
   ]
  },
  {
   "cell_type": "markdown",
   "metadata": {},
   "source": [
    "** 注意函数在使用时需要指定axis轴的方向，若不指定，默认统计整个数组 **"
   ]
  },
  {
   "cell_type": "markdown",
   "metadata": {},
   "source": [
    "- np.sum()，返回求和\n",
    "- np.mean()，返回均值\n",
    "- np.max()，返回最大值\n",
    "- np.min()，返回最小值\n",
    "- np.ptp()，数组沿指定轴返回最大值减去最小值，即(max-min)\n",
    "- np.std()，返回标准偏差(standard deviation)\n",
    "- np.var()，返回方差(variance)\n",
    "- np.cumsum()，返回累加值\n",
    "- np.cumprod()，返回累乘积值"
   ]
  },
  {
   "cell_type": "code",
   "execution_count": 96,
   "metadata": {
    "ExecuteTime": {
     "end_time": "2017-10-03T13:09:33.895422Z",
     "start_time": "2017-10-03T13:09:33.878376Z"
    }
   },
   "outputs": [
    {
     "data": {
      "text/plain": [
       "array([[ 0,  1, 20,  3,  4,  5],\n",
       "       [ 6,  7,  8,  9, 10, 11]])"
      ]
     },
     "execution_count": 96,
     "metadata": {},
     "output_type": "execute_result"
    }
   ],
   "source": [
    "b"
   ]
  },
  {
   "cell_type": "code",
   "execution_count": 97,
   "metadata": {
    "ExecuteTime": {
     "end_time": "2017-10-03T13:09:33.912468Z",
     "start_time": "2017-10-03T13:09:33.897428Z"
    }
   },
   "outputs": [
    {
     "data": {
      "text/plain": [
       "20"
      ]
     },
     "execution_count": 97,
     "metadata": {},
     "output_type": "execute_result"
    }
   ],
   "source": [
    "np.max(b)"
   ]
  },
  {
   "cell_type": "code",
   "execution_count": 98,
   "metadata": {
    "ExecuteTime": {
     "end_time": "2017-10-03T13:09:33.929513Z",
     "start_time": "2017-10-03T13:09:33.914473Z"
    }
   },
   "outputs": [
    {
     "data": {
      "text/plain": [
       "array([20, 11])"
      ]
     },
     "execution_count": 98,
     "metadata": {},
     "output_type": "execute_result"
    }
   ],
   "source": [
    "np.max(b, axis=1) #  沿axis=1轴方向统计（列）"
   ]
  },
  {
   "cell_type": "code",
   "execution_count": 99,
   "metadata": {
    "ExecuteTime": {
     "end_time": "2017-10-03T13:09:33.946559Z",
     "start_time": "2017-10-03T13:09:33.931518Z"
    }
   },
   "outputs": [
    {
     "data": {
      "text/plain": [
       "array([ 6,  7, 20,  9, 10, 11])"
      ]
     },
     "execution_count": 99,
     "metadata": {},
     "output_type": "execute_result"
    }
   ],
   "source": [
    "np.max(b, axis=0) #  沿axis=0轴方向统计（行）"
   ]
  },
  {
   "cell_type": "markdown",
   "metadata": {},
   "source": [
    "**np.ptp()，返回整个数组的最大值减去最小值**"
   ]
  },
  {
   "cell_type": "code",
   "execution_count": 100,
   "metadata": {
    "ExecuteTime": {
     "end_time": "2017-10-03T13:09:33.963604Z",
     "start_time": "2017-10-03T13:09:33.948564Z"
    }
   },
   "outputs": [
    {
     "data": {
      "text/plain": [
       "20"
      ]
     },
     "execution_count": 100,
     "metadata": {},
     "output_type": "execute_result"
    }
   ],
   "source": [
    "np.ptp(b)"
   ]
  },
  {
   "cell_type": "code",
   "execution_count": 101,
   "metadata": {
    "ExecuteTime": {
     "end_time": "2017-10-03T13:09:33.982654Z",
     "start_time": "2017-10-03T13:09:33.965609Z"
    }
   },
   "outputs": [
    {
     "data": {
      "text/plain": [
       "array([ 6,  6, 12,  6,  6,  6])"
      ]
     },
     "execution_count": 101,
     "metadata": {},
     "output_type": "execute_result"
    }
   ],
   "source": [
    "np.ptp(b, axis=0)"
   ]
  },
  {
   "cell_type": "code",
   "execution_count": 102,
   "metadata": {
    "ExecuteTime": {
     "end_time": "2017-10-03T13:09:33.999700Z",
     "start_time": "2017-10-03T13:09:33.984659Z"
    }
   },
   "outputs": [
    {
     "data": {
      "text/plain": [
       "array([20,  5])"
      ]
     },
     "execution_count": 102,
     "metadata": {},
     "output_type": "execute_result"
    }
   ],
   "source": [
    "np.ptp(b, axis=1)"
   ]
  },
  {
   "cell_type": "markdown",
   "metadata": {},
   "source": [
    "**np.cumsum()，沿着指定轴方向进行累加**"
   ]
  },
  {
   "cell_type": "code",
   "execution_count": 103,
   "metadata": {
    "ExecuteTime": {
     "end_time": "2017-10-03T13:09:34.018751Z",
     "start_time": "2017-10-03T13:09:34.001709Z"
    }
   },
   "outputs": [
    {
     "data": {
      "text/plain": [
       "array([[ 0,  1, 20],\n",
       "       [ 3,  4,  5],\n",
       "       [ 6,  7,  8],\n",
       "       [ 9, 10, 11]])"
      ]
     },
     "execution_count": 103,
     "metadata": {},
     "output_type": "execute_result"
    }
   ],
   "source": [
    "b.resize(4, 3)\n",
    "b"
   ]
  },
  {
   "cell_type": "code",
   "execution_count": 104,
   "metadata": {
    "ExecuteTime": {
     "end_time": "2017-10-03T13:09:34.057854Z",
     "start_time": "2017-10-03T13:09:34.020757Z"
    }
   },
   "outputs": [
    {
     "data": {
      "text/plain": [
       "array([[ 0,  1, 21],\n",
       "       [ 3,  7, 12],\n",
       "       [ 6, 13, 21],\n",
       "       [ 9, 19, 30]], dtype=int32)"
      ]
     },
     "execution_count": 104,
     "metadata": {},
     "output_type": "execute_result"
    }
   ],
   "source": [
    "np.cumsum(b, axis=1)"
   ]
  },
  {
   "cell_type": "code",
   "execution_count": 105,
   "metadata": {
    "ExecuteTime": {
     "end_time": "2017-10-03T13:09:34.077940Z",
     "start_time": "2017-10-03T13:09:34.059860Z"
    }
   },
   "outputs": [
    {
     "data": {
      "text/plain": [
       "array([[ 0,  1, 20],\n",
       "       [ 3,  5, 25],\n",
       "       [ 9, 12, 33],\n",
       "       [18, 22, 44]], dtype=int32)"
      ]
     },
     "execution_count": 105,
     "metadata": {},
     "output_type": "execute_result"
    }
   ],
   "source": [
    "np.cumsum(b, axis=0)"
   ]
  },
  {
   "cell_type": "markdown",
   "metadata": {},
   "source": [
    "**np.cumprod()沿着指定轴方向进行累乘积（return the cumulative product of the elements along the given axis）**"
   ]
  },
  {
   "cell_type": "code",
   "execution_count": 106,
   "metadata": {
    "ExecuteTime": {
     "end_time": "2017-10-03T13:09:34.094957Z",
     "start_time": "2017-10-03T13:09:34.079912Z"
    }
   },
   "outputs": [
    {
     "data": {
      "text/plain": [
       "array([[  0,   0,   0],\n",
       "       [  3,  12,  60],\n",
       "       [  6,  42, 336],\n",
       "       [  9,  90, 990]], dtype=int32)"
      ]
     },
     "execution_count": 106,
     "metadata": {},
     "output_type": "execute_result"
    }
   ],
   "source": [
    "np.cumprod(b, axis=1)"
   ]
  },
  {
   "cell_type": "code",
   "execution_count": 107,
   "metadata": {
    "ExecuteTime": {
     "end_time": "2017-10-03T13:09:34.113034Z",
     "start_time": "2017-10-03T13:09:34.096959Z"
    }
   },
   "outputs": [
    {
     "data": {
      "text/plain": [
       "array([[   0,    1,   20],\n",
       "       [   0,    4,  100],\n",
       "       [   0,   28,  800],\n",
       "       [   0,  280, 8800]], dtype=int32)"
      ]
     },
     "execution_count": 107,
     "metadata": {},
     "output_type": "execute_result"
    }
   ],
   "source": [
    "np.cumprod(b, axis=0)"
   ]
  },
  {
   "cell_type": "markdown",
   "metadata": {},
   "source": [
    "## 数组的广播"
   ]
  },
  {
   "cell_type": "markdown",
   "metadata": {},
   "source": [
    "当数组跟一个标量进行数学运算时，标量需要根据数组的形状进行扩展，然后执行运算"
   ]
  },
  {
   "cell_type": "markdown",
   "metadata": {},
   "source": [
    "这个扩展的过程称为广播（broadcasting）"
   ]
  },
  {
   "cell_type": "code",
   "execution_count": 108,
   "metadata": {
    "ExecuteTime": {
     "end_time": "2017-10-03T13:09:34.135060Z",
     "start_time": "2017-10-03T13:09:34.115033Z"
    }
   },
   "outputs": [
    {
     "data": {
      "text/plain": [
       "array([[ 0,  1, 20],\n",
       "       [ 3,  4,  5],\n",
       "       [ 6,  7,  8],\n",
       "       [ 9, 10, 11]])"
      ]
     },
     "execution_count": 108,
     "metadata": {},
     "output_type": "execute_result"
    }
   ],
   "source": [
    "b"
   ]
  },
  {
   "cell_type": "code",
   "execution_count": 109,
   "metadata": {
    "ExecuteTime": {
     "end_time": "2017-10-03T13:09:34.153107Z",
     "start_time": "2017-10-03T13:09:34.137066Z"
    }
   },
   "outputs": [
    {
     "data": {
      "text/plain": [
       "array([[ 2,  3, 22],\n",
       "       [ 5,  6,  7],\n",
       "       [ 8,  9, 10],\n",
       "       [11, 12, 13]])"
      ]
     },
     "execution_count": 109,
     "metadata": {},
     "output_type": "execute_result"
    }
   ],
   "source": [
    "d = b + 2\n",
    "d"
   ]
  }
 ],
 "metadata": {
  "hide_input": false,
  "kernelspec": {
   "display_name": "Python 3",
   "language": "python",
   "name": "python3"
  },
  "language_info": {
   "codemirror_mode": {
    "name": "ipython",
    "version": 3
   },
   "file_extension": ".py",
   "mimetype": "text/x-python",
   "name": "python",
   "nbconvert_exporter": "python",
   "pygments_lexer": "ipython3",
   "version": "3.6.1"
  },
  "toc": {
   "nav_menu": {},
   "number_sections": true,
   "sideBar": true,
   "skip_h1_title": false,
   "toc_cell": false,
   "toc_position": {},
   "toc_section_display": "block",
   "toc_window_display": false
  },
  "varInspector": {
   "cols": {
    "lenName": 16,
    "lenType": 16,
    "lenVar": 40
   },
   "kernels_config": {
    "python": {
     "delete_cmd_postfix": "",
     "delete_cmd_prefix": "del ",
     "library": "var_list.py",
     "varRefreshCmd": "print(var_dic_list())"
    },
    "r": {
     "delete_cmd_postfix": ") ",
     "delete_cmd_prefix": "rm(",
     "library": "var_list.r",
     "varRefreshCmd": "cat(var_dic_list()) "
    }
   },
   "types_to_exclude": [
    "module",
    "function",
    "builtin_function_or_method",
    "instance",
    "_Feature"
   ],
   "window_display": false
  }
 },
 "nbformat": 4,
 "nbformat_minor": 2
}
