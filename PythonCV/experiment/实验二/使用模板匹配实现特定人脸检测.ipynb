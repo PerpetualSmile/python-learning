{
 "cells": [
  {
   "cell_type": "markdown",
   "metadata": {},
   "source": [
    "# 使用模板匹配实现特定人脸检测"
   ]
  },
  {
   "cell_type": "code",
   "execution_count": 1,
   "metadata": {
    "ExecuteTime": {
     "end_time": "2017-11-18T05:31:29.548044Z",
     "start_time": "2017-11-18T05:31:29.456130Z"
    },
    "collapsed": true
   },
   "outputs": [],
   "source": [
    "import cv2\n",
    "import numpy as np\n",
    "sigma = 1"
   ]
  },
  {
   "cell_type": "code",
   "execution_count": 2,
   "metadata": {
    "ExecuteTime": {
     "end_time": "2017-11-18T05:28:52.201492Z",
     "start_time": "2017-11-18T05:28:52.191465Z"
    },
    "collapsed": true
   },
   "outputs": [],
   "source": [
    "def conv2D(img, kernel):\n",
    "    w, h = kernel.shape\n",
    "    sum = 0\n",
    "    for i in range(w):\n",
    "        for j in range(h):\n",
    "            sum = sum + (img[i, j] * kernel[i, j])\n",
    "    return sum\n",
    "\n",
    "\n",
    "def Gaussfilter(img, kernel):\n",
    "    w, h = img.shape\n",
    "    wk, hk = kernel.shape\n",
    "    posi = int((wk - 1) / 2)\n",
    "    posj = int((wk - 1) / 2)\n",
    "    for i in range(posi, w - posi):\n",
    "        for j in range(posj, h - posj):\n",
    "            img[i, j] = conv2D(img[i - posi:i + posi + 1, j - posj: j + posj + 1], kernel)/273"
   ]
  },
  {
   "cell_type": "code",
   "execution_count": 3,
   "metadata": {
    "ExecuteTime": {
     "end_time": "2017-11-18T05:29:04.704060Z",
     "start_time": "2017-11-18T05:28:56.513651Z"
    }
   },
   "outputs": [],
   "source": [
    "img = cv2.imread(\"raw_image.jpg\", 0)\n",
    "template = cv2.imread('template_image.jpg', 0)\n",
    "GaussKernel = np.array([1, 4, 7, 4, 1, 4, 16, 26, 16, 4, 7,\n",
    "                        26 ,41 ,26, 7, 4, 16, 26, 16, 4, 1, 4, 7, 4, 1]).reshape(5, 5)\n",
    "Gaussfilter(img, GaussKernel)\n",
    "# cv2.imwrite('逐像素点卷积匹配的结果.jpg', img)\n"
   ]
  },
  {
   "cell_type": "code",
   "execution_count": 2,
   "metadata": {
    "ExecuteTime": {
     "end_time": "2017-11-18T05:31:06.138172Z",
     "start_time": "2017-11-18T05:31:05.958658Z"
    }
   },
   "outputs": [],
   "source": [
    "img = cv2.imread(\"raw_image.jpg\", 0)\n",
    "kernel = cv2.getGaussianKernel(9, sigma)\n",
    "Gaussian_img = cv2.filter2D(img, -1, kernel)\n",
    "res = cv2.matchTemplate(Gaussian_img, template, 0)\n",
    "min_val, max_val, min_loc, max_loc = cv2.minMaxLoc(res)"
   ]
  },
  {
   "cell_type": "code",
   "execution_count": null,
   "metadata": {
    "collapsed": true
   },
   "outputs": [],
   "source": [
    "img = cv2.imread(\"raw_image.jpg\", 0)\n",
    "kernel_size = (3, 3)\n",
    "Gaussian_img = cv2.GaussianBlur(img, kernel_size, sigma)\n",
    "res = cv2.matchTemplate(Gaussian_img, template, 0)\n",
    "min_val, max_val, min_loc, max_loc = cv2.minMaxLoc(res)"
   ]
  }
 ],
 "metadata": {
  "hide_input": false,
  "kernelspec": {
   "display_name": "Python 3",
   "language": "python",
   "name": "python3"
  },
  "language_info": {
   "codemirror_mode": {
    "name": "ipython",
    "version": 3
   },
   "file_extension": ".py",
   "mimetype": "text/x-python",
   "name": "python",
   "nbconvert_exporter": "python",
   "pygments_lexer": "ipython3",
   "version": "3.6.1"
  },
  "toc": {
   "nav_menu": {},
   "number_sections": true,
   "sideBar": true,
   "skip_h1_title": false,
   "toc_cell": false,
   "toc_position": {},
   "toc_section_display": "block",
   "toc_window_display": false
  },
  "varInspector": {
   "cols": {
    "lenName": 16,
    "lenType": 16,
    "lenVar": 40
   },
   "kernels_config": {
    "python": {
     "delete_cmd_postfix": "",
     "delete_cmd_prefix": "del ",
     "library": "var_list.py",
     "varRefreshCmd": "print(var_dic_list())"
    },
    "r": {
     "delete_cmd_postfix": ") ",
     "delete_cmd_prefix": "rm(",
     "library": "var_list.r",
     "varRefreshCmd": "cat(var_dic_list()) "
    }
   },
   "types_to_exclude": [
    "module",
    "function",
    "builtin_function_or_method",
    "instance",
    "_Feature"
   ],
   "window_display": false
  }
 },
 "nbformat": 4,
 "nbformat_minor": 2
}
