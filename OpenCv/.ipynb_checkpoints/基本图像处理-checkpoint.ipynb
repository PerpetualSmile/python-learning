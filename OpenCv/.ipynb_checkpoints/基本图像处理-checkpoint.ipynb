{
 "cells": [
  {
   "cell_type": "markdown",
   "metadata": {},
   "source": [
    "# 基本图像处理"
   ]
  },
  {
   "cell_type": "markdown",
   "metadata": {},
   "source": [
    "## 缩放、裁剪和补边 "
   ]
  },
  {
   "cell_type": "markdown",
   "metadata": {},
   "source": [
    "- 缩放通过cv2.resize()实现\n",
    "- 裁剪通过array自身的下标截取实现"
   ]
  },
  {
   "cell_type": "code",
   "execution_count": 1,
   "metadata": {
    "ExecuteTime": {
     "end_time": "2018-09-23T03:34:44.199236Z",
     "start_time": "2018-09-23T03:34:43.614299Z"
    }
   },
   "outputs": [
    {
     "data": {
      "text/plain": [
       "True"
      ]
     },
     "execution_count": 1,
     "metadata": {},
     "output_type": "execute_result"
    }
   ],
   "source": [
    "import cv2\n",
    "import matplotlib.pyplot as plt\n",
    "color_img = cv2.imread('./test.jpg')\n",
    "img_400x400 = cv2.resize(color_img, (400, 400))\n",
    "img_500x800 = cv2.resize(color_img,(0, 0), fx=0.5, fy=0.5, interpolation=cv2.INTER_NEAREST)\n",
    "cv2.imwrite('resized_400x400.jpg', img_400x400)\n",
    "cv2.imwrite('resized_0.5x0.5.jpg', img_500x800)"
   ]
  },
  {
   "cell_type": "markdown",
   "metadata": {},
   "source": [
    "- 上下各贴100像素的黑边"
   ]
  },
  {
   "cell_type": "code",
   "execution_count": 2,
   "metadata": {
    "ExecuteTime": {
     "end_time": "2018-09-23T03:34:44.240946Z",
     "start_time": "2018-09-23T03:34:44.203255Z"
    }
   },
   "outputs": [
    {
     "data": {
      "text/plain": [
       "True"
      ]
     },
     "execution_count": 2,
     "metadata": {},
     "output_type": "execute_result"
    }
   ],
   "source": [
    "img_600x900 = cv2.copyMakeBorder(img_500x800, 100, 100, 0, 0, cv2.BORDER_CONSTANT, value=(0, 0, 0))\n",
    "cv2.imwrite('bordered_600x900.jpg', img_600x900)"
   ]
  },
  {
   "cell_type": "markdown",
   "metadata": {},
   "source": [
    "- 裁剪"
   ]
  },
  {
   "cell_type": "code",
   "execution_count": 3,
   "metadata": {
    "ExecuteTime": {
     "end_time": "2018-09-23T03:34:44.252968Z",
     "start_time": "2018-09-23T03:34:44.242941Z"
    }
   },
   "outputs": [
    {
     "data": {
      "text/plain": [
       "True"
      ]
     },
     "execution_count": 3,
     "metadata": {},
     "output_type": "execute_result"
    }
   ],
   "source": [
    "patch = color_img[20:150, -200:-50]\n",
    "cv2.imwrite('patch.jpg', patch)"
   ]
  },
  {
   "cell_type": "markdown",
   "metadata": {},
   "source": [
    "## 色调、明暗、直方图和Gamma曲线"
   ]
  },
  {
   "cell_type": "markdown",
   "metadata": {},
   "source": [
    "- 可以通过HSV空间对色调和明暗进行调节， HSV分别是色调(Hue)、饱和度(Saturation)和明度(Value)\n",
    "- 在HSV空间中进行调节就避免了直接在RGB空间中调节时还需要考虑3个通道的相关性\n",
    "- OpenCV中H的取值是[0, 180)， 其他两个通道的取值都是[0, 256)"
   ]
  },
  {
   "cell_type": "code",
   "execution_count": 4,
   "metadata": {
    "ExecuteTime": {
     "end_time": "2018-09-23T03:34:48.142870Z",
     "start_time": "2018-09-23T03:34:44.255976Z"
    }
   },
   "outputs": [
    {
     "data": {
      "text/plain": [
       "-1"
      ]
     },
     "execution_count": 4,
     "metadata": {},
     "output_type": "execute_result"
    }
   ],
   "source": [
    "img_hsv = cv2.cvtColor(color_img, cv2.COLOR_BGR2HSV)\n",
    "turn_green_hsv =img_hsv.copy()\n",
    "\n",
    "# H空间中，绿色比黄色的值高一点，所以给每个像素+15，黄色的树叶就会变绿\n",
    "turn_green_hsv[:, :, 0] = (turn_green_hsv[:, :, 0] + 15) % 180\n",
    "turn_green_img = cv2.cvtColor(turn_green_hsv, cv2.COLOR_HSV2BGR)\n",
    "cv2.imshow(\"1\", turn_green_img)\n",
    "cv2.waitKey(0)"
   ]
  },
  {
   "cell_type": "markdown",
   "metadata": {},
   "source": [
    "- 减小饱和度会让图像损失鲜艳，变得更灰"
   ]
  },
  {
   "cell_type": "code",
   "execution_count": 5,
   "metadata": {
    "ExecuteTime": {
     "end_time": "2018-09-23T03:34:49.276748Z",
     "start_time": "2018-09-23T03:34:48.144875Z"
    }
   },
   "outputs": [
    {
     "data": {
      "text/plain": [
       "-1"
      ]
     },
     "execution_count": 5,
     "metadata": {},
     "output_type": "execute_result"
    }
   ],
   "source": [
    "colorless_hsv = img_hsv.copy()\n",
    "colorless_hsv[:, :, 1] = 0.5 * colorless_hsv[:, :, 1]\n",
    "colorless_img = cv2.cvtColor(colorless_hsv, cv2.COLOR_HSV2BGR)\n",
    "cv2.imshow('2', colorless_img)\n",
    "cv2.waitKey(0)"
   ]
  },
  {
   "cell_type": "markdown",
   "metadata": {},
   "source": [
    "- 减小明度为原来的一半"
   ]
  },
  {
   "cell_type": "code",
   "execution_count": 6,
   "metadata": {
    "ExecuteTime": {
     "end_time": "2018-09-23T03:34:50.028052Z",
     "start_time": "2018-09-23T03:34:49.278754Z"
    }
   },
   "outputs": [
    {
     "data": {
      "text/plain": [
       "-1"
      ]
     },
     "execution_count": 6,
     "metadata": {},
     "output_type": "execute_result"
    }
   ],
   "source": [
    "darker_hsv = img_hsv.copy()\n",
    "darker_hsv[:, :, 2] = 0.5 * darker_hsv[:, :, 2]\n",
    "darker_img = cv2.cvtColor(darker_hsv, cv2.COLOR_HSV2BGR)\n",
    "cv2.imshow('3', darker_img)\n",
    "cv2.waitKey(0)"
   ]
  },
  {
   "cell_type": "markdown",
   "metadata": {},
   "source": [
    "## 通过Gamma变换提升暗部细节\n",
    "- Gamma变换是矫正相机直接成像和人眼感受图像差别的一种常用手段，通过非线性变换，让图像从对曝光强度的线性响应变得更接近人眼感受到的响应"
   ]
  },
  {
   "cell_type": "code",
   "execution_count": 13,
   "metadata": {
    "ExecuteTime": {
     "end_time": "2018-09-23T03:54:45.550322Z",
     "start_time": "2018-09-23T03:54:41.880160Z"
    }
   },
   "outputs": [
    {
     "data": {
      "text/plain": [
       "-1"
      ]
     },
     "execution_count": 13,
     "metadata": {},
     "output_type": "execute_result"
    }
   ],
   "source": [
    "import numpy as np\n",
    "import cv2\n",
    "\n",
    "def gamma_trans(img, gamma):\n",
    "    gamma_table = [np.power(x/255.0, gamma) * 255.0 for x in range(256)]\n",
    "    gamma_table = np.round(np.array(gamma_table)).astype(np.uint8)\n",
    "    #　使用OpenCV的查表函数是实现映射\n",
    "    return cv2.LUT(img, gamma_table)\n",
    "\n",
    "img_corrected = gamma_trans(color_img, 0.5)\n",
    "cv2.imshow('4', img_corrected)\n",
    "cv2.imshow('5', color_img)\n",
    "cv2.waitKey(0)"
   ]
  },
  {
   "cell_type": "markdown",
   "metadata": {},
   "source": [
    "- 将直方图进行可视化"
   ]
  },
  {
   "cell_type": "code",
   "execution_count": 12,
   "metadata": {
    "ExecuteTime": {
     "end_time": "2018-09-23T03:54:20.264283Z",
     "start_time": "2018-09-23T03:54:16.840962Z"
    }
   },
   "outputs": [
    {
     "data": {
      "image/png": "[encoded data removed]",
      "text/plain": [
       "<matplotlib.figure.Figure at 0x200d31634a8>"
      ]
     },
     "metadata": {},
     "output_type": "display_data"
    }
   ],
   "source": [
    "import matplotlib.pyplot as plt\n",
    "from mpl_toolkits.mplot3d import Axes3D\n",
    "hist_b = cv2.calcHist([color_img], [0], None, [256], [0, 256])\n",
    "hist_g = cv2.calcHist([color_img], [0], None, [256], [0, 256])\n",
    "hist_r = cv2.calcHist([color_img], [2], None, [256], [0, 256])\n",
    "\n",
    "hist_b_corrected = cv2.calcHist([img_corrected], [0], None, [256], [0, 256])\n",
    "hist_g_corrected = cv2.calcHist([img_corrected], [1], None, [256], [0, 256])\n",
    "hist_r_corrected = cv2.calcHist([img_corrected], [2], None, [256], [0, 256])\n",
    "\n",
    "fig = plt.figure()\n",
    "pix_hists = [[hist_b, hist_g, hist_r], [hist_b_corrected, hist_g_corrected, hist_r_corrected]]\n",
    "pix_vals = range(256)\n",
    "for sub_plt, pix_hist in zip([121, 122], pix_hists):\n",
    "    ax = fig.add_subplot(sub_plt, projection='3d')\n",
    "    for c, z, channel_hist in zip(['b', 'g', 'r'], [20, 10, 0], pix_hist):\n",
    "        cs = [c] * 256\n",
    "        ax.bar(pix_vals, channel_hist, zs=z, zdir='y', color=cs, alpha=0.618, edgecolor='none', lw=0)\n",
    "    ax.set_xlabel('Pixel Values')\n",
    "    ax.set_xlim([0, 256])\n",
    "    ax.set_ylabel('Counts')\n",
    "    ax.set_zlabel('Channels')\n",
    "plt.show()"
   ]
  }
 ],
 "metadata": {
  "hide_input": false,
  "kernelspec": {
   "display_name": "Python 3",
   "language": "python",
   "name": "python3"
  },
  "language_info": {
   "codemirror_mode": {
    "name": "ipython",
    "version": 3
   },
   "file_extension": ".py",
   "mimetype": "text/x-python",
   "name": "python",
   "nbconvert_exporter": "python",
   "pygments_lexer": "ipython3",
   "version": "3.6.1"
  },
  "toc": {
   "nav_menu": {},
   "number_sections": true,
   "sideBar": true,
   "skip_h1_title": false,
   "toc_cell": false,
   "toc_position": {},
   "toc_section_display": "block",
   "toc_window_display": false
  },
  "varInspector": {
   "cols": {
    "lenName": 16,
    "lenType": 16,
    "lenVar": 40
   },
   "kernels_config": {
    "python": {
     "delete_cmd_postfix": "",
     "delete_cmd_prefix": "del ",
     "library": "var_list.py",
     "varRefreshCmd": "print(var_dic_list())"
    },
    "r": {
     "delete_cmd_postfix": ") ",
     "delete_cmd_prefix": "rm(",
     "library": "var_list.r",
     "varRefreshCmd": "cat(var_dic_list()) "
    }
   },
   "types_to_exclude": [
    "module",
    "function",
    "builtin_function_or_method",
    "instance",
    "_Feature"
   ],
   "window_display": false
  }
 },
 "nbformat": 4,
 "nbformat_minor": 2
}
