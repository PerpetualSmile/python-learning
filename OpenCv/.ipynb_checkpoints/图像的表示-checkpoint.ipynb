{
 "cells": [
  {
   "cell_type": "markdown",
   "metadata": {},
   "source": [
    "# 图像的表示 "
   ]
  },
  {
   "cell_type": "markdown",
   "metadata": {},
   "source": [
    "- OpenCV默认的图像表示是BGR，不是RGB\n",
    "- Python中图像都是用numpy的array表示的"
   ]
  },
  {
   "cell_type": "code",
   "execution_count": 1,
   "metadata": {
    "ExecuteTime": {
     "end_time": "2018-09-23T01:32:41.419784Z",
     "start_time": "2018-09-23T01:32:40.953387Z"
    },
    "scrolled": true
   },
   "outputs": [
    {
     "data": {
      "image/png": "[encoded data removed]",
      "text/plain": [
       "<matplotlib.figure.Figure at 0x21cc2c48b38>"
      ]
     },
     "metadata": {},
     "output_type": "display_data"
    },
    {
     "data": {
      "text/plain": [
       "True"
      ]
     },
     "execution_count": 1,
     "metadata": {},
     "output_type": "execute_result"
    }
   ],
   "source": [
    "import numpy as np\n",
    "import cv2\n",
    "import matplotlib.pyplot as plt\n",
    "img = np.array([\n",
    "    [[255, 0, 0], [255, 0, 0], [255, 0, 0]],\n",
    "    [[0, 255, 0], [0, 255, 0], [0, 255, 0]],\n",
    "    [[0, 0, 255], [0, 0, 255], [0, 0, 255]]\n",
    "], dtype=np.uint8)\n",
    "plt.imshow(img)\n",
    "plt.show()\n",
    "cv2.imwrite('img_cv2.jpg', img)"
   ]
  },
  {
   "cell_type": "markdown",
   "metadata": {},
   "source": [
    "## 存取图像"
   ]
  },
  {
   "cell_type": "code",
   "execution_count": 2,
   "metadata": {
    "ExecuteTime": {
     "end_time": "2018-09-23T01:32:41.562740Z",
     "start_time": "2018-09-23T01:32:41.422800Z"
    }
   },
   "outputs": [
    {
     "data": {
      "image/png": "[encoded data removed]",
      "text/plain": [
       "<matplotlib.figure.Figure at 0x21ccd517b70>"
      ]
     },
     "metadata": {},
     "output_type": "display_data"
    },
    {
     "name": "stdout",
     "output_type": "stream",
     "text": [
      "[[[165  52   0]\n",
      "  [165  52   0]\n",
      "  [165  52   0]]\n",
      "\n",
      " [[152 157 136]\n",
      "  [152 157 136]\n",
      "  [152 157 136]]\n",
      "\n",
      " [[  0  50 175]\n",
      "  [  0  50 175]\n",
      "  [  0  50 175]]]\n"
     ]
    }
   ],
   "source": [
    "img = cv2.imread('./img_cv2.jpg')\n",
    "plt.imshow(img)\n",
    "plt.show()\n",
    "print(img)"
   ]
  },
  {
   "cell_type": "code",
   "execution_count": 3,
   "metadata": {
    "ExecuteTime": {
     "end_time": "2018-09-23T01:32:41.701665Z",
     "start_time": "2018-09-23T01:32:41.565749Z"
    }
   },
   "outputs": [
    {
     "name": "stdout",
     "output_type": "stream",
     "text": [
      "(997, 1600, 3)\n"
     ]
    }
   ],
   "source": [
    "img = cv2.imread('./test.jpg')\n",
    "gray_img = cv2.imread('./test.jpg', cv2.IMREAD_GRAYSCALE)\n",
    "cv2.imwrite('test_gray.jpg', gray_img)\n",
    "# 单通道图片保存后，再读取，仍然是3通道，相当于把单通道值复制到3个通道保存\n",
    "reload_gray_img = cv2.imread('test_gray.jpg')\n",
    "print(reload_gray_img.shape)"
   ]
  },
  {
   "cell_type": "markdown",
   "metadata": {},
   "source": [
    "- cv2.IMWRITE_JPEG_QUALITY指定jpg质量，范围为0-100，默认95，越高画质越好，文件越大\n",
    "- cv2.IMWRITE_PNG_COMPRESSION指定png质量，范围为0-9，默认3，越高文件越小，画质越差"
   ]
  },
  {
   "cell_type": "code",
   "execution_count": 4,
   "metadata": {
    "ExecuteTime": {
     "end_time": "2018-09-23T01:32:42.470620Z",
     "start_time": "2018-09-23T01:32:41.704172Z"
    }
   },
   "outputs": [
    {
     "data": {
      "text/plain": [
       "True"
      ]
     },
     "execution_count": 4,
     "metadata": {},
     "output_type": "execute_result"
    }
   ],
   "source": [
    "cv2.imwrite('test_imwrite.jpg', img, (cv2.IMWRITE_JPEG_QUALITY, 80))\n",
    "cv2.imwrite('test_imwrite.png', img, (cv2.IMWRITE_PNG_COMPRESSION, 9))"
   ]
  }
 ],
 "metadata": {
  "hide_input": false,
  "kernelspec": {
   "display_name": "Python 3",
   "language": "python",
   "name": "python3"
  },
  "language_info": {
   "codemirror_mode": {
    "name": "ipython",
    "version": 3
   },
   "file_extension": ".py",
   "mimetype": "text/x-python",
   "name": "python",
   "nbconvert_exporter": "python",
   "pygments_lexer": "ipython3",
   "version": "3.6.1"
  },
  "toc": {
   "nav_menu": {},
   "number_sections": true,
   "sideBar": true,
   "skip_h1_title": false,
   "toc_cell": false,
   "toc_position": {},
   "toc_section_display": "block",
   "toc_window_display": false
  },
  "varInspector": {
   "cols": {
    "lenName": 16,
    "lenType": 16,
    "lenVar": 40
   },
   "kernels_config": {
    "python": {
     "delete_cmd_postfix": "",
     "delete_cmd_prefix": "del ",
     "library": "var_list.py",
     "varRefreshCmd": "print(var_dic_list())"
    },
    "r": {
     "delete_cmd_postfix": ") ",
     "delete_cmd_prefix": "rm(",
     "library": "var_list.r",
     "varRefreshCmd": "cat(var_dic_list()) "
    }
   },
   "types_to_exclude": [
    "module",
    "function",
    "builtin_function_or_method",
    "instance",
    "_Feature"
   ],
   "window_display": false
  }
 },
 "nbformat": 4,
 "nbformat_minor": 2
}
