{
 "cells": [
  {
   "cell_type": "markdown",
   "metadata": {},
   "source": [
    "# 基本绘图\n",
    "- OpenCV提供了各种绘图的函数，可以在画面上绘制线段、圆、矩形和多边形等，还可以在图像上指定位置打印文字"
   ]
  },
  {
   "cell_type": "code",
   "execution_count": 44,
   "metadata": {
    "ExecuteTime": {
     "end_time": "2018-09-23T06:20:58.469253Z",
     "start_time": "2018-09-23T06:20:56.939001Z"
    }
   },
   "outputs": [
    {
     "data": {
      "text/plain": [
       "-1"
      ]
     },
     "execution_count": 44,
     "metadata": {},
     "output_type": "execute_result"
    }
   ],
   "source": [
    "import numpy as np\n",
    "import cv2\n",
    "\n",
    "# 定义一块宽600、高400的画布，初始化为白色\n",
    "canvas = np.zeros((400, 600, 3), dtype=np.uint8) + 255\n",
    "# 画一条纵向的正中央的黑色分界线\n",
    "cv2.line(canvas, (300, 0), (300, 399), (0, 0, 0), 2)\n",
    "# 画一条右半部分画面以150为界的横向分界线\n",
    "cv2.line(canvas, (300, 149), (599, 149), (0, 0, 0), 2)\n",
    "\n",
    "# 左半部分的右下角画个红色的圆\n",
    "cv2.circle(canvas, (200, 300), 75, (0, 0, 255), 5)\n",
    "\n",
    "# 左半部分的左下角画个蓝色的矩形\n",
    "cv2.rectangle(canvas, (20, 240), (100, 360), (255, 0, 0))\n",
    "\n",
    "# 定义两个三角形， 并执行内部绿色填充\n",
    "triangles = np.array([\n",
    "    [(200, 240), (145, 333), (255, 333)],\n",
    "    [(60, 180), (20, 237), (100, 237)]\n",
    "])\n",
    "cv2.fillPoly(canvas, triangles, (0, 255, 0))\n",
    "\n",
    "# 画一个黄色五角形，第一步通过旋转角度的办法求出5个顶点\n",
    "phi = 4 * np.pi / 5\n",
    "rotations = [[[np.cos(i*phi), -np.sin(i*phi)], [np.sin(i*phi), np.cos(i*phi)]] for i in range(1, 5)]\n",
    "pentagram = np.array([[[0, -1]] + [np.dot(m, (0, -1)) for m in rotations]], dtype=np.float)\n",
    "\n",
    "# 定义缩放倍数和平移向量，把五角星画在左半部分画面的上方\n",
    "pentagram = np.round(pentagram*80 + np.array([160, 120])).astype(np.int)\n",
    "\n",
    "# 将5个顶点作为多边形顶点连线，得到五角星\n",
    "cv2.polylines(canvas, pentagram, True, (0, 255, 255), 9)\n",
    "\n",
    "# 按像素为间隔，从左至右在画面右半部分的上方画出HSV空间的色调连续变化\n",
    "for x in range(302, 600):\n",
    "    color_pixel = np.array([[[round(180*float(x-302)/298), 255, 255]]], dtype=np.uint8)\n",
    "    line_color = [int(c) for c in cv2.cvtColor(color_pixel, cv2.COLOR_HSV2BGR)[0][0]]\n",
    "    cv2.line(canvas, (x, 0), (x, 147), line_color)\n",
    "\n",
    "# 随机在画面右下角的框内画圆点\n",
    "np.random.seed(42)\n",
    "n_pts = 50\n",
    "pts_x = np.random.randint(310, 590, n_pts)\n",
    "pts_y = np.random.randint(160, 390, n_pts)\n",
    "pts = zip(pts_x, pts_y)\n",
    "for pt in pts:\n",
    "    pt_color = [int(c) for c in np.random.randint(0, 255, 3)]\n",
    "    cv2.circle(canvas, pt, 3, pt_color, 5)\n",
    "    \n",
    "# 在左半部分最上方打印文字\n",
    "cv2.putText(canvas,\n",
    "               'Python-OpenCV Drawing Example',\n",
    "                (5, 15),\n",
    "                cv2.FONT_HERSHEY_SIMPLEX,\n",
    "                0.5,\n",
    "                (0, 0, 0),\n",
    "                1)\n",
    "cv2.imshow('1', canvas)\n",
    "cv2.waitKey(0)"
   ]
  }
 ],
 "metadata": {
  "hide_input": false,
  "kernelspec": {
   "display_name": "Python 3",
   "language": "python",
   "name": "python3"
  },
  "language_info": {
   "codemirror_mode": {
    "name": "ipython",
    "version": 3
   },
   "file_extension": ".py",
   "mimetype": "text/x-python",
   "name": "python",
   "nbconvert_exporter": "python",
   "pygments_lexer": "ipython3",
   "version": "3.6.1"
  },
  "toc": {
   "nav_menu": {},
   "number_sections": true,
   "sideBar": true,
   "skip_h1_title": false,
   "toc_cell": false,
   "toc_position": {},
   "toc_section_display": "block",
   "toc_window_display": false
  },
  "varInspector": {
   "cols": {
    "lenName": 16,
    "lenType": 16,
    "lenVar": 40
   },
   "kernels_config": {
    "python": {
     "delete_cmd_postfix": "",
     "delete_cmd_prefix": "del ",
     "library": "var_list.py",
     "varRefreshCmd": "print(var_dic_list())"
    },
    "r": {
     "delete_cmd_postfix": ") ",
     "delete_cmd_prefix": "rm(",
     "library": "var_list.r",
     "varRefreshCmd": "cat(var_dic_list()) "
    }
   },
   "types_to_exclude": [
    "module",
    "function",
    "builtin_function_or_method",
    "instance",
    "_Feature"
   ],
   "window_display": false
  }
 },
 "nbformat": 4,
 "nbformat_minor": 2
}
