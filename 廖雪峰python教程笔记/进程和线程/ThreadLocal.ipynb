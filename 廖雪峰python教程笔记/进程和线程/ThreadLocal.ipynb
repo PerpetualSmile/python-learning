{
 "cells": [
  {
   "cell_type": "markdown",
   "metadata": {},
   "source": [
    "# ThreadLocal"
   ]
  },
  {
   "cell_type": "markdown",
   "metadata": {},
   "source": [
    "## 多线程使用各自的局部变量"
   ]
  },
  {
   "cell_type": "markdown",
   "metadata": {},
   "source": [
    "- 在多线程环境下，每个线程都有自己的数据\n",
    "- 一个线程使用自己的局部变量比使用全局变量好，因为局部变量只有线程自己能看见，不会影响其他线程，而全局变量的修改必须加锁，但是局部变量也有问题，就是在函数调用的时候，传递起来很麻烦"
   ]
  },
  {
   "cell_type": "markdown",
   "metadata": {},
   "source": [
    "```python\n",
    "def process_student(name):\n",
    "    std = Student(name)\n",
    "    # std是局部变量，但是每个函数都要用它，因此必须传进去\n",
    "    do_task_1(std)\n",
    "    do_task_2(std)\n",
    "    \n",
    "def do_task_1(std):\n",
    "    do_subtask_1(std)\n",
    "    do_subtask_2(std)\n",
    "\n",
    "def do_task_2(std):\n",
    "    do_subtask_1(std)\n",
    "    do_subtask_2(std)\n",
    "```"
   ]
  },
  {
   "cell_type": "markdown",
   "metadata": {},
   "source": [
    "- 每个函数都需要一层一层调用非常不优雅。\n",
    "- 用全局变量也不行，因为每个线程处理不同的Student对象，不能共享"
   ]
  },
  {
   "cell_type": "markdown",
   "metadata": {},
   "source": [
    "## 使用一个全局dict存放所有的Student对象，然后以thread自身作为key获得线程对应的Student对象"
   ]
  },
  {
   "cell_type": "markdown",
   "metadata": {},
   "source": [
    "```python\n",
    "global_dict = {}\n",
    "def std_thread(name):\n",
    "    std = Student(name)\n",
    "    # 把std放到全局变量global_dict中：\n",
    "    global_dict[threading.current_thread()] = std\n",
    "    do_task_1()\n",
    "    do_task_2()\n",
    "\n",
    "def do_task_1():\n",
    "    # 不传入std,而是根据当前的线程查找\n",
    "    std = global_dict[threading.current_thread()]\n",
    "\n",
    "def do_task_2():\n",
    "    # 任何函数都可以查找出当前进程的std变量\n",
    "    std = global_dict[threading.current_thread()]\n",
    "```"
   ]
  },
  {
   "cell_type": "markdown",
   "metadata": {},
   "source": [
    "- 这种方法理论上是可行的，最大的优点是消除了std对象在每层函数中的传递问题，但是每个函数获取std的代码有点丑"
   ]
  },
  {
   "cell_type": "markdown",
   "metadata": {},
   "source": [
    "## 更简单的方式：ThreadLocal"
   ]
  },
  {
   "cell_type": "markdown",
   "metadata": {},
   "source": [
    "- ThreadLocal应运而生，不用查找dict, ThreadLocal自动做这件事"
   ]
  },
  {
   "cell_type": "code",
   "execution_count": 1,
   "metadata": {
    "ExecuteTime": {
     "end_time": "2018-04-21T09:30:51.429454Z",
     "start_time": "2018-04-21T09:30:51.425470Z"
    },
    "collapsed": true
   },
   "outputs": [],
   "source": [
    "import threading"
   ]
  },
  {
   "cell_type": "markdown",
   "metadata": {},
   "source": [
    "- 创建全局ThreadLocal对象"
   ]
  },
  {
   "cell_type": "code",
   "execution_count": 2,
   "metadata": {
    "ExecuteTime": {
     "end_time": "2018-04-21T09:32:20.338228Z",
     "start_time": "2018-04-21T09:32:20.334718Z"
    },
    "collapsed": true
   },
   "outputs": [],
   "source": [
    "local_school = threading.local()"
   ]
  },
  {
   "cell_type": "code",
   "execution_count": 6,
   "metadata": {
    "ExecuteTime": {
     "end_time": "2018-04-21T09:38:24.695803Z",
     "start_time": "2018-04-21T09:38:24.692294Z"
    },
    "collapsed": true
   },
   "outputs": [],
   "source": [
    "def process_student():\n",
    "    # 获取当线程关联的student\n",
    "    std = local_school.student\n",
    "    print('Hello, {} (in {})'.format(std, threading.current_thread().name))"
   ]
  },
  {
   "cell_type": "code",
   "execution_count": 7,
   "metadata": {
    "ExecuteTime": {
     "end_time": "2018-04-21T09:38:25.080813Z",
     "start_time": "2018-04-21T09:38:25.076329Z"
    },
    "collapsed": true
   },
   "outputs": [],
   "source": [
    "def process_thread(name):\n",
    "    # 绑定ThreadLocal的student\n",
    "    local_school.student = name\n",
    "    process_student()"
   ]
  },
  {
   "cell_type": "code",
   "execution_count": 8,
   "metadata": {
    "ExecuteTime": {
     "end_time": "2018-04-21T09:38:25.799301Z",
     "start_time": "2018-04-21T09:38:25.782288Z"
    }
   },
   "outputs": [
    {
     "name": "stdout",
     "output_type": "stream",
     "text": [
      "Hello, Alice (in Thread-A)Hello, Bob (in Thread-B)\n",
      "\n"
     ]
    }
   ],
   "source": [
    "t1 = threading.Thread(target=process_thread, args=('Alice', ), name='Thread-A')\n",
    "t2 = threading.Thread(target=process_thread, args=('Bob', ), name='Thread-B')\n",
    "t1.start()\n",
    "t2.start()\n",
    "t1.join()\n",
    "t2.join()"
   ]
  },
  {
   "cell_type": "markdown",
   "metadata": {},
   "source": [
    "- 全局变量local_school就是一个ThreadLocal对象，每个Thread对它都可以读写student属性，但互不影响。\n",
    "- 可以把local_school看成全局变量，但每个属性如local_school.student都是线程的局部变量，可以任意读写而互不干扰，也不用管理锁的问题，ThreadLocal内部会处理\n",
    "- 可以理解为全局变量local_school是一个dict,不但可以用local_school.student,还可以绑定其他变量，如local_school.teacher\n",
    "- ThreadLocal最常用的地方就是为每个线程绑定一个数据库连接，HTTP请求，用户身份信息等，这样一个线程的所有调用到的处理函数都可以非常方便地访问这些资源。"
   ]
  },
  {
   "cell_type": "markdown",
   "metadata": {},
   "source": [
    "## 小结"
   ]
  },
  {
   "cell_type": "markdown",
   "metadata": {},
   "source": [
    "- 一个ThreadLocal变量虽然是全局变量，但每个线程都只能读写自己线程的独立副本，互不干扰\n",
    "- **ThreadLocal解决了参数在一个线程中各个函数之间互相传递的问题。**"
   ]
  }
 ],
 "metadata": {
  "hide_input": false,
  "kernelspec": {
   "display_name": "Python 3",
   "language": "python",
   "name": "python3"
  },
  "language_info": {
   "codemirror_mode": {
    "name": "ipython",
    "version": 3
   },
   "file_extension": ".py",
   "mimetype": "text/x-python",
   "name": "python",
   "nbconvert_exporter": "python",
   "pygments_lexer": "ipython3",
   "version": "3.6.1"
  },
  "toc": {
   "nav_menu": {},
   "number_sections": true,
   "sideBar": true,
   "skip_h1_title": false,
   "toc_cell": false,
   "toc_position": {},
   "toc_section_display": "block",
   "toc_window_display": false
  },
  "varInspector": {
   "cols": {
    "lenName": 16,
    "lenType": 16,
    "lenVar": 40
   },
   "kernels_config": {
    "python": {
     "delete_cmd_postfix": "",
     "delete_cmd_prefix": "del ",
     "library": "var_list.py",
     "varRefreshCmd": "print(var_dic_list())"
    },
    "r": {
     "delete_cmd_postfix": ") ",
     "delete_cmd_prefix": "rm(",
     "library": "var_list.r",
     "varRefreshCmd": "cat(var_dic_list()) "
    }
   },
   "types_to_exclude": [
    "module",
    "function",
    "builtin_function_or_method",
    "instance",
    "_Feature"
   ],
   "window_display": false
  }
 },
 "nbformat": 4,
 "nbformat_minor": 2
}
