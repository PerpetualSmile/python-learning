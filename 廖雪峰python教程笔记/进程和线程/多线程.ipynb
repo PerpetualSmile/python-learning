{
 "cells": [
  {
   "cell_type": "markdown",
   "metadata": {},
   "source": [
    "# 多线程"
   ]
  },
  {
   "cell_type": "markdown",
   "metadata": {},
   "source": [
    "- 多任务可以由多进程完成，也可以由一个进程内的多线程完成\n",
    "- python的线程是真正的Posix Thread， 而不是模拟出来的线程\n",
    "- python的标准库提供了两个模块：_thread和threading, _thread是低级模块，threading是高级模块，对_thread进行了封装，绝大多数情况下，我们只需要使用threading这个高级模块。"
   ]
  },
  {
   "cell_type": "markdown",
   "metadata": {},
   "source": [
    "## 创建一个Thread实例并执行"
   ]
  },
  {
   "cell_type": "code",
   "execution_count": 1,
   "metadata": {
    "ExecuteTime": {
     "end_time": "2018-04-21T02:08:20.030279Z",
     "start_time": "2018-04-21T02:08:20.026511Z"
    },
    "collapsed": true
   },
   "outputs": [],
   "source": [
    "import time, threading"
   ]
  },
  {
   "cell_type": "code",
   "execution_count": 8,
   "metadata": {
    "ExecuteTime": {
     "end_time": "2018-04-21T02:17:26.377937Z",
     "start_time": "2018-04-21T02:17:26.372422Z"
    }
   },
   "outputs": [],
   "source": [
    "def loop():\n",
    "    print('thread {} is running...'.format(threading.current_thread().name))\n",
    "    n = 0\n",
    "    while n < 5:\n",
    "        n = n + 1\n",
    "        print('thread {} >>> {}'.format(threading.current_thread().name, n))\n",
    "        time.sleep(1)\n",
    "    print('thread {} ended.'.format(threading.current_thread().name))"
   ]
  },
  {
   "cell_type": "code",
   "execution_count": 9,
   "metadata": {
    "ExecuteTime": {
     "end_time": "2018-04-21T02:17:37.459517Z",
     "start_time": "2018-04-21T02:17:32.444513Z"
    }
   },
   "outputs": [
    {
     "name": "stdout",
     "output_type": "stream",
     "text": [
      "thread MainThread is running...\n",
      "thread LoopThread is running...\n",
      "thread LoopThread >>> 1\n",
      "thread LoopThread >>> 2\n",
      "thread LoopThread >>> 3\n",
      "thread LoopThread >>> 4\n",
      "thread LoopThread >>> 5\n",
      "thread LoopThread ended.\n",
      "thread MainThread ended.\n"
     ]
    }
   ],
   "source": [
    "print('thread {} is running...'.format(threading.current_thread().name))\n",
    "t = threading.Thread(target=loop, name='LoopThread')\n",
    "t.start()\n",
    "t.join()\n",
    "print('thread {} ended.'.format(threading.current_thread().name))"
   ]
  },
  {
   "cell_type": "markdown",
   "metadata": {},
   "source": [
    "- 由于任何进程默认就会启动一个线程，我们把该线程称为主线程，主线程又可以启动新的线程。\n",
    "- Python的threading模块有个current_thread()函数，它永远返回当前线程的实例。\n",
    "- 主线程实例的名字叫MainThread，子线程的名字在创建时指定，我们用LoopThread命名子线程，名字仅在打印时用来显示，完全没有其他意义，如果不起名字，python就自动给线程命名为Thread-1,Thread-2......"
   ]
  },
  {
   "cell_type": "markdown",
   "metadata": {},
   "source": [
    "## Lock(解决线程间的同步和互斥问题)"
   ]
  },
  {
   "cell_type": "markdown",
   "metadata": {},
   "source": [
    "- 多进程和多线程的最大不同在于，多进程中，同一个变量，各自有一份拷贝存在于每个进程中，互不影响，而多线程中，所有变量都由线程共享，所以任何一个变量都可以被任何一个线程修改，因此，线程之间共享数据的最大危险在于**多个线程同时改变一个变量，把内容改乱了**。"
   ]
  },
  {
   "cell_type": "markdown",
   "metadata": {},
   "source": [
    "### 多线程同时操作一个变量，将内容改乱"
   ]
  },
  {
   "cell_type": "code",
   "execution_count": 31,
   "metadata": {
    "ExecuteTime": {
     "end_time": "2018-04-21T02:42:51.038682Z",
     "start_time": "2018-04-21T02:42:51.035673Z"
    },
    "collapsed": true
   },
   "outputs": [],
   "source": [
    "import time, threading"
   ]
  },
  {
   "cell_type": "markdown",
   "metadata": {},
   "source": [
    "假定这是银行存款："
   ]
  },
  {
   "cell_type": "code",
   "execution_count": 32,
   "metadata": {
    "ExecuteTime": {
     "end_time": "2018-04-21T02:42:51.967597Z",
     "start_time": "2018-04-21T02:42:51.964088Z"
    },
    "collapsed": true
   },
   "outputs": [],
   "source": [
    "balance = 0"
   ]
  },
  {
   "cell_type": "code",
   "execution_count": 38,
   "metadata": {
    "ExecuteTime": {
     "end_time": "2018-04-21T02:43:03.845194Z",
     "start_time": "2018-04-21T02:43:03.188028Z"
    }
   },
   "outputs": [
    {
     "name": "stdout",
     "output_type": "stream",
     "text": [
      "34\n"
     ]
    }
   ],
   "source": [
    "def change_it(n):\n",
    "    # 先存或取，结果应该是0\n",
    "    global balance\n",
    "    balance = balance + n\n",
    "    balance = balance - n\n",
    "\n",
    "def run_thread(n):\n",
    "    for _ in range(1000000):\n",
    "        change_it(n)\n",
    "\n",
    "t1 = threading.Thread(target=run_thread, args=(5,))\n",
    "t2 = threading.Thread(target=run_thread, args=(8,))\n",
    "t1.start()\n",
    "t2.start()\n",
    "t1.join()\n",
    "t2.join()\n",
    "print(balance)"
   ]
  },
  {
   "cell_type": "markdown",
   "metadata": {},
   "source": [
    "- 可以看到结果并不是预期的0\n",
    "- 线程的调度是由操作系统决定的，当t1、t2交替执行时，只要循环次数足够多，balance的结果就不一定是0了。"
   ]
  },
  {
   "cell_type": "markdown",
   "metadata": {},
   "source": [
    "- 原因是因为高级语言的一条语句在CPU执行时是若干条语句\n",
    "- 即使是一个简单的计算： balance = balance + n\n",
    "- 也分成了两步：\n",
    "- x = balance + n\n",
    "- balance = x"
   ]
  },
  {
   "cell_type": "markdown",
   "metadata": {},
   "source": [
    "- 所以多线程并并行时，可能同时将自己的临时变量x赋值给balance，这样其中一个的值就被覆盖了。"
   ]
  },
  {
   "cell_type": "markdown",
   "metadata": {},
   "source": [
    "### 使用threading.Lock()来解决以上问题"
   ]
  },
  {
   "cell_type": "markdown",
   "metadata": {},
   "source": [
    "- 要确保balance计算正确，就要给change_it()上一把锁，当某个线程开始执行change_it()时，该线程获得了锁，因此其他线程不能同时执行change_it()，只能等待，直到锁被释放后，获得该锁以后才能改，由于锁只有一个，无论多少线程，同一时刻，最多只能有一个线程持有该锁，所以不会造成修改的冲突"
   ]
  },
  {
   "cell_type": "code",
   "execution_count": 42,
   "metadata": {
    "ExecuteTime": {
     "end_time": "2018-04-21T02:58:16.319918Z",
     "start_time": "2018-04-21T02:58:14.692440Z"
    }
   },
   "outputs": [
    {
     "name": "stdout",
     "output_type": "stream",
     "text": [
      "0\n"
     ]
    }
   ],
   "source": [
    "balance = 0\n",
    "lock = threading.Lock()\n",
    "\n",
    "def run_thread(n):\n",
    "    for i in range(1000000):\n",
    "        # 先要获取锁\n",
    "        lock.acquire()\n",
    "        try:\n",
    "            change_it(n)\n",
    "        finally:\n",
    "            lock.release()\n",
    "\n",
    "t1 = threading.Thread(target=run_thread, args=(5,))\n",
    "t2 = threading.Thread(target=run_thread, args=(8,))\n",
    "t1.start()\n",
    "t2.start()\n",
    "t1.join()\n",
    "t2.join()\n",
    "print(balance)"
   ]
  },
  {
   "cell_type": "markdown",
   "metadata": {},
   "source": [
    "- 当多个线程同时执行lock.acquire()时，只有一个线程能成功地获取锁，然后继续执行代码，其他线程就继续等待直到获得锁为止。\n",
    "- 使用try...finally来确保一定会释放锁\n",
    "- 锁的好处：\n",
    "    - 确保某段关键代码只能由一个线程从头到尾完整地执行\n",
    "- 锁的坏处：\n",
    "    - 阻止了多线程的并发执行，包含锁的某段代码实际上只能以单线程模式运行，效率就大大降低了\n",
    "    - 可能会造成死锁，只能由操作系统强制终止"
   ]
  },
  {
   "cell_type": "markdown",
   "metadata": {},
   "source": [
    "## 多核CPU，Python GIL全局解释器锁的限制"
   ]
  },
  {
   "cell_type": "markdown",
   "metadata": {},
   "source": [
    "- 如果有多核CPU，直觉告诉我们多核应该可以同时执行多个线程\n",
    "- 一个死循环线程会100%占用一个CPU\n",
    "- 如果有两个死循环线程，在多核CPU中，可以监控到会占用200%的CPU，也就是占用两个CPU核心。"
   ]
  },
  {
   "cell_type": "markdown",
   "metadata": {},
   "source": [
    "### 用Python写个死循环的"
   ]
  },
  {
   "cell_type": "code",
   "execution_count": 43,
   "metadata": {
    "ExecuteTime": {
     "end_time": "2018-04-21T04:00:33.872266Z",
     "start_time": "2018-04-21T04:00:33.868784Z"
    },
    "collapsed": true
   },
   "outputs": [],
   "source": [
    "import threading,multiprocessing"
   ]
  },
  {
   "cell_type": "code",
   "execution_count": 45,
   "metadata": {
    "ExecuteTime": {
     "end_time": "2018-04-21T04:02:05.705719Z",
     "start_time": "2018-04-21T04:02:05.451932Z"
    }
   },
   "outputs": [],
   "source": [
    "def loop():\n",
    "    x = 0\n",
    "    while True:\n",
    "        x = x ^ 1\n",
    "\n",
    "for i in range(multiprocessing.cpu_count()):\n",
    "    t = threading.Thread(target=loop)\n",
    "    t.start()"
   ]
  },
  {
   "cell_type": "markdown",
   "metadata": {},
   "source": [
    "- 在4核CPU上可以监控到CPU占用率仅有102%，也就是只使用了一核\n",
    "- 但是使用C、C++、或java来改写相同的死循环，直接可以把全部核心跑满，4核就跑到400%"
   ]
  },
  {
   "cell_type": "markdown",
   "metadata": {},
   "source": [
    "### 为什么python多线程就无法利用多核"
   ]
  },
  {
   "cell_type": "markdown",
   "metadata": {},
   "source": [
    "- 因为Python的线程虽然是真正的线程，但解释器执行代码时，有一个GIL锁：Global Interpreter Lock,任何Python线程执行前，必须先获得GIL锁，然后每执行100条字节码，解释器就自动释放GIL锁，让别的线程也有机会执行，这个GIL全局锁实际上把所有的线程的执行代码都给上了锁，所以多线程在python中只能交替执行，即使100个线程跑在100核CPU上，也只能用到一个核"
   ]
  },
  {
   "cell_type": "markdown",
   "metadata": {},
   "source": [
    "- GIL是python解释器设计的历史遗留问题，通常我们用的解释器是官方实现的CPython，要真正利用多核，那只能通过C语言扩展来实现，不过这样就失去了Python简单易用的特点。"
   ]
  },
  {
   "cell_type": "markdown",
   "metadata": {},
   "source": [
    "- **不过也不用过于担心，Python虽然不能利用多线程实现多核任务，但可以通过多进程实现多核任务。多个Python进程有各自独立的GIL锁，互不影响**"
   ]
  },
  {
   "cell_type": "markdown",
   "metadata": {},
   "source": [
    "## 小结"
   ]
  },
  {
   "cell_type": "markdown",
   "metadata": {},
   "source": [
    "- 多线程编程，模型复杂，容易发生冲突，必须用锁加以隔离，同时又要小心死锁的发生\n",
    "- Python解释器由于设计时有GIL全局锁，导致了多线程无法利用多核。多线程的并行在Python中就是一个美丽的梦"
   ]
  }
 ],
 "metadata": {
  "hide_input": false,
  "kernelspec": {
   "display_name": "Python 3",
   "language": "python",
   "name": "python3"
  },
  "language_info": {
   "codemirror_mode": {
    "name": "ipython",
    "version": 3
   },
   "file_extension": ".py",
   "mimetype": "text/x-python",
   "name": "python",
   "nbconvert_exporter": "python",
   "pygments_lexer": "ipython3",
   "version": "3.6.1"
  },
  "toc": {
   "nav_menu": {},
   "number_sections": true,
   "sideBar": true,
   "skip_h1_title": false,
   "toc_cell": false,
   "toc_position": {},
   "toc_section_display": "block",
   "toc_window_display": false
  },
  "varInspector": {
   "cols": {
    "lenName": 16,
    "lenType": 16,
    "lenVar": 40
   },
   "kernels_config": {
    "python": {
     "delete_cmd_postfix": "",
     "delete_cmd_prefix": "del ",
     "library": "var_list.py",
     "varRefreshCmd": "print(var_dic_list())"
    },
    "r": {
     "delete_cmd_postfix": ") ",
     "delete_cmd_prefix": "rm(",
     "library": "var_list.r",
     "varRefreshCmd": "cat(var_dic_list()) "
    }
   },
   "types_to_exclude": [
    "module",
    "function",
    "builtin_function_or_method",
    "instance",
    "_Feature"
   ],
   "window_display": false
  }
 },
 "nbformat": 4,
 "nbformat_minor": 2
}
