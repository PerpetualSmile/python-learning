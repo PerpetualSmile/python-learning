{
 "cells": [
  {
   "cell_type": "markdown",
   "metadata": {},
   "source": [
    "# TCP编程"
   ]
  },
  {
   "cell_type": "markdown",
   "metadata": {},
   "source": [
    "Socket是网络编程的一个抽象概念，通常我们用一个Socket表示打开了一个网络连接，而打开一个Socket需要知道目标计算机的IP地址和端口号，再指定协议类型即可"
   ]
  },
  {
   "cell_type": "markdown",
   "metadata": {},
   "source": [
    "## 客户端"
   ]
  },
  {
   "cell_type": "markdown",
   "metadata": {},
   "source": [
    "大多数连接都是可靠的TCP连接，创建TCP连接时，主动发起的叫客户端，被动响应连接的叫服务器。"
   ]
  },
  {
   "cell_type": "markdown",
   "metadata": {},
   "source": [
    "当我们在浏览器中访问新浪时，我们自己的计算机就是客户端，浏览器会主动向新浪的服务器发起连接，如果一切顺利，新浪的服务器接受了我们的连接，一个TCP连接就建立起来，后面的通信就是发送网页内容了。"
   ]
  },
  {
   "cell_type": "markdown",
   "metadata": {},
   "source": [
    "### 创建一个基于TCP连接的Socket "
   ]
  },
  {
   "cell_type": "code",
   "execution_count": 1,
   "metadata": {
    "ExecuteTime": {
     "end_time": "2018-04-15T15:39:01.698203Z",
     "start_time": "2018-04-15T15:39:01.669017Z"
    }
   },
   "outputs": [],
   "source": [
    "import socket\n",
    "\n",
    "s = socket.socket(socket.AF_INET, socket.SOCK_STREAM)\n",
    "s.connect(('www.sina.com.cn', 80))"
   ]
  },
  {
   "cell_type": "markdown",
   "metadata": {},
   "source": [
    "- socket.AF_INET指定使用IPv4协议，如果要使用更加先进的IPV6，可以指定为AF_INET6\n",
    "- socket.SOCK_STREAM指定使用面向流的TCP协议\n",
    "- 客户端要主动发起TCP连接，必须知道服务器的IP地址和端口号。新浪网站的IP地址可以用域名www.sina.com.cn自动转换到IP地址\n",
    "- 端口号，作为服务器提供什么样的服务，端口号就必须固定下来。由于我们想访问网页，因此新浪提供网页服务的服务器，必须把端口固定在80端口，因为80端口是web服务器的标准端口。其他服务都有对应的标准端口号，例如SMTP服务是25端口，FTP服务是21端口，端口号小于1024的是Internet标准服务的端口，端口号大于1024的，可以任意使用。\n",
    "- 地址参数是一个tuple"
   ]
  },
  {
   "cell_type": "markdown",
   "metadata": {},
   "source": [
    "### 发送请求，要求返回首页的内容"
   ]
  },
  {
   "cell_type": "code",
   "execution_count": 2,
   "metadata": {
    "ExecuteTime": {
     "end_time": "2018-04-15T15:39:02.714208Z",
     "start_time": "2018-04-15T15:39:01.699204Z"
    },
    "collapsed": true
   },
   "outputs": [],
   "source": [
    "s.send(b'GET / HTTP/1.1\\r\\nHost: www.sina.com.cn\\r\\nConnection: close\\r\\n\\r\\n')\n",
    "buffer = []\n",
    "while True:\n",
    "    # 每次最多接收1K字节：\n",
    "    d = s.recv(1024)\n",
    "    if d:\n",
    "        buffer.append(d)\n",
    "    else:\n",
    "        break\n",
    "data = b''.join(buffer)\n",
    "s.close()"
   ]
  },
  {
   "cell_type": "markdown",
   "metadata": {},
   "source": [
    "### 保存文件"
   ]
  },
  {
   "cell_type": "code",
   "execution_count": 3,
   "metadata": {
    "ExecuteTime": {
     "end_time": "2018-04-15T15:39:03.191487Z",
     "start_time": "2018-04-15T15:39:02.716197Z"
    }
   },
   "outputs": [
    {
     "name": "stdout",
     "output_type": "stream",
     "text": [
      "HTTP/1.1 200 OK\r\n",
      "Server: nginx\r\n",
      "Date: Sun, 15 Apr 2018 15:39:01 GMT\r\n",
      "Content-Type: text/html\r\n",
      "Content-Length: 603685\r\n",
      "Connection: close\r\n",
      "Last-Modified: Sun, 15 Apr 2018 15:37:08 GMT\r\n",
      "Vary: Accept-Encoding\r\n",
      "Expires: Sun, 15 Apr 2018 15:40:00 GMT\r\n",
      "Cache-Control: max-age=60\r\n",
      "X-Powered-By: shci_v1.03\r\n",
      "Age: 1\r\n",
      "Via: http/1.1 cnc.beixian.ha2ts4.205 (ApacheTrafficServer/6.2.1 [cMsSfW]), http/1.1 cmcc.nanjing.ha2ts4.239 (ApacheTrafficServer/6.2.1 [cHs f ])\r\n",
      "X-Via-Edge: 1523806741319f651d3b7e53519703bd258ae\r\n",
      "X-Cache: MISS.MERGE.239\r\n",
      "X-Via-CDN: f=edge,s=cmcc.nanjing.ha2ts4.238.nb.sinaedge.com,c=183.211.81.246;f=Edge,s=cmcc.nanjing.ha2ts4.239,c=112.25.53.238\n"
     ]
    }
   ],
   "source": [
    "header, html = data.split(b'\\r\\n\\r\\n', 1)\n",
    "print(header.decode('utf-8'))\n",
    "with open('sina.html', 'wb') as f:\n",
    "    f.write(html)"
   ]
  },
  {
   "cell_type": "markdown",
   "metadata": {},
   "source": [
    "-  接收数据时，调用recv(max)方法，一次最多接收指定的字节数，因此在一个while循环中反复接收，直到recv()返回空数据，表示接收完毕，退出循环。\n",
    "- 接收完数据后，调用close()方法关闭Socket，这样一次完整的网络通信就结束了\n",
    "- 接收到的数据包含HTTP头和网页本身，我们需要使用split分离HTTP头和网页"
   ]
  },
  {
   "cell_type": "markdown",
   "metadata": {},
   "source": [
    "## 服务器"
   ]
  },
  {
   "cell_type": "markdown",
   "metadata": {},
   "source": [
    "- 服务器进程首先要绑定一个端口并监听来自其他客户端的连接，如果某个客户端连接过来了，服务器就与该客户端建立socket连 接，随后的通信就靠这个Socket连接了。"
   ]
  },
  {
   "cell_type": "markdown",
   "metadata": {},
   "source": [
    "- 一个socket依赖4项：服务器地址，服务器端口，客户端地址，客户端端口来唯一确定一个Socket"
   ]
  },
  {
   "cell_type": "markdown",
   "metadata": {},
   "source": [
    "- 服务器需要同时响应多个客户端的请求，所以每个连接都需要一个新的进程或者新的线程来处理，否则，服务器一次就只能服务一个客户端了。"
   ]
  },
  {
   "cell_type": "markdown",
   "metadata": {},
   "source": [
    "编写一个简单的服务器程序，它接受客户端的连接，把客户端发来的字符串加上hello再发回去"
   ]
  },
  {
   "cell_type": "markdown",
   "metadata": {},
   "source": [
    "### 创建一个基于IPv4和TCP协议的Socket： "
   ]
  },
  {
   "cell_type": "code",
   "execution_count": 4,
   "metadata": {
    "ExecuteTime": {
     "end_time": "2018-04-15T15:39:03.199463Z",
     "start_time": "2018-04-15T15:39:03.194450Z"
    },
    "collapsed": true
   },
   "outputs": [],
   "source": [
    "s = socket.socket(socket.AF_INET, socket.SOCK_STREAM)"
   ]
  },
  {
   "cell_type": "markdown",
   "metadata": {},
   "source": [
    "### 绑定监听的地址和端口"
   ]
  },
  {
   "cell_type": "markdown",
   "metadata": {},
   "source": [
    "- 服务器可能有多块网卡，可以绑定到某一块网卡的IP地址上，也可以用0.0.0.0绑定到所有的网络地址上，还可以用127.0.0.1绑定到本机地址。\n",
    "- 端口号需要预先指定，由于我们的这个服务不是标准服务，所以用9999这个端口号，小于1024的端口号必须要有管理员权限才能绑定"
   ]
  },
  {
   "cell_type": "code",
   "execution_count": 5,
   "metadata": {
    "ExecuteTime": {
     "end_time": "2018-04-15T15:39:03.237605Z",
     "start_time": "2018-04-15T15:39:03.201468Z"
    },
    "collapsed": true
   },
   "outputs": [],
   "source": [
    "s.bind(('127.0.0.1', 9999))"
   ]
  },
  {
   "cell_type": "markdown",
   "metadata": {},
   "source": [
    "### 调用listen()方法开始监听端口，传入的参数指定等待连接的最大数量"
   ]
  },
  {
   "cell_type": "code",
   "execution_count": 6,
   "metadata": {
    "ExecuteTime": {
     "end_time": "2018-04-15T15:39:03.259622Z",
     "start_time": "2018-04-15T15:39:03.239597Z"
    }
   },
   "outputs": [
    {
     "name": "stdout",
     "output_type": "stream",
     "text": [
      "Waiting for connection...\n"
     ]
    }
   ],
   "source": [
    "s.listen(5)\n",
    "print('Waiting for connection...')"
   ]
  },
  {
   "cell_type": "markdown",
   "metadata": {},
   "source": [
    "### 服务器通过一个永久循环来接受来自客户端的请求，每个连接需要创建新线程来处理，否则， 单线程在处理连接的过程中，无法接受其他客户端的连接："
   ]
  },
  {
   "cell_type": "code",
   "execution_count": null,
   "metadata": {
    "ExecuteTime": {
     "start_time": "2018-04-15T15:39:01.399Z"
    },
    "collapsed": true
   },
   "outputs": [],
   "source": [
    "import threading\n",
    "import time\n",
    "def tcplink(sock, addr):\n",
    "    print(\"Accept new connection from %s:%s...\" % addr)\n",
    "    sock.send(b'Welcome!')\n",
    "    while True:\n",
    "        data = sock.recv(1024)\n",
    "        time.sleep(1)\n",
    "        if not data or data.decode('utf-8') == 'exit':\n",
    "            break\n",
    "        sock.send(('Hello, %s!' % data.decode('utf-8')).encode('utf-8'))\n",
    "    sock.close()\n",
    "    print('Connection from %s:%s closed.'% addr)"
   ]
  },
  {
   "cell_type": "code",
   "execution_count": null,
   "metadata": {
    "ExecuteTime": {
     "start_time": "2018-04-15T15:39:01.402Z"
    }
   },
   "outputs": [
    {
     "name": "stdout",
     "output_type": "stream",
     "text": [
      "Accept new connection from 127.0.0.1:51344...\n",
      "Connection from 127.0.0.1:51344 closed.\n"
     ]
    }
   ],
   "source": [
    "while True:\n",
    "    sock, addr = s.accept()\n",
    "    t = threading.Thread(target=tcplink, args=(sock, addr))\n",
    "    t.start()\n"
   ]
  },
  {
   "cell_type": "markdown",
   "metadata": {
    "ExecuteTime": {
     "start_time": "2018-04-15T15:32:50.747Z"
    }
   },
   "source": [
    "### 客户端程序:"
   ]
  },
  {
   "cell_type": "code",
   "execution_count": null,
   "metadata": {
    "ExecuteTime": {
     "start_time": "2018-04-15T15:39:01.405Z"
    },
    "collapsed": true
   },
   "outputs": [],
   "source": [
    "s = socket.socket(socket.AF_INET, socket.SOCK_STREAM)\n",
    "# 建立连接:\n",
    "s.connect(('127.0.0.1', 9999))\n",
    "# 接收欢迎消息:\n",
    "print(s.recv(1024).decode('utf-8'))\n",
    "for data in [b'Michael', b'Tracy', b'Sarah']:\n",
    "    # 发送数据:\n",
    "    s.send(data)\n",
    "    print(s.recv(1024).decode('utf-8'))\n",
    "s.send(b'exit')\n",
    "s.close()"
   ]
  }
 ],
 "metadata": {
  "hide_input": false,
  "kernelspec": {
   "display_name": "Python 3",
   "language": "python",
   "name": "python3"
  },
  "language_info": {
   "codemirror_mode": {
    "name": "ipython",
    "version": 3
   },
   "file_extension": ".py",
   "mimetype": "text/x-python",
   "name": "python",
   "nbconvert_exporter": "python",
   "pygments_lexer": "ipython3",
   "version": "3.6.1"
  },
  "toc": {
   "nav_menu": {},
   "number_sections": true,
   "sideBar": true,
   "skip_h1_title": false,
   "toc_cell": false,
   "toc_position": {},
   "toc_section_display": "block",
   "toc_window_display": false
  },
  "varInspector": {
   "cols": {
    "lenName": 16,
    "lenType": 16,
    "lenVar": 40
   },
   "kernels_config": {
    "python": {
     "delete_cmd_postfix": "",
     "delete_cmd_prefix": "del ",
     "library": "var_list.py",
     "varRefreshCmd": "print(var_dic_list())"
    },
    "r": {
     "delete_cmd_postfix": ") ",
     "delete_cmd_prefix": "rm(",
     "library": "var_list.r",
     "varRefreshCmd": "cat(var_dic_list()) "
    }
   },
   "types_to_exclude": [
    "module",
    "function",
    "builtin_function_or_method",
    "instance",
    "_Feature"
   ],
   "window_display": false
  }
 },
 "nbformat": 4,
 "nbformat_minor": 2
}
