{
 "cells": [
  {
   "cell_type": "markdown",
   "metadata": {},
   "source": [
    "# UDP编程"
   ]
  },
  {
   "cell_type": "markdown",
   "metadata": {},
   "source": [
    "- TCP是建立可靠连接，并且通信双方都可以以流的形式发送数据。\n",
    "- 相对TCP，UDP则是面向无连接的协议\n",
    "- 使用UDP协议时，不需要建立连接，只需要知道对方的IP地址和端口号，就可以直接发送数据包。但是，能不能到达就不知道了。\n",
    "- 虽然用UDP传输数据并不可靠，但它的优点是和TCP比，速度快，对于不要求可靠达到的数据就可以使用UDP协议。"
   ]
  },
  {
   "cell_type": "markdown",
   "metadata": {},
   "source": [
    "## 创建UDP服务器"
   ]
  },
  {
   "cell_type": "code",
   "execution_count": 1,
   "metadata": {
    "ExecuteTime": {
     "end_time": "2018-04-15T15:51:09.167949Z",
     "start_time": "2018-04-15T15:51:09.163937Z"
    },
    "collapsed": true
   },
   "outputs": [],
   "source": [
    "import socket"
   ]
  },
  {
   "cell_type": "code",
   "execution_count": null,
   "metadata": {
    "ExecuteTime": {
     "start_time": "2018-04-15T15:54:09.843Z"
    }
   },
   "outputs": [
    {
     "name": "stdout",
     "output_type": "stream",
     "text": [
      "Bind UDP on 9999...\n"
     ]
    }
   ],
   "source": [
    "s = socket.socket(socket.AF_INET, socket.SOCK_DGRAM)\n",
    "s.bind(('127.0.0.1', 9999))\n",
    "print('Bind UDP on 9999...')\n",
    "while True:\n",
    "    data, addr = s.recvfrom(1024)\n",
    "    print('Received from %s:%s ' % addr)\n",
    "    s.sendto(b'Hello, %s!' %data, addr)"
   ]
  },
  {
   "cell_type": "markdown",
   "metadata": {},
   "source": [
    "- 创建socket时，SOCK_DGRAM指定了这个socket的类型是UDP，绑定端口和TCP一样， 但不需要调用listen()方法，而是直接接收来自任何客户端的数据\n",
    "- recvfrom()方法返回数据和客户端的地址与端口，这样服务器收到数据后，直接调用sendto()就可以把数据用UDP发给客户端\n",
    "- 例子比较简单，省去了多线程"
   ]
  },
  {
   "cell_type": "markdown",
   "metadata": {},
   "source": [
    "## 客户端"
   ]
  },
  {
   "cell_type": "code",
   "execution_count": null,
   "metadata": {
    "collapsed": true
   },
   "outputs": [],
   "source": [
    "s = socket.socket(socket.AF_INET, socket.SOCK_DGRAM)\n",
    "for data in [b'Michael', b'Tracy', b'Sarah']:\n",
    "    # 发送数据:\n",
    "    s.sendto(data, ('127.0.0.1', 9999))\n",
    "    # 接收数据:\n",
    "    print(s.recv(1024).decode('utf-8'))\n",
    "s.close()"
   ]
  },
  {
   "cell_type": "markdown",
   "metadata": {},
   "source": [
    "- 客户端首先仍然创建基于socket的客户端，不需要调用connect(),直接使用sendto()发送数据给服务器\n",
    "- 从服务器接收仍然使用recv()\n",
    "- UDP的使用与TCP类似，但是不需要建立连接。此外，服务器绑定UDP端口和TCP端口互不冲突，也就是说，UDP的9999端口与TCP的9999端口可以各自绑定。"
   ]
  }
 ],
 "metadata": {
  "hide_input": false,
  "kernelspec": {
   "display_name": "Python 3",
   "language": "python",
   "name": "python3"
  },
  "language_info": {
   "codemirror_mode": {
    "name": "ipython",
    "version": 3
   },
   "file_extension": ".py",
   "mimetype": "text/x-python",
   "name": "python",
   "nbconvert_exporter": "python",
   "pygments_lexer": "ipython3",
   "version": "3.6.1"
  },
  "toc": {
   "nav_menu": {},
   "number_sections": true,
   "sideBar": true,
   "skip_h1_title": false,
   "toc_cell": false,
   "toc_position": {},
   "toc_section_display": "block",
   "toc_window_display": false
  },
  "varInspector": {
   "cols": {
    "lenName": 16,
    "lenType": 16,
    "lenVar": 40
   },
   "kernels_config": {
    "python": {
     "delete_cmd_postfix": "",
     "delete_cmd_prefix": "del ",
     "library": "var_list.py",
     "varRefreshCmd": "print(var_dic_list())"
    },
    "r": {
     "delete_cmd_postfix": ") ",
     "delete_cmd_prefix": "rm(",
     "library": "var_list.r",
     "varRefreshCmd": "cat(var_dic_list()) "
    }
   },
   "types_to_exclude": [
    "module",
    "function",
    "builtin_function_or_method",
    "instance",
    "_Feature"
   ],
   "window_display": false
  }
 },
 "nbformat": 4,
 "nbformat_minor": 2
}
