{
 "cells": [
  {
   "cell_type": "markdown",
   "metadata": {},
   "source": [
    "# TCP/IP协议简介"
   ]
  },
  {
   "cell_type": "markdown",
   "metadata": {},
   "source": [
    "为了把全世界的所有 不同类型的计算机都连接起来，就必须有一套全球通用的协议。"
   ]
  },
  {
   "cell_type": "markdown",
   "metadata": {},
   "source": [
    "互联网协议包含了上百种协议标准，但是最重要的两个协议是TCP和IP协议，所以大家把互联网的协议简称为TCP/IP协议"
   ]
  },
  {
   "cell_type": "markdown",
   "metadata": {},
   "source": [
    "IP地址对应的实际上是计算机的网络接口，通常是网卡。"
   ]
  },
  {
   "cell_type": "markdown",
   "metadata": {},
   "source": [
    "IP协议负责把数据从一台计算机通过网络发送到另一台计算机。IP包的特点是按块发送，途经多个路由但不保证能到达，也不保证顺序到达"
   ]
  },
  {
   "cell_type": "markdown",
   "metadata": {},
   "source": [
    "TCP协议则是建立在IP协议之上的，TCP协议负责在两台计算机之间建立可靠连接，保证数据包按顺序到达，TCP协议会通过握手建立连接，然后对每个IP包编号，确保对方按顺序收到，如果包丢掉了，就自动重发。"
   ]
  },
  {
   "cell_type": "markdown",
   "metadata": {},
   "source": [
    "许多常用的更高级的协议都是建立在TCP协议基础上的，比如用于浏览器的HTTP协议、发送邮件的SMTP协议"
   ]
  },
  {
   "cell_type": "markdown",
   "metadata": {},
   "source": [
    "一个TCP报文除了包含要传输的数据外，还包含源IP地址和目标IP地址，源端口和目标端口。"
   ]
  },
  {
   "cell_type": "markdown",
   "metadata": {},
   "source": [
    "端口的作用：在两台计算机通信时，只发IP地址是不够的，因为一台计算机上跑着多个网络程序，一个TCP报文来了之后，到底是交给浏览器还是QQ，就需要端口号来区分，每个网络程序都向操作系统申请唯一的端口号，这样，两个进程在两台计算机之间建立网络连接就需要各自的IP地址和各自的端口号。"
   ]
  },
  {
   "cell_type": "markdown",
   "metadata": {},
   "source": [
    "一个进程也可能同时与多个计算机建立连接，因此它会申请很多端口。"
   ]
  }
 ],
 "metadata": {
  "hide_input": false,
  "kernelspec": {
   "display_name": "Python 3",
   "language": "python",
   "name": "python3"
  },
  "language_info": {
   "codemirror_mode": {
    "name": "ipython",
    "version": 3
   },
   "file_extension": ".py",
   "mimetype": "text/x-python",
   "name": "python",
   "nbconvert_exporter": "python",
   "pygments_lexer": "ipython3",
   "version": "3.6.1"
  },
  "toc": {
   "nav_menu": {},
   "number_sections": true,
   "sideBar": true,
   "skip_h1_title": false,
   "toc_cell": false,
   "toc_position": {},
   "toc_section_display": "block",
   "toc_window_display": false
  },
  "varInspector": {
   "cols": {
    "lenName": 16,
    "lenType": 16,
    "lenVar": 40
   },
   "kernels_config": {
    "python": {
     "delete_cmd_postfix": "",
     "delete_cmd_prefix": "del ",
     "library": "var_list.py",
     "varRefreshCmd": "print(var_dic_list())"
    },
    "r": {
     "delete_cmd_postfix": ") ",
     "delete_cmd_prefix": "rm(",
     "library": "var_list.r",
     "varRefreshCmd": "cat(var_dic_list()) "
    }
   },
   "types_to_exclude": [
    "module",
    "function",
    "builtin_function_or_method",
    "instance",
    "_Feature"
   ],
   "window_display": false
  }
 },
 "nbformat": 4,
 "nbformat_minor": 2
}
