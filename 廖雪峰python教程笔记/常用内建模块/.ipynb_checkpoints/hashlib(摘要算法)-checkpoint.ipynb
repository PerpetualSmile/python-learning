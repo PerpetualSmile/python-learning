{
 "cells": [
  {
   "cell_type": "markdown",
   "metadata": {},
   "source": [
    "# hashlib(摘要算法)"
   ]
  },
  {
   "cell_type": "markdown",
   "metadata": {},
   "source": [
    "- Python的hashlib提供了常见的摘要算法，如MD5，SHA1等等。"
   ]
  },
  {
   "cell_type": "markdown",
   "metadata": {},
   "source": [
    "## 什么是摘要算法？"
   ]
  },
  {
   "cell_type": "markdown",
   "metadata": {},
   "source": [
    "- 摘要算法又称哈希算法、散列算法。它通过一个函数，把任意长度的数据转换为一个长度固定的数据串（通常用16进制的字符串表示）。\n",
    "- 举例，写了一篇文章，内容是一个字符串，并且附上这篇文章的摘要，如果有人篡改了你的文章，并发表为不同的字符串，那么你可以一下子指出别人篡改了你的文章，因为根据内容算出的摘要不同于原始文章的摘要。"
   ]
  },
  {
   "cell_type": "markdown",
   "metadata": {},
   "source": [
    "- 摘要算法就是通过摘要函数f()对任意长度的数据data计算出固定长度的摘要digest，目的是为了发现原始数据是否被人篡改过。\n",
    "- 摘要算法之所以能指出数据是否被篡改过，就是因为摘要函数是一个单向函数，计算f(data)很容易，但通过digest反推data却非常困难。而且，对原始数据做一个bit的修改，都会导致计算出的摘要完全不同。"
   ]
  },
  {
   "cell_type": "markdown",
   "metadata": {},
   "source": [
    "## 计算出一个字符串的MD5值："
   ]
  },
  {
   "cell_type": "code",
   "execution_count": 1,
   "metadata": {
    "ExecuteTime": {
     "end_time": "2018-05-21T14:50:44.536422Z",
     "start_time": "2018-05-21T14:50:44.524391Z"
    }
   },
   "outputs": [
    {
     "name": "stdout",
     "output_type": "stream",
     "text": [
      "d26a53750bc40b38b65a520292f69306\n"
     ]
    }
   ],
   "source": [
    "import hashlib\n",
    "\n",
    "md5 = hashlib.md5()\n",
    "md5.update('how to use md5 in python hashlib?'.encode('ascii'))\n",
    "print(md5.hexdigest())"
   ]
  },
  {
   "cell_type": "markdown",
   "metadata": {},
   "source": [
    "### 改动一个字母计算结果完全不同"
   ]
  },
  {
   "cell_type": "code",
   "execution_count": 2,
   "metadata": {
    "ExecuteTime": {
     "end_time": "2018-05-21T14:50:44.555474Z",
     "start_time": "2018-05-21T14:50:44.538429Z"
    }
   },
   "outputs": [
    {
     "name": "stdout",
     "output_type": "stream",
     "text": [
      "846014c3556d79e878be15fde5426e8a\n"
     ]
    }
   ],
   "source": [
    "md5 = hashlib.md5()\n",
    "md5.update('how to use md5 in python hashlib'.encode('ascii'))\n",
    "print(md5.hexdigest())"
   ]
  },
  {
   "cell_type": "markdown",
   "metadata": {},
   "source": [
    "### 如果数据量很大，可以分成多次调用update()，最后计算的结果是一样的："
   ]
  },
  {
   "cell_type": "code",
   "execution_count": 3,
   "metadata": {
    "ExecuteTime": {
     "end_time": "2018-05-21T14:50:44.573522Z",
     "start_time": "2018-05-21T14:50:44.557479Z"
    }
   },
   "outputs": [
    {
     "name": "stdout",
     "output_type": "stream",
     "text": [
      "7b9e3e5256e1d2f72812e092d7d53beb\n"
     ]
    }
   ],
   "source": [
    "md5 = hashlib.md5()\n",
    "md5.update('how to use md5 in python hashlib?'.encode())\n",
    "md5.update('1231241325346546357346345756845856956970867t58'.encode())\n",
    "print(md5.hexdigest())"
   ]
  },
  {
   "cell_type": "markdown",
   "metadata": {
    "ExecuteTime": {
     "end_time": "2018-05-21T13:32:02.002332Z",
     "start_time": "2018-05-21T13:32:01.997303Z"
    }
   },
   "source": [
    "- MD5是最常见的摘要算法，速度很快，生成结果是固定的128bit字节，通常用一个32位的16进制字符串表示。"
   ]
  },
  {
   "cell_type": "markdown",
   "metadata": {},
   "source": [
    "## 另一种常见的摘要算法是SHA1，调用SHA1和调用MD5完全类似："
   ]
  },
  {
   "cell_type": "code",
   "execution_count": 4,
   "metadata": {
    "ExecuteTime": {
     "end_time": "2018-05-21T14:50:44.607613Z",
     "start_time": "2018-05-21T14:50:44.575527Z"
    }
   },
   "outputs": [
    {
     "data": {
      "text/plain": [
       "'2c76b57293ce30acef38d98f6046927161b46a44'"
      ]
     },
     "execution_count": 4,
     "metadata": {},
     "output_type": "execute_result"
    }
   ],
   "source": [
    "import hashlib\n",
    "\n",
    "sha1 = hashlib.sha1()\n",
    "sha1.update('how to use sha1 in '.encode('utf-8'))\n",
    "sha1.update('python hashlib?'.encode())\n",
    "sha1.hexdigest()"
   ]
  },
  {
   "cell_type": "markdown",
   "metadata": {},
   "source": [
    "- SHA1的结果是160bit字节，通常用一个40位的16进制字符串表示。\n",
    "- 比SHA1更安全的算法是SHA256和SHA512，不过越安全的算法不仅越慢，而且摘要长度更长。\n",
    "- 有没有可能两个不同的数据通过某个摘要算法得到了相同的摘要？完全有可能，因为任何摘要算法都是把无限多的数据集合映射到一个有限的集合中这种情况称为碰撞，这种情况并非不可能出现，但是非常非常困难。"
   ]
  },
  {
   "cell_type": "markdown",
   "metadata": {},
   "source": [
    "## 摘要算法应用"
   ]
  },
  {
   "cell_type": "markdown",
   "metadata": {},
   "source": [
    "- 任何允许用户登录的网站都会存储用户登录的用户名和口令，方法正是存储到数据库表中。\n",
    "- 如果以明文保存用户口令，一旦数据库泄露，所有用户的口令就落入黑客之手。\n",
    "- 此外，网站的运维人员是可以访问数据库的，也就是能获取到所有用户的口令。\n",
    "- 正确的保存口令的方式是不存储用户的明文口令，而是存储用户口令的摘要。\n",
    "- 当用户登录时，首先计算用户输入的明文口令的MD5，然后和数据库存储的MD5对比，如果一致，说明口令输入正确，如果不一致，口令肯定错误。"
   ]
  },
  {
   "cell_type": "markdown",
   "metadata": {},
   "source": [
    "## 加盐"
   ]
  },
  {
   "cell_type": "markdown",
   "metadata": {},
   "source": [
    "- 采用MD5存储口令也不一定安全，因为有些用户喜欢使用123456,888888，password这些简单的口令，于是黑客可以事先计算出这些常用口令的MD5值，得到一个反推表\n",
    "    - 'e10adc3949ba59abbe56e057f20f883e': '123456'\n",
    "    - '21218cca77804d2ba1922c33e0151105': '888888'\n",
    "    - '5f4dcc3b5aa765d61d8327deb882cf99': 'password'"
   ]
  },
  {
   "cell_type": "markdown",
   "metadata": {},
   "source": [
    "- 这样无需破解，只需要对比数据库的MD5，黑客就获得了使用常用口令的用户账户。"
   ]
  },
  {
   "cell_type": "markdown",
   "metadata": {},
   "source": [
    "- ’加盐‘：通过对原始口令加一个复杂字符串来实现，俗称’加盐‘"
   ]
  },
  {
   "cell_type": "code",
   "execution_count": 5,
   "metadata": {
    "ExecuteTime": {
     "end_time": "2018-05-21T14:50:44.625660Z",
     "start_time": "2018-05-21T14:50:44.609618Z"
    },
    "collapsed": true
   },
   "outputs": [],
   "source": [
    "def calc_md5(password):\n",
    "    return get_md5(password + 'the-Salt')"
   ]
  },
  {
   "cell_type": "markdown",
   "metadata": {},
   "source": [
    "## 把登录名作为Salt的一部分来计算MD5，实现相同口令的用户也存储不同的MD5"
   ]
  },
  {
   "cell_type": "markdown",
   "metadata": {},
   "source": [
    "- 经过Salt处理的MD5口令，只要Salt不被黑客知道，即使用户输入简单口令，也很难通过MD5反推明文口令。\n",
    "- 但是如果有两个用户都使用了相同的简单口令比如123456，在数据库中，将存储两条相同的MD5值，这说明这两个用户的口令是一样的\n",
    "- 如果假定用户无法修改登录名，就可以通过把登录名作为Slat的一部分来计算MD5，从而实现相同口令的用户存储不同的MD5。"
   ]
  },
  {
   "cell_type": "markdown",
   "metadata": {},
   "source": [
    "## 实战：根据用户输入的登录名和口令模拟用户注册登录，计算更加安全的MD5 "
   ]
  },
  {
   "cell_type": "code",
   "execution_count": 6,
   "metadata": {
    "ExecuteTime": {
     "end_time": "2018-05-21T14:50:44.647719Z",
     "start_time": "2018-05-21T14:50:44.627666Z"
    },
    "collapsed": true
   },
   "outputs": [],
   "source": [
    "import hashlib, random\n",
    "\n",
    "\n",
    "db = {}\n",
    "\n",
    "def get_md5(s):\n",
    "    return hashlib.md5(s.encode('utf-8')).hexdigest()\n",
    "\n",
    "class User:\n",
    "    def __init__(self, username, password):\n",
    "        self.username = username\n",
    "        self.salt = ''.join([chr(random.randint(48, 122)) for i in range(20)])\n",
    "        self.password = get_md5(password + self.salt)\n",
    "\n",
    "def register(username, password):\n",
    "    db[username] = User(username, password)\n",
    "    \n",
    "def login(username, password):\n",
    "    user = db[username]\n",
    "    return user.password == get_md5(password + user.salt)\n"
   ]
  },
  {
   "cell_type": "code",
   "execution_count": 7,
   "metadata": {
    "ExecuteTime": {
     "end_time": "2018-05-21T14:50:44.664763Z",
     "start_time": "2018-05-21T14:50:44.649725Z"
    },
    "collapsed": true
   },
   "outputs": [],
   "source": [
    "register('dongdong', '12345678')"
   ]
  },
  {
   "cell_type": "code",
   "execution_count": 8,
   "metadata": {
    "ExecuteTime": {
     "end_time": "2018-05-21T14:50:44.686823Z",
     "start_time": "2018-05-21T14:50:44.667773Z"
    }
   },
   "outputs": [
    {
     "data": {
      "text/plain": [
       "True"
      ]
     },
     "execution_count": 8,
     "metadata": {},
     "output_type": "execute_result"
    }
   ],
   "source": [
    "login('dongdong', '12345678')"
   ]
  },
  {
   "cell_type": "code",
   "execution_count": 9,
   "metadata": {
    "ExecuteTime": {
     "end_time": "2018-05-21T14:50:44.706876Z",
     "start_time": "2018-05-21T14:50:44.688829Z"
    },
    "collapsed": true
   },
   "outputs": [],
   "source": [
    "register('xixi', '12345678')"
   ]
  },
  {
   "cell_type": "code",
   "execution_count": 10,
   "metadata": {
    "ExecuteTime": {
     "end_time": "2018-05-21T14:50:44.726930Z",
     "start_time": "2018-05-21T14:50:44.708881Z"
    }
   },
   "outputs": [
    {
     "data": {
      "text/plain": [
       "True"
      ]
     },
     "execution_count": 10,
     "metadata": {},
     "output_type": "execute_result"
    }
   ],
   "source": [
    "login('xixi', '12345678')"
   ]
  },
  {
   "cell_type": "code",
   "execution_count": 11,
   "metadata": {
    "ExecuteTime": {
     "end_time": "2018-05-21T14:50:44.745980Z",
     "start_time": "2018-05-21T14:50:44.728935Z"
    }
   },
   "outputs": [
    {
     "data": {
      "text/plain": [
       "'f92d762a2481360b2c001038f309b250'"
      ]
     },
     "execution_count": 11,
     "metadata": {},
     "output_type": "execute_result"
    }
   ],
   "source": [
    "db['dongdong'].password"
   ]
  },
  {
   "cell_type": "code",
   "execution_count": 12,
   "metadata": {
    "ExecuteTime": {
     "end_time": "2018-05-21T14:50:44.768039Z",
     "start_time": "2018-05-21T14:50:44.748989Z"
    }
   },
   "outputs": [
    {
     "data": {
      "text/plain": [
       "'c0dc37538f50497a3316a8370f34b6cb'"
      ]
     },
     "execution_count": 12,
     "metadata": {},
     "output_type": "execute_result"
    }
   ],
   "source": [
    "db['xixi'].password"
   ]
  },
  {
   "cell_type": "markdown",
   "metadata": {},
   "source": [
    "## 总结"
   ]
  },
  {
   "cell_type": "markdown",
   "metadata": {},
   "source": [
    "- 摘要算法在很多地方都有广泛的应用。要注意摘要算法不是加密算法，不能用于加密（因为无法通过摘要反推明文），只能用于防篡改，但是它的单向计算特性决定了可以在不存储明文口令的情况下验证用户口令。"
   ]
  }
 ],
 "metadata": {
  "hide_input": false,
  "kernelspec": {
   "display_name": "Python 3",
   "language": "python",
   "name": "python3"
  },
  "language_info": {
   "codemirror_mode": {
    "name": "ipython",
    "version": 3
   },
   "file_extension": ".py",
   "mimetype": "text/x-python",
   "name": "python",
   "nbconvert_exporter": "python",
   "pygments_lexer": "ipython3",
   "version": "3.6.1"
  },
  "toc": {
   "nav_menu": {},
   "number_sections": true,
   "sideBar": true,
   "skip_h1_title": false,
   "toc_cell": false,
   "toc_position": {},
   "toc_section_display": "block",
   "toc_window_display": false
  },
  "varInspector": {
   "cols": {
    "lenName": 16,
    "lenType": 16,
    "lenVar": 40
   },
   "kernels_config": {
    "python": {
     "delete_cmd_postfix": "",
     "delete_cmd_prefix": "del ",
     "library": "var_list.py",
     "varRefreshCmd": "print(var_dic_list())"
    },
    "r": {
     "delete_cmd_postfix": ") ",
     "delete_cmd_prefix": "rm(",
     "library": "var_list.r",
     "varRefreshCmd": "cat(var_dic_list()) "
    }
   },
   "types_to_exclude": [
    "module",
    "function",
    "builtin_function_or_method",
    "instance",
    "_Feature"
   ],
   "window_display": false
  }
 },
 "nbformat": 4,
 "nbformat_minor": 2
}
