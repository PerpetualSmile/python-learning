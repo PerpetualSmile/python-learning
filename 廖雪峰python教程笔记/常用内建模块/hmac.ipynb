{
 "cells": [
  {
   "cell_type": "markdown",
   "metadata": {},
   "source": [
    "# hmac"
   ]
  },
  {
   "cell_type": "markdown",
   "metadata": {},
   "source": [
    "- 为了防止黑客通过彩虹表根据哈希值反推原始口令，在计算哈希的时候，不能仅针对原始输入计算，需要增加一个salt来使得相同的输入也能得到不同的哈希，这样，大大增加了黑客破解的难度。"
   ]
  },
  {
   "cell_type": "markdown",
   "metadata": {},
   "source": [
    "- 如果salt是我们自己随机生成的，通常我们计算MD5采用md5(message + salt)，但实际上，把salt看成是一个’口令‘，加salt的哈希就是：计算一段message的哈希时，根据不同的口令计算出不同的哈希。要验证哈希值，必须提供正确的口令。"
   ]
  },
  {
   "cell_type": "markdown",
   "metadata": {},
   "source": [
    "## Hmac算法"
   ]
  },
  {
   "cell_type": "markdown",
   "metadata": {},
   "source": [
    "- Keyed-Hashing for Message Authentication, 通过一个标准算法，在计算哈希的过程中，把key混入计算的过程中。\n",
    "- 和我们自定义的加Salt算法不同，Hmac算法针对所有哈希算法都通用，无论是MD5还是SHA-1，采用Hmac替代我们自己的salt算法，可以使程序算法更标准化，也更安全。"
   ]
  },
  {
   "cell_type": "code",
   "execution_count": 1,
   "metadata": {
    "ExecuteTime": {
     "end_time": "2018-05-21T15:29:48.891044Z",
     "start_time": "2018-05-21T15:29:48.878010Z"
    }
   },
   "outputs": [
    {
     "data": {
      "text/plain": [
       "'fa4ee7d173f2d97ee79022d1a7355bcf'"
      ]
     },
     "execution_count": 1,
     "metadata": {},
     "output_type": "execute_result"
    }
   ],
   "source": [
    "import hmac\n",
    "\n",
    "message = b'Hello, world!'\n",
    "key = b'secret' # 随机出来的序列，相当于hashlib中的随机数序列\n",
    "h = hmac.new(key, message, digestmod='MD5')\n",
    "# 如果消息很长，可以多次调用h.update(msg)\n",
    "h.hexdigest()"
   ]
  },
  {
   "cell_type": "markdown",
   "metadata": {},
   "source": [
    "## 修改上一节的代码为标准的hmac算法"
   ]
  },
  {
   "cell_type": "code",
   "execution_count": 2,
   "metadata": {
    "ExecuteTime": {
     "end_time": "2018-05-21T15:29:48.910095Z",
     "start_time": "2018-05-21T15:29:48.893049Z"
    },
    "collapsed": true
   },
   "outputs": [],
   "source": [
    "import hmac, random\n",
    "\n",
    "\n",
    "db = {}\n",
    "\n",
    "def hmac_md5(key, s):\n",
    "    return hmac.new(key.encode('utf-8'), s.encode('utf-8'), 'MD5').hexdigest()\n",
    "\n",
    "class User:\n",
    "    def __init__(self, username, password):\n",
    "        self.username = username\n",
    "        self.key = ''.join([chr(random.randint(48, 122)) for i in range(20)])\n",
    "        self.password = hmac_md5(self.key, password)\n",
    "\n",
    "def register(username, password):\n",
    "    db[username] = User(username, password)\n",
    "    \n",
    "def login(username, password):\n",
    "    user = db[username]\n",
    "    return user.password == hmac_md5(user.key, password)\n"
   ]
  },
  {
   "cell_type": "code",
   "execution_count": 3,
   "metadata": {
    "ExecuteTime": {
     "end_time": "2018-05-21T15:29:48.934159Z",
     "start_time": "2018-05-21T15:29:48.912100Z"
    },
    "collapsed": true
   },
   "outputs": [],
   "source": [
    "register('dongdong', '123456')"
   ]
  },
  {
   "cell_type": "code",
   "execution_count": 4,
   "metadata": {
    "ExecuteTime": {
     "end_time": "2018-05-21T15:29:48.955215Z",
     "start_time": "2018-05-21T15:29:48.936165Z"
    }
   },
   "outputs": [
    {
     "data": {
      "text/plain": [
       "True"
      ]
     },
     "execution_count": 4,
     "metadata": {},
     "output_type": "execute_result"
    }
   ],
   "source": [
    "login('dongdong', '123456')"
   ]
  },
  {
   "cell_type": "code",
   "execution_count": 5,
   "metadata": {
    "ExecuteTime": {
     "end_time": "2018-05-21T15:29:48.976271Z",
     "start_time": "2018-05-21T15:29:48.957220Z"
    },
    "collapsed": true
   },
   "outputs": [],
   "source": [
    "register('xiaoxiao', '123456')"
   ]
  },
  {
   "cell_type": "code",
   "execution_count": 6,
   "metadata": {
    "ExecuteTime": {
     "end_time": "2018-05-21T15:29:48.995323Z",
     "start_time": "2018-05-21T15:29:48.978277Z"
    }
   },
   "outputs": [
    {
     "data": {
      "text/plain": [
       "'f5f89099b8d2cbac021ddbb41e82864a'"
      ]
     },
     "execution_count": 6,
     "metadata": {},
     "output_type": "execute_result"
    }
   ],
   "source": [
    "db['dongdong'].password"
   ]
  },
  {
   "cell_type": "code",
   "execution_count": 7,
   "metadata": {
    "ExecuteTime": {
     "end_time": "2018-05-21T15:29:49.023397Z",
     "start_time": "2018-05-21T15:29:48.997328Z"
    }
   },
   "outputs": [
    {
     "data": {
      "text/plain": [
       "'0d0a2ac8548bcdbcc8e84a3fd836ad0f'"
      ]
     },
     "execution_count": 7,
     "metadata": {},
     "output_type": "execute_result"
    }
   ],
   "source": [
    "db['xiaoxiao'].password"
   ]
  }
 ],
 "metadata": {
  "hide_input": false,
  "kernelspec": {
   "display_name": "Python 3",
   "language": "python",
   "name": "python3"
  },
  "language_info": {
   "codemirror_mode": {
    "name": "ipython",
    "version": 3
   },
   "file_extension": ".py",
   "mimetype": "text/x-python",
   "name": "python",
   "nbconvert_exporter": "python",
   "pygments_lexer": "ipython3",
   "version": "3.6.1"
  },
  "toc": {
   "nav_menu": {},
   "number_sections": true,
   "sideBar": true,
   "skip_h1_title": false,
   "toc_cell": false,
   "toc_position": {},
   "toc_section_display": "block",
   "toc_window_display": false
  },
  "varInspector": {
   "cols": {
    "lenName": 16,
    "lenType": 16,
    "lenVar": 40
   },
   "kernels_config": {
    "python": {
     "delete_cmd_postfix": "",
     "delete_cmd_prefix": "del ",
     "library": "var_list.py",
     "varRefreshCmd": "print(var_dic_list())"
    },
    "r": {
     "delete_cmd_postfix": ") ",
     "delete_cmd_prefix": "rm(",
     "library": "var_list.r",
     "varRefreshCmd": "cat(var_dic_list()) "
    }
   },
   "types_to_exclude": [
    "module",
    "function",
    "builtin_function_or_method",
    "instance",
    "_Feature"
   ],
   "window_display": false
  }
 },
 "nbformat": 4,
 "nbformat_minor": 2
}
