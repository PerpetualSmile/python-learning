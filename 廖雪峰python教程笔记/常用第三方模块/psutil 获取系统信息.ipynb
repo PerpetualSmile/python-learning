{
 "cells": [
  {
   "cell_type": "markdown",
   "metadata": {},
   "source": [
    "# 使用psutil第三方模块获取系统信息"
   ]
  },
  {
   "cell_type": "markdown",
   "metadata": {},
   "source": [
    "psutil = process and system utilities ， 不仅可以通过一两行代码实现系统监控，还可以跨平台使用，支持Linux/Unix/OSX/Windows等，是系统管理员和运维小伙伴不可或缺的必备模块"
   ]
  },
  {
   "cell_type": "markdown",
   "metadata": {},
   "source": [
    "## 获取CPU信息"
   ]
  },
  {
   "cell_type": "code",
   "execution_count": 2,
   "metadata": {
    "ExecuteTime": {
     "end_time": "2018-04-01T15:24:36.520466Z",
     "start_time": "2018-04-01T15:24:36.509439Z"
    }
   },
   "outputs": [
    {
     "data": {
      "text/plain": [
       "4"
      ]
     },
     "execution_count": 2,
     "metadata": {},
     "output_type": "execute_result"
    }
   ],
   "source": [
    "import psutil\n",
    "psutil.cpu_count() # CPU逻辑数量"
   ]
  },
  {
   "cell_type": "code",
   "execution_count": 3,
   "metadata": {
    "ExecuteTime": {
     "end_time": "2018-04-01T15:25:32.009088Z",
     "start_time": "2018-04-01T15:25:32.005104Z"
    }
   },
   "outputs": [
    {
     "data": {
      "text/plain": [
       "4"
      ]
     },
     "execution_count": 3,
     "metadata": {},
     "output_type": "execute_result"
    }
   ],
   "source": [
    "psutil.cpu_count(logical=False) # CPU物理核心"
   ]
  },
  {
   "cell_type": "markdown",
   "metadata": {
    "ExecuteTime": {
     "end_time": "2018-04-01T15:26:59.321792Z",
     "start_time": "2018-04-01T15:26:59.316779Z"
    }
   },
   "source": [
    "### 统计CPU的用户/系统/空闲时间："
   ]
  },
  {
   "cell_type": "code",
   "execution_count": 12,
   "metadata": {
    "ExecuteTime": {
     "end_time": "2018-04-01T15:28:47.943873Z",
     "start_time": "2018-04-01T15:28:47.939862Z"
    }
   },
   "outputs": [
    {
     "data": {
      "text/plain": [
       "scputimes(user=19986.65625, system=4504.34375, idle=186897.953125, interrupt=534.953125, dpc=412.8594055175781)"
      ]
     },
     "execution_count": 12,
     "metadata": {},
     "output_type": "execute_result"
    }
   ],
   "source": [
    "psutil.cpu_times()"
   ]
  },
  {
   "cell_type": "markdown",
   "metadata": {},
   "source": [
    "### 再实现类似top命令的CPU使用率，每秒刷新一次，累计10次"
   ]
  },
  {
   "cell_type": "code",
   "execution_count": 14,
   "metadata": {
    "ExecuteTime": {
     "end_time": "2018-04-01T15:32:11.914758Z",
     "start_time": "2018-04-01T15:32:01.908657Z"
    }
   },
   "outputs": [
    {
     "name": "stdout",
     "output_type": "stream",
     "text": [
      "[10.8, 9.4, 6.2, 6.2]\n",
      "[7.7, 6.2, 4.7, 4.7]\n",
      "[7.7, 1.6, 6.2, 4.7]\n",
      "[13.2, 9.2, 4.6, 4.7]\n",
      "[9.4, 1.6, 3.1, 9.2]\n",
      "[18.5, 7.8, 6.3, 7.9]\n",
      "[14.9, 9.4, 4.7, 6.2]\n",
      "[7.8, 4.7, 3.1, 7.7]\n",
      "[10.8, 4.7, 4.7, 14.1]\n",
      "[10.8, 7.8, 7.8, 12.5]\n"
     ]
    }
   ],
   "source": [
    "for x in range(10):\n",
    "    print(psutil.cpu_percent(interval=1, percpu=True))"
   ]
  },
  {
   "cell_type": "markdown",
   "metadata": {},
   "source": [
    "## 获取内存信息"
   ]
  },
  {
   "cell_type": "code",
   "execution_count": 15,
   "metadata": {
    "ExecuteTime": {
     "end_time": "2018-04-01T15:32:44.432530Z",
     "start_time": "2018-04-01T15:32:44.428271Z"
    }
   },
   "outputs": [
    {
     "data": {
      "text/plain": [
       "svmem(total=17064427520, available=11515822080, percent=32.5, used=5548605440, free=11515822080)"
      ]
     },
     "execution_count": 15,
     "metadata": {},
     "output_type": "execute_result"
    }
   ],
   "source": [
    "psutil.virtual_memory()"
   ]
  },
  {
   "cell_type": "code",
   "execution_count": 16,
   "metadata": {
    "ExecuteTime": {
     "end_time": "2018-04-01T15:33:01.754289Z",
     "start_time": "2018-04-01T15:33:01.749277Z"
    }
   },
   "outputs": [
    {
     "data": {
      "text/plain": [
       "sswap(total=18138169344, used=5379616768, free=12758552576, percent=29.7, sin=0, sout=0)"
      ]
     },
     "execution_count": 16,
     "metadata": {},
     "output_type": "execute_result"
    }
   ],
   "source": [
    "psutil.swap_memory()"
   ]
  },
  {
   "cell_type": "markdown",
   "metadata": {},
   "source": [
    "## 获取磁盘信息"
   ]
  },
  {
   "cell_type": "markdown",
   "metadata": {},
   "source": [
    "### 磁盘分区信息"
   ]
  },
  {
   "cell_type": "code",
   "execution_count": 17,
   "metadata": {
    "ExecuteTime": {
     "end_time": "2018-04-01T15:35:22.033221Z",
     "start_time": "2018-04-01T15:35:22.028239Z"
    }
   },
   "outputs": [
    {
     "data": {
      "text/plain": [
       "[sdiskpart(device='C:\\\\', mountpoint='C:\\\\', fstype='NTFS', opts='rw,fixed'),\n",
       " sdiskpart(device='D:\\\\', mountpoint='D:\\\\', fstype='NTFS', opts='rw,fixed'),\n",
       " sdiskpart(device='E:\\\\', mountpoint='E:\\\\', fstype='NTFS', opts='rw,fixed'),\n",
       " sdiskpart(device='G:\\\\', mountpoint='G:\\\\', fstype='NTFS', opts='rw,fixed')]"
      ]
     },
     "execution_count": 17,
     "metadata": {},
     "output_type": "execute_result"
    }
   ],
   "source": [
    "psutil.disk_partitions()"
   ]
  },
  {
   "cell_type": "markdown",
   "metadata": {},
   "source": [
    "### 磁盘使用情况"
   ]
  },
  {
   "cell_type": "code",
   "execution_count": 19,
   "metadata": {
    "ExecuteTime": {
     "end_time": "2018-04-01T15:36:19.129075Z",
     "start_time": "2018-04-01T15:36:19.124075Z"
    }
   },
   "outputs": [
    {
     "data": {
      "text/plain": [
       "sdiskusage(total=718120415232, used=235648626688, free=482471788544, percent=32.8)"
      ]
     },
     "execution_count": 19,
     "metadata": {},
     "output_type": "execute_result"
    }
   ],
   "source": [
    "psutil.disk_usage('/')"
   ]
  },
  {
   "cell_type": "markdown",
   "metadata": {},
   "source": [
    "### 磁盘IO"
   ]
  },
  {
   "cell_type": "code",
   "execution_count": 20,
   "metadata": {
    "ExecuteTime": {
     "end_time": "2018-04-01T15:36:55.353180Z",
     "start_time": "2018-04-01T15:36:55.348162Z"
    }
   },
   "outputs": [
    {
     "data": {
      "text/plain": [
       "sdiskio(read_count=287608, write_count=271336, read_bytes=13425376256, write_bytes=41227650048, read_time=50709320, write_time=121336000)"
      ]
     },
     "execution_count": 20,
     "metadata": {},
     "output_type": "execute_result"
    }
   ],
   "source": [
    "psutil.disk_io_counters()"
   ]
  },
  {
   "cell_type": "markdown",
   "metadata": {},
   "source": [
    "## 获取网络信息"
   ]
  },
  {
   "cell_type": "markdown",
   "metadata": {},
   "source": [
    "psutil可以获取网络接口和网络连接信息："
   ]
  },
  {
   "cell_type": "markdown",
   "metadata": {},
   "source": [
    "### 获取网络读写字节/包的个数"
   ]
  },
  {
   "cell_type": "code",
   "execution_count": 21,
   "metadata": {
    "ExecuteTime": {
     "end_time": "2018-04-01T15:38:54.460776Z",
     "start_time": "2018-04-01T15:38:54.451765Z"
    }
   },
   "outputs": [
    {
     "data": {
      "text/plain": [
       "snetio(bytes_sent=102865868, bytes_recv=470126853, packets_sent=625760, packets_recv=714928, errin=0, errout=0, dropin=0, dropout=0)"
      ]
     },
     "execution_count": 21,
     "metadata": {},
     "output_type": "execute_result"
    }
   ],
   "source": [
    "psutil.net_io_counters()"
   ]
  },
  {
   "cell_type": "markdown",
   "metadata": {},
   "source": [
    "### 获取网络接口信息"
   ]
  },
  {
   "cell_type": "code",
   "execution_count": 22,
   "metadata": {
    "ExecuteTime": {
     "end_time": "2018-04-01T15:40:38.404234Z",
     "start_time": "2018-04-01T15:40:38.396213Z"
    }
   },
   "outputs": [
    {
     "data": {
      "text/plain": [
       "{'Loopback Pseudo-Interface 1': [snic(family=<AddressFamily.AF_INET: 2>, address='127.0.0.1', netmask='255.0.0.0', broadcast=None, ptp=None),\n",
       "  snic(family=<AddressFamily.AF_INET6: 23>, address='::1', netmask=None, broadcast=None, ptp=None)],\n",
       " 'VirtualBox Host-Only Network': [snic(family=<AddressFamily.AF_LINK: -1>, address='0A-00-27-00-00-05', netmask=None, broadcast=None, ptp=None),\n",
       "  snic(family=<AddressFamily.AF_INET: 2>, address='192.168.56.1', netmask='255.255.255.0', broadcast=None, ptp=None),\n",
       "  snic(family=<AddressFamily.AF_INET6: 23>, address='fe80::6dbe:a031:a9a6:430c', netmask=None, broadcast=None, ptp=None)],\n",
       " 'WLAN': [snic(family=<AddressFamily.AF_LINK: -1>, address='7C-B0-C2-9B-A1-40', netmask=None, broadcast=None, ptp=None),\n",
       "  snic(family=<AddressFamily.AF_INET: 2>, address='10.70.77.67', netmask='255.255.128.0', broadcast=None, ptp=None),\n",
       "  snic(family=<AddressFamily.AF_INET6: 23>, address='fe80::587a:6faa:3e6d:68f0', netmask=None, broadcast=None, ptp=None)],\n",
       " 'isatap.{094B6DB7-BBE9-4473-9A6D-79EB53C55E8F}': [snic(family=<AddressFamily.AF_LINK: -1>, address='00-00-00-00-00-00-00-E0', netmask=None, broadcast=None, ptp=None),\n",
       "  snic(family=<AddressFamily.AF_INET6: 23>, address='fe80::5efe:10.70.77.67', netmask=None, broadcast=None, ptp=None)],\n",
       " 'isatap.{4D06A182-B74C-486A-80E0-B32CE2732669}': [snic(family=<AddressFamily.AF_LINK: -1>, address='00-00-00-00-00-00-00-E0', netmask=None, broadcast=None, ptp=None),\n",
       "  snic(family=<AddressFamily.AF_INET6: 23>, address='fe80::5efe:192.168.56.1', netmask=None, broadcast=None, ptp=None)],\n",
       " '以太网': [snic(family=<AddressFamily.AF_LINK: -1>, address='98-E7-F4-58-E4-EC', netmask=None, broadcast=None, ptp=None),\n",
       "  snic(family=<AddressFamily.AF_INET: 2>, address='169.254.192.37', netmask='255.255.0.0', broadcast=None, ptp=None),\n",
       "  snic(family=<AddressFamily.AF_INET6: 23>, address='fe80::b952:44a:ef7e:c025', netmask=None, broadcast=None, ptp=None)],\n",
       " '以太网 2': [snic(family=<AddressFamily.AF_LINK: -1>, address='00-FF-C6-18-BD-73', netmask=None, broadcast=None, ptp=None),\n",
       "  snic(family=<AddressFamily.AF_INET: 2>, address='10.66.66.66', netmask='255.255.255.0', broadcast=None, ptp=None),\n",
       "  snic(family=<AddressFamily.AF_INET: 2>, address='169.254.254.16', netmask='255.255.0.0', broadcast=None, ptp=None),\n",
       "  snic(family=<AddressFamily.AF_INET6: 23>, address='fe80::75a6:80d:2193:fe10', netmask=None, broadcast=None, ptp=None)],\n",
       " '本地连接* 2': [snic(family=<AddressFamily.AF_LINK: -1>, address='7C-B0-C2-9B-A1-41', netmask=None, broadcast=None, ptp=None),\n",
       "  snic(family=<AddressFamily.AF_INET: 2>, address='169.254.24.133', netmask='255.255.0.0', broadcast=None, ptp=None),\n",
       "  snic(family=<AddressFamily.AF_INET6: 23>, address='fe80::d47c:4bfb:4589:1885', netmask=None, broadcast=None, ptp=None)],\n",
       " '本地连接* 3': [snic(family=<AddressFamily.AF_LINK: -1>, address='00-00-00-00-00-00-00-E0', netmask=None, broadcast=None, ptp=None),\n",
       "  snic(family=<AddressFamily.AF_INET6: 23>, address='2001:0:9d38:953c:28e3:5b76:482c:ae26', netmask=None, broadcast=None, ptp=None),\n",
       "  snic(family=<AddressFamily.AF_INET6: 23>, address='fe80::28e3:5b76:482c:ae26', netmask=None, broadcast=None, ptp=None)]}"
      ]
     },
     "execution_count": 22,
     "metadata": {},
     "output_type": "execute_result"
    }
   ],
   "source": [
    "psutil.net_if_addrs()"
   ]
  },
  {
   "cell_type": "code",
   "execution_count": 23,
   "metadata": {
    "ExecuteTime": {
     "end_time": "2018-04-01T15:41:06.372748Z",
     "start_time": "2018-04-01T15:41:06.340090Z"
    }
   },
   "outputs": [
    {
     "data": {
      "text/plain": [
       "{'Loopback Pseudo-Interface 1': snicstats(isup=True, duplex=<NicDuplex.NIC_DUPLEX_FULL: 2>, speed=1073, mtu=1500),\n",
       " 'VirtualBox Host-Only Network': snicstats(isup=True, duplex=<NicDuplex.NIC_DUPLEX_FULL: 2>, speed=1000, mtu=1500),\n",
       " 'WLAN': snicstats(isup=True, duplex=<NicDuplex.NIC_DUPLEX_FULL: 2>, speed=780, mtu=1500),\n",
       " 'isatap.{094B6DB7-BBE9-4473-9A6D-79EB53C55E8F}': snicstats(isup=False, duplex=<NicDuplex.NIC_DUPLEX_FULL: 2>, speed=0, mtu=1280),\n",
       " 'isatap.{4D06A182-B74C-486A-80E0-B32CE2732669}': snicstats(isup=False, duplex=<NicDuplex.NIC_DUPLEX_FULL: 2>, speed=0, mtu=1280),\n",
       " '以太网': snicstats(isup=False, duplex=<NicDuplex.NIC_DUPLEX_FULL: 2>, speed=0, mtu=1500),\n",
       " '以太网 2': snicstats(isup=False, duplex=<NicDuplex.NIC_DUPLEX_FULL: 2>, speed=100, mtu=1500),\n",
       " '本地连接* 2': snicstats(isup=False, duplex=<NicDuplex.NIC_DUPLEX_FULL: 2>, speed=0, mtu=1500),\n",
       " '本地连接* 3': snicstats(isup=True, duplex=<NicDuplex.NIC_DUPLEX_FULL: 2>, speed=0, mtu=1472)}"
      ]
     },
     "execution_count": 23,
     "metadata": {},
     "output_type": "execute_result"
    }
   ],
   "source": [
    "psutil.net_if_stats()"
   ]
  },
  {
   "cell_type": "markdown",
   "metadata": {},
   "source": [
    "### 获取当前网络的连接信息"
   ]
  },
  {
   "cell_type": "code",
   "execution_count": 24,
   "metadata": {
    "ExecuteTime": {
     "end_time": "2018-04-01T15:41:25.071985Z",
     "start_time": "2018-04-01T15:41:25.059956Z"
    }
   },
   "outputs": [
    {
     "data": {
      "text/plain": [
       "[sconn(fd=-1, family=<AddressFamily.AF_INET6: 23>, type=1, laddr=('::', 49667), raddr=(), status='LISTEN', pid=1308),\n",
       " sconn(fd=-1, family=<AddressFamily.AF_INET: 2>, type=2, laddr=('127.0.0.1', 49720), raddr=(), status='NONE', pid=10324),\n",
       " sconn(fd=-1, family=<AddressFamily.AF_INET: 2>, type=2, laddr=('0.0.0.0', 64371), raddr=(), status='NONE', pid=2696),\n",
       " sconn(fd=-1, family=<AddressFamily.AF_INET6: 23>, type=2, laddr=('fe80::587a:6faa:3e6d:68f0', 2177), raddr=(), status='NONE', pid=2368),\n",
       " sconn(fd=-1, family=<AddressFamily.AF_INET: 2>, type=2, laddr=('127.0.0.1', 65505), raddr=(), status='NONE', pid=2648),\n",
       " sconn(fd=-1, family=<AddressFamily.AF_INET6: 23>, type=2, laddr=('::', 59469), raddr=(), status='NONE', pid=2648),\n",
       " sconn(fd=-1, family=<AddressFamily.AF_INET: 2>, type=1, laddr=('127.0.0.1', 60940), raddr=('127.0.0.1', 60941), status='ESTABLISHED', pid=15072),\n",
       " sconn(fd=-1, family=<AddressFamily.AF_INET: 2>, type=2, laddr=('10.70.77.67', 5353), raddr=(), status='NONE', pid=2212),\n",
       " sconn(fd=-1, family=<AddressFamily.AF_INET: 2>, type=2, laddr=('127.0.0.1', 49728), raddr=(), status='NONE', pid=5160),\n",
       " sconn(fd=-1, family=<AddressFamily.AF_INET: 2>, type=1, laddr=('127.0.0.1', 52950), raddr=('127.0.0.1', 52951), status='ESTABLISHED', pid=15072),\n",
       " sconn(fd=-1, family=<AddressFamily.AF_INET: 2>, type=1, laddr=('10.70.77.67', 139), raddr=(), status='LISTEN', pid=4),\n",
       " sconn(fd=-1, family=<AddressFamily.AF_INET: 2>, type=1, laddr=('10.70.77.67', 57129), raddr=('223.111.158.38', 80), status='CLOSE_WAIT', pid=14656),\n",
       " sconn(fd=-1, family=<AddressFamily.AF_INET: 2>, type=1, laddr=('127.0.0.1', 52992), raddr=('127.0.0.1', 52993), status='ESTABLISHED', pid=13676),\n",
       " sconn(fd=-1, family=<AddressFamily.AF_INET6: 23>, type=2, laddr=('fe80::6dbe:a031:a9a6:430c', 62934), raddr=(), status='NONE', pid=2368),\n",
       " sconn(fd=-1, family=<AddressFamily.AF_INET: 2>, type=2, laddr=('127.0.0.1', 1900), raddr=(), status='NONE', pid=2368),\n",
       " sconn(fd=-1, family=<AddressFamily.AF_INET: 2>, type=1, laddr=('127.0.0.1', 52966), raddr=('127.0.0.1', 52967), status='ESTABLISHED', pid=13676),\n",
       " sconn(fd=-1, family=<AddressFamily.AF_INET6: 23>, type=2, laddr=('::', 49947), raddr=(), status='NONE', pid=2368),\n",
       " sconn(fd=-1, family=<AddressFamily.AF_INET: 2>, type=1, laddr=('127.0.0.1', 28317), raddr=(), status='LISTEN', pid=2880),\n",
       " sconn(fd=-1, family=<AddressFamily.AF_INET: 2>, type=2, laddr=('192.168.56.1', 137), raddr=(), status='NONE', pid=4),\n",
       " sconn(fd=-1, family=<AddressFamily.AF_INET: 2>, type=1, laddr=('0.0.0.0', 49673), raddr=(), status='LISTEN', pid=776),\n",
       " sconn(fd=-1, family=<AddressFamily.AF_INET: 2>, type=2, laddr=('192.168.56.1', 5353), raddr=(), status='NONE', pid=2212),\n",
       " sconn(fd=-1, family=<AddressFamily.AF_INET: 2>, type=2, laddr=('192.168.56.1', 2177), raddr=(), status='NONE', pid=2368),\n",
       " sconn(fd=-1, family=<AddressFamily.AF_INET6: 23>, type=1, laddr=('::', 49673), raddr=(), status='LISTEN', pid=776),\n",
       " sconn(fd=-1, family=<AddressFamily.AF_INET: 2>, type=1, laddr=('127.0.0.1', 52963), raddr=('127.0.0.1', 52962), status='ESTABLISHED', pid=13676),\n",
       " sconn(fd=-1, family=<AddressFamily.AF_INET: 2>, type=1, laddr=('0.0.0.0', 47989), raddr=(), status='LISTEN', pid=10224),\n",
       " sconn(fd=-1, family=<AddressFamily.AF_INET6: 23>, type=1, laddr=('::', 7680), raddr=(), status='LISTEN', pid=1140),\n",
       " sconn(fd=-1, family=<AddressFamily.AF_INET: 2>, type=2, laddr=('127.0.0.1', 49725), raddr=(), status='NONE', pid=10324),\n",
       " sconn(fd=-1, family=<AddressFamily.AF_INET: 2>, type=1, laddr=('0.0.0.0', 5357), raddr=(), status='LISTEN', pid=4),\n",
       " sconn(fd=-1, family=<AddressFamily.AF_INET: 2>, type=1, laddr=('127.0.0.1', 52986), raddr=('127.0.0.1', 52985), status='ESTABLISHED', pid=13676),\n",
       " sconn(fd=-1, family=<AddressFamily.AF_INET: 2>, type=2, laddr=('0.0.0.0', 59468), raddr=(), status='NONE', pid=2648),\n",
       " sconn(fd=-1, family=<AddressFamily.AF_INET6: 23>, type=2, laddr=('::1', 5353), raddr=(), status='NONE', pid=2648),\n",
       " sconn(fd=-1, family=<AddressFamily.AF_INET: 2>, type=1, laddr=('127.0.0.1', 5354), raddr=(), status='LISTEN', pid=2212),\n",
       " sconn(fd=-1, family=<AddressFamily.AF_INET: 2>, type=2, laddr=('127.0.0.1', 49723), raddr=(), status='NONE', pid=10324),\n",
       " sconn(fd=-1, family=<AddressFamily.AF_INET: 2>, type=2, laddr=('0.0.0.0', 56476), raddr=(), status='NONE', pid=2564),\n",
       " sconn(fd=-1, family=<AddressFamily.AF_INET: 2>, type=1, laddr=('127.0.0.1', 53002), raddr=('127.0.0.1', 52944), status='ESTABLISHED', pid=15072),\n",
       " sconn(fd=-1, family=<AddressFamily.AF_INET: 2>, type=2, laddr=('10.70.77.67', 137), raddr=(), status='NONE', pid=4),\n",
       " sconn(fd=-1, family=<AddressFamily.AF_INET: 2>, type=2, laddr=('127.0.0.1', 58509), raddr=(), status='NONE', pid=10324),\n",
       " sconn(fd=-1, family=<AddressFamily.AF_INET: 2>, type=1, laddr=('127.0.0.1', 60946), raddr=('127.0.0.1', 60947), status='ESTABLISHED', pid=15072),\n",
       " sconn(fd=-1, family=<AddressFamily.AF_INET: 2>, type=2, laddr=('127.0.0.1', 59855), raddr=(), status='NONE', pid=4428),\n",
       " sconn(fd=-1, family=<AddressFamily.AF_INET: 2>, type=2, laddr=('127.0.0.1', 61933), raddr=(), status='NONE', pid=10932),\n",
       " sconn(fd=-1, family=<AddressFamily.AF_INET: 2>, type=2, laddr=('127.0.0.1', 48202), raddr=(), status='NONE', pid=10324),\n",
       " sconn(fd=-1, family=<AddressFamily.AF_INET: 2>, type=2, laddr=('0.0.0.0', 64015), raddr=(), status='NONE', pid=1256),\n",
       " sconn(fd=-1, family=<AddressFamily.AF_INET6: 23>, type=1, laddr=('::', 445), raddr=(), status='LISTEN', pid=4),\n",
       " sconn(fd=-1, family=<AddressFamily.AF_INET: 2>, type=2, laddr=('0.0.0.0', 3544), raddr=(), status='NONE', pid=1140),\n",
       " sconn(fd=-1, family=<AddressFamily.AF_INET6: 23>, type=1, laddr=('::', 49666), raddr=(), status='LISTEN', pid=1140),\n",
       " sconn(fd=-1, family=<AddressFamily.AF_INET: 2>, type=2, laddr=('10.70.77.67', 2177), raddr=(), status='NONE', pid=2368),\n",
       " sconn(fd=-1, family=<AddressFamily.AF_INET: 2>, type=1, laddr=('192.168.56.1', 139), raddr=(), status='LISTEN', pid=4),\n",
       " sconn(fd=-1, family=<AddressFamily.AF_INET: 2>, type=1, laddr=('127.0.0.1', 52960), raddr=('127.0.0.1', 52961), status='ESTABLISHED', pid=13676),\n",
       " sconn(fd=-1, family=<AddressFamily.AF_INET: 2>, type=2, laddr=('127.0.0.1', 64645), raddr=(), status='NONE', pid=5152),\n",
       " sconn(fd=-1, family=<AddressFamily.AF_INET: 2>, type=1, laddr=('127.0.0.1', 49850), raddr=(), status='LISTEN', pid=4428),\n",
       " sconn(fd=-1, family=<AddressFamily.AF_INET: 2>, type=1, laddr=('127.0.0.1', 52943), raddr=('127.0.0.1', 52999), status='ESTABLISHED', pid=13676),\n",
       " sconn(fd=-1, family=<AddressFamily.AF_INET: 2>, type=1, laddr=('127.0.0.1', 60941), raddr=('127.0.0.1', 60940), status='ESTABLISHED', pid=15072),\n",
       " sconn(fd=-1, family=<AddressFamily.AF_INET: 2>, type=1, laddr=('127.0.0.1', 52972), raddr=('127.0.0.1', 52973), status='ESTABLISHED', pid=13676),\n",
       " sconn(fd=-1, family=<AddressFamily.AF_INET: 2>, type=2, laddr=('127.0.0.1', 58506), raddr=(), status='NONE', pid=10224),\n",
       " sconn(fd=-1, family=<AddressFamily.AF_INET: 2>, type=1, laddr=('127.0.0.1', 52985), raddr=('127.0.0.1', 52986), status='ESTABLISHED', pid=13676),\n",
       " sconn(fd=-1, family=<AddressFamily.AF_INET6: 23>, type=2, laddr=('::', 4500), raddr=(), status='NONE', pid=1140),\n",
       " sconn(fd=-1, family=<AddressFamily.AF_INET: 2>, type=2, laddr=('127.0.0.1', 49724), raddr=(), status='NONE', pid=10324),\n",
       " sconn(fd=-1, family=<AddressFamily.AF_INET: 2>, type=2, laddr=('0.0.0.0', 50160), raddr=(), status='NONE', pid=2564),\n",
       " sconn(fd=-1, family=<AddressFamily.AF_INET: 2>, type=2, laddr=('0.0.0.0', 5355), raddr=(), status='NONE', pid=432),\n",
       " sconn(fd=-1, family=<AddressFamily.AF_INET: 2>, type=1, laddr=('127.0.0.1', 49752), raddr=('127.0.0.1', 65001), status='ESTABLISHED', pid=2648),\n",
       " sconn(fd=-1, family=<AddressFamily.AF_INET: 2>, type=1, laddr=('127.0.0.1', 8888), raddr=(), status='LISTEN', pid=15072),\n",
       " sconn(fd=-1, family=<AddressFamily.AF_INET: 2>, type=1, laddr=('127.0.0.1', 60894), raddr=('127.0.0.1', 60893), status='ESTABLISHED', pid=15072),\n",
       " sconn(fd=-1, family=<AddressFamily.AF_INET: 2>, type=1, laddr=('127.0.0.1', 52965), raddr=('127.0.0.1', 52964), status='ESTABLISHED', pid=13676),\n",
       " sconn(fd=-1, family=<AddressFamily.AF_INET: 2>, type=2, laddr=('0.0.0.0', 500), raddr=(), status='NONE', pid=1140),\n",
       " sconn(fd=-1, family=<AddressFamily.AF_INET: 2>, type=2, laddr=('0.0.0.0', 6666), raddr=(), status='NONE', pid=2564),\n",
       " sconn(fd=-1, family=<AddressFamily.AF_INET6: 23>, type=2, laddr=('::', 5355), raddr=(), status='NONE', pid=432),\n",
       " sconn(fd=-1, family=<AddressFamily.AF_INET: 2>, type=2, laddr=('127.0.0.1', 61934), raddr=(), status='NONE', pid=4428),\n",
       " sconn(fd=-1, family=<AddressFamily.AF_INET6: 23>, type=1, laddr=('::', 3306), raddr=(), status='LISTEN', pid=2588),\n",
       " sconn(fd=-1, family=<AddressFamily.AF_INET6: 23>, type=1, laddr=('::', 49665), raddr=(), status='LISTEN', pid=828),\n",
       " sconn(fd=-1, family=<AddressFamily.AF_INET: 2>, type=2, laddr=('0.0.0.0', 5353), raddr=(), status='NONE', pid=12672),\n",
       " sconn(fd=-1, family=<AddressFamily.AF_INET: 2>, type=2, laddr=('0.0.0.0', 4021), raddr=(), status='NONE', pid=14656),\n",
       " sconn(fd=-1, family=<AddressFamily.AF_INET: 2>, type=1, laddr=('127.0.0.1', 52983), raddr=('127.0.0.1', 52984), status='ESTABLISHED', pid=13676),\n",
       " sconn(fd=-1, family=<AddressFamily.AF_INET: 2>, type=1, laddr=('127.0.0.1', 53004), raddr=('127.0.0.1', 53003), status='ESTABLISHED', pid=13676),\n",
       " sconn(fd=-1, family=<AddressFamily.AF_INET: 2>, type=2, laddr=('10.70.77.67', 1900), raddr=(), status='NONE', pid=2368),\n",
       " sconn(fd=-1, family=<AddressFamily.AF_INET: 2>, type=1, laddr=('127.0.0.1', 57880), raddr=('127.0.0.1', 60886), status='SYN_SENT', pid=15072),\n",
       " sconn(fd=-1, family=<AddressFamily.AF_INET: 2>, type=1, laddr=('127.0.0.1', 52945), raddr=(), status='LISTEN', pid=13676),\n",
       " sconn(fd=-1, family=<AddressFamily.AF_INET: 2>, type=1, laddr=('127.0.0.1', 53000), raddr=('127.0.0.1', 53001), status='ESTABLISHED', pid=15072),\n",
       " sconn(fd=-1, family=<AddressFamily.AF_INET: 2>, type=1, laddr=('127.0.0.1', 57881), raddr=('127.0.0.1', 60885), status='SYN_SENT', pid=15072),\n",
       " sconn(fd=-1, family=<AddressFamily.AF_INET: 2>, type=1, laddr=('0.0.0.0', 7680), raddr=(), status='LISTEN', pid=1140),\n",
       " sconn(fd=-1, family=<AddressFamily.AF_INET6: 23>, type=1, laddr=('::1', 54671), raddr=('::1', 8888), status='ESTABLISHED', pid=12672),\n",
       " sconn(fd=-1, family=<AddressFamily.AF_INET: 2>, type=2, laddr=('127.0.0.1', 58508), raddr=(), status='NONE', pid=4428),\n",
       " sconn(fd=-1, family=<AddressFamily.AF_INET: 2>, type=1, laddr=('0.0.0.0', 49665), raddr=(), status='LISTEN', pid=828),\n",
       " sconn(fd=-1, family=<AddressFamily.AF_INET: 2>, type=1, laddr=('127.0.0.1', 60947), raddr=('127.0.0.1', 60946), status='ESTABLISHED', pid=15072),\n",
       " sconn(fd=-1, family=<AddressFamily.AF_INET: 2>, type=2, laddr=('0.0.0.0', 54049), raddr=(), status='NONE', pid=1256),\n",
       " sconn(fd=-1, family=<AddressFamily.AF_INET6: 23>, type=1, laddr=('::1', 8888), raddr=(), status='LISTEN', pid=15072),\n",
       " sconn(fd=-1, family=<AddressFamily.AF_INET: 2>, type=2, laddr=('127.0.0.1', 49721), raddr=(), status='NONE', pid=10324),\n",
       " sconn(fd=-1, family=<AddressFamily.AF_INET: 2>, type=1, laddr=('127.0.0.1', 60893), raddr=('127.0.0.1', 60894), status='ESTABLISHED', pid=15072),\n",
       " sconn(fd=-1, family=<AddressFamily.AF_INET: 2>, type=1, laddr=('10.70.77.67', 57837), raddr=('64.233.189.139', 443), status='SYN_SENT', pid=12672),\n",
       " sconn(fd=-1, family=<AddressFamily.AF_INET: 2>, type=1, laddr=('127.0.0.1', 52990), raddr=('127.0.0.1', 52989), status='ESTABLISHED', pid=13676),\n",
       " sconn(fd=-1, family=<AddressFamily.AF_INET6: 23>, type=2, laddr=('fe80::6dbe:a031:a9a6:430c', 2177), raddr=(), status='NONE', pid=2368),\n",
       " sconn(fd=-1, family=<AddressFamily.AF_INET: 2>, type=2, laddr=('127.0.0.1', 62939), raddr=(), status='NONE', pid=2368),\n",
       " sconn(fd=-1, family=<AddressFamily.AF_INET: 2>, type=1, laddr=('127.0.0.1', 52942), raddr=('127.0.0.1', 52996), status='ESTABLISHED', pid=13676),\n",
       " sconn(fd=-1, family=<AddressFamily.AF_INET: 2>, type=1, laddr=('0.0.0.0', 49667), raddr=(), status='LISTEN', pid=1308),\n",
       " sconn(fd=-1, family=<AddressFamily.AF_INET: 2>, type=2, laddr=('192.168.56.1', 5353), raddr=(), status='NONE', pid=2648),\n",
       " sconn(fd=-1, family=<AddressFamily.AF_INET6: 23>, type=1, laddr=('::', 135), raddr=(), status='LISTEN', pid=920),\n",
       " sconn(fd=-1, family=<AddressFamily.AF_INET: 2>, type=1, laddr=('127.0.0.1', 52943), raddr=('127.0.0.1', 52952), status='ESTABLISHED', pid=13676),\n",
       " sconn(fd=-1, family=<AddressFamily.AF_INET: 2>, type=2, laddr=('127.0.0.1', 48201), raddr=(), status='NONE', pid=4428),\n",
       " sconn(fd=-1, family=<AddressFamily.AF_INET: 2>, type=1, laddr=('127.0.0.1', 52971), raddr=('127.0.0.1', 52970), status='ESTABLISHED', pid=13676),\n",
       " sconn(fd=-1, family=<AddressFamily.AF_INET: 2>, type=1, laddr=('127.0.0.1', 52975), raddr=('127.0.0.1', 52974), status='ESTABLISHED', pid=13676),\n",
       " sconn(fd=-1, family=<AddressFamily.AF_INET: 2>, type=1, laddr=('127.0.0.1', 60889), raddr=('127.0.0.1', 60890), status='ESTABLISHED', pid=15072),\n",
       " sconn(fd=-1, family=<AddressFamily.AF_INET: 2>, type=1, laddr=('127.0.0.1', 52945), raddr=('127.0.0.1', 52949), status='ESTABLISHED', pid=13676),\n",
       " sconn(fd=-1, family=<AddressFamily.AF_INET6: 23>, type=1, laddr=('::1', 52953), raddr=('::1', 8888), status='ESTABLISHED', pid=12672),\n",
       " sconn(fd=-1, family=<AddressFamily.AF_INET: 2>, type=1, laddr=('127.0.0.1', 60890), raddr=('127.0.0.1', 60889), status='ESTABLISHED', pid=15072),\n",
       " sconn(fd=-1, family=<AddressFamily.AF_INET: 2>, type=2, laddr=('10.70.77.67', 138), raddr=(), status='NONE', pid=4),\n",
       " sconn(fd=-1, family=<AddressFamily.AF_INET: 2>, type=1, laddr=('127.0.0.1', 52969), raddr=('127.0.0.1', 52968), status='ESTABLISHED', pid=13676),\n",
       " sconn(fd=-1, family=<AddressFamily.AF_INET: 2>, type=2, laddr=('127.0.0.1', 49727), raddr=(), status='NONE', pid=10324),\n",
       " sconn(fd=-1, family=<AddressFamily.AF_INET: 2>, type=2, laddr=('10.70.77.67', 5353), raddr=(), status='NONE', pid=2648),\n",
       " sconn(fd=-1, family=<AddressFamily.AF_INET6: 23>, type=2, laddr=('::', 5353), raddr=(), status='NONE', pid=12672),\n",
       " sconn(fd=-1, family=<AddressFamily.AF_INET: 2>, type=1, laddr=('127.0.0.1', 52947), raddr=('127.0.0.1', 52948), status='ESTABLISHED', pid=15072),\n",
       " sconn(fd=-1, family=<AddressFamily.AF_INET: 2>, type=1, laddr=('127.0.0.1', 52968), raddr=('127.0.0.1', 52969), status='ESTABLISHED', pid=13676),\n",
       " sconn(fd=-1, family=<AddressFamily.AF_INET: 2>, type=1, laddr=('127.0.0.1', 52994), raddr=('127.0.0.1', 52995), status='ESTABLISHED', pid=15072),\n",
       " sconn(fd=-1, family=<AddressFamily.AF_INET: 2>, type=1, laddr=('127.0.0.1', 52988), raddr=('127.0.0.1', 52987), status='ESTABLISHED', pid=13676),\n",
       " sconn(fd=-1, family=<AddressFamily.AF_INET: 2>, type=1, laddr=('127.0.0.1', 52967), raddr=('127.0.0.1', 52966), status='ESTABLISHED', pid=13676),\n",
       " sconn(fd=-1, family=<AddressFamily.AF_INET: 2>, type=1, laddr=('10.70.77.67', 51999), raddr=('183.192.197.113', 80), status='CLOSE_WAIT', pid=14656),\n",
       " sconn(fd=-1, family=<AddressFamily.AF_INET: 2>, type=1, laddr=('127.0.0.1', 4300), raddr=(), status='LISTEN', pid=14656),\n",
       " sconn(fd=-1, family=<AddressFamily.AF_INET6: 23>, type=2, laddr=('fe80::6dbe:a031:a9a6:430c', 546), raddr=(), status='NONE', pid=828),\n",
       " sconn(fd=-1, family=<AddressFamily.AF_INET: 2>, type=2, laddr=('127.0.0.1', 61932), raddr=(), status='NONE', pid=10912),\n",
       " sconn(fd=-1, family=<AddressFamily.AF_INET: 2>, type=1, laddr=('127.0.0.1', 52997), raddr=('127.0.0.1', 52998), status='ESTABLISHED', pid=15072),\n",
       " sconn(fd=-1, family=<AddressFamily.AF_INET: 2>, type=1, laddr=('10.70.77.67', 57838), raddr=('64.233.189.139', 443), status='SYN_SENT', pid=12672),\n",
       " sconn(fd=-1, family=<AddressFamily.AF_INET: 2>, type=2, laddr=('10.70.77.67', 64803), raddr=(), status='NONE', pid=1140),\n",
       " sconn(fd=-1, family=<AddressFamily.AF_INET: 2>, type=1, laddr=('127.0.0.1', 52987), raddr=('127.0.0.1', 52988), status='ESTABLISHED', pid=13676),\n",
       " sconn(fd=-1, family=<AddressFamily.AF_INET: 2>, type=1, laddr=('0.0.0.0', 3306), raddr=(), status='LISTEN', pid=2588),\n",
       " sconn(fd=-1, family=<AddressFamily.AF_INET: 2>, type=1, laddr=('127.0.0.1', 52996), raddr=('127.0.0.1', 52942), status='ESTABLISHED', pid=15072),\n",
       " sconn(fd=-1, family=<AddressFamily.AF_INET: 2>, type=1, laddr=('127.0.0.1', 60892), raddr=('127.0.0.1', 60891), status='ESTABLISHED', pid=15072),\n",
       " sconn(fd=-1, family=<AddressFamily.AF_INET: 2>, type=2, laddr=('0.0.0.0', 5353), raddr=(), status='NONE', pid=432),\n",
       " sconn(fd=-1, family=<AddressFamily.AF_INET: 2>, type=2, laddr=('0.0.0.0', 3702), raddr=(), status='NONE', pid=2368),\n",
       " sconn(fd=-1, family=<AddressFamily.AF_INET: 2>, type=1, laddr=('127.0.0.1', 57879), raddr=('127.0.0.1', 60884), status='SYN_SENT', pid=15072),\n",
       " sconn(fd=-1, family=<AddressFamily.AF_INET6: 23>, type=2, laddr=('fe80::6dbe:a031:a9a6:430c', 1900), raddr=(), status='NONE', pid=2368),\n",
       " sconn(fd=-1, family=<AddressFamily.AF_INET: 2>, type=1, laddr=('127.0.0.1', 52949), raddr=('127.0.0.1', 52945), status='ESTABLISHED', pid=15072),\n",
       " sconn(fd=-1, family=<AddressFamily.AF_INET: 2>, type=1, laddr=('127.0.0.1', 49899), raddr=('127.0.0.1', 49850), status='ESTABLISHED', pid=10932),\n",
       " sconn(fd=-1, family=<AddressFamily.AF_INET: 2>, type=1, laddr=('10.70.77.67', 57865), raddr=('13.107.3.128', 443), status='ESTABLISHED', pid=2256),\n",
       " sconn(fd=-1, family=<AddressFamily.AF_INET: 2>, type=1, laddr=('127.0.0.1', 65000), raddr=(), status='LISTEN', pid=2648),\n",
       " sconn(fd=-1, family=<AddressFamily.AF_INET: 2>, type=1, laddr=('127.0.0.1', 52964), raddr=('127.0.0.1', 52965), status='ESTABLISHED', pid=13676),\n",
       " sconn(fd=-1, family=<AddressFamily.AF_INET: 2>, type=1, laddr=('127.0.0.1', 52993), raddr=('127.0.0.1', 52992), status='ESTABLISHED', pid=13676),\n",
       " sconn(fd=-1, family=<AddressFamily.AF_INET: 2>, type=1, laddr=('127.0.0.1', 52946), raddr=(), status='LISTEN', pid=13676),\n",
       " sconn(fd=-1, family=<AddressFamily.AF_INET: 2>, type=1, laddr=('127.0.0.1', 52984), raddr=('127.0.0.1', 52983), status='ESTABLISHED', pid=13676),\n",
       " sconn(fd=-1, family=<AddressFamily.AF_INET: 2>, type=2, laddr=('127.0.0.1', 59854), raddr=(), status='NONE', pid=4428),\n",
       " sconn(fd=-1, family=<AddressFamily.AF_INET6: 23>, type=2, laddr=('fe80::28e3:5b76:482c:ae26', 546), raddr=(), status='NONE', pid=828),\n",
       " sconn(fd=-1, family=<AddressFamily.AF_INET: 2>, type=2, laddr=('192.168.56.1', 1900), raddr=(), status='NONE', pid=2368),\n",
       " sconn(fd=-1, family=<AddressFamily.AF_INET: 2>, type=1, laddr=('127.0.0.1', 52973), raddr=('127.0.0.1', 52972), status='ESTABLISHED', pid=13676),\n",
       " sconn(fd=-1, family=<AddressFamily.AF_INET: 2>, type=2, laddr=('127.0.0.1', 61936), raddr=(), status='NONE', pid=4428),\n",
       " sconn(fd=-1, family=<AddressFamily.AF_INET: 2>, type=1, laddr=('127.0.0.1', 52948), raddr=('127.0.0.1', 52947), status='ESTABLISHED', pid=15072),\n",
       " sconn(fd=-1, family=<AddressFamily.AF_INET: 2>, type=1, laddr=('0.0.0.0', 49666), raddr=(), status='LISTEN', pid=1140),\n",
       " sconn(fd=-1, family=<AddressFamily.AF_INET6: 23>, type=1, laddr=('::1', 51123), raddr=(), status='LISTEN', pid=7672),\n",
       " sconn(fd=-1, family=<AddressFamily.AF_INET: 2>, type=1, laddr=('127.0.0.1', 60891), raddr=('127.0.0.1', 60892), status='ESTABLISHED', pid=15072),\n",
       " sconn(fd=-1, family=<AddressFamily.AF_INET6: 23>, type=2, laddr=('fe80::587a:6faa:3e6d:68f0', 546), raddr=(), status='NONE', pid=828),\n",
       " sconn(fd=-1, family=<AddressFamily.AF_INET: 2>, type=1, laddr=('127.0.0.1', 53003), raddr=('127.0.0.1', 53004), status='ESTABLISHED', pid=13676),\n",
       " sconn(fd=-1, family=<AddressFamily.AF_INET6: 23>, type=1, laddr=('::1', 8888), raddr=('::1', 54671), status='ESTABLISHED', pid=15072),\n",
       " sconn(fd=-1, family=<AddressFamily.AF_INET6: 23>, type=2, laddr=('::', 65504), raddr=(), status='NONE', pid=2212),\n",
       " sconn(fd=-1, family=<AddressFamily.AF_INET: 2>, type=1, laddr=('0.0.0.0', 445), raddr=(), status='LISTEN', pid=4),\n",
       " sconn(fd=-1, family=<AddressFamily.AF_INET: 2>, type=2, laddr=('0.0.0.0', 53336), raddr=(), status='NONE', pid=14656),\n",
       " sconn(fd=-1, family=<AddressFamily.AF_INET: 2>, type=1, laddr=('127.0.0.1', 10000), raddr=(), status='LISTEN', pid=7544),\n",
       " sconn(fd=-1, family=<AddressFamily.AF_INET: 2>, type=1, laddr=('127.0.0.1', 52942), raddr=(), status='LISTEN', pid=13676),\n",
       " sconn(fd=-1, family=<AddressFamily.AF_INET: 2>, type=1, laddr=('127.0.0.1', 52999), raddr=('127.0.0.1', 52943), status='ESTABLISHED', pid=15072),\n",
       " sconn(fd=-1, family=<AddressFamily.AF_INET: 2>, type=1, laddr=('127.0.0.1', 52944), raddr=(), status='LISTEN', pid=13676),\n",
       " sconn(fd=-1, family=<AddressFamily.AF_INET: 2>, type=1, laddr=('0.0.0.0', 135), raddr=(), status='LISTEN', pid=920),\n",
       " sconn(fd=-1, family=<AddressFamily.AF_INET: 2>, type=1, laddr=('127.0.0.1', 49850), raddr=('127.0.0.1', 49899), status='ESTABLISHED', pid=4428),\n",
       " sconn(fd=-1, family=<AddressFamily.AF_INET: 2>, type=1, laddr=('127.0.0.1', 52962), raddr=('127.0.0.1', 52963), status='ESTABLISHED', pid=13676),\n",
       " sconn(fd=-1, family=<AddressFamily.AF_INET: 2>, type=2, laddr=('0.0.0.0', 4500), raddr=(), status='NONE', pid=1140),\n",
       " sconn(fd=-1, family=<AddressFamily.AF_INET6: 23>, type=2, laddr=('::1', 1900), raddr=(), status='NONE', pid=2368),\n",
       " sconn(fd=-1, family=<AddressFamily.AF_INET: 2>, type=2, laddr=('0.0.0.0', 4020), raddr=(), status='NONE', pid=14656),\n",
       " sconn(fd=-1, family=<AddressFamily.AF_INET: 2>, type=2, laddr=('0.0.0.0', 57074), raddr=(), status='NONE', pid=14656),\n",
       " sconn(fd=-1, family=<AddressFamily.AF_INET: 2>, type=1, laddr=('127.0.0.1', 60943), raddr=('127.0.0.1', 60944), status='ESTABLISHED', pid=15072),\n",
       " sconn(fd=-1, family=<AddressFamily.AF_INET6: 23>, type=2, laddr=('::', 5353), raddr=(), status='NONE', pid=432),\n",
       " sconn(fd=-1, family=<AddressFamily.AF_INET: 2>, type=1, laddr=('127.0.0.1', 52982), raddr=('127.0.0.1', 52981), status='ESTABLISHED', pid=13676),\n",
       " sconn(fd=-1, family=<AddressFamily.AF_INET: 2>, type=1, laddr=('0.0.0.0', 49671), raddr=(), status='LISTEN', pid=768),\n",
       " sconn(fd=-1, family=<AddressFamily.AF_INET6: 23>, type=1, laddr=('::', 49664), raddr=(), status='LISTEN', pid=692),\n",
       " sconn(fd=-1, family=<AddressFamily.AF_INET: 2>, type=2, laddr=('127.0.0.1', 64646), raddr=(), status='NONE', pid=5160),\n",
       " sconn(fd=-1, family=<AddressFamily.AF_INET: 2>, type=1, laddr=('10.70.77.67', 58193), raddr=('108.177.125.188', 5228), status='ESTABLISHED', pid=12672),\n",
       " sconn(fd=-1, family=<AddressFamily.AF_INET: 2>, type=2, laddr=('0.0.0.0', 49750), raddr=(), status='NONE', pid=14656),\n",
       " sconn(fd=-1, family=<AddressFamily.AF_INET6: 23>, type=2, laddr=('fe80::587a:6faa:3e6d:68f0', 1900), raddr=(), status='NONE', pid=2368),\n",
       " sconn(fd=-1, family=<AddressFamily.AF_INET: 2>, type=2, laddr=('127.0.0.1', 49722), raddr=(), status='NONE', pid=10324),\n",
       " sconn(fd=-1, family=<AddressFamily.AF_INET: 2>, type=1, laddr=('127.0.0.1', 52952), raddr=('127.0.0.1', 52943), status='ESTABLISHED', pid=15072),\n",
       " sconn(fd=-1, family=<AddressFamily.AF_INET: 2>, type=2, laddr=('0.0.0.0', 6725), raddr=(), status='NONE', pid=2564),\n",
       " sconn(fd=-1, family=<AddressFamily.AF_INET: 2>, type=1, laddr=('127.0.0.1', 53001), raddr=('127.0.0.1', 53000), status='ESTABLISHED', pid=15072),\n",
       " sconn(fd=-1, family=<AddressFamily.AF_INET: 2>, type=1, laddr=('127.0.0.1', 52944), raddr=('127.0.0.1', 53002), status='ESTABLISHED', pid=13676),\n",
       " sconn(fd=-1, family=<AddressFamily.AF_INET6: 23>, type=1, laddr=('::', 49671), raddr=(), status='LISTEN', pid=768),\n",
       " sconn(fd=-1, family=<AddressFamily.AF_INET6: 23>, type=2, laddr=('fe80::587a:6faa:3e6d:68f0', 62935), raddr=(), status='NONE', pid=2368),\n",
       " sconn(fd=-1, family=<AddressFamily.AF_INET: 2>, type=1, laddr=('127.0.0.1', 52974), raddr=('127.0.0.1', 52975), status='ESTABLISHED', pid=13676),\n",
       " sconn(fd=-1, family=<AddressFamily.AF_INET: 2>, type=1, laddr=('127.0.0.1', 65001), raddr=('127.0.0.1', 49752), status='ESTABLISHED', pid=2648),\n",
       " sconn(fd=-1, family=<AddressFamily.AF_INET: 2>, type=1, laddr=('127.0.0.1', 4301), raddr=(), status='LISTEN', pid=14656),\n",
       " sconn(fd=-1, family=<AddressFamily.AF_INET: 2>, type=2, laddr=('127.0.0.1', 49726), raddr=(), status='NONE', pid=10324),\n",
       " sconn(fd=-1, family=<AddressFamily.AF_INET6: 23>, type=2, laddr=('::1', 62936), raddr=(), status='NONE', pid=2368),\n",
       " sconn(fd=-1, family=<AddressFamily.AF_INET: 2>, type=2, laddr=('10.70.77.67', 62938), raddr=(), status='NONE', pid=2368),\n",
       " sconn(fd=-1, family=<AddressFamily.AF_INET: 2>, type=2, laddr=('127.0.0.1', 58505), raddr=(), status='NONE', pid=10224),\n",
       " sconn(fd=-1, family=<AddressFamily.AF_INET: 2>, type=1, laddr=('127.0.0.1', 27077), raddr=(), status='LISTEN', pid=7472),\n",
       " sconn(fd=-1, family=<AddressFamily.AF_INET: 2>, type=1, laddr=('0.0.0.0', 48010), raddr=(), status='LISTEN', pid=10224),\n",
       " sconn(fd=-1, family=<AddressFamily.AF_INET: 2>, type=1, laddr=('127.0.0.1', 52961), raddr=('127.0.0.1', 52960), status='ESTABLISHED', pid=13676),\n",
       " sconn(fd=-1, family=<AddressFamily.AF_INET: 2>, type=1, laddr=('127.0.0.1', 52977), raddr=('127.0.0.1', 52976), status='ESTABLISHED', pid=13676),\n",
       " sconn(fd=-1, family=<AddressFamily.AF_INET6: 23>, type=1, laddr=('::1', 8888), raddr=('::1', 52953), status='ESTABLISHED', pid=15072),\n",
       " sconn(fd=-1, family=<AddressFamily.AF_INET: 2>, type=2, laddr=('0.0.0.0', 49946), raddr=(), status='NONE', pid=2368),\n",
       " sconn(fd=-1, family=<AddressFamily.AF_INET: 2>, type=2, laddr=('0.0.0.0', 65503), raddr=(), status='NONE', pid=2212),\n",
       " sconn(fd=-1, family=<AddressFamily.AF_INET: 2>, type=1, laddr=('127.0.0.1', 60752), raddr=('127.0.0.1', 60751), status='ESTABLISHED', pid=15072),\n",
       " sconn(fd=-1, family=<AddressFamily.AF_INET: 2>, type=1, laddr=('127.0.0.1', 60944), raddr=('127.0.0.1', 60943), status='ESTABLISHED', pid=15072),\n",
       " sconn(fd=-1, family=<AddressFamily.AF_INET: 2>, type=2, laddr=('127.0.0.1', 65507), raddr=(), status='NONE', pid=2648),\n",
       " sconn(fd=-1, family=<AddressFamily.AF_INET: 2>, type=2, laddr=('0.0.0.0', 6708), raddr=(), status='NONE', pid=2564),\n",
       " sconn(fd=-1, family=<AddressFamily.AF_INET6: 23>, type=2, laddr=('::1', 5353), raddr=(), status='NONE', pid=2212),\n",
       " sconn(fd=-1, family=<AddressFamily.AF_INET: 2>, type=1, laddr=('127.0.0.1', 52979), raddr=('127.0.0.1', 52980), status='ESTABLISHED', pid=13676),\n",
       " sconn(fd=-1, family=<AddressFamily.AF_INET: 2>, type=1, laddr=('10.70.77.67', 59234), raddr=('223.252.199.69', 6003), status='ESTABLISHED', pid=7232),\n",
       " sconn(fd=-1, family=<AddressFamily.AF_INET6: 23>, type=2, laddr=('::', 3702), raddr=(), status='NONE', pid=2368),\n",
       " sconn(fd=-1, family=<AddressFamily.AF_INET: 2>, type=1, laddr=('127.0.0.1', 52976), raddr=('127.0.0.1', 52977), status='ESTABLISHED', pid=13676),\n",
       " sconn(fd=-1, family=<AddressFamily.AF_INET: 2>, type=1, laddr=('10.70.77.67', 57568), raddr=('52.138.216.83', 443), status='TIME_WAIT', pid=0),\n",
       " sconn(fd=-1, family=<AddressFamily.AF_INET: 2>, type=2, laddr=('0.0.0.0', 49751), raddr=(), status='NONE', pid=14656),\n",
       " sconn(fd=-1, family=<AddressFamily.AF_INET: 2>, type=2, laddr=('127.0.0.1', 65506), raddr=(), status='NONE', pid=2648),\n",
       " sconn(fd=-1, family=<AddressFamily.AF_INET: 2>, type=1, laddr=('127.0.0.1', 52978), raddr=(), status='LISTEN', pid=13676),\n",
       " sconn(fd=-1, family=<AddressFamily.AF_INET6: 23>, type=2, laddr=('::', 500), raddr=(), status='NONE', pid=1140),\n",
       " sconn(fd=-1, family=<AddressFamily.AF_INET: 2>, type=2, laddr=('192.168.56.1', 62937), raddr=(), status='NONE', pid=2368),\n",
       " sconn(fd=-1, family=<AddressFamily.AF_INET: 2>, type=2, laddr=('192.168.56.1', 138), raddr=(), status='NONE', pid=4),\n",
       " sconn(fd=-1, family=<AddressFamily.AF_INET: 2>, type=1, laddr=('127.0.0.1', 52998), raddr=('127.0.0.1', 52997), status='ESTABLISHED', pid=15072),\n",
       " sconn(fd=-1, family=<AddressFamily.AF_INET: 2>, type=1, laddr=('127.0.0.1', 52980), raddr=('127.0.0.1', 52979), status='ESTABLISHED', pid=13676),\n",
       " sconn(fd=-1, family=<AddressFamily.AF_INET: 2>, type=2, laddr=('127.0.0.1', 65000), raddr=(), status='NONE', pid=2648),\n",
       " sconn(fd=-1, family=<AddressFamily.AF_INET: 2>, type=1, laddr=('127.0.0.1', 52995), raddr=('127.0.0.1', 52994), status='ESTABLISHED', pid=15072),\n",
       " sconn(fd=-1, family=<AddressFamily.AF_INET: 2>, type=1, laddr=('127.0.0.1', 52943), raddr=(), status='LISTEN', pid=13676),\n",
       " sconn(fd=-1, family=<AddressFamily.AF_INET: 2>, type=1, laddr=('127.0.0.1', 52981), raddr=('127.0.0.1', 52982), status='ESTABLISHED', pid=13676),\n",
       " sconn(fd=-1, family=<AddressFamily.AF_INET: 2>, type=1, laddr=('127.0.0.1', 52989), raddr=('127.0.0.1', 52990), status='ESTABLISHED', pid=13676),\n",
       " sconn(fd=-1, family=<AddressFamily.AF_INET: 2>, type=1, laddr=('127.0.0.1', 65001), raddr=(), status='LISTEN', pid=2648),\n",
       " sconn(fd=-1, family=<AddressFamily.AF_INET: 2>, type=2, laddr=('127.0.0.1', 53541), raddr=(), status='NONE', pid=10324),\n",
       " sconn(fd=-1, family=<AddressFamily.AF_INET: 2>, type=1, laddr=('0.0.0.0', 49664), raddr=(), status='LISTEN', pid=692),\n",
       " sconn(fd=-1, family=<AddressFamily.AF_INET6: 23>, type=1, laddr=('::', 5357), raddr=(), status='LISTEN', pid=4),\n",
       " sconn(fd=-1, family=<AddressFamily.AF_INET: 2>, type=1, laddr=('0.0.0.0', 47984), raddr=(), status='LISTEN', pid=10224),\n",
       " sconn(fd=-1, family=<AddressFamily.AF_INET: 2>, type=2, laddr=('127.0.0.1', 58507), raddr=(), status='NONE', pid=10224),\n",
       " sconn(fd=-1, family=<AddressFamily.AF_INET: 2>, type=1, laddr=('127.0.0.1', 52970), raddr=('127.0.0.1', 52971), status='ESTABLISHED', pid=13676),\n",
       " sconn(fd=-1, family=<AddressFamily.AF_INET: 2>, type=1, laddr=('127.0.0.1', 60751), raddr=('127.0.0.1', 60752), status='ESTABLISHED', pid=15072),\n",
       " sconn(fd=-1, family=<AddressFamily.AF_INET: 2>, type=1, laddr=('127.0.0.1', 52951), raddr=('127.0.0.1', 52950), status='ESTABLISHED', pid=15072),\n",
       " sconn(fd=-1, family=<AddressFamily.AF_INET: 2>, type=1, laddr=('127.0.0.1', 15292), raddr=(), status='LISTEN', pid=9540)]"
      ]
     },
     "execution_count": 24,
     "metadata": {},
     "output_type": "execute_result"
    }
   ],
   "source": [
    "psutil.net_connections()"
   ]
  },
  {
   "cell_type": "markdown",
   "metadata": {},
   "source": [
    "## 获取进程信息"
   ]
  },
  {
   "cell_type": "markdown",
   "metadata": {},
   "source": [
    "### 获取所有进程ID"
   ]
  },
  {
   "cell_type": "code",
   "execution_count": 25,
   "metadata": {
    "ExecuteTime": {
     "end_time": "2018-04-01T15:42:54.755938Z",
     "start_time": "2018-04-01T15:42:54.746913Z"
    }
   },
   "outputs": [
    {
     "data": {
      "text/plain": [
       "[0,\n",
       " 4,\n",
       " 372,\n",
       " 580,\n",
       " 692,\n",
       " 700,\n",
       " 768,\n",
       " 776,\n",
       " 864,\n",
       " 920,\n",
       " 1008,\n",
       " 432,\n",
       " 616,\n",
       " 828,\n",
       " 960,\n",
       " 1052,\n",
       " 1140,\n",
       " 1196,\n",
       " 1316,\n",
       " 1344,\n",
       " 1352,\n",
       " 1568,\n",
       " 1612,\n",
       " 1676,\n",
       " 1768,\n",
       " 1828,\n",
       " 1308,\n",
       " 2212,\n",
       " 2220,\n",
       " 2228,\n",
       " 2236,\n",
       " 2244,\n",
       " 2256,\n",
       " 2264,\n",
       " 2336,\n",
       " 2368,\n",
       " 2380,\n",
       " 2408,\n",
       " 2436,\n",
       " 2500,\n",
       " 2516,\n",
       " 2564,\n",
       " 2588,\n",
       " 2596,\n",
       " 2648,\n",
       " 2660,\n",
       " 2676,\n",
       " 2696,\n",
       " 2724,\n",
       " 2748,\n",
       " 2772,\n",
       " 2812,\n",
       " 2880,\n",
       " 2944,\n",
       " 2188,\n",
       " 4180,\n",
       " 4440,\n",
       " 5052,\n",
       " 5152,\n",
       " 5160,\n",
       " 5236,\n",
       " 5288,\n",
       " 5408,\n",
       " 5444,\n",
       " 5608,\n",
       " 5628,\n",
       " 5648,\n",
       " 6024,\n",
       " 6448,\n",
       " 4428,\n",
       " 4432,\n",
       " 1256,\n",
       " 6212,\n",
       " 6552,\n",
       " 4160,\n",
       " 7272,\n",
       " 7472,\n",
       " 7544,\n",
       " 7664,\n",
       " 8508,\n",
       " 8676,\n",
       " 8864,\n",
       " 8976,\n",
       " 9188,\n",
       " 9292,\n",
       " 9540,\n",
       " 10232,\n",
       " 9344,\n",
       " 8720,\n",
       " 8732,\n",
       " 5068,\n",
       " 9996,\n",
       " 10224,\n",
       " 10324,\n",
       " 10912,\n",
       " 10932,\n",
       " 6380,\n",
       " 764,\n",
       " 1432,\n",
       " 804,\n",
       " 7672,\n",
       " 9200,\n",
       " 1624,\n",
       " 3216,\n",
       " 412,\n",
       " 11020,\n",
       " 5192,\n",
       " 12672,\n",
       " 12536,\n",
       " 11568,\n",
       " 9412,\n",
       " 8236,\n",
       " 13188,\n",
       " 13116,\n",
       " 12816,\n",
       " 13260,\n",
       " 9124,\n",
       " 12880,\n",
       " 13024,\n",
       " 8932,\n",
       " 13708,\n",
       " 13964,\n",
       " 14076,\n",
       " 14616,\n",
       " 14936,\n",
       " 14564,\n",
       " 7232,\n",
       " 12344,\n",
       " 1040,\n",
       " 14276,\n",
       " 15192,\n",
       " 2464,\n",
       " 14152,\n",
       " 14456,\n",
       " 15072,\n",
       " 14004,\n",
       " 6440,\n",
       " 14656,\n",
       " 15344,\n",
       " 15956,\n",
       " 13676,\n",
       " 13872,\n",
       " 12380]"
      ]
     },
     "execution_count": 25,
     "metadata": {},
     "output_type": "execute_result"
    }
   ],
   "source": [
    "psutil.pids()"
   ]
  },
  {
   "cell_type": "code",
   "execution_count": 29,
   "metadata": {
    "ExecuteTime": {
     "end_time": "2018-04-01T15:45:45.106922Z",
     "start_time": "2018-04-01T15:45:45.101443Z"
    }
   },
   "outputs": [],
   "source": [
    "p = psutil.Process(4180)"
   ]
  },
  {
   "cell_type": "code",
   "execution_count": 30,
   "metadata": {
    "ExecuteTime": {
     "end_time": "2018-04-01T15:45:45.464814Z",
     "start_time": "2018-04-01T15:45:45.459830Z"
    }
   },
   "outputs": [
    {
     "data": {
      "text/plain": [
       "'svchost.exe'"
      ]
     },
     "execution_count": 30,
     "metadata": {},
     "output_type": "execute_result"
    }
   ],
   "source": [
    "p.name()"
   ]
  },
  {
   "cell_type": "code",
   "execution_count": 35,
   "metadata": {
    "ExecuteTime": {
     "end_time": "2018-04-01T15:46:26.134826Z",
     "start_time": "2018-04-01T15:46:26.124327Z"
    }
   },
   "outputs": [
    {
     "data": {
      "text/plain": [
       "[]"
      ]
     },
     "execution_count": 35,
     "metadata": {},
     "output_type": "execute_result"
    }
   ],
   "source": [
    "p.children()"
   ]
  },
  {
   "cell_type": "markdown",
   "metadata": {},
   "source": [
    "## test()函数模拟出ps命令的效果"
   ]
  },
  {
   "cell_type": "code",
   "execution_count": 36,
   "metadata": {
    "ExecuteTime": {
     "end_time": "2018-04-01T15:47:10.938485Z",
     "start_time": "2018-04-01T15:47:10.355269Z"
    }
   },
   "outputs": [
    {
     "name": "stdout",
     "output_type": "stream",
     "text": [
      "USER         PID %MEM     VSZ     RSS TTY           START    TIME  COMMAND\n",
      "SYSTEM         0    ?       ?       4 ?             08:48   04:53  System Idle Process\n",
      "SYSTEM         4    ?     124     404 ?             08:48   17:21  System\n",
      "             372    ?     364    1140 ?             08:48   00:00  smss.exe\n",
      "             412  0.1    3444   11012 ?             13:05   00:00  MpCmdRun.exe\n",
      "             432  0.1   10716   24248 ?             08:48   00:25  svchost.exe\n",
      "             580    ?    1420    4888 ?             08:48   00:01  csrss.exe\n",
      "             616  0.2   15384   32164 ?             08:48   00:04  svchost.exe\n",
      "             692    ?    1012    5408 ?             08:48   00:00  wininit.exe\n",
      "             700  0.2    2540   36524 ?             08:48   01:20  csrss.exe\n",
      "Jackdong     764    ?    8376    6024 ?             08:49   00:02  SettingSyncHost.exe\n",
      "             768    ?    3372    7612 ?             08:48   00:02  services.exe\n",
      "             776  0.1    6224   17436 ?             08:48   00:06  lsass.exe\n",
      "             804  0.3   32140   45392 ?             08:50   00:01  IAStorDataMgrSvc.exe\n",
      "             828  0.2   16848   28980 ?             08:48   00:11  svchost.exe\n",
      "             864  0.1    6600   19940 ?             08:48   00:04  svchost.exe\n",
      "             920  0.1    4508    9664 ?             08:48   00:12  svchost.exe\n",
      "             960  0.5   67952   78788 ?             08:48   13:08  dwm.exe\n",
      "            1008  0.1    2424   11296 ?             08:48   00:00  winlogon.exe\n",
      "Jackdong    1040  0.3  101804   49000 ?             21:29   01:10  cloudmusic.exe\n",
      "            1052  0.2    9780   25680 ?             08:48   00:19  svchost.exe\n",
      "            1140  0.3   21152   52196 ?             08:48   00:23  svchost.exe\n",
      "            1196  0.2   24636   35092 ?             08:48   00:00  WUDFHost.exe\n",
      "Jackdong    1256  0.2   31132   28296 ?             08:48   00:17  CalendarMain.exe\n",
      "            1308  0.1    5348   14516 ?             08:48   00:00  spoolsv.exe\n",
      "            1316    ?    1368    7544 ?             08:48   00:00  igfxCUIService.exe\n",
      "            1344  0.1   13104   22856 ?             08:48   00:07  svchost.exe\n",
      "            1352  0.1    2452   10300 ?             08:48   00:00  NVDisplay.Container.exe\n",
      "            1432  0.3   45428   53772 ?             08:50   00:02  HPSupportSolutionsFrameworkService.exe\n",
      "            1568    ?    1508    7476 ?             08:48   00:00  WUDFHost.exe\n",
      "            1612  0.2   23476   40360 ?             08:48   00:03  NVDisplay.Container.exe\n",
      "Jackdong    1624  1.2   74292  196328 ?             09:49   01:48  explorer.exe\n",
      "            1676    ?    1520    6892 ?             08:48   00:00  IntelCpHeciSvc.exe\n",
      "            1768    ?     856    4424 ?             08:48   00:00  hpservice.exe\n",
      "            1828    ?    1720    7988 ?             08:48   00:00  RtkAudioService64.exe\n",
      "            2188    ?     864    4644 ?             08:48   00:00  dasHost.exe\n",
      "            2212    ?    1640    6292 ?             08:48   00:00  mDNSResponder.exe\n",
      "            2220  0.1    2288    9216 ?             08:48   00:00  CooCareService.exe\n",
      "            2228  0.1    3696    9980 ?             08:48   00:00  svchost.exe\n",
      "            2236  0.2    8844   27492 ?             08:48   00:04  svchost.exe\n",
      "            2244    ?    1856    8180 ?             08:48   00:00  AdobeUpdateService.exe\n",
      "            2256  0.3   28536   54536 ?             08:48   00:01  OfficeClickToRun.exe\n",
      "            2264  0.1    3708   13880 ?             08:48   00:00  AGSService.exe\n",
      "            2336    ?    1384    6032 ?             08:48   00:00  esif_uf.exe\n",
      "            2368  0.1    4136   11504 ?             08:48   00:02  svchost.exe\n",
      "            2380  0.1   19880   21080 ?             08:48   00:00  HPCommRecovery.exe\n",
      "            2408    ?    1120    5676 ?             08:48   00:00  HPWMISVC.exe\n",
      "            2436    ?     820    4688 ?             08:48   00:00  ibtsiva.exe\n",
      "Jackdong    2464    ?     304    1948 ?             22:19   00:00  jupyter.exe\n",
      "            2500  0.1    3268   11076 ?             08:48   00:00  svchost.exe\n",
      "            2516  0.1    7672   12476 ?             08:48   00:00  IpOverUsbSvc.exe\n",
      "            2564  0.1    5200   12908 ?             08:48   00:00  DtlTimeSvr.exe\n",
      "            2588  1.0  174316  161840 ?             08:48   00:00  mysqld.exe\n",
      "            2596    ?    1652    8008 ?             08:48   00:00  svchost.exe\n",
      "            2648  0.2   10880   27732 ?             08:48   00:04  nvcontainer.exe\n",
      "            2660    ?    1828    6596 ?             08:48   00:01  Everything.exe\n",
      "            2676  0.1    7172   15784 ?             08:48   00:00  NvTelemetryContainer.exe\n",
      "            2696  0.1   17388   21132 ?             08:48   00:01  QQProtect.exe\n",
      "            2724  0.1    5168   18768 ?             08:48   00:05  svchost.exe\n",
      "            2748    ?    1112    5028 ?             08:48   00:00  SynTPEnhService.exe\n",
      "            2772    ?    1580    7144 ?             08:48   00:00  sqlwriter.exe\n",
      "            2812  1.3  142652  215032 ?             08:48   06:54  MsMpEng.exe\n",
      "            2880  0.1    7596   18112 ?             08:48   00:00  svchost.exe\n",
      "            2944  0.1    6140   13976 ?             08:48   00:00  RAVBg64.exe\n",
      "Jackdong    3216  0.5   38344   87320 ?             09:49   00:07  ShellExperienceHost.exe\n",
      "Jackdong    4160  0.3   34256   44596 ?             08:48   00:01  RtkNGUI64.exe\n",
      "            4180    ?    1464    6464 ?             08:48   00:01  svchost.exe\n",
      "Jackdong    4428  0.1   31884   16396 ?             08:48   00:04  NVIDIA Web Helper.exe\n",
      "Jackdong    4432    ?   10216     476 ?             08:48   00:00  conhost.exe\n",
      "            4440  0.1    8292   16272 ?             08:48   00:09  WmiPrvSE.exe\n",
      "            5052  0.1   12528   11672 ?             08:48   02:24  NisSrv.exe\n",
      "Jackdong    5068    ?    2168     784 ?             08:48   00:00  CoolSense.exe\n",
      "Jackdong    5152  0.1    5336   21980 ?             08:48   00:00  nvcontainer.exe\n",
      "Jackdong    5160  0.2   24560   40064 ?             08:48   00:11  nvcontainer.exe\n",
      "            5192  0.2   34884   40976 ?             19:31   09:19  audiodg.exe\n",
      "Jackdong    5236    ?     972    3508 ?             08:48   00:00  esif_assist_64.exe\n",
      "Jackdong    5288  0.1    4460   20692 ?             08:48   00:00  sihost.exe\n",
      "            5408  0.1   26380   21332 ?             08:48   00:00  PresentationFontCache.exe\n",
      "Jackdong    5444  0.1    6268   17032 ?             08:48   00:01  taskhostw.exe\n",
      "Jackdong    5608  0.2    8740   25484 ?             08:48   00:02  igfxEM.exe\n",
      "Jackdong    5628  0.1    6276   20292 ?             08:48   00:27  SynTPEnh.exe\n",
      "Jackdong    5648  0.2    8488   29040 ?             08:48   00:04  RuntimeBroker.exe\n",
      "            6024    ?     752    3984 ?             08:48   00:00  SynTPHelper.exe\n",
      "            6212    ?    1448    1228 ?             08:48   00:00  GoogleCrashHandler.exe\n",
      "Jackdong    6380  0.5   62596   76284 ?             08:48   00:04  NVIDIA Share.exe\n",
      "Jackdong    6440  0.9  116316  144600 ?             22:58   00:24  Everything.exe\n",
      "Jackdong    6448  0.2   10324   30596 ?             08:48   00:00  ApplicationFrameHost.exe\n",
      "            6552    ?    1348     496 ?             08:48   00:00  GoogleCrashHandler64.exe\n",
      "Jackdong    7232  0.6   51588   93952 ?             21:29   01:40  cloudmusic.exe\n",
      "Jackdong    7272  0.2    8380   26464 ?             08:48   00:03  HuYanBao.exe\n",
      "Jackdong    7472  0.1    2708   11836 ?             08:48   00:00  appnhost.exe\n",
      "Jackdong    7544  0.1    5432   12280 ?             08:48   00:00  yundetectservice.exe\n",
      "Jackdong    7664  0.4   40312   60680 ?             08:48   00:04  jetbrains-toolbox.exe\n",
      "            7672    ?    1144    5964 ?             08:50   00:00  jhi_service.exe\n",
      "Jackdong    8236  0.5   50120   85912 ?             21:00   00:13  chrome.exe\n",
      "Jackdong    8508    ?    2196    3464 ?             08:48   00:00  ONENOTEM.EXE\n",
      "Jackdong    8676    ?    1656    8252 ?             08:48   00:00  HPRadioMgr64.exe\n",
      "Jackdong    8720  0.3   42376   56324 ?             08:48   00:05  node.exe\n",
      "Jackdong    8732  0.1   10076    8848 ?             08:48   00:00  conhost.exe\n",
      "            8864  0.1    2508    8564 ?             08:48   00:00  WmiPrvSE.exe\n",
      "Jackdong    8932  0.3   32224   46964 ?             21:00   00:02  chrome.exe\n",
      "Jackdong    8976  0.1    2908   13024 ?             08:48   00:00  liveupd.exe\n",
      "Jackdong    9124  0.9  128492  141888 ?             21:00   00:14  chrome.exe\n",
      "Jackdong    9188  0.1    3232    9504 ?             08:48   00:05  AdobeIPCBroker.exe\n",
      "Jackdong    9200  0.2    7540   33056 ?             08:50   00:00  svchost.exe\n",
      "Jackdong    9292    ?    1668    3604 ?             08:48   00:00  AccelerometerSt.exe\n",
      "Jackdong    9344    ?     436    2712 ?             08:48   00:00  CCXProcess.exe\n",
      "Jackdong    9412  1.3  205760  223992 ?             21:00   03:47  chrome.exe\n",
      "Jackdong    9540  0.4   37764   68408 ?             08:48   00:18  Adobe Desktop Service.exe\n",
      "            9996  0.1    1696    8492 ?             08:48   00:00  hpqwmiex.exe\n",
      "           10224  0.2    9820   25172 ?             08:48   00:02  nvcontainer.exe\n",
      "Jackdong   10232  0.2    8572   28412 ?             08:48   00:03  CoreSync.exe\n",
      "           10324  0.3   33080   56940 ?             08:48   00:05  nvcontainer.exe\n",
      "           10912  0.1    2596   11764 ?             08:48   00:01  nvsphelper64.exe\n",
      "Jackdong   10932  0.5   46516   84464 ?             08:48   00:05  NVIDIA Share.exe\n",
      "           11020    ?    1332    3816 ?             16:13   00:00  fontdrvhost.exe\n",
      "Jackdong   11568    ?    1572    7624 ?             21:00   00:00  chrome.exe\n",
      "Jackdong   12344  0.5   63688   79472 ?             21:29   00:25  cloudmusic.exe\n",
      "Jackdong   12536    ?    1732    7296 ?             21:00   00:00  chrome.exe\n",
      "Jackdong   12672  1.6  126024  269400 ?             21:00   05:04  chrome.exe\n",
      "Jackdong   12816  0.5   67740   77676 ?             21:00   00:07  chrome.exe\n",
      "Jackdong   12880  0.4   45196   71148 ?             21:00   00:07  chrome.exe\n",
      "Jackdong   13024  0.3   40884   56924 ?             21:00   00:14  chrome.exe\n",
      "Jackdong   13116  0.4   45968   71120 ?             21:00   00:34  chrome.exe\n",
      "Jackdong   13188  0.3   39312   52112 ?             21:00   00:05  chrome.exe\n",
      "Jackdong   13260  0.4   53736   67596 ?             21:00   00:07  chrome.exe\n",
      "Jackdong   13676  0.4   58008   68892 ?             23:11   00:05  python.exe\n",
      "           13684  0.1    2204   10336 ?             23:44   00:00  GoogleUpdate.exe\n",
      "Jackdong   13708  0.2   23432   38880 ?             21:00   00:00  chrome.exe\n",
      "Jackdong   13872  0.1    5112    8464 ?             23:36   00:00  SogouCloud.exe\n",
      "Jackdong   13964  0.1    5080   11720 ?             21:07   00:00  chrome.exe\n",
      "Jackdong   14004  0.4   37184   59868 ?             22:23   00:01  chrome.exe\n",
      "Jackdong   14076  1.1  129312  180900 ?             21:18   04:29  chrome.exe\n",
      "Jackdong   14152  0.1    7176   13096 ?             22:19   00:00  python.exe\n",
      "Jackdong   14276    ?    1556    2664 ?             22:19   00:00  cmd.exe\n",
      "Jackdong   14456    ?     304    1940 ?             22:19   00:00  jupyter-notebook.exe\n",
      "Jackdong   14564  0.1    4988   18016 ?             21:28   00:01  NetworkUXBroker.exe\n",
      "Jackdong   14616  0.1    6812   23444 ?             21:28   00:00  SystemSettingsBroker.exe\n",
      "Jackdong   14656  1.4  182444  227988 ?             23:06   00:24  QQ.exe\n",
      "           14740  0.1    4440   13720 ?             23:45   00:00  taskeng.exe\n",
      "           14936  0.1    1512    9384 ?             21:28   00:00  dllhost.exe\n",
      "Jackdong   15072  0.5   58612   77592 ?             22:19   00:14  python.exe\n",
      "Jackdong   15192  0.2   14192   25600 ?             22:19   00:00  conhost.exe\n",
      "Jackdong   15344    ?    3736    2860 ?             23:06   00:00  TXPlatform.exe\n",
      "           15712    ?    1288    6100 ?             23:44   00:00  taskeng.exe\n",
      "Jackdong   15956  1.3  174388  209328 ?             23:10   01:06  chrome.exe\n",
      "Jackdong   16368  0.2   20492   32412 ?             23:47   00:00  chrome.exe\n"
     ]
    }
   ],
   "source": [
    "psutil.test()"
   ]
  }
 ],
 "metadata": {
  "hide_input": false,
  "kernelspec": {
   "display_name": "Python 3",
   "language": "python",
   "name": "python3"
  },
  "language_info": {
   "codemirror_mode": {
    "name": "ipython",
    "version": 3
   },
   "file_extension": ".py",
   "mimetype": "text/x-python",
   "name": "python",
   "nbconvert_exporter": "python",
   "pygments_lexer": "ipython3",
   "version": "3.6.1"
  },
  "toc": {
   "nav_menu": {},
   "number_sections": true,
   "sideBar": true,
   "skip_h1_title": false,
   "toc_cell": false,
   "toc_position": {},
   "toc_section_display": "block",
   "toc_window_display": false
  },
  "varInspector": {
   "cols": {
    "lenName": 16,
    "lenType": 16,
    "lenVar": 40
   },
   "kernels_config": {
    "python": {
     "delete_cmd_postfix": "",
     "delete_cmd_prefix": "del ",
     "library": "var_list.py",
     "varRefreshCmd": "print(var_dic_list())"
    },
    "r": {
     "delete_cmd_postfix": ") ",
     "delete_cmd_prefix": "rm(",
     "library": "var_list.r",
     "varRefreshCmd": "cat(var_dic_list()) "
    }
   },
   "types_to_exclude": [
    "module",
    "function",
    "builtin_function_or_method",
    "instance",
    "_Feature"
   ],
   "window_display": false
  }
 },
 "nbformat": 4,
 "nbformat_minor": 2
}
