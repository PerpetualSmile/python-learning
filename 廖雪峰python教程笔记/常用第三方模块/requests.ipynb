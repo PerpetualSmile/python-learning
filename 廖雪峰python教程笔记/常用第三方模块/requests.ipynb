{
 "cells": [
  {
   "cell_type": "markdown",
   "metadata": {},
   "source": [
    "# 使用requests访问网络资源"
   ]
  },
  {
   "cell_type": "markdown",
   "metadata": {},
   "source": [
    "## 通过几行代码访问一个页面"
   ]
  },
  {
   "cell_type": "code",
   "execution_count": null,
   "metadata": {
    "ExecuteTime": {
     "end_time": "2018-04-02T12:47:53.207125Z",
     "start_time": "2018-04-02T12:47:52.367139Z"
    }
   },
   "outputs": [],
   "source": [
    "import requests\n",
    "r = requests.get('https://www.douban.com/')"
   ]
  },
  {
   "cell_type": "markdown",
   "metadata": {},
   "source": [
    "## 获取网页状态码"
   ]
  },
  {
   "cell_type": "code",
   "execution_count": null,
   "metadata": {
    "ExecuteTime": {
     "end_time": "2018-04-02T12:47:53.223128Z",
     "start_time": "2018-04-02T12:47:53.209091Z"
    }
   },
   "outputs": [],
   "source": [
    "r.status_code"
   ]
  },
  {
   "cell_type": "markdown",
   "metadata": {},
   "source": [
    "200表示正常访问，熟悉的有404"
   ]
  },
  {
   "cell_type": "markdown",
   "metadata": {},
   "source": [
    "## 获取内容"
   ]
  },
  {
   "cell_type": "code",
   "execution_count": null,
   "metadata": {
    "ExecuteTime": {
     "end_time": "2018-04-02T12:47:53.267282Z",
     "start_time": "2018-04-02T12:47:53.225133Z"
    }
   },
   "outputs": [],
   "source": [
    "r.text"
   ]
  },
  {
   "cell_type": "markdown",
   "metadata": {},
   "source": [
    "## 对于带参数的URL，传入一个dict作为params参数"
   ]
  },
  {
   "cell_type": "code",
   "execution_count": null,
   "metadata": {
    "ExecuteTime": {
     "end_time": "2018-04-02T12:47:54.467570Z",
     "start_time": "2018-04-02T12:47:53.269285Z"
    }
   },
   "outputs": [],
   "source": [
    "r = requests.get('http://www.douban.com/search', params={'q': 'python', 'cat': '1001'})\n",
    "r.url"
   ]
  },
  {
   "cell_type": "markdown",
   "metadata": {},
   "source": [
    "## 自动检测编码"
   ]
  },
  {
   "cell_type": "code",
   "execution_count": null,
   "metadata": {
    "ExecuteTime": {
     "end_time": "2018-04-02T12:47:54.474087Z",
     "start_time": "2018-04-02T12:47:54.469603Z"
    }
   },
   "outputs": [],
   "source": [
    "r.encoding"
   ]
  },
  {
   "cell_type": "markdown",
   "metadata": {},
   "source": [
    "## 无论响应时文本还是二进制内容都可以用content属性获得bytes对象"
   ]
  },
  {
   "cell_type": "code",
   "execution_count": null,
   "metadata": {
    "ExecuteTime": {
     "end_time": "2018-04-02T12:47:54.496147Z",
     "start_time": "2018-04-02T12:47:54.476593Z"
    }
   },
   "outputs": [],
   "source": [
    "r.content"
   ]
  },
  {
   "cell_type": "markdown",
   "metadata": {},
   "source": [
    "## 方便之处在于对于特定类型的响应，例如JSON，可以直接获取"
   ]
  },
  {
   "cell_type": "code",
   "execution_count": null,
   "metadata": {
    "ExecuteTime": {
     "end_time": "2018-04-02T12:47:55.409949Z",
     "start_time": "2018-04-02T12:47:54.498653Z"
    }
   },
   "outputs": [],
   "source": [
    "r = requests.get('https://query.yahooapis.com/v1/public/yql?q=select%20*%20from%20weather.forecast%20where%20woeid%20%3D%202151330&format=json')\n",
    "r.json()"
   ]
  },
  {
   "cell_type": "markdown",
   "metadata": {},
   "source": [
    "## 可以传入一个dict作为headers参数"
   ]
  },
  {
   "cell_type": "code",
   "execution_count": null,
   "metadata": {
    "ExecuteTime": {
     "end_time": "2018-04-02T12:47:55.857105Z",
     "start_time": "2018-04-02T12:47:55.412957Z"
    },
    "collapsed": true
   },
   "outputs": [],
   "source": [
    "r = requests.get('https://www.douban.com/', headers={'User-Agent': 'Mozilla/5.0 (iPhone; CPU iPhone OS 11_0 like Mac OS X) AppleWebKit'})"
   ]
  },
  {
   "cell_type": "markdown",
   "metadata": {},
   "source": [
    "## 发送POST请求，只需要把get()方法变成post()方法，然后传入data参数作为post请求的数据"
   ]
  },
  {
   "cell_type": "code",
   "execution_count": null,
   "metadata": {
    "ExecuteTime": {
     "end_time": "2018-04-02T12:47:56.219585Z",
     "start_time": "2018-04-02T12:47:55.859092Z"
    },
    "collapsed": true
   },
   "outputs": [],
   "source": [
    "r = requests.post('https://accounts.douban.com/login', data={'form_email': 'abc@example.com', 'form_password': '123456'})"
   ]
  },
  {
   "cell_type": "markdown",
   "metadata": {},
   "source": [
    "## 如果要传递JSON数据，可以直接传入json参数："
   ]
  },
  {
   "cell_type": "code",
   "execution_count": null,
   "metadata": {
    "ExecuteTime": {
     "end_time": "2018-04-02T12:47:56.298847Z",
     "start_time": "2018-04-02T12:47:56.222068Z"
    }
   },
   "outputs": [],
   "source": [
    "params = {'key': 'value'}\n",
    "r = requests.post(url, json=params)"
   ]
  },
  {
   "cell_type": "markdown",
   "metadata": {},
   "source": [
    "## 上传文件，使用files参数"
   ]
  },
  {
   "cell_type": "code",
   "execution_count": null,
   "metadata": {
    "ExecuteTime": {
     "end_time": "2018-04-02T12:47:56.299866Z",
     "start_time": "2018-04-02T12:47:52.097Z"
    }
   },
   "outputs": [],
   "source": [
    "upload_files = {'file': open('psutil 获取系统信息.ipynb', 'rb')}\n",
    "r = requests.post(url, files=upload_files)"
   ]
  },
  {
   "cell_type": "markdown",
   "metadata": {},
   "source": [
    "- 读取文件时，务必使用'rb'即二进制模式读取，这样获取的bytes长度才是文件的长度\n",
    "- 把post()方法替换为put()、delete()等，就可以以PUT或DELETE方式请求资源。"
   ]
  },
  {
   "cell_type": "markdown",
   "metadata": {},
   "source": [
    "## 获取响应头"
   ]
  },
  {
   "cell_type": "code",
   "execution_count": null,
   "metadata": {
    "ExecuteTime": {
     "end_time": "2018-04-02T12:48:39.063376Z",
     "start_time": "2018-04-02T12:48:38.902414Z"
    }
   },
   "outputs": [],
   "source": [
    "r = requests.get('https://www.baidu.com')\n",
    "r.headers"
   ]
  },
  {
   "cell_type": "code",
   "execution_count": null,
   "metadata": {
    "ExecuteTime": {
     "end_time": "2018-04-02T12:51:51.781318Z",
     "start_time": "2018-04-02T12:51:51.776807Z"
    }
   },
   "outputs": [],
   "source": [
    "r.headers['Cache-Control']"
   ]
  },
  {
   "cell_type": "markdown",
   "metadata": {},
   "source": [
    "## requests对Cookies做了特殊处理，使得我们不必解析Cookie就可以轻松获取指定的Cookie"
   ]
  },
  {
   "cell_type": "code",
   "execution_count": null,
   "metadata": {
    "ExecuteTime": {
     "end_time": "2018-04-02T12:55:41.507622Z",
     "start_time": "2018-04-02T12:55:41.503098Z"
    }
   },
   "outputs": [],
   "source": [
    "r.cookies['BDORZ']"
   ]
  },
  {
   "cell_type": "markdown",
   "metadata": {},
   "source": [
    "## 要在请求中传入Cookie只需要准备一个dict传入Cookies参数"
   ]
  },
  {
   "cell_type": "code",
   "execution_count": null,
   "metadata": {
    "ExecuteTime": {
     "end_time": "2018-04-02T12:58:01.718067Z",
     "start_time": "2018-04-02T12:58:01.709524Z"
    }
   },
   "outputs": [],
   "source": [
    "cs = {'token': '12345', 'status':'working'}\n",
    "r = requests.get(url, cookies=cs)"
   ]
  },
  {
   "cell_type": "markdown",
   "metadata": {},
   "source": [
    "## 要指定超时，传入以秒为单位的timeout参数 "
   ]
  },
  {
   "cell_type": "code",
   "execution_count": null,
   "metadata": {
    "collapsed": true
   },
   "outputs": [],
   "source": [
    "r = requests.get(url, timeout=2.5)# 2.5秒后超时"
   ]
  }
 ],
 "metadata": {
  "hide_input": false,
  "kernelspec": {
   "display_name": "Python 3",
   "language": "python",
   "name": "python3"
  },
  "language_info": {
   "codemirror_mode": {
    "name": "ipython",
    "version": 3
   },
   "file_extension": ".py",
   "mimetype": "text/x-python",
   "name": "python",
   "nbconvert_exporter": "python",
   "pygments_lexer": "ipython3",
   "version": "3.6.1"
  },
  "toc": {
   "nav_menu": {},
   "number_sections": true,
   "sideBar": true,
   "skip_h1_title": false,
   "toc_cell": false,
   "toc_position": {},
   "toc_section_display": "block",
   "toc_window_display": false
  },
  "varInspector": {
   "cols": {
    "lenName": 16,
    "lenType": 16,
    "lenVar": 40
   },
   "kernels_config": {
    "python": {
     "delete_cmd_postfix": "",
     "delete_cmd_prefix": "del ",
     "library": "var_list.py",
     "varRefreshCmd": "print(var_dic_list())"
    },
    "r": {
     "delete_cmd_postfix": ") ",
     "delete_cmd_prefix": "rm(",
     "library": "var_list.r",
     "varRefreshCmd": "cat(var_dic_list()) "
    }
   },
   "types_to_exclude": [
    "module",
    "function",
    "builtin_function_or_method",
    "instance",
    "_Feature"
   ],
   "window_display": false
  }
 },
 "nbformat": 4,
 "nbformat_minor": 2
}
