{
 "cells": [
  {
   "cell_type": "markdown",
   "metadata": {},
   "source": [
    "# asyncio"
   ]
  },
  {
   "cell_type": "markdown",
   "metadata": {},
   "source": [
    "- async:非同步，异步\n",
    "- io:IO\n",
    "- asynio就是异步IO\n",
    "- asynio的编程模型就是一个消息循环，我们从asyncio模块中直接获取一个Eventloop的引用，然后把需要执行的协程扔到Eventloop中执行，就实现了异步IO。"
   ]
  },
  {
   "cell_type": "markdown",
   "metadata": {},
   "source": [
    "## 用asyncio实现Hello world 的代码："
   ]
  },
  {
   "cell_type": "code",
   "execution_count": 1,
   "metadata": {
    "ExecuteTime": {
     "end_time": "2018-05-27T11:34:51.487730Z",
     "start_time": "2018-05-27T11:34:50.476578Z"
    }
   },
   "outputs": [
    {
     "name": "stdout",
     "output_type": "stream",
     "text": [
      "Hello world!\n",
      "Hello again!\n"
     ]
    }
   ],
   "source": [
    "import asyncio\n",
    "\n",
    "@asyncio.coroutine\n",
    "def hello():\n",
    "    print('Hello world!')\n",
    "    # 异步调用asyncio.sleep(1)\n",
    "    r = yield from asyncio.sleep(1)\n",
    "    print('Hello again!')\n",
    "\n",
    "# 获取Eventloop:\n",
    "loop = asyncio.get_event_loop()\n",
    "# 执行coroutine\n",
    "loop.run_until_complete(hello())\n",
    "loop.close()"
   ]
  },
  {
   "cell_type": "markdown",
   "metadata": {},
   "source": [
    "- @asyncio.coroutine把一个generator标记为coroutine类型，然后，我们就把这个coroutine扔到Eventloop中执行\n",
    "- yield from语法可以让我们方便地调用另一个generator\n",
    "- 由于asyncio.sleep()也是一个coroutine，所以线程不会等待asyncio.sleep()，而是直接中断并执行下一个消息循环\n",
    "- 当asyncio.sleep()返回时，线程就可以从yield from拿到返回值（此处是None），然后接着执行下一行语句\n",
    "- 把asyncio.sleep(1)看成是一个耗时1秒的IO操作，在此期间，主线程并未等待，而是去执行Eventloop中其他可以执行的coroutine了，因此可以实现并发执行。"
   ]
  },
  {
   "cell_type": "markdown",
   "metadata": {},
   "source": [
    "## 用Task封装两个coroutine"
   ]
  },
  {
   "cell_type": "code",
   "execution_count": 1,
   "metadata": {
    "ExecuteTime": {
     "end_time": "2018-05-27T11:35:29.322450Z",
     "start_time": "2018-05-27T11:35:28.311580Z"
    },
    "scrolled": true
   },
   "outputs": [
    {
     "name": "stdout",
     "output_type": "stream",
     "text": [
      "Hello world! (<_MainThread(MainThread, started 7072)>)\n",
      "Hello world! (<_MainThread(MainThread, started 7072)>)\n",
      "Hello again! (<_MainThread(MainThread, started 7072)>)\n",
      "Hello again! (<_MainThread(MainThread, started 7072)>)\n"
     ]
    }
   ],
   "source": [
    "import threading\n",
    "import asyncio\n",
    "\n",
    "@asyncio.coroutine\n",
    "def hello():\n",
    "    print('Hello world! ({})'.format(threading.currentThread()))\n",
    "    yield from asyncio.sleep(1)\n",
    "    print('Hello again! ({})'.format(threading.currentThread()))\n",
    "\n",
    "loop = asyncio.get_event_loop()\n",
    "tasks = [hello(), hello()]\n",
    "loop.run_until_complete(asyncio.wait(tasks))\n",
    "loop.close()"
   ]
  },
  {
   "cell_type": "markdown",
   "metadata": {},
   "source": [
    "- 上面的程序如果把sleep(1)改成sleep(5)，还是只需要5秒就能执行完毕\n",
    "- 两个coroutine是由同一个线程并发执行\n",
    "- 如果把asyncio.sleep()换成真正的IO操作，则多个coroutine就可以由一个线程并发执行"
   ]
  },
  {
   "cell_type": "markdown",
   "metadata": {},
   "source": [
    "## 使用asyncio的异步网络连接来获取sina、sohu和163的网站首页："
   ]
  },
  {
   "cell_type": "code",
   "execution_count": 1,
   "metadata": {
    "ExecuteTime": {
     "end_time": "2018-05-27T11:47:04.926693Z",
     "start_time": "2018-05-27T11:47:04.846262Z"
    }
   },
   "outputs": [
    {
     "name": "stdout",
     "output_type": "stream",
     "text": [
      "wget www.163.com...\n",
      "wget www.sina.com.cn...\n",
      "wget www.sohu.com...\n",
      "www.163.com header > HTTP/1.0 302 Moved Temporarily\n",
      "www.163.com header > Server: Cdn Cache Server V2.0\n",
      "www.163.com header > Date: Sun, 27 May 2018 11:47:04 GMT\n",
      "www.163.com header > Content-Length: 0\n",
      "www.163.com header > Location: http://www.163.com/special/0077jt/error_isp.html\n",
      "www.163.com header > Connection: close\n",
      "www.sina.com.cn header > HTTP/1.1 200 OK\n",
      "www.sina.com.cn header > Server: nginx\n",
      "www.sina.com.cn header > Date: Sun, 27 May 2018 11:47:04 GMT\n",
      "www.sina.com.cn header > Content-Type: text/html\n",
      "www.sina.com.cn header > Content-Length: 584676\n",
      "www.sina.com.cn header > Connection: close\n",
      "www.sina.com.cn header > Last-Modified: Sun, 27 May 2018 11:45:01 GMT\n",
      "www.sina.com.cn header > Vary: Accept-Encoding\n",
      "www.sina.com.cn header > X-Powered-By: shci_v1.03\n",
      "www.sina.com.cn header > Expires: Sun, 27 May 2018 11:48:00 GMT\n",
      "www.sina.com.cn header > Cache-Control: max-age=60\n",
      "www.sina.com.cn header > Age: 2\n",
      "www.sina.com.cn header > Via: http/1.1 cmcc.beijing.ha2ts4.32 (ApacheTrafficServer/6.2.1 [cHs f ]), http/1.1 cmcc.nanjing.ha2ts4.239 (ApacheTrafficServer/6.2.1 [cHs f ])\n",
      "www.sina.com.cn header > X-Via-Edge: 15274216245694950d3b7e53519706e711017\n",
      "www.sina.com.cn header > X-Cache: HIT.239\n",
      "www.sina.com.cn header > X-Via-CDN: f=edge,s=cmcc.nanjing.ha2ts4.236.nb.sinaedge.com,c=183.211.80.73;f=Edge,s=cmcc.nanjing.ha2ts4.239,c=112.25.53.236\n",
      "www.sohu.com header > HTTP/1.1 200 OK\n",
      "www.sohu.com header > Content-Type: text/html;charset=UTF-8\n",
      "www.sohu.com header > Connection: close\n",
      "www.sohu.com header > Server: nginx\n",
      "www.sohu.com header > Date: Sun, 27 May 2018 11:46:25 GMT\n",
      "www.sohu.com header > Cache-Control: max-age=60\n",
      "www.sohu.com header > X-From-Sohu: X-SRC-Cached\n",
      "www.sohu.com header > Content-Encoding: gzip\n",
      "www.sohu.com header > FSS-Cache: HIT from 10299539.18294941.11941901\n",
      "www.sohu.com header > FSS-Proxy: Powered by 3876913.5449787.5519177\n"
     ]
    }
   ],
   "source": [
    "import asyncio\n",
    "\n",
    "@asyncio.coroutine\n",
    "def wget(host):\n",
    "    print('wget {}...'.format(host))\n",
    "    connect = asyncio.open_connection(host, 80)\n",
    "    reader, writer = yield from connect\n",
    "    header = 'GET / HTTP/1.0\\r\\nHost: %s\\r\\n\\r\\n'%host\n",
    "    writer.write(header.encode('utf-8'))\n",
    "    yield from writer.drain()\n",
    "    while True:\n",
    "        line = yield from reader.readline()\n",
    "        if line == b'\\r\\n':\n",
    "            break\n",
    "        print('%s header > %s'%(host, line.decode('utf-8').rstrip()))\n",
    "    # ignore the body, close the socket\n",
    "    writer.close()\n",
    "\n",
    "loop = asyncio.get_event_loop()\n",
    "tasks = [wget(host) for host in ['www.sina.com.cn', 'www.sohu.com', 'www.163.com']]\n",
    "loop.run_until_complete(asyncio.wait(tasks))\n",
    "loop.close()\n",
    "    "
   ]
  },
  {
   "cell_type": "markdown",
   "metadata": {
    "collapsed": true
   },
   "source": [
    "## 总结"
   ]
  },
  {
   "cell_type": "markdown",
   "metadata": {},
   "source": [
    "- asyncio提供了完善的异步IO支持\n",
    "- 异步操作需要在coroutine中通过yield from完成\n",
    "- 多个coroutine可以封装一组Task然后并发执行"
   ]
  }
 ],
 "metadata": {
  "hide_input": false,
  "kernelspec": {
   "display_name": "Python 3",
   "language": "python",
   "name": "python3"
  },
  "language_info": {
   "codemirror_mode": {
    "name": "ipython",
    "version": 3
   },
   "file_extension": ".py",
   "mimetype": "text/x-python",
   "name": "python",
   "nbconvert_exporter": "python",
   "pygments_lexer": "ipython3",
   "version": "3.6.1"
  },
  "toc": {
   "nav_menu": {},
   "number_sections": true,
   "sideBar": true,
   "skip_h1_title": false,
   "toc_cell": false,
   "toc_position": {},
   "toc_section_display": "block",
   "toc_window_display": false
  },
  "varInspector": {
   "cols": {
    "lenName": 16,
    "lenType": 16,
    "lenVar": 40
   },
   "kernels_config": {
    "python": {
     "delete_cmd_postfix": "",
     "delete_cmd_prefix": "del ",
     "library": "var_list.py",
     "varRefreshCmd": "print(var_dic_list())"
    },
    "r": {
     "delete_cmd_postfix": ") ",
     "delete_cmd_prefix": "rm(",
     "library": "var_list.r",
     "varRefreshCmd": "cat(var_dic_list()) "
    }
   },
   "types_to_exclude": [
    "module",
    "function",
    "builtin_function_or_method",
    "instance",
    "_Feature"
   ],
   "window_display": false
  }
 },
 "nbformat": 4,
 "nbformat_minor": 2
}
