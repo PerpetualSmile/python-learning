{
 "cells": [
  {
   "cell_type": "markdown",
   "metadata": {},
   "source": [
    "# 使用模板"
   ]
  },
  {
   "cell_type": "markdown",
   "metadata": {},
   "source": [
    "- Web框架把我们从WSGI中拯救出来了，现在，我们只需要不断地编写函数，带上URL，就可以继续Web App开发了。\n",
    "- 但问题是Web App不仅仅处理逻辑，展示给用户的页面也非常重要。在函数中返回一个包含HTML的字符串，简单的页面还可以，但是复杂的页面时绝对不可能在Python的字符串中正确地写出来的。\n",
    "- Web App最复杂的部分就在HTML页面，HTML不仅要正确，还要通过CSS美化，再加上复杂的JavaScript脚本来实现各种交互和动画效果，生成HTML的难度很大。所以，模板技术出现了。"
   ]
  },
  {
   "cell_type": "markdown",
   "metadata": {},
   "source": [
    "## MVC：Model-View-Controller，中文名为“模型-视图-控制器”"
   ]
  },
  {
   "cell_type": "markdown",
   "metadata": {},
   "source": [
    "- Python处理URL的函数就是C：controller, controller负责业务逻辑，比如检查用户名是否存在，取出用户信息等等\n",
    "- 包含变量{{name}}的模板就是V：View，View负责显示逻辑，通过简单地替换一些变量，View最终输出的就是用户看到的HTML\n",
    "- MVC中的Model在哪？Model是用来传给View的，这样View在替换变量的时候，就可以从Model中取出相应的数据。\n",
    "- 上面例子中，Model就是一个dict，只是因为Python支持关键字参数，很多web框架允许传入关键字参数，然后，在框架内组装出一个dict作为Model"
   ]
  },
  {
   "cell_type": "markdown",
   "metadata": {},
   "source": [
    "## 把上次直接输出字符串作为HTML的例子用高端大气上档次的MVC模式改写一下："
   ]
  },
  {
   "cell_type": "code",
   "execution_count": null,
   "metadata": {
    "ExecuteTime": {
     "end_time": "2018-05-21T08:20:05.067486Z",
     "start_time": "2018-05-21T08:20:04.631666Z"
    }
   },
   "outputs": [],
   "source": [
    "from flask import Flask, request, render_template\n",
    "\n",
    "\n",
    "app = Flask(__name__)\n",
    "\n",
    "@app.route('/', methods=['GET', 'POST'])\n",
    "def home():\n",
    "    return render_template('home.html')\n",
    "\n",
    "@app.route('/signin', methods=['GET'])\n",
    "def signin_form():\n",
    "    return render_template('form.html')\n",
    "\n",
    "@app.route('/signin', methods=['POST'])\n",
    "def signin():\n",
    "    username = request.form['username']\n",
    "    password = request.form['password']\n",
    "    if username == 'admin' and password == 'password':\n",
    "        return render_template('signin-ok.html', username=username)\n",
    "    return render_template('form.html', message='Bad username or password', username=username)\n",
    "\n",
    "\n",
    "if __name__ == '__main__':\n",
    "    app.run()"
   ]
  },
  {
   "cell_type": "markdown",
   "metadata": {},
   "source": [
    "- flask通过render_template()函数来实现模板的渲染，和web框架类似，Python的模板也有很多种，Flask默认支持的模板是jinja2"
   ]
  },
  {
   "cell_type": "markdown",
   "metadata": {},
   "source": [
    "## 编写jinja2模板"
   ]
  },
  {
   "cell_type": "markdown",
   "metadata": {},
   "source": [
    "### home.html(显示首页的模板)"
   ]
  },
  {
   "cell_type": "markdown",
   "metadata": {},
   "source": [
    "```html\n",
    "<html>\n",
    "<head>\n",
    "<title>Home</title>\n",
    "</head>\n",
    "<body>\n",
    "    <h1 style=\"font-style:italic\">Home</h1>\n",
    "</body>\n",
    "</html>\n",
    "```"
   ]
  },
  {
   "cell_type": "markdown",
   "metadata": {},
   "source": [
    "### form.html(用来显示登录表单的模板)"
   ]
  },
  {
   "cell_type": "markdown",
   "metadata": {
    "ExecuteTime": {
     "end_time": "2018-05-21T08:38:18.442484Z",
     "start_time": "2018-05-21T08:38:18.436438Z"
    }
   },
   "source": [
    "```html\n",
    "<html>\n",
    "<head>\n",
    "<title>Please Sign In</title>\n",
    "</head>\n",
    "<body>\n",
    "    {% if message %}\n",
    "    <p style='color:red'>{{ message }}</p>\n",
    "    {% endif %}\n",
    "    <form action=\"/signin\" method=\"post\">\n",
    "        <legend>Please sign in:</legend>\n",
    "        <p><input name=\"username\" placeholder=\"Username\" value=\"{{ username }}\"></p>\n",
    "        <p><input name=\"password\" placeholder=\"Password\" type=\"password\"></p>\n",
    "        <p><button type=\"submit\">Sign In</button></p>\n",
    "    </form>\n",
    "</body>\n",
    "</html>\n",
    "```"
   ]
  },
  {
   "cell_type": "markdown",
   "metadata": {},
   "source": [
    "### signin-ok.html(登录成功的模板)"
   ]
  },
  {
   "cell_type": "markdown",
   "metadata": {},
   "source": [
    "```html\n",
    "<html>\n",
    "<head>\n",
    "    <title>Welcome, {{ username }}</title>\n",
    "</head>\n",
    "<body>\n",
    "    <p>Welcome,{{ username }}!</p>\n",
    "</body>\n",
    "</html>\n",
    "```"
   ]
  },
  {
   "cell_type": "markdown",
   "metadata": {},
   "source": [
    "### 最后一定要把模板放到正确的templates目录下，templates和app.py在同级目录下"
   ]
  },
  {
   "cell_type": "markdown",
   "metadata": {},
   "source": [
    "## 总结"
   ]
  },
  {
   "cell_type": "markdown",
   "metadata": {},
   "source": [
    "- 通过MVC， 我们在Python代码中处理M：Model和C：Controller,而V：view是通过模板处理的，这样我们就成功地把Python代码和HTML代码最大限度地分离了\n",
    "- 使用模板的另一个好处是，模板改起来很方便，而且，保存完之后，刷新浏览器就能看到最新的效果，这对于调试HTML、CSS和Javascript的前端工程师来说实在是太重要了。\n",
    "- 在jinja2模板中，我们用{{ name }}来表示一个需要替换的变量。很多时候，还需要循环、条件判断等指令语句，在jinja2中，用{%...%}表示指令。\n",
    "    - 比如循环输出页码\n",
    "    ```html\n",
    "    {% for i in page_list %}\n",
    "        <a href=\"/page/{{ i }}\">{{ i }}</a>\n",
    "    {% endfor %}\n",
    "    ```\n",
    "    - 如果page_list是一个list:[1, 2, 3, 4, 5], 上面的模板将输出5个超链接\n"
   ]
  },
  {
   "cell_type": "markdown",
   "metadata": {},
   "source": [
    "- 除了Jinja2, 常见的模板还有：\n",
    "    - Mako: 用<% ... %>和${xxx}的一个模板\n",
    "    - Cheetah: 也是用<% ... %>和$<xxx>的一个模板\n",
    "    - Django: Django是一站式框架，内置一个用{% ... %}和{{ xxx }}的模板"
   ]
  }
 ],
 "metadata": {
  "hide_input": false,
  "kernelspec": {
   "display_name": "Python 3",
   "language": "python",
   "name": "python3"
  },
  "language_info": {
   "codemirror_mode": {
    "name": "ipython",
    "version": 3
   },
   "file_extension": ".py",
   "mimetype": "text/x-python",
   "name": "python",
   "nbconvert_exporter": "python",
   "pygments_lexer": "ipython3",
   "version": "3.6.1"
  },
  "toc": {
   "nav_menu": {},
   "number_sections": true,
   "sideBar": true,
   "skip_h1_title": false,
   "toc_cell": false,
   "toc_position": {},
   "toc_section_display": "block",
   "toc_window_display": false
  },
  "varInspector": {
   "cols": {
    "lenName": 16,
    "lenType": 16,
    "lenVar": 40
   },
   "kernels_config": {
    "python": {
     "delete_cmd_postfix": "",
     "delete_cmd_prefix": "del ",
     "library": "var_list.py",
     "varRefreshCmd": "print(var_dic_list())"
    },
    "r": {
     "delete_cmd_postfix": ") ",
     "delete_cmd_prefix": "rm(",
     "library": "var_list.r",
     "varRefreshCmd": "cat(var_dic_list()) "
    }
   },
   "types_to_exclude": [
    "module",
    "function",
    "builtin_function_or_method",
    "instance",
    "_Feature"
   ],
   "window_display": false
  }
 },
 "nbformat": 4,
 "nbformat_minor": 2
}
