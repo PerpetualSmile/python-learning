{
 "cells": [
  {
   "cell_type": "markdown",
   "metadata": {},
   "source": [
    "# Web开发简介"
   ]
  },
  {
   "cell_type": "markdown",
   "metadata": {},
   "source": [
    "- CS架构：最早的软件都是运行在大型机上的，软件的使用者通过“哑终端“登录到大型机上去运行软件，后来随着pc机的兴起，软件开始主要运行在桌面上，而数据库这样的的软件运行在服务器终端，这种Client/Server模式简称CS架构"
   ]
  },
  {
   "cell_type": "markdown",
   "metadata": {},
   "source": [
    "- BS架构：随着互联网的兴起，CS架构不适合Web，最大的原因是Web应用程序的修改和升级非常迅速，而CS架构需要每个客户端逐个升级桌面App，因此，Browser/Server模式开始流行，简称BS架构。"
   ]
  },
  {
   "cell_type": "markdown",
   "metadata": {},
   "source": [
    "- 在BS架构下，客户端只需要浏览器，应用程序的逻辑和数据都存储在服务器端，浏览器端口只需要请求服务器，获取web页面，并把web页面展示给用户即可。"
   ]
  },
  {
   "cell_type": "markdown",
   "metadata": {},
   "source": [
    "- 当然，Web页面也具有极强的交互性，由于web页面是用html编写的，而html具备超强的表现能力，并且，服务器端升级后，客户端无需任何部署就可以使用到新的版本，因此，BS架构迅速流行起来。"
   ]
  },
  {
   "cell_type": "markdown",
   "metadata": {},
   "source": [
    "## web开发经历的阶段"
   ]
  },
  {
   "cell_type": "markdown",
   "metadata": {},
   "source": [
    "- 静态web页面：由文本编辑器直接编辑并生成静态的HTML页面，如果修改Web页面的内容，就需要再次编辑HTML源文件，早期的互联网web页面就是静态的。\n",
    "- CGI:由于静态Web页面无法与用户交互，要处理用户发送的动态数据，出现了Common Gateway Interface，简称CGI，用c/c++编写。\n",
    "- ASP/JSP/PHP:由于web应用的特点是频繁修改，用C/C++这样的低级语言非常不适合web开发，而脚本语言由于开发效率高，与HTML结合紧密，因此迅速取代了CGI模式。ASP是微软推出的用VBScript脚本编程的web开发技术，而JSP用JAVA来编写脚本，PHP本身则是开源的脚本语言。\n",
    "- MVC：为了解决直接用脚本嵌入HTML可能导致的可维护性差的问题，Web应用也引入了Model-View-Controller的模式，来简化web开发，Asp发展为ASP Net,JSP和PHP也有一大堆的MVC框架"
   ]
  }
 ],
 "metadata": {
  "hide_input": false,
  "kernelspec": {
   "display_name": "Python 3",
   "language": "python",
   "name": "python3"
  },
  "language_info": {
   "codemirror_mode": {
    "name": "ipython",
    "version": 3
   },
   "file_extension": ".py",
   "mimetype": "text/x-python",
   "name": "python",
   "nbconvert_exporter": "python",
   "pygments_lexer": "ipython3",
   "version": "3.6.1"
  },
  "toc": {
   "nav_menu": {},
   "number_sections": true,
   "sideBar": true,
   "skip_h1_title": false,
   "toc_cell": false,
   "toc_position": {},
   "toc_section_display": "block",
   "toc_window_display": false
  },
  "varInspector": {
   "cols": {
    "lenName": 16,
    "lenType": 16,
    "lenVar": 40
   },
   "kernels_config": {
    "python": {
     "delete_cmd_postfix": "",
     "delete_cmd_prefix": "del ",
     "library": "var_list.py",
     "varRefreshCmd": "print(var_dic_list())"
    },
    "r": {
     "delete_cmd_postfix": ") ",
     "delete_cmd_prefix": "rm(",
     "library": "var_list.r",
     "varRefreshCmd": "cat(var_dic_list()) "
    }
   },
   "types_to_exclude": [
    "module",
    "function",
    "builtin_function_or_method",
    "instance",
    "_Feature"
   ],
   "window_display": false
  }
 },
 "nbformat": 4,
 "nbformat_minor": 2
}
