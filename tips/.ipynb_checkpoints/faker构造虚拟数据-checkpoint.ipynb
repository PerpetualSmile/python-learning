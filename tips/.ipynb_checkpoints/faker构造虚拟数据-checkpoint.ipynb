{
 "cells": [
  {
   "cell_type": "markdown",
   "metadata": {},
   "source": [
    "# 使用第三方库faker构造虚假数据"
   ]
  },
  {
   "cell_type": "markdown",
   "metadata": {},
   "source": [
    "** pip install faker **"
   ]
  },
  {
   "cell_type": "code",
   "execution_count": 1,
   "metadata": {
    "ExecuteTime": {
     "end_time": "2017-11-16T13:51:06.713730Z",
     "start_time": "2017-11-16T13:51:06.710721Z"
    },
    "collapsed": true
   },
   "outputs": [],
   "source": [
    "from faker import Faker, Factory"
   ]
  },
  {
   "cell_type": "code",
   "execution_count": 4,
   "metadata": {
    "ExecuteTime": {
     "end_time": "2017-11-16T13:51:39.224632Z",
     "start_time": "2017-11-16T13:51:39.192060Z"
    }
   },
   "outputs": [
    {
     "data": {
      "text/plain": [
       "'James Frank'"
      ]
     },
     "execution_count": 4,
     "metadata": {},
     "output_type": "execute_result"
    }
   ],
   "source": [
    "fake = Factory.create()\n",
    "fake.name()"
   ]
  },
  {
   "cell_type": "code",
   "execution_count": 6,
   "metadata": {
    "ExecuteTime": {
     "end_time": "2017-11-16T13:51:57.815090Z",
     "start_time": "2017-11-16T13:51:57.787067Z"
    }
   },
   "outputs": [
    {
     "data": {
      "text/plain": [
       "'Ronnie Bauer'"
      ]
     },
     "execution_count": 6,
     "metadata": {},
     "output_type": "execute_result"
    }
   ],
   "source": [
    "fake = Faker()\n",
    "fake.name()"
   ]
  },
  {
   "cell_type": "code",
   "execution_count": 16,
   "metadata": {
    "ExecuteTime": {
     "end_time": "2017-11-16T13:53:20.263219Z",
     "start_time": "2017-11-16T13:53:20.258707Z"
    }
   },
   "outputs": [
    {
     "data": {
      "text/plain": [
       "'Laura Gonzalez'"
      ]
     },
     "execution_count": 16,
     "metadata": {},
     "output_type": "execute_result"
    }
   ],
   "source": [
    "fake.name_female()"
   ]
  },
  {
   "cell_type": "code",
   "execution_count": 17,
   "metadata": {
    "ExecuteTime": {
     "end_time": "2017-11-16T13:53:41.035479Z",
     "start_time": "2017-11-16T13:53:41.030465Z"
    }
   },
   "outputs": [
    {
     "data": {
      "text/plain": [
       "'999 Breanna Grove\\nEast Leslie, WI 40627-4930'"
      ]
     },
     "execution_count": 17,
     "metadata": {},
     "output_type": "execute_result"
    }
   ],
   "source": [
    "fake.address()"
   ]
  },
  {
   "cell_type": "code",
   "execution_count": 18,
   "metadata": {
    "ExecuteTime": {
     "end_time": "2017-11-16T13:53:52.309589Z",
     "start_time": "2017-11-16T13:53:52.305077Z"
    }
   },
   "outputs": [
    {
     "data": {
      "text/plain": [
       "'Natus animi nam doloribus quidem enim. Qui dolorum autem ipsum illo error natus. Nesciunt fugit explicabo ipsum eveniet placeat perferendis.'"
      ]
     },
     "execution_count": 18,
     "metadata": {},
     "output_type": "execute_result"
    }
   ],
   "source": [
    "fake.text()"
   ]
  },
  {
   "cell_type": "markdown",
   "metadata": {},
   "source": [
    "## 每次调用faker之后返回的数据都不一样，可使用seed()使每次结果都一样"
   ]
  },
  {
   "cell_type": "code",
   "execution_count": 21,
   "metadata": {
    "ExecuteTime": {
     "end_time": "2017-11-16T14:00:34.111472Z",
     "start_time": "2017-11-16T14:00:34.105455Z"
    }
   },
   "outputs": [
    {
     "name": "stdout",
     "output_type": "stream",
     "text": [
      "Holly Cummings\n",
      "Meagan Rivera\n",
      "Erin Willis\n",
      "Mr. Mark Hardy\n",
      "Olivia Welch\n"
     ]
    }
   ],
   "source": [
    "for i in range(5):\n",
    "    print(fake.name())"
   ]
  },
  {
   "cell_type": "code",
   "execution_count": 26,
   "metadata": {
    "ExecuteTime": {
     "end_time": "2017-11-16T14:01:16.453309Z",
     "start_time": "2017-11-16T14:01:16.446285Z"
    }
   },
   "outputs": [
    {
     "name": "stdout",
     "output_type": "stream",
     "text": [
      "Jesse Townsend\n",
      "Jesse Townsend\n",
      "Jesse Townsend\n",
      "Jesse Townsend\n",
      "Jesse Townsend\n"
     ]
    }
   ],
   "source": [
    "for i in range(5):\n",
    "    fake.seed(100)\n",
    "    print(fake.name())"
   ]
  },
  {
   "cell_type": "markdown",
   "metadata": {},
   "source": [
    "[更多资料 github库](https://github.com/joke2k/faker)"
   ]
  }
 ],
 "metadata": {
  "hide_input": false,
  "kernelspec": {
   "display_name": "Python 3",
   "language": "python",
   "name": "python3"
  },
  "language_info": {
   "codemirror_mode": {
    "name": "ipython",
    "version": 3
   },
   "file_extension": ".py",
   "mimetype": "text/x-python",
   "name": "python",
   "nbconvert_exporter": "python",
   "pygments_lexer": "ipython3",
   "version": "3.6.1"
  },
  "toc": {
   "nav_menu": {},
   "number_sections": true,
   "sideBar": true,
   "skip_h1_title": false,
   "toc_cell": false,
   "toc_position": {},
   "toc_section_display": "block",
   "toc_window_display": false
  },
  "varInspector": {
   "cols": {
    "lenName": 16,
    "lenType": 16,
    "lenVar": 40
   },
   "kernels_config": {
    "python": {
     "delete_cmd_postfix": "",
     "delete_cmd_prefix": "del ",
     "library": "var_list.py",
     "varRefreshCmd": "print(var_dic_list())"
    },
    "r": {
     "delete_cmd_postfix": ") ",
     "delete_cmd_prefix": "rm(",
     "library": "var_list.r",
     "varRefreshCmd": "cat(var_dic_list()) "
    }
   },
   "types_to_exclude": [
    "module",
    "function",
    "builtin_function_or_method",
    "instance",
    "_Feature"
   ],
   "window_display": false
  }
 },
 "nbformat": 4,
 "nbformat_minor": 2
}
