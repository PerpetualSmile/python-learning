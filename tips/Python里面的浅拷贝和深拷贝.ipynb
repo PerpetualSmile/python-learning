{
 "cells": [
  {
   "cell_type": "markdown",
   "metadata": {},
   "source": [
    "# Python里面的浅拷贝和深拷贝"
   ]
  },
  {
   "cell_type": "markdown",
   "metadata": {},
   "source": [
    "** 浅拷贝：对引用的拷贝，只拷贝父对象，不拷贝数据，新的对象与原对象的数据用的是相同的地址空间**"
   ]
  },
  {
   "cell_type": "markdown",
   "metadata": {},
   "source": [
    "** 深拷贝：对对象资源的拷贝，拷贝父对象以及里面的子对象，新对象与原对象独立，有自己的存储空间。 **"
   ]
  },
  {
   "cell_type": "markdown",
   "metadata": {},
   "source": [
    "## 浅拷贝"
   ]
  },
  {
   "cell_type": "markdown",
   "metadata": {},
   "source": [
    "- 使用赋值，python中赋值操作都是对象引用（内存地址）传递"
   ]
  },
  {
   "cell_type": "code",
   "execution_count": 1,
   "metadata": {
    "ExecuteTime": {
     "end_time": "2017-11-16T15:29:13.860708Z",
     "start_time": "2017-11-16T15:29:13.844165Z"
    }
   },
   "outputs": [
    {
     "data": {
      "text/plain": [
       "2391720577864"
      ]
     },
     "execution_count": 1,
     "metadata": {},
     "output_type": "execute_result"
    }
   ],
   "source": [
    "a = [1, 2, 3]\n",
    "b = a\n",
    "id(a)"
   ]
  },
  {
   "cell_type": "code",
   "execution_count": 2,
   "metadata": {
    "ExecuteTime": {
     "end_time": "2017-11-16T15:29:13.882608Z",
     "start_time": "2017-11-16T15:29:13.864113Z"
    }
   },
   "outputs": [
    {
     "data": {
      "text/plain": [
       "2391720577864"
      ]
     },
     "execution_count": 2,
     "metadata": {},
     "output_type": "execute_result"
    }
   ],
   "source": [
    "id(b)"
   ]
  },
  {
   "cell_type": "code",
   "execution_count": 3,
   "metadata": {
    "ExecuteTime": {
     "end_time": "2017-11-16T15:29:13.907683Z",
     "start_time": "2017-11-16T15:29:13.887624Z"
    }
   },
   "outputs": [
    {
     "data": {
      "text/plain": [
       "[1, 2, 3, 4]"
      ]
     },
     "execution_count": 3,
     "metadata": {},
     "output_type": "execute_result"
    }
   ],
   "source": [
    "b.append(4)\n",
    "a"
   ]
  },
  {
   "cell_type": "markdown",
   "metadata": {},
   "source": [
    "## 深拷贝"
   ]
  },
  {
   "cell_type": "markdown",
   "metadata": {},
   "source": [
    "- 使用copy模块的deepcopy()函数\n",
    "- 使用切片方法[:]\n",
    "- 使用工厂方法(list、set、dict)"
   ]
  },
  {
   "cell_type": "code",
   "execution_count": 4,
   "metadata": {
    "ExecuteTime": {
     "end_time": "2017-11-16T15:29:13.935255Z",
     "start_time": "2017-11-16T15:29:13.912187Z"
    }
   },
   "outputs": [
    {
     "name": "stdout",
     "output_type": "stream",
     "text": [
      "2391720655112 2391720585672\n"
     ]
    }
   ],
   "source": [
    "a = [1, 2, 3]\n",
    "b = a[:]\n",
    "print(id(a), id(b))"
   ]
  },
  {
   "cell_type": "code",
   "execution_count": 5,
   "metadata": {
    "ExecuteTime": {
     "end_time": "2017-11-16T15:29:13.964827Z",
     "start_time": "2017-11-16T15:29:13.939760Z"
    }
   },
   "outputs": [
    {
     "data": {
      "text/plain": [
       "[1, 2, 3]"
      ]
     },
     "execution_count": 5,
     "metadata": {},
     "output_type": "execute_result"
    }
   ],
   "source": [
    "a.append(4)\n",
    "b"
   ]
  },
  {
   "cell_type": "markdown",
   "metadata": {},
   "source": [
    "## 函数传参时——** python中一切事物皆对象，并且规定参数的传递都是引用**"
   ]
  },
  {
   "cell_type": "markdown",
   "metadata": {},
   "source": [
    "- python不允许程序员选择传递值还是引用，python参数传递肯定是传对象的引用。\n",
    "- 如果函数收到的是一个可变对象的引用（list、dict），那么就能够直接修改原始数据，相当于传了一个引用\n",
    "- 如果函数收到的是一个不可变对象的引用（tuple、str、number），那么不能直接修改原始对象数据，相当于“值传递”"
   ]
  },
  {
   "cell_type": "code",
   "execution_count": 6,
   "metadata": {
    "ExecuteTime": {
     "end_time": "2017-11-16T15:29:13.986885Z",
     "start_time": "2017-11-16T15:29:13.967334Z"
    }
   },
   "outputs": [
    {
     "data": {
      "text/plain": [
       "[1, 2, 3]"
      ]
     },
     "execution_count": 6,
     "metadata": {},
     "output_type": "execute_result"
    }
   ],
   "source": [
    "def change(a):\n",
    "    a.append(3)\n",
    "list_1 = [1, 2]\n",
    "change(list_1)\n",
    "list_1"
   ]
  },
  {
   "cell_type": "code",
   "execution_count": 7,
   "metadata": {
    "ExecuteTime": {
     "end_time": "2017-11-16T15:29:14.012955Z",
     "start_time": "2017-11-16T15:29:13.988890Z"
    }
   },
   "outputs": [
    {
     "data": {
      "text/plain": [
       "1"
      ]
     },
     "execution_count": 7,
     "metadata": {},
     "output_type": "execute_result"
    }
   ],
   "source": [
    "def change(a):\n",
    "    a = a + 2\n",
    "num = 1\n",
    "change(num)\n",
    "num"
   ]
  },
  {
   "cell_type": "code",
   "execution_count": 8,
   "metadata": {
    "ExecuteTime": {
     "end_time": "2017-11-16T15:29:14.039525Z",
     "start_time": "2017-11-16T15:29:14.015462Z"
    }
   },
   "outputs": [
    {
     "data": {
      "text/plain": [
       "'1'"
      ]
     },
     "execution_count": 8,
     "metadata": {},
     "output_type": "execute_result"
    }
   ],
   "source": [
    "def change(a):\n",
    "    a = '2'\n",
    "str_ = '1'\n",
    "change(str_)\n",
    "str_"
   ]
  },
  {
   "cell_type": "markdown",
   "metadata": {},
   "source": [
    "** 其实本质上是因为不可变对象不能对其修改，只能整体改变（对变量名赋值），而这种操作会让形参指向另一块的内存地址空间，而不是改变原来的数据**"
   ]
  },
  {
   "cell_type": "code",
   "execution_count": 9,
   "metadata": {
    "ExecuteTime": {
     "end_time": "2017-11-16T15:29:14.068603Z",
     "start_time": "2017-11-16T15:29:14.044037Z"
    }
   },
   "outputs": [
    {
     "data": {
      "text/plain": [
       "[1, 2]"
      ]
     },
     "execution_count": 9,
     "metadata": {},
     "output_type": "execute_result"
    }
   ],
   "source": [
    "def change(a):\n",
    "    a = [0]\n",
    "list_1 = [1, 2]\n",
    "change(list_1)\n",
    "list_1"
   ]
  },
  {
   "cell_type": "markdown",
   "metadata": {},
   "source": [
    "## 名称只是一个标签，指向一块内存地址空间，一旦将一块新的空间赋值给一个变量名，那么它不再指向原来的地址，但也不会改变原来地址的数据"
   ]
  },
  {
   "cell_type": "code",
   "execution_count": 10,
   "metadata": {
    "ExecuteTime": {
     "end_time": "2017-11-16T15:29:14.098683Z",
     "start_time": "2017-11-16T15:29:14.074118Z"
    }
   },
   "outputs": [
    {
     "data": {
      "text/plain": [
       "[1, 2, 3]"
      ]
     },
     "execution_count": 10,
     "metadata": {},
     "output_type": "execute_result"
    }
   ],
   "source": [
    "a = [1, 2, 3]\n",
    "b = a\n",
    "a = [4, 5, 6]\n",
    "b"
   ]
  },
  {
   "cell_type": "markdown",
   "metadata": {},
   "source": [
    "b和a的关系其实只是指向了同一个地址，但a后来又指向了[4, 5, 6]的地址，不会改变b的指向"
   ]
  },
  {
   "cell_type": "markdown",
   "metadata": {},
   "source": [
    "## copy()与deepcopy()"
   ]
  },
  {
   "cell_type": "code",
   "execution_count": 11,
   "metadata": {
    "ExecuteTime": {
     "end_time": "2017-11-16T15:29:14.122747Z",
     "start_time": "2017-11-16T15:29:14.103195Z"
    }
   },
   "outputs": [
    {
     "data": {
      "text/plain": [
       "([1, 2, 3, 4], [1, 2, 3, 4], [1, 2, 3], [1, 2, 3])"
      ]
     },
     "execution_count": 11,
     "metadata": {},
     "output_type": "execute_result"
    }
   ],
   "source": [
    "import copy\n",
    "seq = [1, 2, 3]\n",
    "seq_1 = seq\n",
    "seq_2 = copy.copy(seq)\n",
    "seq_3 = copy.deepcopy(seq)\n",
    "seq.append(4)\n",
    "seq, seq_1, seq_2, seq_3"
   ]
  },
  {
   "cell_type": "code",
   "execution_count": 12,
   "metadata": {
    "ExecuteTime": {
     "end_time": "2017-11-16T15:29:14.147315Z",
     "start_time": "2017-11-16T15:29:14.126757Z"
    }
   },
   "outputs": [
    {
     "data": {
      "text/plain": [
       "([1, 2, 3, 4], [1, 2, 3, 4], [1, 2, 3, 5], [1, 2, 3])"
      ]
     },
     "execution_count": 12,
     "metadata": {},
     "output_type": "execute_result"
    }
   ],
   "source": [
    "seq_2.append(5)\n",
    "seq, seq_1, seq_2, seq_3"
   ]
  },
  {
   "cell_type": "code",
   "execution_count": 13,
   "metadata": {
    "ExecuteTime": {
     "end_time": "2017-11-16T15:29:14.170878Z",
     "start_time": "2017-11-16T15:29:14.151325Z"
    }
   },
   "outputs": [
    {
     "data": {
      "text/plain": [
       "([1, 2, 3, 4], [1, 2, 3, 4], [1, 2, 3, 5], [1, 2, 3, 6])"
      ]
     },
     "execution_count": 13,
     "metadata": {},
     "output_type": "execute_result"
    }
   ],
   "source": [
    "seq_3.append(6)\n",
    "seq, seq_1, seq_2, seq_3"
   ]
  },
  {
   "cell_type": "markdown",
   "metadata": {},
   "source": [
    "** copy拷贝一个对象，但是对象的属性还是引用原来的。deepcopy拷贝一个对象，把对象里面的属性也做了拷贝，deepcopy之后完全是另一个对象 **"
   ]
  },
  {
   "cell_type": "code",
   "execution_count": 14,
   "metadata": {
    "ExecuteTime": {
     "end_time": "2017-11-16T15:29:14.192936Z",
     "start_time": "2017-11-16T15:29:14.173886Z"
    }
   },
   "outputs": [
    {
     "data": {
      "text/plain": [
       "([0, 2, [3, 4, 5]], [0, 2, [3, 4, 5]], [1, 2, [3, 4, 5]], [1, 2, [3, 4]])"
      ]
     },
     "execution_count": 14,
     "metadata": {},
     "output_type": "execute_result"
    }
   ],
   "source": [
    "seq = [1, 2, [3, 4]]\n",
    "seq_1 = seq\n",
    "seq_2 = copy.copy(seq)\n",
    "seq_3 = copy.deepcopy(seq)\n",
    "seq[0] = 0\n",
    "seq[2].append(5)\n",
    "seq, seq_1, seq_2, seq_3"
   ]
  },
  {
   "cell_type": "code",
   "execution_count": 15,
   "metadata": {
    "ExecuteTime": {
     "end_time": "2017-11-16T15:29:14.216499Z",
     "start_time": "2017-11-16T15:29:14.194941Z"
    }
   },
   "outputs": [
    {
     "data": {
      "text/plain": [
       "([0, 2, [3, 4, 5]], [0, 2, [3, 4, 5]], [1, 2, [3, 4, 5]], [1, 2, [3]])"
      ]
     },
     "execution_count": 15,
     "metadata": {},
     "output_type": "execute_result"
    }
   ],
   "source": [
    "seq_3[2].pop()\n",
    "seq, seq_1, seq_2, seq_3"
   ]
  },
  {
   "cell_type": "code",
   "execution_count": 16,
   "metadata": {
    "ExecuteTime": {
     "end_time": "2017-11-16T15:29:14.241066Z",
     "start_time": "2017-11-16T15:29:14.220511Z"
    }
   },
   "outputs": [
    {
     "data": {
      "text/plain": [
       "([0, 2, [3, 4]], [0, 2, [3, 4]], [1, 2, [3, 4]], [1, 2, [3]])"
      ]
     },
     "execution_count": 16,
     "metadata": {},
     "output_type": "execute_result"
    }
   ],
   "source": [
    "seq_2[2].pop()\n",
    "seq, seq_1, seq_2, seq_3"
   ]
  }
 ],
 "metadata": {
  "hide_input": false,
  "kernelspec": {
   "display_name": "Python 3",
   "language": "python",
   "name": "python3"
  },
  "language_info": {
   "codemirror_mode": {
    "name": "ipython",
    "version": 3
   },
   "file_extension": ".py",
   "mimetype": "text/x-python",
   "name": "python",
   "nbconvert_exporter": "python",
   "pygments_lexer": "ipython3",
   "version": "3.6.1"
  },
  "toc": {
   "nav_menu": {},
   "number_sections": true,
   "sideBar": true,
   "skip_h1_title": false,
   "toc_cell": false,
   "toc_position": {},
   "toc_section_display": "block",
   "toc_window_display": false
  },
  "varInspector": {
   "cols": {
    "lenName": 16,
    "lenType": 16,
    "lenVar": 40
   },
   "kernels_config": {
    "python": {
     "delete_cmd_postfix": "",
     "delete_cmd_prefix": "del ",
     "library": "var_list.py",
     "varRefreshCmd": "print(var_dic_list())"
    },
    "r": {
     "delete_cmd_postfix": ") ",
     "delete_cmd_prefix": "rm(",
     "library": "var_list.r",
     "varRefreshCmd": "cat(var_dic_list()) "
    }
   },
   "types_to_exclude": [
    "module",
    "function",
    "builtin_function_or_method",
    "instance",
    "_Feature"
   ],
   "window_display": false
  }
 },
 "nbformat": 4,
 "nbformat_minor": 2
}
