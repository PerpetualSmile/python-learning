{
 "cells": [
  {
   "cell_type": "markdown",
   "metadata": {},
   "source": [
    "# Python 正则表达式（Regular Expression）\n",
    "- 使用re模块"
   ]
  },
  {
   "cell_type": "markdown",
   "metadata": {},
   "source": [
    "## search()方法用于在字符串中搜索正则表达式模式匹配的第一次出现的位置"
   ]
  },
  {
   "cell_type": "code",
   "execution_count": 1,
   "metadata": {
    "ExecuteTime": {
     "end_time": "2017-09-10T06:49:47.916720Z",
     "start_time": "2017-09-10T06:49:47.912711Z"
    },
    "collapsed": true
   },
   "outputs": [],
   "source": [
    "import re"
   ]
  },
  {
   "cell_type": "code",
   "execution_count": 2,
   "metadata": {
    "ExecuteTime": {
     "end_time": "2017-09-10T06:49:47.942790Z",
     "start_time": "2017-09-10T06:49:47.918727Z"
    }
   },
   "outputs": [
    {
     "data": {
      "text/plain": [
       "<_sre.SRE_Match object; span=(7, 13), match='python'>"
      ]
     },
     "execution_count": 2,
     "metadata": {},
     "output_type": "execute_result"
    }
   ],
   "source": [
    "re.search(r'python', 'I love python!')"
   ]
  },
  {
   "cell_type": "code",
   "execution_count": 3,
   "metadata": {
    "ExecuteTime": {
     "end_time": "2017-09-10T06:49:47.967857Z",
     "start_time": "2017-09-10T06:49:47.944796Z"
    }
   },
   "outputs": [
    {
     "name": "stdout",
     "output_type": "stream",
     "text": [
      "None\n"
     ]
    }
   ],
   "source": [
    "print(re.search(r'Python', 'I love python!'))"
   ]
  },
  {
   "cell_type": "markdown",
   "metadata": {},
   "source": [
    "    可以直接使用字符串的搜索方法"
   ]
  },
  {
   "cell_type": "code",
   "execution_count": 4,
   "metadata": {
    "ExecuteTime": {
     "end_time": "2017-09-10T06:49:47.980892Z",
     "start_time": "2017-09-10T06:49:47.969863Z"
    }
   },
   "outputs": [
    {
     "data": {
      "text/plain": [
       "7"
      ]
     },
     "execution_count": 4,
     "metadata": {},
     "output_type": "execute_result"
    }
   ],
   "source": [
    "'I love python!'.find(\"python\")"
   ]
  },
  {
   "cell_type": "markdown",
   "metadata": {},
   "source": [
    "## . 匹配任意字符(除了\\n换行符)"
   ]
  },
  {
   "cell_type": "code",
   "execution_count": 5,
   "metadata": {
    "ExecuteTime": {
     "end_time": "2017-09-10T06:49:48.001957Z",
     "start_time": "2017-09-10T06:49:47.982897Z"
    }
   },
   "outputs": [
    {
     "data": {
      "text/plain": [
       "<_sre.SRE_Match object; span=(0, 1), match='I'>"
      ]
     },
     "execution_count": 5,
     "metadata": {},
     "output_type": "execute_result"
    }
   ],
   "source": [
    "re.search(r'.', 'I love python!')"
   ]
  },
  {
   "cell_type": "code",
   "execution_count": 6,
   "metadata": {
    "ExecuteTime": {
     "end_time": "2017-09-10T06:49:48.019996Z",
     "start_time": "2017-09-10T06:49:48.003953Z"
    }
   },
   "outputs": [
    {
     "data": {
      "text/plain": [
       "<_sre.SRE_Match object; span=(7, 13), match='python'>"
      ]
     },
     "execution_count": 6,
     "metadata": {},
     "output_type": "execute_result"
    }
   ],
   "source": [
    "re.search(r'pytho.', 'I love python!')"
   ]
  },
  {
   "cell_type": "code",
   "execution_count": 7,
   "metadata": {
    "ExecuteTime": {
     "end_time": "2017-09-10T06:49:48.035036Z",
     "start_time": "2017-09-10T06:49:48.022001Z"
    },
    "collapsed": true
   },
   "outputs": [],
   "source": [
    "re.search(r'pytho.', 'I love pytho\\n')"
   ]
  },
  {
   "cell_type": "code",
   "execution_count": 8,
   "metadata": {
    "ExecuteTime": {
     "end_time": "2017-09-10T06:49:48.067121Z",
     "start_time": "2017-09-10T06:49:48.037041Z"
    }
   },
   "outputs": [
    {
     "data": {
      "text/plain": [
       "<_sre.SRE_Match object; span=(7, 13), match='pytho\\n'>"
      ]
     },
     "execution_count": 8,
     "metadata": {},
     "output_type": "execute_result"
    }
   ],
   "source": [
    "re.search(r'pytho.', 'I love pytho\\n', re.DOTALL)"
   ]
  },
  {
   "cell_type": "markdown",
   "metadata": {},
   "source": [
    "## \\类似转义字符"
   ]
  },
  {
   "cell_type": "markdown",
   "metadata": {},
   "source": [
    "### 用于匹配元字符（有特殊意义的字符如'.'）"
   ]
  },
  {
   "cell_type": "code",
   "execution_count": 9,
   "metadata": {
    "ExecuteTime": {
     "end_time": "2017-09-10T06:49:48.085169Z",
     "start_time": "2017-09-10T06:49:48.069126Z"
    }
   },
   "outputs": [
    {
     "data": {
      "text/plain": [
       "<_sre.SRE_Match object; span=(13, 14), match='.'>"
      ]
     },
     "execution_count": 9,
     "metadata": {},
     "output_type": "execute_result"
    }
   ],
   "source": [
    "re.search(r'\\.', 'I love python.')"
   ]
  },
  {
   "cell_type": "markdown",
   "metadata": {},
   "source": [
    "### 把普通字符转化为有特殊意义的字符"
   ]
  },
  {
   "cell_type": "code",
   "execution_count": 10,
   "metadata": {
    "ExecuteTime": {
     "end_time": "2017-09-10T06:49:48.108231Z",
     "start_time": "2017-09-10T06:49:48.087175Z"
    }
   },
   "outputs": [
    {
     "data": {
      "text/plain": [
       "<_sre.SRE_Match object; span=(7, 10), match='123'>"
      ]
     },
     "execution_count": 10,
     "metadata": {},
     "output_type": "execute_result"
    }
   ],
   "source": [
    "re.search(r'\\d\\d\\d', 'I love 123.')"
   ]
  },
  {
   "cell_type": "markdown",
   "metadata": {},
   "source": [
    "## [ ]来创建字符类\n",
    "- 匹配[ ]中的任何一个字符都算匹配"
   ]
  },
  {
   "cell_type": "code",
   "execution_count": 11,
   "metadata": {
    "ExecuteTime": {
     "end_time": "2017-09-10T06:49:48.129287Z",
     "start_time": "2017-09-10T06:49:48.110236Z"
    }
   },
   "outputs": [
    {
     "data": {
      "text/plain": [
       "<_sre.SRE_Match object; span=(1, 2), match='b'>"
      ]
     },
     "execution_count": 11,
     "metadata": {},
     "output_type": "execute_result"
    }
   ],
   "source": [
    "re.search(r'[abc]', 'Abc')"
   ]
  },
  {
   "cell_type": "markdown",
   "metadata": {},
   "source": [
    "    正则表达式大小写敏感"
   ]
  },
  {
   "cell_type": "markdown",
   "metadata": {},
   "source": [
    "### <span class=\"mark\">匹配一个范围</span>"
   ]
  },
  {
   "cell_type": "code",
   "execution_count": 12,
   "metadata": {
    "ExecuteTime": {
     "end_time": "2017-09-10T06:49:48.151345Z",
     "start_time": "2017-09-10T06:49:48.131292Z"
    }
   },
   "outputs": [
    {
     "data": {
      "text/plain": [
       "<_sre.SRE_Match object; span=(4, 5), match='b'>"
      ]
     },
     "execution_count": 12,
     "metadata": {},
     "output_type": "execute_result"
    }
   ],
   "source": [
    "re.search(r'[a-z]', '123Abc')"
   ]
  },
  {
   "cell_type": "code",
   "execution_count": 13,
   "metadata": {
    "ExecuteTime": {
     "end_time": "2017-09-10T06:49:48.171399Z",
     "start_time": "2017-09-10T06:49:48.153351Z"
    }
   },
   "outputs": [
    {
     "data": {
      "text/plain": [
       "<_sre.SRE_Match object; span=(1, 2), match='1'>"
      ]
     },
     "execution_count": 13,
     "metadata": {},
     "output_type": "execute_result"
    }
   ],
   "source": [
    "re.search(r'[1-5]', '01234')"
   ]
  },
  {
   "cell_type": "markdown",
   "metadata": {},
   "source": [
    "### <span class=\"mark\">常见错误</span>"
   ]
  },
  {
   "cell_type": "markdown",
   "metadata": {},
   "source": [
    "- 匹配0-255之间的数字"
   ]
  },
  {
   "cell_type": "code",
   "execution_count": 14,
   "metadata": {
    "ExecuteTime": {
     "end_time": "2017-09-10T06:49:48.190449Z",
     "start_time": "2017-09-10T06:49:48.173405Z"
    }
   },
   "outputs": [
    {
     "data": {
      "text/plain": [
       "<_sre.SRE_Match object; span=(0, 1), match='1'>"
      ]
     },
     "execution_count": 14,
     "metadata": {},
     "output_type": "execute_result"
    }
   ],
   "source": [
    "re.search(r'[0-255]', \"123\")"
   ]
  },
  {
   "cell_type": "markdown",
   "metadata": {},
   "source": [
    "    正则表达式匹配的是一个一个的字符，不可能整个数字匹配\n",
    "    所以以上写法只是匹配[0125]这4个数"
   ]
  },
  {
   "cell_type": "markdown",
   "metadata": {},
   "source": [
    "## { }表示重复匹配的次数"
   ]
  },
  {
   "cell_type": "code",
   "execution_count": 15,
   "metadata": {
    "ExecuteTime": {
     "end_time": "2017-09-10T06:49:48.209500Z",
     "start_time": "2017-09-10T06:49:48.192455Z"
    }
   },
   "outputs": [
    {
     "data": {
      "text/plain": [
       "<_sre.SRE_Match object; span=(9, 14), match='aaabc'>"
      ]
     },
     "execution_count": 15,
     "metadata": {},
     "output_type": "execute_result"
    }
   ],
   "source": [
    "re.search(r'a{3}bc', \"abc aabc aaabc aaaabc\")"
   ]
  },
  {
   "cell_type": "markdown",
   "metadata": {},
   "source": [
    "-  {0,9}<span class=\"mark\">可以表示重复匹配的次数是0到9</span>"
   ]
  },
  {
   "cell_type": "code",
   "execution_count": 16,
   "metadata": {
    "ExecuteTime": {
     "end_time": "2017-09-10T06:49:48.228552Z",
     "start_time": "2017-09-10T06:49:48.211505Z"
    }
   },
   "outputs": [
    {
     "data": {
      "text/plain": [
       "<_sre.SRE_Match object; span=(4, 8), match='aabc'>"
      ]
     },
     "execution_count": 16,
     "metadata": {},
     "output_type": "execute_result"
    }
   ],
   "source": [
    "re.search(r'a{2,4}bc', \"abc aabc aaabc aaaabc\")"
   ]
  },
  {
   "cell_type": "code",
   "execution_count": 17,
   "metadata": {
    "ExecuteTime": {
     "end_time": "2017-09-10T06:49:48.249607Z",
     "start_time": "2017-09-10T06:49:48.231559Z"
    }
   },
   "outputs": [
    {
     "data": {
      "text/plain": [
       "<_sre.SRE_Match object; span=(4, 9), match='aaabc'>"
      ]
     },
     "execution_count": 17,
     "metadata": {},
     "output_type": "execute_result"
    }
   ],
   "source": [
    "re.search(r'a{2,4}bc', \"abc aaabc aaaabc\")"
   ]
  },
  {
   "cell_type": "markdown",
   "metadata": {},
   "source": [
    "## | 表示逻辑或，分支条件\n",
    "- 从左到右匹配每一个分支规则，如果满足，后续的就忽略"
   ]
  },
  {
   "cell_type": "markdown",
   "metadata": {},
   "source": [
    "### 同样的例子，匹配正确范围内的ip地址(0-255)"
   ]
  },
  {
   "cell_type": "code",
   "execution_count": 18,
   "metadata": {
    "ExecuteTime": {
     "end_time": "2017-09-10T06:49:48.267655Z",
     "start_time": "2017-09-10T06:49:48.251612Z"
    }
   },
   "outputs": [
    {
     "data": {
      "text/plain": [
       "<_sre.SRE_Match object; span=(0, 3), match='188'>"
      ]
     },
     "execution_count": 18,
     "metadata": {},
     "output_type": "execute_result"
    }
   ],
   "source": [
    "re.search(r'[01]\\d\\d|2[0-4]\\d|25[0-5]','188')"
   ]
  },
  {
   "cell_type": "code",
   "execution_count": 19,
   "metadata": {
    "ExecuteTime": {
     "end_time": "2017-09-10T06:49:48.285702Z",
     "start_time": "2017-09-10T06:49:48.269660Z"
    }
   },
   "outputs": [
    {
     "data": {
      "text/plain": [
       "<_sre.SRE_Match object; span=(0, 3), match='255'>"
      ]
     },
     "execution_count": 19,
     "metadata": {},
     "output_type": "execute_result"
    }
   ],
   "source": [
    "re.search(r'[01]\\d\\d|2[0-4]\\d|25[0-5]','255')"
   ]
  },
  {
   "cell_type": "code",
   "execution_count": 20,
   "metadata": {
    "ExecuteTime": {
     "end_time": "2017-09-10T06:49:48.303750Z",
     "start_time": "2017-09-10T06:49:48.287708Z"
    },
    "collapsed": true
   },
   "outputs": [],
   "source": [
    "re.search(r'[01]\\d\\d|2[0-4]\\d|25[0-5]','256')"
   ]
  },
  {
   "cell_type": "code",
   "execution_count": 21,
   "metadata": {
    "ExecuteTime": {
     "end_time": "2017-09-10T06:49:48.320796Z",
     "start_time": "2017-09-10T06:49:48.306759Z"
    },
    "collapsed": true
   },
   "outputs": [],
   "source": [
    "re.search(r'[01]\\d\\d|2[0-4]\\d|25[0-5]','2')"
   ]
  },
  {
   "cell_type": "code",
   "execution_count": 22,
   "metadata": {
    "ExecuteTime": {
     "end_time": "2017-09-10T06:49:48.341853Z",
     "start_time": "2017-09-10T06:49:48.322801Z"
    }
   },
   "outputs": [
    {
     "data": {
      "text/plain": [
       "<_sre.SRE_Match object; span=(0, 3), match='002'>"
      ]
     },
     "execution_count": 22,
     "metadata": {},
     "output_type": "execute_result"
    }
   ],
   "source": [
    "re.search(r'[01]\\d\\d|2[0-4]\\d|25[0-5]','002')"
   ]
  },
  {
   "cell_type": "markdown",
   "metadata": {},
   "source": [
    "    以上方法限制了位数必须是3所以还不够完善"
   ]
  },
  {
   "cell_type": "markdown",
   "metadata": {},
   "source": [
    "## （ ）表示一个分组，先匹配完小括号内的，再继续匹配外面的\n",
    "- ()指定子表达式的重复次数或者进行其他操作"
   ]
  },
  {
   "cell_type": "code",
   "execution_count": 23,
   "metadata": {
    "ExecuteTime": {
     "end_time": "2017-09-10T06:49:48.360905Z",
     "start_time": "2017-09-10T06:49:48.343857Z"
    }
   },
   "outputs": [
    {
     "data": {
      "text/plain": [
       "<_sre.SRE_Match object; span=(0, 15), match='192.168.111.123'>"
      ]
     },
     "execution_count": 23,
     "metadata": {},
     "output_type": "execute_result"
    }
   ],
   "source": [
    "re.search(r'(([01]\\d\\d|2[0-4]\\d|25[0-5])\\.){3}([01]\\d\\d|2[0-4]\\d|25[0-5])','192.168.111.123')"
   ]
  },
  {
   "cell_type": "markdown",
   "metadata": {
    "collapsed": true
   },
   "source": [
    "## 汇总"
   ]
  },
  {
   "cell_type": "markdown",
   "metadata": {
    "collapsed": true
   },
   "source": [
    "### \\ + 小写字母的转义用法"
   ]
  },
  {
   "cell_type": "markdown",
   "metadata": {},
   "source": [
    "语法|用法\n",
    "-|-\n",
    "\\s|匹配任意的空白字符，包括空格、制表符、换行符、中文全角空格等\n",
    "\\d|匹配数字字符 \n",
    "\\b|匹配单词的开始或结束\n",
    "\\w|匹配字母或数字或下划线或汉字"
   ]
  },
  {
   "cell_type": "markdown",
   "metadata": {},
   "source": [
    "### \\ + 大写字母的转义用法（反义）"
   ]
  },
  {
   "cell_type": "markdown",
   "metadata": {},
   "source": [
    "语法|用法\n",
    "-|-\n",
    "\\S|匹配任意不是空白的字符\n",
    "\\D|匹配任意非数字的字符 \n",
    "\\B|匹配不是单词的开始或结束的位置\n",
    "\\W|匹配任意不是字母、数字、下划线、汉字的字符"
   ]
  },
  {
   "cell_type": "markdown",
   "metadata": {},
   "source": [
    "### 元字符的用法"
   ]
  },
  {
   "cell_type": "markdown",
   "metadata": {},
   "source": [
    "语法|用法\n",
    "-|-\n",
    ".|匹配除换行符以外的任意字符,在DOTALL模式中也可以匹配换行符\n",
    "^|匹配字符串的开始\n",
    "$|匹配字符串的结束\n",
    "*|匹配任意不是字母、数字、下划线、汉字的字符\n",
    "[^x]|匹配除了x以外的任意字符\n",
    "[^aeiou]|匹配除了aeiou这几个字符以外的字符"
   ]
  },
  {
   "cell_type": "markdown",
   "metadata": {},
   "source": [
    "### 重复次数限制"
   ]
  },
  {
   "cell_type": "markdown",
   "metadata": {},
   "source": [
    "语法|用法\n",
    "-|-\n",
    "*|重复0次或更多次（该字符可有可无）\n",
    "+|重复一次或更多次\n",
    "?|重复0次或一次\n",
    "{n}|重复n次\n",
    "{n,}|重复n次或更多次\n",
    "{n,m}|重复n到m次"
   ]
  },
  {
   "cell_type": "markdown",
   "metadata": {},
   "source": [
    "### ？的用法（贪心和非贪心）\n"
   ]
  },
  {
   "cell_type": "markdown",
   "metadata": {},
   "source": [
    "语法|用法\n",
    "-|-\n",
    "?|重复0次或一次，表示可选的分组\n",
    "*？|重复任意多次，但尽可能少重复\n",
    "+？|重复1次或更多次，但尽可能少重复\n",
    "？？|重复0次或1次，但尽可能少重复\n",
    "{n,}?|重复n次或更多次，但尽可能少重复\n",
    "{n,m}?|重复n到m次，但尽可能少重复"
   ]
  },
  {
   "cell_type": "code",
   "execution_count": null,
   "metadata": {
    "collapsed": true
   },
   "outputs": [],
   "source": []
  }
 ],
 "metadata": {
  "hide_input": false,
  "kernelspec": {
   "display_name": "Python 3",
   "language": "python",
   "name": "python3"
  },
  "language_info": {
   "codemirror_mode": {
    "name": "ipython",
    "version": 3
   },
   "file_extension": ".py",
   "mimetype": "text/x-python",
   "name": "python",
   "nbconvert_exporter": "python",
   "pygments_lexer": "ipython3",
   "version": "3.6.1"
  },
  "toc": {
   "nav_menu": {},
   "number_sections": true,
   "sideBar": true,
   "skip_h1_title": false,
   "toc_cell": false,
   "toc_position": {},
   "toc_section_display": "block",
   "toc_window_display": false
  },
  "varInspector": {
   "cols": {
    "lenName": 16,
    "lenType": 16,
    "lenVar": 40
   },
   "kernels_config": {
    "python": {
     "delete_cmd_postfix": "",
     "delete_cmd_prefix": "del ",
     "library": "var_list.py",
     "varRefreshCmd": "print(var_dic_list())"
    },
    "r": {
     "delete_cmd_postfix": ") ",
     "delete_cmd_prefix": "rm(",
     "library": "var_list.r",
     "varRefreshCmd": "cat(var_dic_list()) "
    }
   },
   "types_to_exclude": [
    "module",
    "function",
    "builtin_function_or_method",
    "instance",
    "_Feature"
   ],
   "window_display": false
  }
 },
 "nbformat": 4,
 "nbformat_minor": 2
}
