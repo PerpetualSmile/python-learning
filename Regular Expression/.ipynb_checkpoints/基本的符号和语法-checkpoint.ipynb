{
 "cells": [
  {
   "cell_type": "markdown",
   "metadata": {},
   "source": [
    "# Python 正则表达式（Regular Expression）\n",
    "- 使用re模块\n",
    "- [Python Regular Expression Documents](https://pymotw.com/3/re/index.html#module-re)"
   ]
  },
  {
   "cell_type": "markdown",
   "metadata": {},
   "source": [
    "## Python正则表达式的一般步骤"
   ]
  },
  {
   "cell_type": "markdown",
   "metadata": {},
   "source": [
    "re.compile()开始，创建一个Regex对象\n",
    "调用匹配函数\n",
    "调用group()返回结果"
   ]
  },
  {
   "cell_type": "code",
   "execution_count": 1,
   "metadata": {
    "ExecuteTime": {
     "end_time": "2017-09-13T10:43:20.291673Z",
     "start_time": "2017-09-13T10:43:20.288665Z"
    },
    "collapsed": true
   },
   "outputs": [],
   "source": [
    "import re"
   ]
  },
  {
   "cell_type": "code",
   "execution_count": 2,
   "metadata": {
    "ExecuteTime": {
     "end_time": "2017-09-13T10:43:20.319749Z",
     "start_time": "2017-09-13T10:43:20.293681Z"
    }
   },
   "outputs": [
    {
     "data": {
      "text/plain": [
       "'dog'"
      ]
     },
     "execution_count": 2,
     "metadata": {},
     "output_type": "execute_result"
    }
   ],
   "source": [
    "regex = re.compile(r'\\b\\w{3}\\b')  # 匹配三个字符的单词\n",
    "text = regex.search(\"coffee dog cat \")\n",
    "text.group()"
   ]
  },
  {
   "cell_type": "markdown",
   "metadata": {},
   "source": [
    "> 为何表达式前面要用r？(raw规则) 正则表达式的规则也是由一个字符串定义的，而\\在字符串中本身就是一个转义字符，要表示\\必须使用两个\\\\来表示当前的\\是普通字符，而正则表达式大量使用\\，那么如果不加r，表示整数就需要这样写\\\\\\d多写一个\\，很麻烦"
   ]
  },
  {
   "cell_type": "markdown",
   "metadata": {},
   "source": [
    "不使用r的写法"
   ]
  },
  {
   "cell_type": "code",
   "execution_count": 3,
   "metadata": {
    "ExecuteTime": {
     "end_time": "2017-09-13T10:43:20.336793Z",
     "start_time": "2017-09-13T10:43:20.321754Z"
    }
   },
   "outputs": [
    {
     "data": {
      "text/plain": [
       "'dog'"
      ]
     },
     "execution_count": 3,
     "metadata": {},
     "output_type": "execute_result"
    }
   ],
   "source": [
    "regex = re.compile('\\\\b\\\\w{3}\\\\b')  # 匹配三个字符的单词\n",
    "text = regex.search(\"coffee dog cat \")\n",
    "text.group()"
   ]
  },
  {
   "cell_type": "markdown",
   "metadata": {},
   "source": [
    "## . 匹配任意字符(除了\\n换行符)"
   ]
  },
  {
   "cell_type": "code",
   "execution_count": 4,
   "metadata": {
    "ExecuteTime": {
     "end_time": "2017-09-13T10:43:20.354841Z",
     "start_time": "2017-09-13T10:43:20.338799Z"
    }
   },
   "outputs": [
    {
     "data": {
      "text/plain": [
       "<_sre.SRE_Match object; span=(0, 1), match='I'>"
      ]
     },
     "execution_count": 4,
     "metadata": {},
     "output_type": "execute_result"
    }
   ],
   "source": [
    "re.search(r'.', 'I love python!')"
   ]
  },
  {
   "cell_type": "code",
   "execution_count": 5,
   "metadata": {
    "ExecuteTime": {
     "end_time": "2017-09-13T10:43:20.374895Z",
     "start_time": "2017-09-13T10:43:20.356846Z"
    }
   },
   "outputs": [
    {
     "data": {
      "text/plain": [
       "<_sre.SRE_Match object; span=(7, 13), match='python'>"
      ]
     },
     "execution_count": 5,
     "metadata": {},
     "output_type": "execute_result"
    }
   ],
   "source": [
    "re.search(r'pytho.', 'I love python!')"
   ]
  },
  {
   "cell_type": "code",
   "execution_count": 6,
   "metadata": {
    "ExecuteTime": {
     "end_time": "2017-09-13T10:43:20.390937Z",
     "start_time": "2017-09-13T10:43:20.376899Z"
    },
    "collapsed": true
   },
   "outputs": [],
   "source": [
    "re.search(r'pytho.', 'I love pytho\\n')"
   ]
  },
  {
   "cell_type": "code",
   "execution_count": 7,
   "metadata": {
    "ExecuteTime": {
     "end_time": "2017-09-13T10:43:20.408985Z",
     "start_time": "2017-09-13T10:43:20.392943Z"
    }
   },
   "outputs": [
    {
     "data": {
      "text/plain": [
       "<_sre.SRE_Match object; span=(7, 13), match='pytho\\n'>"
      ]
     },
     "execution_count": 7,
     "metadata": {},
     "output_type": "execute_result"
    }
   ],
   "source": [
    "re.search(r'pytho.', 'I love pytho\\n', re.DOTALL)"
   ]
  },
  {
   "cell_type": "markdown",
   "metadata": {},
   "source": [
    "## \\类似转义字符"
   ]
  },
  {
   "cell_type": "markdown",
   "metadata": {},
   "source": [
    "### 用于匹配元字符（有特殊意义的字符如'.'）"
   ]
  },
  {
   "cell_type": "code",
   "execution_count": 8,
   "metadata": {
    "ExecuteTime": {
     "end_time": "2017-09-13T10:43:20.427034Z",
     "start_time": "2017-09-13T10:43:20.410991Z"
    }
   },
   "outputs": [
    {
     "data": {
      "text/plain": [
       "<_sre.SRE_Match object; span=(13, 14), match='.'>"
      ]
     },
     "execution_count": 8,
     "metadata": {},
     "output_type": "execute_result"
    }
   ],
   "source": [
    "re.search(r'\\.', 'I love python.')"
   ]
  },
  {
   "cell_type": "markdown",
   "metadata": {},
   "source": [
    "### 把普通字符转化为有特殊意义的字符"
   ]
  },
  {
   "cell_type": "code",
   "execution_count": 9,
   "metadata": {
    "ExecuteTime": {
     "end_time": "2017-09-13T10:43:20.445081Z",
     "start_time": "2017-09-13T10:43:20.429039Z"
    }
   },
   "outputs": [
    {
     "data": {
      "text/plain": [
       "<_sre.SRE_Match object; span=(7, 10), match='123'>"
      ]
     },
     "execution_count": 9,
     "metadata": {},
     "output_type": "execute_result"
    }
   ],
   "source": [
    "re.search(r'\\d\\d\\d', 'I love 123.')"
   ]
  },
  {
   "cell_type": "markdown",
   "metadata": {},
   "source": [
    "## [ ]来创建字符类\n",
    "- 匹配[ ]中的任何一个字符都算匹配\n",
    "- 可以用-表示一个字符范围，比如[0-9]表示匹配0到9的数字字符，但不能认为[0-255]匹配0到255之间的数，正则表达式匹配的是一个一个的字符，不存在多位数同时匹配\n",
    "- 可以把^写在括号内的开头，表示取非，不匹配括号内的任意一个字符，如[^a-zA-Z]表示不匹配任何英文字母\n",
    "- ^在括号内但不在开头，则就表示字符的^,[a-z^A-Z]表示匹配所有英文字母和^"
   ]
  },
  {
   "cell_type": "code",
   "execution_count": 10,
   "metadata": {
    "ExecuteTime": {
     "end_time": "2017-09-13T10:43:20.465134Z",
     "start_time": "2017-09-13T10:43:20.447086Z"
    }
   },
   "outputs": [
    {
     "data": {
      "text/plain": [
       "<_sre.SRE_Match object; span=(1, 2), match='b'>"
      ]
     },
     "execution_count": 10,
     "metadata": {},
     "output_type": "execute_result"
    }
   ],
   "source": [
    "re.search(r'[abc]', 'Abc')"
   ]
  },
  {
   "cell_type": "code",
   "execution_count": 11,
   "metadata": {
    "ExecuteTime": {
     "end_time": "2017-09-13T10:43:20.483182Z",
     "start_time": "2017-09-13T10:43:20.467141Z"
    }
   },
   "outputs": [
    {
     "data": {
      "text/plain": [
       "<_sre.SRE_Match object; span=(5, 6), match='2'>"
      ]
     },
     "execution_count": 11,
     "metadata": {},
     "output_type": "execute_result"
    }
   ],
   "source": [
    "re.search(r'[^a-zA-z]', 'aADXc21')"
   ]
  },
  {
   "cell_type": "markdown",
   "metadata": {},
   "source": [
    "    正则表达式大小写敏感"
   ]
  },
  {
   "cell_type": "markdown",
   "metadata": {},
   "source": [
    "### <span class=\"mark\">匹配一个范围</span>"
   ]
  },
  {
   "cell_type": "code",
   "execution_count": 12,
   "metadata": {
    "ExecuteTime": {
     "end_time": "2017-09-13T10:43:20.501241Z",
     "start_time": "2017-09-13T10:43:20.485188Z"
    }
   },
   "outputs": [
    {
     "data": {
      "text/plain": [
       "<_sre.SRE_Match object; span=(4, 5), match='b'>"
      ]
     },
     "execution_count": 12,
     "metadata": {},
     "output_type": "execute_result"
    }
   ],
   "source": [
    "re.search(r'[a-z]', '123Abc')"
   ]
  },
  {
   "cell_type": "code",
   "execution_count": 13,
   "metadata": {
    "ExecuteTime": {
     "end_time": "2017-09-13T10:43:20.522286Z",
     "start_time": "2017-09-13T10:43:20.503236Z"
    }
   },
   "outputs": [
    {
     "data": {
      "text/plain": [
       "<_sre.SRE_Match object; span=(1, 2), match='1'>"
      ]
     },
     "execution_count": 13,
     "metadata": {},
     "output_type": "execute_result"
    }
   ],
   "source": [
    "re.search(r'[1-5]', '01234')"
   ]
  },
  {
   "cell_type": "markdown",
   "metadata": {},
   "source": [
    "### <span class=\"mark\">常见错误</span>"
   ]
  },
  {
   "cell_type": "markdown",
   "metadata": {},
   "source": [
    "- 匹配0-255之间的数字"
   ]
  },
  {
   "cell_type": "code",
   "execution_count": 14,
   "metadata": {
    "ExecuteTime": {
     "end_time": "2017-09-13T10:43:20.544345Z",
     "start_time": "2017-09-13T10:43:20.524292Z"
    }
   },
   "outputs": [
    {
     "data": {
      "text/plain": [
       "<_sre.SRE_Match object; span=(0, 1), match='1'>"
      ]
     },
     "execution_count": 14,
     "metadata": {},
     "output_type": "execute_result"
    }
   ],
   "source": [
    "re.search(r'[0-255]', \"123\")"
   ]
  },
  {
   "cell_type": "markdown",
   "metadata": {},
   "source": [
    "    正则表达式匹配的是一个一个的字符，不可能整个数字匹配\n",
    "    所以以上写法只是匹配[0125]这4个数"
   ]
  },
  {
   "cell_type": "markdown",
   "metadata": {},
   "source": [
    "## { }表示重复匹配的次数"
   ]
  },
  {
   "cell_type": "code",
   "execution_count": 15,
   "metadata": {
    "ExecuteTime": {
     "end_time": "2017-09-13T10:43:20.564399Z",
     "start_time": "2017-09-13T10:43:20.546350Z"
    }
   },
   "outputs": [
    {
     "data": {
      "text/plain": [
       "<_sre.SRE_Match object; span=(9, 14), match='aaabc'>"
      ]
     },
     "execution_count": 15,
     "metadata": {},
     "output_type": "execute_result"
    }
   ],
   "source": [
    "re.search(r'a{3}bc', \"abc aabc aaabc aaaabc\")"
   ]
  },
  {
   "cell_type": "markdown",
   "metadata": {},
   "source": [
    "-  {0,9}<span class=\"mark\">可以表示重复匹配的次数是0到9</span>"
   ]
  },
  {
   "cell_type": "code",
   "execution_count": 16,
   "metadata": {
    "ExecuteTime": {
     "end_time": "2017-09-13T10:43:20.584452Z",
     "start_time": "2017-09-13T10:43:20.566403Z"
    }
   },
   "outputs": [
    {
     "data": {
      "text/plain": [
       "<_sre.SRE_Match object; span=(4, 8), match='aabc'>"
      ]
     },
     "execution_count": 16,
     "metadata": {},
     "output_type": "execute_result"
    }
   ],
   "source": [
    "re.search(r'a{2,4}bc', \"abc aabc aaabc aaaabc\")"
   ]
  },
  {
   "cell_type": "code",
   "execution_count": 17,
   "metadata": {
    "ExecuteTime": {
     "end_time": "2017-09-13T10:43:20.601497Z",
     "start_time": "2017-09-13T10:43:20.586458Z"
    }
   },
   "outputs": [
    {
     "data": {
      "text/plain": [
       "<_sre.SRE_Match object; span=(4, 9), match='aaabc'>"
      ]
     },
     "execution_count": 17,
     "metadata": {},
     "output_type": "execute_result"
    }
   ],
   "source": [
    "re.search(r'a{2,4}bc', \"abc aaabc aaaabc\")"
   ]
  },
  {
   "cell_type": "markdown",
   "metadata": {},
   "source": [
    "## | 表示逻辑或，分支条件\n",
    "- 从左到右匹配每一个分支规则，如果满足，后续的就忽略\n",
    "- 在[]中间不再表示或，就是字符|。如果要在[]外面表示字符的|，必须使用\\转义\n",
    "- 有效范围是两边的整条规则，abc|xyz 匹配的是abc或者xyz，而不是abcyz或abxyz\n",
    "- 如果要限定范围，要使用（），并且最好使用（？：）无捕获组来限定。"
   ]
  },
  {
   "cell_type": "code",
   "execution_count": 18,
   "metadata": {
    "ExecuteTime": {
     "end_time": "2017-09-13T10:43:20.618542Z",
     "start_time": "2017-09-13T10:43:20.603503Z"
    }
   },
   "outputs": [
    {
     "data": {
      "text/plain": [
       "['abcyz']"
      ]
     },
     "execution_count": 18,
     "metadata": {},
     "output_type": "execute_result"
    }
   ],
   "source": [
    "re.findall(r'ab(?:c|x)yz', 'adasdabcyzadasfdav')"
   ]
  },
  {
   "cell_type": "code",
   "execution_count": 19,
   "metadata": {
    "ExecuteTime": {
     "end_time": "2017-09-13T10:43:20.638595Z",
     "start_time": "2017-09-13T10:43:20.620548Z"
    }
   },
   "outputs": [
    {
     "data": {
      "text/plain": [
       "['c']"
      ]
     },
     "execution_count": 19,
     "metadata": {},
     "output_type": "execute_result"
    }
   ],
   "source": [
    "re.findall(r'ab(c|x)yz', 'adasdabcyzadasfdav')"
   ]
  },
  {
   "cell_type": "code",
   "execution_count": 20,
   "metadata": {
    "ExecuteTime": {
     "end_time": "2017-09-13T10:43:20.655641Z",
     "start_time": "2017-09-13T10:43:20.640602Z"
    }
   },
   "outputs": [
    {
     "data": {
      "text/plain": [
       "['abc']"
      ]
     },
     "execution_count": 20,
     "metadata": {},
     "output_type": "execute_result"
    }
   ],
   "source": [
    "re.findall(r'abc|xyz', 'adasdabcyzadasfdav')"
   ]
  },
  {
   "cell_type": "markdown",
   "metadata": {},
   "source": [
    "### 同样的例子，匹配正确范围内的ip地址(0-255)"
   ]
  },
  {
   "cell_type": "code",
   "execution_count": 21,
   "metadata": {
    "ExecuteTime": {
     "end_time": "2017-09-13T10:43:20.672687Z",
     "start_time": "2017-09-13T10:43:20.657646Z"
    }
   },
   "outputs": [
    {
     "data": {
      "text/plain": [
       "<_sre.SRE_Match object; span=(0, 3), match='188'>"
      ]
     },
     "execution_count": 21,
     "metadata": {},
     "output_type": "execute_result"
    }
   ],
   "source": [
    "re.search(r'[01]\\d\\d|2[0-4]\\d|25[0-5]', '188')"
   ]
  },
  {
   "cell_type": "code",
   "execution_count": 22,
   "metadata": {
    "ExecuteTime": {
     "end_time": "2017-09-13T10:43:20.689732Z",
     "start_time": "2017-09-13T10:43:20.674692Z"
    }
   },
   "outputs": [
    {
     "data": {
      "text/plain": [
       "<_sre.SRE_Match object; span=(0, 3), match='255'>"
      ]
     },
     "execution_count": 22,
     "metadata": {},
     "output_type": "execute_result"
    }
   ],
   "source": [
    "re.search(r'[01]\\d\\d|2[0-4]\\d|25[0-5]', '255')"
   ]
  },
  {
   "cell_type": "code",
   "execution_count": 23,
   "metadata": {
    "ExecuteTime": {
     "end_time": "2017-09-13T10:43:20.705775Z",
     "start_time": "2017-09-13T10:43:20.691737Z"
    },
    "collapsed": true
   },
   "outputs": [],
   "source": [
    "re.search(r'[01]\\d\\d|2[0-4]\\d|25[0-5]', '256')"
   ]
  },
  {
   "cell_type": "code",
   "execution_count": 24,
   "metadata": {
    "ExecuteTime": {
     "end_time": "2017-09-13T10:43:20.721817Z",
     "start_time": "2017-09-13T10:43:20.707781Z"
    },
    "collapsed": true
   },
   "outputs": [],
   "source": [
    "re.search(r'[01]\\d\\d|2[0-4]\\d|25[0-5]', '2')"
   ]
  },
  {
   "cell_type": "code",
   "execution_count": 25,
   "metadata": {
    "ExecuteTime": {
     "end_time": "2017-09-13T10:43:20.740867Z",
     "start_time": "2017-09-13T10:43:20.723823Z"
    }
   },
   "outputs": [
    {
     "data": {
      "text/plain": [
       "<_sre.SRE_Match object; span=(0, 3), match='002'>"
      ]
     },
     "execution_count": 25,
     "metadata": {},
     "output_type": "execute_result"
    }
   ],
   "source": [
    "re.search(r'[01]\\d\\d|2[0-4]\\d|25[0-5]', '002')"
   ]
  },
  {
   "cell_type": "markdown",
   "metadata": {},
   "source": [
    "    以上方法限制了位数必须是3所以还不够完善"
   ]
  },
  {
   "cell_type": "markdown",
   "metadata": {},
   "source": [
    "## （ ）表示一个分组，先匹配完小括号内的，再继续匹配外面的\n",
    "- ()指定子表达式的重复次数或者进行其他操作"
   ]
  },
  {
   "cell_type": "code",
   "execution_count": 26,
   "metadata": {
    "ExecuteTime": {
     "end_time": "2017-09-13T10:43:20.757913Z",
     "start_time": "2017-09-13T10:43:20.742873Z"
    },
    "scrolled": true
   },
   "outputs": [
    {
     "data": {
      "text/plain": [
       "<_sre.SRE_Match object; span=(0, 15), match='192.168.111.123'>"
      ]
     },
     "execution_count": 26,
     "metadata": {},
     "output_type": "execute_result"
    }
   ],
   "source": [
    "re.search(\n",
    "    r'(([01]\\d\\d|2[0-4]\\d|25[0-5])\\.){3}([01]\\d\\d|2[0-4]\\d|25[0-5])', '192.168.111.123')"
   ]
  },
  {
   "cell_type": "markdown",
   "metadata": {},
   "source": [
    "### 无命名组（），最基本的组，可以用来匹配包夹在中间的特定的字符串"
   ]
  },
  {
   "cell_type": "markdown",
   "metadata": {},
   "source": [
    "注意以下用法的区别，只返回括号内的字符串"
   ]
  },
  {
   "cell_type": "code",
   "execution_count": 27,
   "metadata": {
    "ExecuteTime": {
     "end_time": "2017-09-13T10:43:20.784985Z",
     "start_time": "2017-09-13T10:43:20.759919Z"
    }
   },
   "outputs": [
    {
     "data": {
      "text/plain": [
       "['1']"
      ]
     },
     "execution_count": 27,
     "metadata": {},
     "output_type": "execute_result"
    }
   ],
   "source": [
    "s = 'aaa111aaa bbb222 333ccc'\n",
    "re.findall(r'[a-z]+(\\d)+[a-z]+', s)"
   ]
  },
  {
   "cell_type": "code",
   "execution_count": 28,
   "metadata": {
    "ExecuteTime": {
     "end_time": "2017-09-13T10:43:20.807045Z",
     "start_time": "2017-09-13T10:43:20.789998Z"
    }
   },
   "outputs": [
    {
     "data": {
      "text/plain": [
       "['111']"
      ]
     },
     "execution_count": 28,
     "metadata": {},
     "output_type": "execute_result"
    }
   ],
   "source": [
    "s = 'aaa111aaa bbb222 333ccc'\n",
    "re.findall(r'[a-z]+(\\d+)[a-z]+', s)"
   ]
  },
  {
   "cell_type": "code",
   "execution_count": 29,
   "metadata": {
    "ExecuteTime": {
     "end_time": "2017-09-13T10:43:20.829102Z",
     "start_time": "2017-09-13T10:43:20.809049Z"
    }
   },
   "outputs": [
    {
     "data": {
      "text/plain": [
       "['aaa111aaa']"
      ]
     },
     "execution_count": 29,
     "metadata": {},
     "output_type": "execute_result"
    }
   ],
   "source": [
    "s = 'aaa111aaa bbb222 333ccc'\n",
    "re.findall(r'[a-z]+\\d+[a-z]+', s)"
   ]
  },
  {
   "cell_type": "markdown",
   "metadata": {},
   "source": [
    "### (? P< name>...)表示命名组"
   ]
  },
  {
   "cell_type": "markdown",
   "metadata": {},
   "source": [
    "(?P=name)调用已匹配的命名组"
   ]
  },
  {
   "cell_type": "code",
   "execution_count": 30,
   "metadata": {
    "ExecuteTime": {
     "end_time": "2017-09-13T10:43:20.846148Z",
     "start_time": "2017-09-13T10:43:20.831108Z"
    },
    "collapsed": true
   },
   "outputs": [],
   "source": [
    "s = 'aaa111aaa,bbb222,333ccc,444ddd444,555eee666,fff777ggg'"
   ]
  },
  {
   "cell_type": "markdown",
   "metadata": {},
   "source": [
    "找出中间夹有数字的字母"
   ]
  },
  {
   "cell_type": "code",
   "execution_count": 31,
   "metadata": {
    "ExecuteTime": {
     "end_time": "2017-09-13T10:43:20.866201Z",
     "start_time": "2017-09-13T10:43:20.848153Z"
    }
   },
   "outputs": [
    {
     "data": {
      "text/plain": [
       "[('aaa', 'aaa'), ('fff', 'ggg')]"
      ]
     },
     "execution_count": 31,
     "metadata": {},
     "output_type": "execute_result"
    }
   ],
   "source": [
    "re.findall(r'([a-z]+)\\d+([a-z]+)', s)"
   ]
  },
  {
   "cell_type": "markdown",
   "metadata": {},
   "source": [
    "找出中间夹有数字且前后是同样字母的字母"
   ]
  },
  {
   "cell_type": "code",
   "execution_count": 32,
   "metadata": {
    "ExecuteTime": {
     "end_time": "2017-09-13T10:43:20.882244Z",
     "start_time": "2017-09-13T10:43:20.868206Z"
    }
   },
   "outputs": [
    {
     "data": {
      "text/plain": [
       "['aaa']"
      ]
     },
     "execution_count": 32,
     "metadata": {},
     "output_type": "execute_result"
    }
   ],
   "source": [
    "re.findall(r'(?P<a>[a-z]+)\\d+(?P=a)', s)"
   ]
  },
  {
   "cell_type": "markdown",
   "metadata": {},
   "source": [
    "### \"\\ number \"通过序号调用已匹配的组，编号从1开始，每遇到一个'('编号加1"
   ]
  },
  {
   "cell_type": "code",
   "execution_count": 33,
   "metadata": {
    "ExecuteTime": {
     "end_time": "2017-09-13T10:43:20.902298Z",
     "start_time": "2017-09-13T10:43:20.884249Z"
    }
   },
   "outputs": [
    {
     "data": {
      "text/plain": [
       "['aaa']"
      ]
     },
     "execution_count": 33,
     "metadata": {},
     "output_type": "execute_result"
    }
   ],
   "source": [
    "re.findall(r'([a-z]+)\\d+\\1', s)"
   ]
  },
  {
   "cell_type": "markdown",
   "metadata": {},
   "source": [
    "找出完全对称的数字字母组合"
   ]
  },
  {
   "cell_type": "code",
   "execution_count": 34,
   "metadata": {
    "ExecuteTime": {
     "end_time": "2017-09-13T10:43:20.921348Z",
     "start_time": "2017-09-13T10:43:20.904303Z"
    }
   },
   "outputs": [
    {
     "data": {
      "text/plain": [
       "[('111', 'aaa', '222', 'aaa', '111')]"
      ]
     },
     "execution_count": 34,
     "metadata": {},
     "output_type": "execute_result"
    }
   ],
   "source": [
    "s = '111aaa222aaa111 , 333bbb444bb33'\n",
    "re.findall(r'(\\d+)([a-z]+)(\\d+)(\\2)(\\1)', s)"
   ]
  },
  {
   "cell_type": "markdown",
   "metadata": {},
   "source": [
    "### (?(id/name)yes-pattern|no-pattern) 判断指定的组是否已经匹配，执行相应的后续匹配"
   ]
  },
  {
   "cell_type": "code",
   "execution_count": 35,
   "metadata": {
    "ExecuteTime": {
     "end_time": "2017-09-13T10:43:20.940398Z",
     "start_time": "2017-09-13T10:43:20.923354Z"
    }
   },
   "outputs": [
    {
     "data": {
      "text/plain": [
       "[('<', 'usr1@mail1', '>'), ('', 'usr2@maill2', '')]"
      ]
     },
     "execution_count": 35,
     "metadata": {},
     "output_type": "execute_result"
    }
   ],
   "source": [
    "s = '<usr1@mail1>  usr2@maill2'\n",
    "re.findall(r'(<)?\\s*(\\w+@\\w+)\\s*(?(1)(>))', s)"
   ]
  },
  {
   "cell_type": "markdown",
   "metadata": {},
   "source": [
    "## 前向界定与后向界定\n",
    "- 匹配一个跟在特定内容前面或者后面的字符串"
   ]
  },
  {
   "cell_type": "markdown",
   "metadata": {},
   "source": [
    "(?<=\"\")前向界定，”“里面是希望匹配的字符串前面应该出现的字符串"
   ]
  },
  {
   "cell_type": "markdown",
   "metadata": {},
   "source": [
    "(?=\"\")后向界定，”“里面是希望匹配的字符串后面应该出现的字符串"
   ]
  },
  {
   "cell_type": "code",
   "execution_count": 36,
   "metadata": {
    "ExecuteTime": {
     "end_time": "2017-09-13T10:43:20.958446Z",
     "start_time": "2017-09-13T10:43:20.942404Z"
    }
   },
   "outputs": [
    {
     "data": {
      "text/plain": [
       "[' comment 1 ', ' comment 2 ']"
      ]
     },
     "execution_count": 36,
     "metadata": {},
     "output_type": "execute_result"
    }
   ],
   "source": [
    "s = r'\\* comment 1 *\\  code  \\* comment 2 *\\ '\n",
    "re.findall(r'(?<=\\\\\\*).*?(?=\\*\\\\)', s)"
   ]
  },
  {
   "cell_type": "code",
   "execution_count": 37,
   "metadata": {
    "ExecuteTime": {
     "end_time": "2017-09-13T10:43:20.976494Z",
     "start_time": "2017-09-13T10:43:20.960455Z"
    }
   },
   "outputs": [
    {
     "data": {
      "text/plain": [
       "['111']"
      ]
     },
     "execution_count": 37,
     "metadata": {},
     "output_type": "execute_result"
    }
   ],
   "source": [
    "s = 'aaa111aaa,bbb222,333ccc'  # 提取中间的数字\n",
    "re.findall(r'(?<=[a-z])\\d+(?=[a-z]+)', s)"
   ]
  },
  {
   "cell_type": "markdown",
   "metadata": {},
   "source": [
    "前向非界定(?<!\"\") 当字符串前面不是\" \"时才匹配"
   ]
  },
  {
   "cell_type": "markdown",
   "metadata": {},
   "source": [
    "后向非界定(?!\"\") 当字符串后面不跟着\" \"里面内容是才匹配"
   ]
  },
  {
   "cell_type": "code",
   "execution_count": 38,
   "metadata": {
    "ExecuteTime": {
     "end_time": "2017-09-13T10:43:20.994543Z",
     "start_time": "2017-09-13T10:43:20.978500Z"
    }
   },
   "outputs": [
    {
     "data": {
      "text/plain": [
       "['222']"
      ]
     },
     "execution_count": 38,
     "metadata": {},
     "output_type": "execute_result"
    }
   ],
   "source": [
    "re.findall(r'\\d+(?!\\w+)', s)"
   ]
  },
  {
   "cell_type": "markdown",
   "metadata": {
    "collapsed": true
   },
   "source": [
    "## 汇总"
   ]
  },
  {
   "cell_type": "markdown",
   "metadata": {
    "collapsed": true
   },
   "source": [
    "### \\ + 小写字母的转义用法"
   ]
  },
  {
   "cell_type": "markdown",
   "metadata": {},
   "source": [
    "\n",
    "| 语法  | 用法 |\n",
    "| :- | :- |\n",
    "| \\s | 匹配任意的空白字符，包括空格、制表符、换行符、中文全角空格等 |\n",
    "| \\d | 匹配数字字符，等价于[0-9] |\n",
    "| \\b | 匹配单词的开始或结束 |\n",
    "| \\w | 匹配字母或数字或下划线或汉字 |\n",
    "| \\m | 匹配单词的起始位置 |\n"
   ]
  },
  {
   "cell_type": "markdown",
   "metadata": {},
   "source": [
    "### \\ + 大写字母的转义用法（反义）"
   ]
  },
  {
   "cell_type": "markdown",
   "metadata": {},
   "source": [
    "\n",
    "| 语法 | 用法 |\n",
    "| :- | :- |\n",
    "| \\A | 只匹配字符串的开头，不会匹配其他行的行首（与^的区别） |\n",
    "| \\Z | 只匹配字符串的结尾，不会匹配其他行的行尾（与$的区别） |\n",
    "| \\S | 匹配任意不是空白的字符 |\n",
    "| \\D | 匹配任意非数字的字符 |\n",
    "| \\B | 匹配不是单词的开始或结束的位置 |\n",
    "| \\W | 匹配任意不是字母、数字、下划线、汉字的字符 |\n",
    "| \\M | 匹配单词的结束位置 |\n"
   ]
  },
  {
   "cell_type": "markdown",
   "metadata": {},
   "source": [
    "### 元字符的用法"
   ]
  },
  {
   "cell_type": "markdown",
   "metadata": {},
   "source": [
    "\n",
    "| 语法 | 用法 |\n",
    "| :-| :- |\n",
    "| . | 匹配除换行符以外的任意字符,在DOTALL模式中也可以匹配换行符 |\n",
    "| ^ | 匹配字符串的开始（可以匹配每一行的行首和行尾）|\n",
    "| $ | 匹配字符串的结束（可以匹配每一行的行首和行尾） |\n",
    "| * | 匹配任意不是字母、数字、下划线、汉字的字符 |\n",
    "| [^x] | 匹配除了x以外的任意字符 |\n",
    "| [^aeiou] | 匹配除了aeiou这几个字符以外的字符 |\n"
   ]
  },
  {
   "cell_type": "markdown",
   "metadata": {},
   "source": [
    "^ $ \\A \\Z 的用法与区别"
   ]
  },
  {
   "cell_type": "code",
   "execution_count": 39,
   "metadata": {
    "ExecuteTime": {
     "end_time": "2017-09-13T10:43:21.010585Z",
     "start_time": "2017-09-13T10:43:20.996548Z"
    },
    "collapsed": true
   },
   "outputs": [],
   "source": [
    "s = '12 34\\n56 78\\n90'"
   ]
  },
  {
   "cell_type": "code",
   "execution_count": 40,
   "metadata": {
    "ExecuteTime": {
     "end_time": "2017-09-13T10:43:21.033646Z",
     "start_time": "2017-09-13T10:43:21.012590Z"
    }
   },
   "outputs": [
    {
     "data": {
      "text/plain": [
       "['12', '56', '90']"
      ]
     },
     "execution_count": 40,
     "metadata": {},
     "output_type": "execute_result"
    }
   ],
   "source": [
    "re.findall(r'^\\d+', s, re.MULTILINE)"
   ]
  },
  {
   "cell_type": "code",
   "execution_count": 41,
   "metadata": {
    "ExecuteTime": {
     "end_time": "2017-09-13T10:43:21.054703Z",
     "start_time": "2017-09-13T10:43:21.038659Z"
    }
   },
   "outputs": [
    {
     "data": {
      "text/plain": [
       "['34', '78', '90']"
      ]
     },
     "execution_count": 41,
     "metadata": {},
     "output_type": "execute_result"
    }
   ],
   "source": [
    "re.findall(r'\\d+$', s, re.MULTILINE)"
   ]
  },
  {
   "cell_type": "code",
   "execution_count": 42,
   "metadata": {
    "ExecuteTime": {
     "end_time": "2017-09-13T10:43:21.072750Z",
     "start_time": "2017-09-13T10:43:21.055704Z"
    }
   },
   "outputs": [
    {
     "data": {
      "text/plain": [
       "['12']"
      ]
     },
     "execution_count": 42,
     "metadata": {},
     "output_type": "execute_result"
    }
   ],
   "source": [
    "re.findall(r'\\A\\d+', s, re.MULTILINE)"
   ]
  },
  {
   "cell_type": "code",
   "execution_count": 43,
   "metadata": {
    "ExecuteTime": {
     "end_time": "2017-09-13T10:43:21.092804Z",
     "start_time": "2017-09-13T10:43:21.074756Z"
    }
   },
   "outputs": [
    {
     "data": {
      "text/plain": [
       "['90']"
      ]
     },
     "execution_count": 43,
     "metadata": {},
     "output_type": "execute_result"
    }
   ],
   "source": [
    "re.findall(r'\\d+\\Z', s, re.MULTILINE)"
   ]
  },
  {
   "cell_type": "markdown",
   "metadata": {},
   "source": [
    "\\B \\b 的用法\n",
    "- <span class=\"mark\">\\B \\b是0长度字符，所以匹配的时候不会留下分界符号。而使用\\s会在两边留下空字符</span>"
   ]
  },
  {
   "cell_type": "code",
   "execution_count": 44,
   "metadata": {
    "ExecuteTime": {
     "end_time": "2017-09-13T10:43:21.107844Z",
     "start_time": "2017-09-13T10:43:21.095812Z"
    },
    "collapsed": true
   },
   "outputs": [],
   "source": [
    "s = 'abc 1bc23 bc bcd'"
   ]
  },
  {
   "cell_type": "code",
   "execution_count": 45,
   "metadata": {
    "ExecuteTime": {
     "end_time": "2017-09-13T10:43:21.128900Z",
     "start_time": "2017-09-13T10:43:21.109849Z"
    }
   },
   "outputs": [
    {
     "data": {
      "text/plain": [
       "['bc']"
      ]
     },
     "execution_count": 45,
     "metadata": {},
     "output_type": "execute_result"
    }
   ],
   "source": [
    "re.findall(r'\\bbc\\b', s)"
   ]
  },
  {
   "cell_type": "code",
   "execution_count": 46,
   "metadata": {
    "ExecuteTime": {
     "end_time": "2017-09-13T10:43:21.146948Z",
     "start_time": "2017-09-13T10:43:21.130905Z"
    }
   },
   "outputs": [
    {
     "data": {
      "text/plain": [
       "[' bc ']"
      ]
     },
     "execution_count": 46,
     "metadata": {},
     "output_type": "execute_result"
    }
   ],
   "source": [
    "re.findall(r'\\sbc\\s', s)"
   ]
  },
  {
   "cell_type": "markdown",
   "metadata": {
    "ExecuteTime": {
     "end_time": "2017-09-10T13:50:43.853508Z",
     "start_time": "2017-09-10T13:50:43.849498Z"
    }
   },
   "source": [
    "> 这种用空格匹配单词的方法多了空格，还需要去除空白"
   ]
  },
  {
   "cell_type": "code",
   "execution_count": 47,
   "metadata": {
    "ExecuteTime": {
     "end_time": "2017-09-13T10:43:21.164996Z",
     "start_time": "2017-09-13T10:43:21.148953Z"
    }
   },
   "outputs": [
    {
     "data": {
      "text/plain": [
       "['bc23']"
      ]
     },
     "execution_count": 47,
     "metadata": {},
     "output_type": "execute_result"
    }
   ],
   "source": [
    "re.findall(r'\\Bbc\\w+', s)"
   ]
  },
  {
   "cell_type": "markdown",
   "metadata": {},
   "source": [
    "### 重复次数限制(数量词)"
   ]
  },
  {
   "cell_type": "markdown",
   "metadata": {},
   "source": [
    "\n",
    "| 语法 | 用法 |\n",
    "| :-    | :- |\n",
    "| *     | 重复0次或更多次（该字符可有可无） |\n",
    "| +     | 重复一次或更多次 |\n",
    "| ?     | 重复0次或一次 |\n",
    "| {n}   | 重复n次 |\n",
    "| {n,}  | 重复n次或更多次 |\n",
    "| {n,m} | 重复n到m次 |\n"
   ]
  },
  {
   "cell_type": "markdown",
   "metadata": {},
   "source": [
    "### ？的用法（非贪心）\n"
   ]
  },
  {
   "cell_type": "markdown",
   "metadata": {},
   "source": [
    "    \n",
    "| 语法 | 用法 |\n",
    "| :- | :- |\n",
    "| ? | 重复0次或一次，表示可选的分组 |\n",
    "| *？ | 重复任意多次，但尽可能少重复 |\n",
    "| +？ | 重复1次或更多次，但尽可能少重复 |\n",
    "| ？？ | 重复0次或1次，但尽可能少重复 |\n",
    "| {n,}? | 重复n次或更多次，但尽可能少重复 | \n",
    "| {n,m}? | 重复n到m次，但尽可能少重复 |\n",
    "    "
   ]
  },
  {
   "cell_type": "markdown",
   "metadata": {},
   "source": [
    "数量词的贪心和非贪心模式：<span class=\"mark\">python中数量词默认是贪心的</span><span class=\"mark\">，总是尝试匹配尽可能多的字符</span>。而利用$？$表示的非贪心的匹配总是尝试匹配最少的字符。"
   ]
  },
  {
   "cell_type": "code",
   "execution_count": 48,
   "metadata": {
    "ExecuteTime": {
     "end_time": "2017-09-13T10:43:21.183044Z",
     "start_time": "2017-09-13T10:43:21.167001Z"
    }
   },
   "outputs": [
    {
     "data": {
      "text/plain": [
       "<_sre.SRE_Match object; span=(0, 5), match='abbbb'>"
      ]
     },
     "execution_count": 48,
     "metadata": {},
     "output_type": "execute_result"
    }
   ],
   "source": [
    "re.search(r'ab*', 'abbbb')"
   ]
  },
  {
   "cell_type": "code",
   "execution_count": 49,
   "metadata": {
    "ExecuteTime": {
     "end_time": "2017-09-13T10:43:21.201091Z",
     "start_time": "2017-09-13T10:43:21.185049Z"
    }
   },
   "outputs": [
    {
     "data": {
      "text/plain": [
       "<_sre.SRE_Match object; span=(0, 1), match='a'>"
      ]
     },
     "execution_count": 49,
     "metadata": {},
     "output_type": "execute_result"
    }
   ],
   "source": [
    "re.search(r'ab*?', 'abbbb')"
   ]
  },
  {
   "cell_type": "code",
   "execution_count": 50,
   "metadata": {
    "ExecuteTime": {
     "end_time": "2017-09-13T10:43:21.217134Z",
     "start_time": "2017-09-13T10:43:21.203097Z"
    }
   },
   "outputs": [
    {
     "data": {
      "text/plain": [
       "['\\\\* comment *\\\\ code \\\\* comment *\\\\']"
      ]
     },
     "execution_count": 50,
     "metadata": {},
     "output_type": "execute_result"
    }
   ],
   "source": [
    "s = r'\\* comment *\\ code \\* comment *\\ '\n",
    "re.findall(r'\\\\\\*.*\\*\\\\', s)"
   ]
  },
  {
   "cell_type": "code",
   "execution_count": 51,
   "metadata": {
    "ExecuteTime": {
     "end_time": "2017-09-13T10:43:21.238190Z",
     "start_time": "2017-09-13T10:43:21.219139Z"
    }
   },
   "outputs": [
    {
     "data": {
      "text/plain": [
       "['\\\\* comment *\\\\', '\\\\* comment *\\\\']"
      ]
     },
     "execution_count": 51,
     "metadata": {},
     "output_type": "execute_result"
    }
   ],
   "source": [
    "re.findall(r'\\\\\\*.*?\\*\\\\', s)  # ?最小匹配"
   ]
  },
  {
   "cell_type": "markdown",
   "metadata": {
    "collapsed": true
   },
   "source": [
    "### 其他基本符号用法"
   ]
  },
  {
   "cell_type": "markdown",
   "metadata": {},
   "source": [
    "    \n",
    "| 语法 | 用法 |\n",
    "| :-    | :- | \n",
    "| { }     | 括号内写数字，表示重复次数 |\n",
    "| ( )     | 表示分组。分组表达式作为一个整体，可以后接数量词 。表达式中的$|$仅在该组中有效|\n",
    "| [ ]     | 字符集。对应的位置可以是字符集中任意一个字符。字符可以逐个列出， |\n",
    "| (?:)    | 无捕获组\n",
    "| (?#)    | 注释\n",
    "| (?iLimsux) | 编译选项指定，i等价于IGNORECASE，m等价于MULTILINE，s等价于DOTALL，u等价于UNICODE\n",
    "| (?=) | 后向界定，之后的字符串内容需要满足条件才匹配，不消耗字符 |\n",
    "| (?<=) | 前向界定，之前的字符串内容需要满足条件才匹配，不消耗字符 |\n",
    "| (?<!) | 前向非界定\n",
    "| (?!)  | 后向非界定\n",
    "| (?P <name>...) | 分组，除了原有的编号，指定一个额外的名字 |\n",
    "| (?P=name) | 引用别名为name的前面匹配到的字符串\n",
    "| \\number | 应用编号为number的匹配到的字符串，编号从1开始\n",
    "| (?(id/name) yes-pattern 或 no-pattern) | 如果编号为id或者别名为name的字符串匹配到，则进行yes-pattern的匹配，否则进行no-pattern的匹配，no-pattern可以省略"
   ]
  },
  {
   "cell_type": "markdown",
   "metadata": {
    "collapsed": true
   },
   "source": [
    "- (?i)表示忽略大小写，(?m)表示多行模式\n",
    "- 注意有效范围是整条规则，无论写在哪里，选项都会对整个表达式有效"
   ]
  },
  {
   "cell_type": "code",
   "execution_count": 52,
   "metadata": {
    "ExecuteTime": {
     "end_time": "2017-09-13T10:43:21.254232Z",
     "start_time": "2017-09-13T10:43:21.240196Z"
    }
   },
   "outputs": [
    {
     "data": {
      "text/plain": [
       "<_sre.SRE_Match object; span=(0, 3), match='cat'>"
      ]
     },
     "execution_count": 52,
     "metadata": {},
     "output_type": "execute_result"
    }
   ],
   "source": [
    "re.search(r'(?i)CAT', 'cat')"
   ]
  },
  {
   "cell_type": "code",
   "execution_count": 53,
   "metadata": {
    "ExecuteTime": {
     "end_time": "2017-09-13T10:43:21.275289Z",
     "start_time": "2017-09-13T10:43:21.256238Z"
    },
    "scrolled": true
   },
   "outputs": [
    {
     "data": {
      "text/plain": [
       "[('0510-', '82149457'), ('', '82593018')]"
      ]
     },
     "execution_count": 53,
     "metadata": {},
     "output_type": "execute_result"
    }
   ],
   "source": [
    "regex = re.compile(r'(\\d{4}-)?(\\d{8})')\n",
    "regex.findall(\"1:0510-82149457 2:82593018\")"
   ]
  },
  {
   "cell_type": "markdown",
   "metadata": {},
   "source": [
    "(?: ) 表示无捕获组"
   ]
  },
  {
   "cell_type": "code",
   "execution_count": 54,
   "metadata": {
    "ExecuteTime": {
     "end_time": "2017-09-13T10:43:21.297347Z",
     "start_time": "2017-09-13T10:43:21.277294Z"
    }
   },
   "outputs": [
    {
     "data": {
      "text/plain": [
       "['0510-82149457', '82593018']"
      ]
     },
     "execution_count": 54,
     "metadata": {},
     "output_type": "execute_result"
    }
   ],
   "source": [
    "regex = re.compile(r'(?:\\d{4}-)?(?:\\d{8})')\n",
    "regex.findall(\"1:0510-82149457 2:82593018\")"
   ]
  }
 ],
 "metadata": {
  "hide_input": false,
  "kernelspec": {
   "display_name": "Python 3",
   "language": "python",
   "name": "python3"
  },
  "language_info": {
   "codemirror_mode": {
    "name": "ipython",
    "version": 3
   },
   "file_extension": ".py",
   "mimetype": "text/x-python",
   "name": "python",
   "nbconvert_exporter": "python",
   "pygments_lexer": "ipython3",
   "version": "3.6.1"
  },
  "toc": {
   "nav_menu": {},
   "number_sections": true,
   "sideBar": true,
   "skip_h1_title": false,
   "toc_cell": false,
   "toc_position": {},
   "toc_section_display": "block",
   "toc_window_display": false
  },
  "varInspector": {
   "cols": {
    "lenName": 16,
    "lenType": 16,
    "lenVar": 40
   },
   "kernels_config": {
    "python": {
     "delete_cmd_postfix": "",
     "delete_cmd_prefix": "del ",
     "library": "var_list.py",
     "varRefreshCmd": "print(var_dic_list())"
    },
    "r": {
     "delete_cmd_postfix": ") ",
     "delete_cmd_prefix": "rm(",
     "library": "var_list.r",
     "varRefreshCmd": "cat(var_dic_list()) "
    }
   },
   "types_to_exclude": [
    "module",
    "function",
    "builtin_function_or_method",
    "instance",
    "_Feature"
   ],
   "window_display": false
  }
 },
 "nbformat": 4,
 "nbformat_minor": 2
}
