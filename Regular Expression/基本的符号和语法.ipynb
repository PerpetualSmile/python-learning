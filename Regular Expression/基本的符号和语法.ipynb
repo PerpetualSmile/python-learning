{
 "cells": [
  {
   "cell_type": "markdown",
   "metadata": {},
   "source": [
    "# Python 正则表达式（Regular Expression）\n",
    "- 使用re模块\n",
    "- [Python Regular Expression Documents](https://pymotw.com/3/re/index.html#module-re)"
   ]
  },
  {
   "cell_type": "markdown",
   "metadata": {},
   "source": [
    "## Python正则表达式的一般步骤"
   ]
  },
  {
   "cell_type": "markdown",
   "metadata": {},
   "source": [
    "re.compile()开始，创建一个Regex对象\n",
    "调用匹配函数\n",
    "调用group()返回结果"
   ]
  },
  {
   "cell_type": "code",
   "execution_count": 2,
   "metadata": {
    "ExecuteTime": {
     "end_time": "2017-09-10T09:56:08.311537Z",
     "start_time": "2017-09-10T09:56:08.303509Z"
    },
    "collapsed": true
   },
   "outputs": [],
   "source": [
    "import re"
   ]
  },
  {
   "cell_type": "code",
   "execution_count": 52,
   "metadata": {
    "ExecuteTime": {
     "end_time": "2017-09-10T12:54:43.085790Z",
     "start_time": "2017-09-10T12:54:43.079774Z"
    }
   },
   "outputs": [
    {
     "data": {
      "text/plain": [
       "'dog'"
      ]
     },
     "execution_count": 52,
     "metadata": {},
     "output_type": "execute_result"
    }
   ],
   "source": [
    "regex = re.compile(r'\\b\\w{3}\\b')  # 匹配三个字符的单词\n",
    "text = regex.search(\"coffee dog cat \")\n",
    "text.group()"
   ]
  },
  {
   "cell_type": "markdown",
   "metadata": {},
   "source": [
    "> 为何表达式前面要用r？(raw规则) 正则表达式的规则也是由一个字符串定义的，而\\在字符串中本身就是一个转义字符，要表示\\必须使用两个\\\\来表示当前的\\是普通字符，而正则表达式大量使用\\，那么如果不加r，表示整数就需要这样写\\\\\\d多写一个\\，很麻烦"
   ]
  },
  {
   "cell_type": "markdown",
   "metadata": {},
   "source": [
    "不使用r的写法"
   ]
  },
  {
   "cell_type": "code",
   "execution_count": 53,
   "metadata": {
    "ExecuteTime": {
     "end_time": "2017-09-10T12:55:00.444885Z",
     "start_time": "2017-09-10T12:55:00.438870Z"
    }
   },
   "outputs": [
    {
     "data": {
      "text/plain": [
       "'dog'"
      ]
     },
     "execution_count": 53,
     "metadata": {},
     "output_type": "execute_result"
    }
   ],
   "source": [
    "regex = re.compile('\\\\b\\\\w{3}\\\\b')  # 匹配三个字符的单词\n",
    "text = regex.search(\"coffee dog cat \")\n",
    "text.group()"
   ]
  },
  {
   "cell_type": "markdown",
   "metadata": {},
   "source": [
    "## . 匹配任意字符(除了\\n换行符)"
   ]
  },
  {
   "cell_type": "code",
   "execution_count": 5,
   "metadata": {
    "ExecuteTime": {
     "end_time": "2017-09-10T09:32:35.070187Z",
     "start_time": "2017-09-10T09:32:35.054144Z"
    }
   },
   "outputs": [
    {
     "data": {
      "text/plain": [
       "<_sre.SRE_Match object; span=(0, 1), match='I'>"
      ]
     },
     "execution_count": 5,
     "metadata": {},
     "output_type": "execute_result"
    }
   ],
   "source": [
    "re.search(r'.', 'I love python!')"
   ]
  },
  {
   "cell_type": "code",
   "execution_count": 6,
   "metadata": {
    "ExecuteTime": {
     "end_time": "2017-09-10T09:32:35.086229Z",
     "start_time": "2017-09-10T09:32:35.072192Z"
    }
   },
   "outputs": [
    {
     "data": {
      "text/plain": [
       "<_sre.SRE_Match object; span=(7, 13), match='python'>"
      ]
     },
     "execution_count": 6,
     "metadata": {},
     "output_type": "execute_result"
    }
   ],
   "source": [
    "re.search(r'pytho.', 'I love python!')"
   ]
  },
  {
   "cell_type": "code",
   "execution_count": 7,
   "metadata": {
    "ExecuteTime": {
     "end_time": "2017-09-10T09:32:35.101269Z",
     "start_time": "2017-09-10T09:32:35.088235Z"
    },
    "collapsed": true
   },
   "outputs": [],
   "source": [
    "re.search(r'pytho.', 'I love pytho\\n')"
   ]
  },
  {
   "cell_type": "code",
   "execution_count": 8,
   "metadata": {
    "ExecuteTime": {
     "end_time": "2017-09-10T09:32:35.120320Z",
     "start_time": "2017-09-10T09:32:35.103276Z"
    }
   },
   "outputs": [
    {
     "data": {
      "text/plain": [
       "<_sre.SRE_Match object; span=(7, 13), match='pytho\\n'>"
      ]
     },
     "execution_count": 8,
     "metadata": {},
     "output_type": "execute_result"
    }
   ],
   "source": [
    "re.search(r'pytho.', 'I love pytho\\n', re.DOTALL)"
   ]
  },
  {
   "cell_type": "markdown",
   "metadata": {},
   "source": [
    "## \\类似转义字符"
   ]
  },
  {
   "cell_type": "markdown",
   "metadata": {},
   "source": [
    "### 用于匹配元字符（有特殊意义的字符如'.'）"
   ]
  },
  {
   "cell_type": "code",
   "execution_count": 9,
   "metadata": {
    "ExecuteTime": {
     "end_time": "2017-09-10T09:32:35.136363Z",
     "start_time": "2017-09-10T09:32:35.122325Z"
    }
   },
   "outputs": [
    {
     "data": {
      "text/plain": [
       "<_sre.SRE_Match object; span=(13, 14), match='.'>"
      ]
     },
     "execution_count": 9,
     "metadata": {},
     "output_type": "execute_result"
    }
   ],
   "source": [
    "re.search(r'\\.', 'I love python.')"
   ]
  },
  {
   "cell_type": "markdown",
   "metadata": {},
   "source": [
    "### 把普通字符转化为有特殊意义的字符"
   ]
  },
  {
   "cell_type": "code",
   "execution_count": 10,
   "metadata": {
    "ExecuteTime": {
     "end_time": "2017-09-10T09:32:35.152406Z",
     "start_time": "2017-09-10T09:32:35.138368Z"
    }
   },
   "outputs": [
    {
     "data": {
      "text/plain": [
       "<_sre.SRE_Match object; span=(7, 10), match='123'>"
      ]
     },
     "execution_count": 10,
     "metadata": {},
     "output_type": "execute_result"
    }
   ],
   "source": [
    "re.search(r'\\d\\d\\d', 'I love 123.')"
   ]
  },
  {
   "cell_type": "markdown",
   "metadata": {},
   "source": [
    "## [ ]来创建字符类\n",
    "- 匹配[ ]中的任何一个字符都算匹配\n",
    "- 可以用-表示一个字符范围，比如[0-9]表示匹配0到9的数字字符，但不能认为[0-255]匹配0到255之间的数，正则表达式匹配的是一个一个的字符，不存在多位数同时匹配\n",
    "- 可以把^写在括号内的开头，表示取非，不匹配括号内的任意一个字符，如[^a-zA-Z]表示不匹配任何英文字母\n",
    "- ^在括号内但不在开头，则就表示字符的^,[a-z^A-Z]表示匹配所有英文字母和^"
   ]
  },
  {
   "cell_type": "code",
   "execution_count": 11,
   "metadata": {
    "ExecuteTime": {
     "end_time": "2017-09-10T09:32:35.170462Z",
     "start_time": "2017-09-10T09:32:35.154411Z"
    }
   },
   "outputs": [
    {
     "data": {
      "text/plain": [
       "<_sre.SRE_Match object; span=(1, 2), match='b'>"
      ]
     },
     "execution_count": 11,
     "metadata": {},
     "output_type": "execute_result"
    }
   ],
   "source": [
    "re.search(r'[abc]', 'Abc')"
   ]
  },
  {
   "cell_type": "code",
   "execution_count": 54,
   "metadata": {
    "ExecuteTime": {
     "end_time": "2017-09-10T13:03:45.562275Z",
     "start_time": "2017-09-10T13:03:45.557289Z"
    }
   },
   "outputs": [
    {
     "data": {
      "text/plain": [
       "<_sre.SRE_Match object; span=(5, 6), match='2'>"
      ]
     },
     "execution_count": 54,
     "metadata": {},
     "output_type": "execute_result"
    }
   ],
   "source": [
    "re.search(r'[^a-zA-z]', 'aADXc21')"
   ]
  },
  {
   "cell_type": "markdown",
   "metadata": {},
   "source": [
    "    正则表达式大小写敏感"
   ]
  },
  {
   "cell_type": "markdown",
   "metadata": {},
   "source": [
    "### <span class=\"mark\">匹配一个范围</span>"
   ]
  },
  {
   "cell_type": "code",
   "execution_count": 12,
   "metadata": {
    "ExecuteTime": {
     "end_time": "2017-09-10T09:32:35.193515Z",
     "start_time": "2017-09-10T09:32:35.172459Z"
    }
   },
   "outputs": [
    {
     "data": {
      "text/plain": [
       "<_sre.SRE_Match object; span=(4, 5), match='b'>"
      ]
     },
     "execution_count": 12,
     "metadata": {},
     "output_type": "execute_result"
    }
   ],
   "source": [
    "re.search(r'[a-z]', '123Abc')"
   ]
  },
  {
   "cell_type": "code",
   "execution_count": 13,
   "metadata": {
    "ExecuteTime": {
     "end_time": "2017-09-10T09:32:35.210561Z",
     "start_time": "2017-09-10T09:32:35.195520Z"
    }
   },
   "outputs": [
    {
     "data": {
      "text/plain": [
       "<_sre.SRE_Match object; span=(1, 2), match='1'>"
      ]
     },
     "execution_count": 13,
     "metadata": {},
     "output_type": "execute_result"
    }
   ],
   "source": [
    "re.search(r'[1-5]', '01234')"
   ]
  },
  {
   "cell_type": "markdown",
   "metadata": {},
   "source": [
    "### <span class=\"mark\">常见错误</span>"
   ]
  },
  {
   "cell_type": "markdown",
   "metadata": {},
   "source": [
    "- 匹配0-255之间的数字"
   ]
  },
  {
   "cell_type": "code",
   "execution_count": 14,
   "metadata": {
    "ExecuteTime": {
     "end_time": "2017-09-10T09:32:35.229611Z",
     "start_time": "2017-09-10T09:32:35.212565Z"
    }
   },
   "outputs": [
    {
     "data": {
      "text/plain": [
       "<_sre.SRE_Match object; span=(0, 1), match='1'>"
      ]
     },
     "execution_count": 14,
     "metadata": {},
     "output_type": "execute_result"
    }
   ],
   "source": [
    "re.search(r'[0-255]', \"123\")"
   ]
  },
  {
   "cell_type": "markdown",
   "metadata": {},
   "source": [
    "    正则表达式匹配的是一个一个的字符，不可能整个数字匹配\n",
    "    所以以上写法只是匹配[0125]这4个数"
   ]
  },
  {
   "cell_type": "markdown",
   "metadata": {},
   "source": [
    "## { }表示重复匹配的次数"
   ]
  },
  {
   "cell_type": "code",
   "execution_count": 15,
   "metadata": {
    "ExecuteTime": {
     "end_time": "2017-09-10T09:32:35.245654Z",
     "start_time": "2017-09-10T09:32:35.231617Z"
    }
   },
   "outputs": [
    {
     "data": {
      "text/plain": [
       "<_sre.SRE_Match object; span=(9, 14), match='aaabc'>"
      ]
     },
     "execution_count": 15,
     "metadata": {},
     "output_type": "execute_result"
    }
   ],
   "source": [
    "re.search(r'a{3}bc', \"abc aabc aaabc aaaabc\")"
   ]
  },
  {
   "cell_type": "markdown",
   "metadata": {},
   "source": [
    "-  {0,9}<span class=\"mark\">可以表示重复匹配的次数是0到9</span>"
   ]
  },
  {
   "cell_type": "code",
   "execution_count": 16,
   "metadata": {
    "ExecuteTime": {
     "end_time": "2017-09-10T09:32:35.262698Z",
     "start_time": "2017-09-10T09:32:35.247659Z"
    }
   },
   "outputs": [
    {
     "data": {
      "text/plain": [
       "<_sre.SRE_Match object; span=(4, 8), match='aabc'>"
      ]
     },
     "execution_count": 16,
     "metadata": {},
     "output_type": "execute_result"
    }
   ],
   "source": [
    "re.search(r'a{2,4}bc', \"abc aabc aaabc aaaabc\")"
   ]
  },
  {
   "cell_type": "code",
   "execution_count": 17,
   "metadata": {
    "ExecuteTime": {
     "end_time": "2017-09-10T09:32:35.284758Z",
     "start_time": "2017-09-10T09:32:35.264705Z"
    }
   },
   "outputs": [
    {
     "data": {
      "text/plain": [
       "<_sre.SRE_Match object; span=(4, 9), match='aaabc'>"
      ]
     },
     "execution_count": 17,
     "metadata": {},
     "output_type": "execute_result"
    }
   ],
   "source": [
    "re.search(r'a{2,4}bc', \"abc aaabc aaaabc\")"
   ]
  },
  {
   "cell_type": "markdown",
   "metadata": {},
   "source": [
    "## | 表示逻辑或，分支条件\n",
    "- 从左到右匹配每一个分支规则，如果满足，后续的就忽略\n",
    "- 在[]中间不再表示或，就是字符|。如果要在[]外面表示字符的|，必须使用\\转义\n",
    "- 有效范围是两边的整条规则，abc|xyz 匹配的是abc或者xyz，而不是abcyz或abxyz\n",
    "- 如果要限定范围，要使用（），并且最好使用（？：）无捕获组来限定。"
   ]
  },
  {
   "cell_type": "code",
   "execution_count": 58,
   "metadata": {
    "ExecuteTime": {
     "end_time": "2017-09-10T13:13:51.617723Z",
     "start_time": "2017-09-10T13:13:51.612711Z"
    }
   },
   "outputs": [
    {
     "data": {
      "text/plain": [
       "['abcyz']"
      ]
     },
     "execution_count": 58,
     "metadata": {},
     "output_type": "execute_result"
    }
   ],
   "source": [
    "re.findall(r'ab(?:c|x)yz', 'adasdabcyzadasfdav')"
   ]
  },
  {
   "cell_type": "code",
   "execution_count": 59,
   "metadata": {
    "ExecuteTime": {
     "end_time": "2017-09-10T13:14:04.665434Z",
     "start_time": "2017-09-10T13:14:04.660420Z"
    }
   },
   "outputs": [
    {
     "data": {
      "text/plain": [
       "['c']"
      ]
     },
     "execution_count": 59,
     "metadata": {},
     "output_type": "execute_result"
    }
   ],
   "source": [
    "re.findall(r'ab(c|x)yz', 'adasdabcyzadasfdav')"
   ]
  },
  {
   "cell_type": "code",
   "execution_count": 60,
   "metadata": {
    "ExecuteTime": {
     "end_time": "2017-09-10T13:14:18.845293Z",
     "start_time": "2017-09-10T13:14:18.840281Z"
    }
   },
   "outputs": [
    {
     "data": {
      "text/plain": [
       "['abc']"
      ]
     },
     "execution_count": 60,
     "metadata": {},
     "output_type": "execute_result"
    }
   ],
   "source": [
    "re.findall(r'abc|xyz', 'adasdabcyzadasfdav')"
   ]
  },
  {
   "cell_type": "markdown",
   "metadata": {},
   "source": [
    "### 同样的例子，匹配正确范围内的ip地址(0-255)"
   ]
  },
  {
   "cell_type": "code",
   "execution_count": 18,
   "metadata": {
    "ExecuteTime": {
     "end_time": "2017-09-10T09:32:35.301804Z",
     "start_time": "2017-09-10T09:32:35.286763Z"
    }
   },
   "outputs": [
    {
     "data": {
      "text/plain": [
       "<_sre.SRE_Match object; span=(0, 3), match='188'>"
      ]
     },
     "execution_count": 18,
     "metadata": {},
     "output_type": "execute_result"
    }
   ],
   "source": [
    "re.search(r'[01]\\d\\d|2[0-4]\\d|25[0-5]', '188')"
   ]
  },
  {
   "cell_type": "code",
   "execution_count": 19,
   "metadata": {
    "ExecuteTime": {
     "end_time": "2017-09-10T09:32:35.318848Z",
     "start_time": "2017-09-10T09:32:35.303808Z"
    }
   },
   "outputs": [
    {
     "data": {
      "text/plain": [
       "<_sre.SRE_Match object; span=(0, 3), match='255'>"
      ]
     },
     "execution_count": 19,
     "metadata": {},
     "output_type": "execute_result"
    }
   ],
   "source": [
    "re.search(r'[01]\\d\\d|2[0-4]\\d|25[0-5]', '255')"
   ]
  },
  {
   "cell_type": "code",
   "execution_count": 20,
   "metadata": {
    "ExecuteTime": {
     "end_time": "2017-09-10T09:32:35.334890Z",
     "start_time": "2017-09-10T09:32:35.320853Z"
    },
    "collapsed": true
   },
   "outputs": [],
   "source": [
    "re.search(r'[01]\\d\\d|2[0-4]\\d|25[0-5]', '256')"
   ]
  },
  {
   "cell_type": "code",
   "execution_count": 21,
   "metadata": {
    "ExecuteTime": {
     "end_time": "2017-09-10T09:32:35.350937Z",
     "start_time": "2017-09-10T09:32:35.336897Z"
    },
    "collapsed": true
   },
   "outputs": [],
   "source": [
    "re.search(r'[01]\\d\\d|2[0-4]\\d|25[0-5]', '2')"
   ]
  },
  {
   "cell_type": "code",
   "execution_count": 22,
   "metadata": {
    "ExecuteTime": {
     "end_time": "2017-09-10T09:32:35.368981Z",
     "start_time": "2017-09-10T09:32:35.352940Z"
    }
   },
   "outputs": [
    {
     "data": {
      "text/plain": [
       "<_sre.SRE_Match object; span=(0, 3), match='002'>"
      ]
     },
     "execution_count": 22,
     "metadata": {},
     "output_type": "execute_result"
    }
   ],
   "source": [
    "re.search(r'[01]\\d\\d|2[0-4]\\d|25[0-5]', '002')"
   ]
  },
  {
   "cell_type": "markdown",
   "metadata": {},
   "source": [
    "    以上方法限制了位数必须是3所以还不够完善"
   ]
  },
  {
   "cell_type": "markdown",
   "metadata": {},
   "source": [
    "## （ ）表示一个分组，先匹配完小括号内的，再继续匹配外面的\n",
    "- ()指定子表达式的重复次数或者进行其他操作"
   ]
  },
  {
   "cell_type": "code",
   "execution_count": 23,
   "metadata": {
    "ExecuteTime": {
     "end_time": "2017-09-10T09:32:35.389036Z",
     "start_time": "2017-09-10T09:32:35.370987Z"
    },
    "scrolled": true
   },
   "outputs": [
    {
     "data": {
      "text/plain": [
       "<_sre.SRE_Match object; span=(0, 15), match='192.168.111.123'>"
      ]
     },
     "execution_count": 23,
     "metadata": {},
     "output_type": "execute_result"
    }
   ],
   "source": [
    "re.search(\n",
    "    r'(([01]\\d\\d|2[0-4]\\d|25[0-5])\\.){3}([01]\\d\\d|2[0-4]\\d|25[0-5])', '192.168.111.123')"
   ]
  },
  {
   "cell_type": "markdown",
   "metadata": {},
   "source": [
    "## 前向界定于后向界定\n",
    "- 匹配一个跟在特定内容前面或者后面的字符串"
   ]
  },
  {
   "cell_type": "markdown",
   "metadata": {},
   "source": [
    "(?<=\"\")前向界定，”“里面是希望匹配的字符串前面应该出现的字符串"
   ]
  },
  {
   "cell_type": "markdown",
   "metadata": {},
   "source": [
    "(?=\"\")后向界定，”“里面是希望匹配的字符串后面应该出现的字符串"
   ]
  },
  {
   "cell_type": "code",
   "execution_count": 129,
   "metadata": {
    "ExecuteTime": {
     "end_time": "2017-09-10T15:03:33.714124Z",
     "start_time": "2017-09-10T15:03:33.710113Z"
    }
   },
   "outputs": [
    {
     "data": {
      "text/plain": [
       "[' comment 1 ', ' comment 2 ']"
      ]
     },
     "execution_count": 129,
     "metadata": {},
     "output_type": "execute_result"
    }
   ],
   "source": [
    "s = r'\\* comment 1 *\\  code  \\* comment 2 *\\ '\n",
    "re.findall(r'(?<=\\\\\\*).*?(?=\\*\\\\)', s)"
   ]
  },
  {
   "cell_type": "code",
   "execution_count": 134,
   "metadata": {
    "ExecuteTime": {
     "end_time": "2017-09-10T15:08:50.229707Z",
     "start_time": "2017-09-10T15:08:50.224712Z"
    }
   },
   "outputs": [
    {
     "data": {
      "text/plain": [
       "['111']"
      ]
     },
     "execution_count": 134,
     "metadata": {},
     "output_type": "execute_result"
    }
   ],
   "source": [
    "s = 'aaa111aaa,bbb222,333ccc'  # 提取中间的数字\n",
    "re.findall(r'(?<=[a-z])\\d+(?=[a-z]+)', s)"
   ]
  },
  {
   "cell_type": "markdown",
   "metadata": {},
   "source": [
    "前向非界定(?<!\"\") 当字符串前面不是\" \"时才匹配"
   ]
  },
  {
   "cell_type": "markdown",
   "metadata": {},
   "source": [
    "后向非界定(?!\"\") 当字符串后面不跟着\" \"里面内容是才匹配"
   ]
  },
  {
   "cell_type": "code",
   "execution_count": 135,
   "metadata": {
    "ExecuteTime": {
     "end_time": "2017-09-10T15:15:42.340202Z",
     "start_time": "2017-09-10T15:15:42.336217Z"
    }
   },
   "outputs": [
    {
     "data": {
      "text/plain": [
       "['222']"
      ]
     },
     "execution_count": 135,
     "metadata": {},
     "output_type": "execute_result"
    }
   ],
   "source": [
    "re.findall(r'\\d+(?!\\w+)', s)"
   ]
  },
  {
   "cell_type": "markdown",
   "metadata": {
    "collapsed": true
   },
   "source": [
    "## 汇总"
   ]
  },
  {
   "cell_type": "markdown",
   "metadata": {
    "collapsed": true
   },
   "source": [
    "### \\ + 小写字母的转义用法"
   ]
  },
  {
   "cell_type": "markdown",
   "metadata": {},
   "source": [
    "\n",
    "| 语法  | 用法 |\n",
    "| :- | :- |\n",
    "| \\s | 匹配任意的空白字符，包括空格、制表符、换行符、中文全角空格等 |\n",
    "| \\d | 匹配数字字符，等价于[0-9] |\n",
    "| \\b | 匹配单词的开始或结束 |\n",
    "| \\w | 匹配字母或数字或下划线或汉字 |\n",
    "| \\m | 匹配单词的起始位置 |\n"
   ]
  },
  {
   "cell_type": "markdown",
   "metadata": {},
   "source": [
    "### \\ + 大写字母的转义用法（反义）"
   ]
  },
  {
   "cell_type": "markdown",
   "metadata": {},
   "source": [
    "\n",
    "| 语法 | 用法 |\n",
    "| :- | :- |\n",
    "| \\A | 只匹配字符串的开头，不会匹配其他行的行首（与^的区别） |\n",
    "| \\Z | 只匹配字符串的结尾，不会匹配其他行的行尾（与$的区别） |\n",
    "| \\S | 匹配任意不是空白的字符 |\n",
    "| \\D | 匹配任意非数字的字符 |\n",
    "| \\B | 匹配不是单词的开始或结束的位置 |\n",
    "| \\W | 匹配任意不是字母、数字、下划线、汉字的字符 |\n",
    "| \\M | 匹配单词的结束位置 |\n"
   ]
  },
  {
   "cell_type": "markdown",
   "metadata": {},
   "source": [
    "### 元字符的用法"
   ]
  },
  {
   "cell_type": "markdown",
   "metadata": {},
   "source": [
    "\n",
    "| 语法 | 用法 |\n",
    "| :-| :- |\n",
    "| . | 匹配除换行符以外的任意字符,在DOTALL模式中也可以匹配换行符 |\n",
    "| ^ | 匹配字符串的开始（可以匹配每一行的行首和行尾）|\n",
    "| $ | 匹配字符串的结束（可以匹配每一行的行首和行尾） |\n",
    "| * | 匹配任意不是字母、数字、下划线、汉字的字符 |\n",
    "| [^x] | 匹配除了x以外的任意字符 |\n",
    "| [^aeiou] | 匹配除了aeiou这几个字符以外的字符 |\n"
   ]
  },
  {
   "cell_type": "markdown",
   "metadata": {},
   "source": [
    "^ $ \\A \\Z 的用法与区别"
   ]
  },
  {
   "cell_type": "code",
   "execution_count": 65,
   "metadata": {
    "ExecuteTime": {
     "end_time": "2017-09-10T13:22:53.364336Z",
     "start_time": "2017-09-10T13:22:53.361328Z"
    },
    "collapsed": true
   },
   "outputs": [],
   "source": [
    "s = '12 34\\n56 78\\n90'"
   ]
  },
  {
   "cell_type": "code",
   "execution_count": 67,
   "metadata": {
    "ExecuteTime": {
     "end_time": "2017-09-10T13:23:02.172344Z",
     "start_time": "2017-09-10T13:23:02.168340Z"
    }
   },
   "outputs": [
    {
     "data": {
      "text/plain": [
       "['12', '56', '90']"
      ]
     },
     "execution_count": 67,
     "metadata": {},
     "output_type": "execute_result"
    }
   ],
   "source": [
    "re.findall(r'^\\d+', s, re.MULTILINE)"
   ]
  },
  {
   "cell_type": "code",
   "execution_count": 69,
   "metadata": {
    "ExecuteTime": {
     "end_time": "2017-09-10T13:44:42.681825Z",
     "start_time": "2017-09-10T13:44:42.676799Z"
    }
   },
   "outputs": [
    {
     "data": {
      "text/plain": [
       "['34', '78', '90']"
      ]
     },
     "execution_count": 69,
     "metadata": {},
     "output_type": "execute_result"
    }
   ],
   "source": [
    "re.findall(r'\\d+$', s, re.MULTILINE)"
   ]
  },
  {
   "cell_type": "code",
   "execution_count": 71,
   "metadata": {
    "ExecuteTime": {
     "end_time": "2017-09-10T13:45:41.957407Z",
     "start_time": "2017-09-10T13:45:41.952393Z"
    }
   },
   "outputs": [
    {
     "data": {
      "text/plain": [
       "['12']"
      ]
     },
     "execution_count": 71,
     "metadata": {},
     "output_type": "execute_result"
    }
   ],
   "source": [
    "re.findall(r'\\A\\d+', s, re.MULTILINE)"
   ]
  },
  {
   "cell_type": "code",
   "execution_count": 72,
   "metadata": {
    "ExecuteTime": {
     "end_time": "2017-09-10T13:46:32.202939Z",
     "start_time": "2017-09-10T13:46:32.197925Z"
    }
   },
   "outputs": [
    {
     "data": {
      "text/plain": [
       "['90']"
      ]
     },
     "execution_count": 72,
     "metadata": {},
     "output_type": "execute_result"
    }
   ],
   "source": [
    "re.findall(r'\\d+\\Z', s, re.MULTILINE)"
   ]
  },
  {
   "cell_type": "markdown",
   "metadata": {},
   "source": [
    "\\B \\b 的用法\n",
    "- <span class=\"mark\">\\B \\b是0长度字符，所以匹配的时候不会留下分界符号。而使用\\s会在两边留下空字符</span>"
   ]
  },
  {
   "cell_type": "code",
   "execution_count": 73,
   "metadata": {
    "ExecuteTime": {
     "end_time": "2017-09-10T13:49:08.037085Z",
     "start_time": "2017-09-10T13:49:08.034076Z"
    },
    "collapsed": true
   },
   "outputs": [],
   "source": [
    "s = 'abc abcde bc bcd'"
   ]
  },
  {
   "cell_type": "code",
   "execution_count": 74,
   "metadata": {
    "ExecuteTime": {
     "end_time": "2017-09-10T13:49:35.740503Z",
     "start_time": "2017-09-10T13:49:35.735516Z"
    }
   },
   "outputs": [
    {
     "data": {
      "text/plain": [
       "['bc']"
      ]
     },
     "execution_count": 74,
     "metadata": {},
     "output_type": "execute_result"
    }
   ],
   "source": [
    "re.findall(r'\\bbc\\b', s)"
   ]
  },
  {
   "cell_type": "code",
   "execution_count": 75,
   "metadata": {
    "ExecuteTime": {
     "end_time": "2017-09-10T13:50:06.953135Z",
     "start_time": "2017-09-10T13:50:06.948122Z"
    }
   },
   "outputs": [
    {
     "data": {
      "text/plain": [
       "[' bc ']"
      ]
     },
     "execution_count": 75,
     "metadata": {},
     "output_type": "execute_result"
    }
   ],
   "source": [
    "re.findall(r'\\sbc\\s', s)"
   ]
  },
  {
   "cell_type": "markdown",
   "metadata": {
    "ExecuteTime": {
     "end_time": "2017-09-10T13:50:43.853508Z",
     "start_time": "2017-09-10T13:50:43.849498Z"
    }
   },
   "source": [
    "> 这种用空格匹配单词的方法多了空格，还需要去除空白"
   ]
  },
  {
   "cell_type": "code",
   "execution_count": 79,
   "metadata": {
    "ExecuteTime": {
     "end_time": "2017-09-10T13:53:46.506348Z",
     "start_time": "2017-09-10T13:53:46.501329Z"
    }
   },
   "outputs": [
    {
     "data": {
      "text/plain": [
       "['bcde']"
      ]
     },
     "execution_count": 79,
     "metadata": {},
     "output_type": "execute_result"
    }
   ],
   "source": [
    "re.findall(r'\\Bbc\\w+', s)"
   ]
  },
  {
   "cell_type": "markdown",
   "metadata": {},
   "source": [
    "### 重复次数限制(数量词)"
   ]
  },
  {
   "cell_type": "markdown",
   "metadata": {},
   "source": [
    "\n",
    "| 语法 | 用法 |\n",
    "| :-    | :- |\n",
    "| *     | 重复0次或更多次（该字符可有可无） |\n",
    "| +     | 重复一次或更多次 |\n",
    "| ?     | 重复0次或一次 |\n",
    "| {n}   | 重复n次 |\n",
    "| {n,}  | 重复n次或更多次 |\n",
    "| {n,m} | 重复n到m次 |\n"
   ]
  },
  {
   "cell_type": "markdown",
   "metadata": {},
   "source": [
    "### ？的用法（非贪心）\n"
   ]
  },
  {
   "cell_type": "markdown",
   "metadata": {},
   "source": [
    "    \n",
    "| 语法 | 用法 |\n",
    "| :- | :- |\n",
    "| ? | 重复0次或一次，表示可选的分组 |\n",
    "| *？ | 重复任意多次，但尽可能少重复 |\n",
    "| +？ | 重复1次或更多次，但尽可能少重复 |\n",
    "| ？？ | 重复0次或1次，但尽可能少重复 |\n",
    "| {n,}? | 重复n次或更多次，但尽可能少重复 | \n",
    "| {n,m}? | 重复n到m次，但尽可能少重复 |\n",
    "    "
   ]
  },
  {
   "cell_type": "markdown",
   "metadata": {},
   "source": [
    "数量词的贪心和非贪心模式：<span class=\"mark\">python中数量词默认是贪心的</span><span class=\"mark\">，总是尝试匹配尽可能多的字符</span>。而利用$？$表示的非贪心的匹配总是尝试匹配最少的字符。"
   ]
  },
  {
   "cell_type": "code",
   "execution_count": 4,
   "metadata": {
    "ExecuteTime": {
     "end_time": "2017-09-10T09:57:06.497105Z",
     "start_time": "2017-09-10T09:57:06.489106Z"
    }
   },
   "outputs": [
    {
     "data": {
      "text/plain": [
       "<_sre.SRE_Match object; span=(0, 5), match='abbbb'>"
      ]
     },
     "execution_count": 4,
     "metadata": {},
     "output_type": "execute_result"
    }
   ],
   "source": [
    "re.search(r'ab*', 'abbbb')"
   ]
  },
  {
   "cell_type": "code",
   "execution_count": 5,
   "metadata": {
    "ExecuteTime": {
     "end_time": "2017-09-10T09:57:31.574286Z",
     "start_time": "2017-09-10T09:57:31.566286Z"
    }
   },
   "outputs": [
    {
     "data": {
      "text/plain": [
       "<_sre.SRE_Match object; span=(0, 1), match='a'>"
      ]
     },
     "execution_count": 5,
     "metadata": {},
     "output_type": "execute_result"
    }
   ],
   "source": [
    "re.search(r'ab*?', 'abbbb')"
   ]
  },
  {
   "cell_type": "code",
   "execution_count": 126,
   "metadata": {
    "ExecuteTime": {
     "end_time": "2017-09-10T15:00:06.315284Z",
     "start_time": "2017-09-10T15:00:06.310253Z"
    }
   },
   "outputs": [
    {
     "data": {
      "text/plain": [
       "['\\\\* comment *\\\\ code \\\\* comment *\\\\']"
      ]
     },
     "execution_count": 126,
     "metadata": {},
     "output_type": "execute_result"
    }
   ],
   "source": [
    "s = r'\\* comment *\\ code \\* comment *\\ '\n",
    "re.findall(r'\\\\\\*.*\\*\\\\', s)"
   ]
  },
  {
   "cell_type": "code",
   "execution_count": 127,
   "metadata": {
    "ExecuteTime": {
     "end_time": "2017-09-10T15:01:33.944475Z",
     "start_time": "2017-09-10T15:01:33.940464Z"
    }
   },
   "outputs": [
    {
     "data": {
      "text/plain": [
       "['\\\\* comment *\\\\', '\\\\* comment *\\\\']"
      ]
     },
     "execution_count": 127,
     "metadata": {},
     "output_type": "execute_result"
    }
   ],
   "source": [
    "re.findall(r'\\\\\\*.*?\\*\\\\', s)  # ?最小匹配"
   ]
  },
  {
   "cell_type": "markdown",
   "metadata": {
    "collapsed": true
   },
   "source": [
    "### 其他基本符号用法"
   ]
  },
  {
   "cell_type": "markdown",
   "metadata": {},
   "source": [
    "    \n",
    "| 语法 | 用法 |\n",
    "| :-    | :- | \n",
    "| { }     | 括号内写数字，表示重复次数 |\n",
    "| ( )     | 表示分组。分组表达式作为一个整体，可以后接数量词 。表达式中的$|$仅在该组中有效|\n",
    "| [ ]     | 字符集。对应的位置可以是字符集中任意一个字符。字符可以逐个列出， |\n",
    "| (?:)    | 无捕获组\n",
    "| (?#)    | 注释\n",
    "| (?iLimsux) | 编译选项指定，i等价于IGNORECASE，m等价于MULTILINE，s等价于DOTALL，u等价于UNICODE"
   ]
  },
  {
   "cell_type": "markdown",
   "metadata": {
    "collapsed": true
   },
   "source": [
    "- (?i)表示忽略大小写，(?m)表示多行模式\n",
    "- 注意有效范围是整条规则，无论写在哪里，选项都会对整个表达式有效"
   ]
  },
  {
   "cell_type": "code",
   "execution_count": 84,
   "metadata": {
    "ExecuteTime": {
     "end_time": "2017-09-10T14:02:58.910536Z",
     "start_time": "2017-09-10T14:02:58.905523Z"
    }
   },
   "outputs": [
    {
     "data": {
      "text/plain": [
       "<_sre.SRE_Match object; span=(0, 3), match='cat'>"
      ]
     },
     "execution_count": 84,
     "metadata": {},
     "output_type": "execute_result"
    }
   ],
   "source": [
    "re.search(r'CAT(?i)(?#aksjdkafskehafndnzkjv)', 'cat')"
   ]
  },
  {
   "cell_type": "code",
   "execution_count": 88,
   "metadata": {
    "ExecuteTime": {
     "end_time": "2017-09-10T14:15:00.959393Z",
     "start_time": "2017-09-10T14:15:00.954379Z"
    },
    "scrolled": true
   },
   "outputs": [
    {
     "data": {
      "text/plain": [
       "[('0510-', '82149457'), ('', '82593018')]"
      ]
     },
     "execution_count": 88,
     "metadata": {},
     "output_type": "execute_result"
    }
   ],
   "source": [
    "regex = re.compile(r'(\\d{4}-)?(\\d{8})')\n",
    "regex.findall(\"1:0510-82149457 2:82593018\")"
   ]
  },
  {
   "cell_type": "markdown",
   "metadata": {},
   "source": [
    "(?: ) 表示无捕获组"
   ]
  },
  {
   "cell_type": "code",
   "execution_count": 89,
   "metadata": {
    "ExecuteTime": {
     "end_time": "2017-09-10T14:15:03.372565Z",
     "start_time": "2017-09-10T14:15:03.367545Z"
    }
   },
   "outputs": [
    {
     "data": {
      "text/plain": [
       "['0510-82149457', '82593018']"
      ]
     },
     "execution_count": 89,
     "metadata": {},
     "output_type": "execute_result"
    }
   ],
   "source": [
    "regex = re.compile(r'(?:\\d{4}-)?(?:\\d{8})')\n",
    "regex.findall(\"1:0510-82149457 2:82593018\")"
   ]
  }
 ],
 "metadata": {
  "hide_input": false,
  "kernelspec": {
   "display_name": "Python 3",
   "language": "python",
   "name": "python3"
  },
  "language_info": {
   "codemirror_mode": {
    "name": "ipython",
    "version": 3
   },
   "file_extension": ".py",
   "mimetype": "text/x-python",
   "name": "python",
   "nbconvert_exporter": "python",
   "pygments_lexer": "ipython3",
   "version": "3.6.1"
  },
  "toc": {
   "nav_menu": {},
   "number_sections": true,
   "sideBar": true,
   "skip_h1_title": false,
   "toc_cell": false,
   "toc_position": {},
   "toc_section_display": "block",
   "toc_window_display": false
  },
  "varInspector": {
   "cols": {
    "lenName": 16,
    "lenType": 16,
    "lenVar": 40
   },
   "kernels_config": {
    "python": {
     "delete_cmd_postfix": "",
     "delete_cmd_prefix": "del ",
     "library": "var_list.py",
     "varRefreshCmd": "print(var_dic_list())"
    },
    "r": {
     "delete_cmd_postfix": ") ",
     "delete_cmd_prefix": "rm(",
     "library": "var_list.r",
     "varRefreshCmd": "cat(var_dic_list()) "
    }
   },
   "types_to_exclude": [
    "module",
    "function",
    "builtin_function_or_method",
    "instance",
    "_Feature"
   ],
   "window_display": false
  }
 },
 "nbformat": 4,
 "nbformat_minor": 2
}
