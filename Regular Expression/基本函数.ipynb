{
 "cells": [
  {
   "cell_type": "markdown",
   "metadata": {},
   "source": [
    "# re模块中的一些函数"
   ]
  },
  {
   "cell_type": "code",
   "execution_count": 2,
   "metadata": {
    "ExecuteTime": {
     "end_time": "2017-09-13T09:32:06.393482Z",
     "start_time": "2017-09-13T09:32:06.390472Z"
    },
    "collapsed": true
   },
   "outputs": [],
   "source": [
    "import re"
   ]
  },
  {
   "cell_type": "markdown",
   "metadata": {},
   "source": [
    "## Match对象"
   ]
  },
  {
   "cell_type": "markdown",
   "metadata": {},
   "source": [
    "Match对象是一次匹配的结果，包含了很多关于此次匹配的信息，可以使用Match提供的可读属性或方法来获取这些信息。"
   ]
  },
  {
   "cell_type": "markdown",
   "metadata": {},
   "source": [
    "| 属性 | 含义 |\n",
    "| ---- | ----  |\n",
    "| string | 匹配时用的文本 |\n",
    "| re | 匹配时用的Pattern对象 |\n",
    "| pos | 文本中正则表达式开始搜索的索引。值与Pattern.match()和Pattern.seach()方法的同名参数相同。 |\n",
    "| endpos | 文本中正则表达式结束搜索的索引。值与Pattern.match()和Pattern.seach()方法的同名参数相同。 |\n",
    "| lastindex | 最后一个被捕获的分组在文本中的索引。如果没有被捕获的分组，将为None。 |\n",
    "| lastgroup | 最后一个被捕获的分组的别名。如果这个分组没有别名或者没有被捕获的分组，将为None。 |"
   ]
  },
  {
   "cell_type": "markdown",
   "metadata": {},
   "source": [
    "| 方法 | 功能 |\n",
    "| --- | --- |\n",
    "| group([group1, …]) | 获得一个或多个分组截获的字符串；指定多个参数时将以元组形式返回。group1可以使用编号也可以使用别名；编号0代表整个匹配的子串；不填写参数时，返回group(0)；没有截获字符串的组返回None；截获了多次的组返回最后一次截获的子串。|\n",
    "| groups([default]) | 以元组形式返回全部分组截获的字符串。相当于调用group(1,2,…last)。default表示没有截获字符串的组以这个值替代，默认为None。 |\n",
    "| groupdict([default]) | 返回以有别名的组的别名为键、以该组截获的子串为值的字典，没有别名的组不包含在内。default含义同上。 |\n",
    "| start([group]) | 返回指定的组截获的子串在string中的起始索引（子串第一个字符的索引）。group默认值为0。 |\n",
    "| end([group]) | 返回指定的组截获的子串在string中的结束索引（子串最后一个字符的索引+1）。group默认值为0。 |\n",
    "| span([group]) | 返回(start(group), end(group))。 |\n",
    "| expand(template) |将匹配到的分组代入template中然后返回。template中可以使用\\id或\\g<id>、\\g<name>引用分组，但不能使用编号0。\\id与\\g<id>是等价的；但\\10将被认为是第10个分组，如果你想表达\\1之后是字符'0'，只能使用\\g<1>0。 |"
   ]
  },
  {
   "cell_type": "code",
   "execution_count": null,
   "metadata": {
    "collapsed": true
   },
   "outputs": [],
   "source": []
  },
  {
   "cell_type": "markdown",
   "metadata": {},
   "source": [
    "## re.compile(strPattern, flag) "
   ]
  },
  {
   "cell_type": "markdown",
   "metadata": {},
   "source": [
    "第一个参数时字符串形式编译的正则表达式，第二个参数是flag的匹配模式，取值可以用按位或|表示同时生效，如re.M|re.I"
   ]
  },
  {
   "cell_type": "markdown",
   "metadata": {},
   "source": [
    "返回一个pattern对象"
   ]
  },
  {
   "cell_type": "markdown",
   "metadata": {},
   "source": [
    "使用compile的一个好处是可以提高效率，如果同一个正则表达式要被重复使用多次，那么使用compile只要解释一次规则就可以了，而直接将规则写在findall等函数里则每次匹配都要重新解释规则，浪费时间。"
   ]
  },
  {
   "cell_type": "markdown",
   "metadata": {},
   "source": [
    "正则表达式的模式："
   ]
  },
  {
   "cell_type": "markdown",
   "metadata": {},
   "source": [
    "| 写法表示 | 功能 |\n",
    "| re.I(re.IGNORECASE) | 忽略大小写 |\n",
    "| re.M(re.MULTILINE) | 多行模式。主要用于改变\"^\" 和\"$\"的行为 |\n",
    "| re.S(re.DOTALLL) | 点任意匹配模式，改变\".\"的行为，使得\".\"也可以匹配\\n |\n",
    "| re.L(re.LOCAL) | 字符集本地化。使预定字符类 \\w \\W \\b \\B \\s \\S 取决于当前区域设定 |\n",
    "| re.U(re.UNICODE) | 使预定字符类 \\w \\W \\b \\B \\s \\S \\d \\D 取决于unicode定义的字符属性 |\n",
    "| re.X(re.VERBOSE) | 详细模式。这个模式下正则表达式可以是多行，忽略空白字符，并可以加入注释。 |"
   ]
  },
  {
   "cell_type": "markdown",
   "metadata": {},
   "source": [
    "MULTILINE 多行模式下\"^\"和\"$\"可以匹配行首和行尾的字符串"
   ]
  },
  {
   "cell_type": "code",
   "execution_count": 7,
   "metadata": {
    "ExecuteTime": {
     "end_time": "2017-09-13T09:43:24.284692Z",
     "start_time": "2017-09-13T09:43:24.279666Z"
    }
   },
   "outputs": [
    {
     "data": {
      "text/plain": [
       "['123']"
      ]
     },
     "execution_count": 7,
     "metadata": {},
     "output_type": "execute_result"
    }
   ],
   "source": [
    "s='123 456\\n789 012\\n345 678'\n",
    "a = re.compile(r'^\\d+')\n",
    "a.findall(s)"
   ]
  },
  {
   "cell_type": "code",
   "execution_count": 8,
   "metadata": {
    "ExecuteTime": {
     "end_time": "2017-09-13T09:43:26.938777Z",
     "start_time": "2017-09-13T09:43:26.933763Z"
    }
   },
   "outputs": [
    {
     "data": {
      "text/plain": [
       "['123', '789', '345']"
      ]
     },
     "execution_count": 8,
     "metadata": {},
     "output_type": "execute_result"
    }
   ],
   "source": [
    "b = re.compile(r'^\\d+', re.M)\n",
    "b.findall(s)"
   ]
  },
  {
   "cell_type": "code",
   "execution_count": 9,
   "metadata": {
    "ExecuteTime": {
     "end_time": "2017-09-13T09:44:29.140386Z",
     "start_time": "2017-09-13T09:44:29.135373Z"
    }
   },
   "outputs": [
    {
     "data": {
      "text/plain": [
       "['678']"
      ]
     },
     "execution_count": 9,
     "metadata": {},
     "output_type": "execute_result"
    }
   ],
   "source": [
    "c = re.compile(r'\\d+$')\n",
    "c.findall(s)"
   ]
  },
  {
   "cell_type": "code",
   "execution_count": 10,
   "metadata": {
    "ExecuteTime": {
     "end_time": "2017-09-13T09:44:43.654168Z",
     "start_time": "2017-09-13T09:44:43.649155Z"
    }
   },
   "outputs": [
    {
     "data": {
      "text/plain": [
       "['456', '012', '678']"
      ]
     },
     "execution_count": 10,
     "metadata": {},
     "output_type": "execute_result"
    }
   ],
   "source": [
    "d = re.compile(r'\\d+$', re.M)\n",
    "d.findall(s)"
   ]
  },
  {
   "cell_type": "markdown",
   "metadata": {},
   "source": [
    "VERBOSE详细模式。由于忽略空白字符，那么空格只能用\"\\ \"来表示。以下两个等价："
   ]
  },
  {
   "cell_type": "code",
   "execution_count": 3,
   "metadata": {
    "ExecuteTime": {
     "end_time": "2017-09-13T09:32:09.081467Z",
     "start_time": "2017-09-13T09:32:09.077457Z"
    },
    "collapsed": true
   },
   "outputs": [],
   "source": [
    "a = re.compile(r\"\"\"\\d +  # the integral part\n",
    "                   \\.    # the decimal point\n",
    "                   \\d *  # some fractional digits\"\"\", re.X)\n",
    "b = re.compile(r\"\\d+\\.\\d*\")"
   ]
  },
  {
   "cell_type": "markdown",
   "metadata": {},
   "source": [
    "## re.search()方法用于在字符串中搜索正则表达式模式匹配的第一次出现的位置"
   ]
  },
  {
   "cell_type": "code",
   "execution_count": 2,
   "metadata": {
    "ExecuteTime": {
     "end_time": "2017-09-10T14:11:41.755216Z",
     "start_time": "2017-09-10T14:11:41.744161Z"
    }
   },
   "outputs": [
    {
     "data": {
      "text/plain": [
       "<_sre.SRE_Match object; span=(7, 13), match='python'>"
      ]
     },
     "execution_count": 2,
     "metadata": {},
     "output_type": "execute_result"
    }
   ],
   "source": [
    "re.search(r'python', 'I love python!')"
   ]
  },
  {
   "cell_type": "code",
   "execution_count": 3,
   "metadata": {
    "ExecuteTime": {
     "end_time": "2017-09-10T14:11:55.895512Z",
     "start_time": "2017-09-10T14:11:55.891474Z"
    }
   },
   "outputs": [
    {
     "name": "stdout",
     "output_type": "stream",
     "text": [
      "None\n"
     ]
    }
   ],
   "source": [
    "print(re.search(r'Python', 'I love python!'))"
   ]
  },
  {
   "cell_type": "markdown",
   "metadata": {},
   "source": [
    "## Regex.findall() 返回一组字符串列表，包含被查找字符串中的所有匹配"
   ]
  },
  {
   "cell_type": "code",
   "execution_count": 4,
   "metadata": {
    "ExecuteTime": {
     "end_time": "2017-09-10T14:12:29.713763Z",
     "start_time": "2017-09-10T14:12:29.708750Z"
    }
   },
   "outputs": [
    {
     "data": {
      "text/plain": [
       "[('0510-', '82149457'), ('', '82593018')]"
      ]
     },
     "execution_count": 4,
     "metadata": {},
     "output_type": "execute_result"
    }
   ],
   "source": [
    "regex = re.compile(r'(\\d{4}-)?(\\d{8})')\n",
    "regex.findall(\"1:0510-82149457 2:82593018\")"
   ]
  },
  {
   "cell_type": "markdown",
   "metadata": {},
   "source": [
    "(?: ) 表示无捕获组"
   ]
  },
  {
   "cell_type": "code",
   "execution_count": 5,
   "metadata": {
    "ExecuteTime": {
     "end_time": "2017-09-10T14:14:23.232236Z",
     "start_time": "2017-09-10T14:14:23.227223Z"
    }
   },
   "outputs": [
    {
     "data": {
      "text/plain": [
       "['0510-82149457', '82593018']"
      ]
     },
     "execution_count": 5,
     "metadata": {},
     "output_type": "execute_result"
    }
   ],
   "source": [
    "regex = re.compile(r'(?:\\d{4}-)?(?:\\d{8})')\n",
    "regex.findall(\"1:0510-82149457 2:82593018\")"
   ]
  },
  {
   "cell_type": "markdown",
   "metadata": {},
   "source": [
    "## Regex.sub() 替换字符串，接收两个参数，第一个是替换成的新字符串，第二个是被查找的字符串"
   ]
  },
  {
   "cell_type": "code",
   "execution_count": 6,
   "metadata": {
    "ExecuteTime": {
     "end_time": "2017-09-10T14:15:40.615290Z",
     "start_time": "2017-09-10T14:15:40.610282Z"
    }
   },
   "outputs": [
    {
     "data": {
      "text/plain": [
       "'This is a cat.'"
      ]
     },
     "execution_count": 6,
     "metadata": {},
     "output_type": "execute_result"
    }
   ],
   "source": [
    "regex = re.compile(r'dog')\n",
    "regex.sub('cat', 'This is a dog.')"
   ]
  }
 ],
 "metadata": {
  "hide_input": false,
  "kernelspec": {
   "display_name": "Python 3",
   "language": "python",
   "name": "python3"
  },
  "language_info": {
   "codemirror_mode": {
    "name": "ipython",
    "version": 3
   },
   "file_extension": ".py",
   "mimetype": "text/x-python",
   "name": "python",
   "nbconvert_exporter": "python",
   "pygments_lexer": "ipython3",
   "version": "3.6.1"
  },
  "toc": {
   "nav_menu": {},
   "number_sections": true,
   "sideBar": true,
   "skip_h1_title": false,
   "toc_cell": false,
   "toc_position": {},
   "toc_section_display": "block",
   "toc_window_display": false
  },
  "varInspector": {
   "cols": {
    "lenName": 16,
    "lenType": 16,
    "lenVar": 40
   },
   "kernels_config": {
    "python": {
     "delete_cmd_postfix": "",
     "delete_cmd_prefix": "del ",
     "library": "var_list.py",
     "varRefreshCmd": "print(var_dic_list())"
    },
    "r": {
     "delete_cmd_postfix": ") ",
     "delete_cmd_prefix": "rm(",
     "library": "var_list.r",
     "varRefreshCmd": "cat(var_dic_list()) "
    }
   },
   "types_to_exclude": [
    "module",
    "function",
    "builtin_function_or_method",
    "instance",
    "_Feature"
   ],
   "window_display": false
  }
 },
 "nbformat": 4,
 "nbformat_minor": 2
}
