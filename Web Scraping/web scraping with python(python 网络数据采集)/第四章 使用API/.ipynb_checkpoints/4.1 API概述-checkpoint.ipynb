{
 "cells": [
  {
   "cell_type": "markdown",
   "metadata": {},
   "source": [
    "# API概述"
   ]
  },
  {
   "cell_type": "markdown",
   "metadata": {},
   "source": [
    "应用编程接口（Application Programming Interface,API）的用处：它们为不同的应用提供了方便友好的接口。不同的开发者用不同的架构，甚至不同的语言编写软件都没问题，因为API设计的目的就是要成为一种通用语言，让不同的软件进行信息共享。 "
   ]
  },
  {
   "cell_type": "markdown",
   "metadata": {},
   "source": [
    "程序员可以用HTTP协议向API发起请求以获取某种信息，API会用XML或JSON格式返回服务器响应的信息。"
   ]
  },
  {
   "cell_type": "markdown",
   "metadata": {},
   "source": [
    "[Google的开发者社区](http://console,developers.google.com/)提供了一堆API用于语言翻译、分析、地理位置等信息"
   ]
  },
  {
   "cell_type": "markdown",
   "metadata": {},
   "source": [
    "API可以通过HTTP协议下载文件，和URL访问网站获取数据的协议一样。"
   ]
  },
  {
   "cell_type": "markdown",
   "metadata": {},
   "source": [
    "API之所以叫API而不是叫网站的原因其实是首先API请求使用非常严谨的语法，其次，API使用JSON或XML格式表示数据，而不是HTML格式。"
   ]
  },
  {
   "cell_type": "markdown",
   "metadata": {},
   "source": [
    "# API通用规则"
   ]
  },
  {
   "cell_type": "markdown",
   "metadata": {},
   "source": [
    "## 方法——四种API"
   ]
  },
  {
   "cell_type": "markdown",
   "metadata": {},
   "source": [
    "利用HTTP从网络服务获取信息有四种方式：\n",
    "- GET\n",
    "- POST\n",
    "- PUT\n",
    "- DELETE"
   ]
  },
  {
   "cell_type": "markdown",
   "metadata": {},
   "source": [
    "GET:是在浏览器中输入网址浏览网站时所做的事情，照这个网址给用户信息"
   ]
  },
  {
   "cell_type": "markdown",
   "metadata": {},
   "source": [
    "POST:当填写表单或提交信息到网络服务器的后端程序时所做的事情。每次登录网站的时候，就是通过用户名和（有可能加密的）密码发起一个post请求，相当于说“请把信息保存到你的数据库里”。"
   ]
  },
  {
   "cell_type": "markdown",
   "metadata": {},
   "source": [
    "PUT:用来更新一个对象或信息。例如API可能会要求用POST请求创建新用户，但是如果要更新老用户的邮箱地址就要使用Put请求了。"
   ]
  },
  {
   "cell_type": "markdown",
   "metadata": {},
   "source": [
    "DELETE：用于删除一个对象，在公用的API中不常用。"
   ]
  },
  {
   "cell_type": "markdown",
   "metadata": {},
   "source": [
    "## 验证"
   ]
  },
  {
   "cell_type": "markdown",
   "metadata": {},
   "source": [
    "有些API还需要验证，通常API的验证方法都是用类似令牌(token)的方式调用，每次API都会把令牌传递到服务器上。"
   ]
  },
  {
   "cell_type": "markdown",
   "metadata": {},
   "source": [
    "# 服务器响应"
   ]
  },
  {
   "cell_type": "markdown",
   "metadata": {},
   "source": [
    "API有一个重要的特征是它们会反馈格式友好的数据。大多数反馈的数据格式都是XML和JSON，这几年，JSON比XML更受欢迎，主要有两个原因，首先，JSON文件比完整的XML格式小。另一个原因是网络技术的改变。过去，服务器端用PHP和.NET这些程序作为API的接收端，现在服务器端也会用一些JavaScript框架作为API的接收和发送端，处理JSON要比处理XML更加简单。"
   ]
  },
  {
   "cell_type": "markdown",
   "metadata": {},
   "source": [
    "## API调用"
   ]
  },
  {
   "cell_type": "markdown",
   "metadata": {},
   "source": [
    "当使用GET请求获取数据时，用URL路径描述你要获取的数据范围，查询参数可以作为过滤器或附加请求使用。"
   ]
  },
  {
   "cell_type": "markdown",
   "metadata": {},
   "source": [
    "例如下面这个虚拟的API可以获取ID是1234的用户在2014年8月份发表的所有博文："
   ]
  },
  {
   "cell_type": "markdown",
   "metadata": {
    "ExecuteTime": {
     "end_time": "2018-03-19T14:55:52.660539Z",
     "start_time": "2018-03-19T14:55:52.656025Z"
    }
   },
   "source": [
    "http://socialmediasite.com/users/1234/posts?from=08012014&to=08312014"
   ]
  },
  {
   "cell_type": "markdown",
   "metadata": {},
   "source": [
    "有许多的API会通过文件路径(path)的形式指定API版本、数据格式和其他属性。例如下面的链接会返回同样的结果，但是使用虚拟API的第四版，反馈数据为JSON格式。"
   ]
  },
  {
   "cell_type": "markdown",
   "metadata": {},
   "source": [
    "http://socialmediasite.com/api/v4/json/users/1234/posts?from=08012014&to=08312014"
   ]
  },
  {
   "cell_type": "markdown",
   "metadata": {},
   "source": [
    "还有一些API会通过请求参数(request parameter)的形式指定数据格式和API版本"
   ]
  },
  {
   "cell_type": "markdown",
   "metadata": {},
   "source": [
    "http://socialmediasite.com/users/1234/posts?format=json&from=08012014&to=08312014"
   ]
  }
 ],
 "metadata": {
  "hide_input": false,
  "kernelspec": {
   "display_name": "Python 3",
   "language": "python",
   "name": "python3"
  },
  "language_info": {
   "codemirror_mode": {
    "name": "ipython",
    "version": 3
   },
   "file_extension": ".py",
   "mimetype": "text/x-python",
   "name": "python",
   "nbconvert_exporter": "python",
   "pygments_lexer": "ipython3",
   "version": "3.6.1"
  },
  "toc": {
   "nav_menu": {
    "height": "118px",
    "width": "203px"
   },
   "number_sections": true,
   "sideBar": true,
   "skip_h1_title": false,
   "toc_cell": false,
   "toc_position": {},
   "toc_section_display": "block",
   "toc_window_display": false
  },
  "varInspector": {
   "cols": {
    "lenName": 16,
    "lenType": 16,
    "lenVar": 40
   },
   "kernels_config": {
    "python": {
     "delete_cmd_postfix": "",
     "delete_cmd_prefix": "del ",
     "library": "var_list.py",
     "varRefreshCmd": "print(var_dic_list())"
    },
    "r": {
     "delete_cmd_postfix": ") ",
     "delete_cmd_prefix": "rm(",
     "library": "var_list.r",
     "varRefreshCmd": "cat(var_dic_list()) "
    }
   },
   "types_to_exclude": [
    "module",
    "function",
    "builtin_function_or_method",
    "instance",
    "_Feature"
   ],
   "window_display": false
  },
  "widgets": {
   "application/vnd.jupyter.widget-state+json": {
    "state": {},
    "version_major": 1,
    "version_minor": 0
   }
  }
 },
 "nbformat": 4,
 "nbformat_minor": 2
}
