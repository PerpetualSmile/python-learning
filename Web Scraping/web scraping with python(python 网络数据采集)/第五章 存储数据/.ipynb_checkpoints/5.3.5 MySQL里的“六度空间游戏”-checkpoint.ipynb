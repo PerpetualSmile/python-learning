{
 "cells": [
  {
   "cell_type": "markdown",
   "metadata": {},
   "source": [
    "# MySQL里的“六度空间游戏”"
   ]
  },
  {
   "cell_type": "markdown",
   "metadata": {},
   "source": [
    "接第三章的“维基百科六度分隔”问题（即找出一条链接路径，只要点击链接就可以从一个维基词条到另一个维基词条）"
   ]
  },
  {
   "cell_type": "markdown",
   "metadata": {},
   "source": [
    "下面代码会把“贝肯数”（一个页面与凯文·贝肯词条页面的链接数）不超过6的维基百科页面存储起来："
   ]
  },
  {
   "cell_type": "code",
   "execution_count": 1,
   "metadata": {
    "ExecuteTime": {
     "end_time": "2018-03-28T14:20:13.472614Z",
     "start_time": "2018-03-28T14:20:13.466096Z"
    }
   },
   "outputs": [
    {
     "ename": "SyntaxError",
     "evalue": "unexpected EOF while parsing (<ipython-input-1-42095e67380c>, line 12)",
     "output_type": "error",
     "traceback": [
      "\u001b[1;36m  File \u001b[1;32m\"<ipython-input-1-42095e67380c>\"\u001b[1;36m, line \u001b[1;32m12\u001b[0m\n\u001b[1;33m    if cur.rowcount == 0:\u001b[0m\n\u001b[1;37m                         ^\u001b[0m\n\u001b[1;31mSyntaxError\u001b[0m\u001b[1;31m:\u001b[0m unexpected EOF while parsing\n"
     ]
    }
   ],
   "source": [
    "from bs4 import BeautifulSoup\n",
    "import re\n",
    "import pymysql\n",
    "from urllib.request import urlopen\n",
    "\n",
    "\n",
    "conn = pymysql.connect(host='127.0.0.1', user='root', passwd=None, db='mysql', charset='utf8')\n",
    "cur = conn.cursor()\n",
    "cur.excute(\"USE wikipedia\")\n",
    "\n",
    "def insertPageIfNotExists(url):\n",
    "    cur.excute(\"SELECT *FROM pages WHERE url = %s\", (url))\n",
    "    if cur.rowcount == 0:\n",
    "        cur.excute(\"INSERT INTO pages (url) VALUES (%s)\", (url))\n",
    "        conn.commit()\n",
    "        return cur.lastrowid\n",
    "    else:\n",
    "        return cur.fetchone()[0]\n",
    "    \n",
    "def insertLink(fromPageId, toPageId):\n",
    "    cur.excute(\"SELECT * FROM links WHERE fromPageId = %s AND toPageId = %s\", (int(fromPageId), int(toPageId)))\n",
    "    if cur.rowcount == 0:\n",
    "        cur.excute(\"INSERT INTO links (fromPageId, toPageId) VALUES (%s, %s)\", (int(fromPageId), int(toPageId)))\n",
    "        conn.commit()\n",
    "\n",
    "pages = set()\n",
    "def getLinks(pageUrl, recursionLevel):\n",
    "    global pages\n",
    "    if recursionLevel > 4:\n",
    "        return\n",
    "    pageId = insertPageIfNotExists(pageUrl)\n",
    "    html = urlopen(\"http://en.wikipedia.org\" + pageUrl)\n",
    "    bsObj = BeautifulSoup(html)\n",
    "    for link in bsObj.find_all(\"a\", href=re.compile(\"^(/wiki/)((?!:).)*$\")):\n",
    "        insertLink(pageId, insertPageIfNotExists(link.attrs['href']))\n",
    "        if link.attrs['href'] not in pages:\n",
    "            newPage = link.attrs['href']\n",
    "            pages.add(newPage)\n",
    "            getLinks(newPage, recursionLevel + 1)\n",
    "\n",
    "getLinks(\"/wiki.Kevin_Bacon\", 0)\n",
    "cur.close()\n",
    "conn.close()"
   ]
  }
 ],
 "metadata": {
  "hide_input": false,
  "kernelspec": {
   "display_name": "Python 3",
   "language": "python",
   "name": "python3"
  },
  "language_info": {
   "codemirror_mode": {
    "name": "ipython",
    "version": 3
   },
   "file_extension": ".py",
   "mimetype": "text/x-python",
   "name": "python",
   "nbconvert_exporter": "python",
   "pygments_lexer": "ipython3",
   "version": "3.6.1"
  },
  "toc": {
   "nav_menu": {},
   "number_sections": true,
   "sideBar": true,
   "skip_h1_title": false,
   "toc_cell": false,
   "toc_position": {},
   "toc_section_display": "block",
   "toc_window_display": false
  },
  "varInspector": {
   "cols": {
    "lenName": 16,
    "lenType": 16,
    "lenVar": 40
   },
   "kernels_config": {
    "python": {
     "delete_cmd_postfix": "",
     "delete_cmd_prefix": "del ",
     "library": "var_list.py",
     "varRefreshCmd": "print(var_dic_list())"
    },
    "r": {
     "delete_cmd_postfix": ") ",
     "delete_cmd_prefix": "rm(",
     "library": "var_list.r",
     "varRefreshCmd": "cat(var_dic_list()) "
    }
   },
   "types_to_exclude": [
    "module",
    "function",
    "builtin_function_or_method",
    "instance",
    "_Feature"
   ],
   "window_display": false
  }
 },
 "nbformat": 4,
 "nbformat_minor": 2
}
