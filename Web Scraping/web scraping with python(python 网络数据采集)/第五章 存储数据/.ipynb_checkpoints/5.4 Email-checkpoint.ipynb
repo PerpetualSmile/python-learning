{
 "cells": [
  {
   "cell_type": "markdown",
   "metadata": {},
   "source": [
    "# Email"
   ]
  },
  {
   "cell_type": "markdown",
   "metadata": {},
   "source": [
    "与网页通过HTTP协议传输一样，邮件是通过SMTP（simple mail transfer protocol）简单邮件传输协议传输的。"
   ]
  },
  {
   "cell_type": "markdown",
   "metadata": {},
   "source": [
    "虽然用python发邮件很容易， 但是需要你连接那些正在运行SMTP协议的服务器，在服务器或本地机器上设置SMTP客户端有点儿复杂，也超出了本书的介绍范围，但是有很多资料可以帮助解决问题。"
   ]
  },
  {
   "cell_type": "markdown",
   "metadata": {},
   "source": [
    "下面的代码运行的前提是你的电脑已经可以正常地运行一个SMTP客户端**（如果要调整代码用于远程SMTP客户端，请把localhost改成远程服务器地址）**"
   ]
  },
  {
   "cell_type": "markdown",
   "metadata": {},
   "source": [
    "## 用python发一封邮件"
   ]
  },
  {
   "cell_type": "markdown",
   "metadata": {},
   "source": [
    "以下内容参考[廖雪峰教程](https://www.liaoxuefeng.com/wiki/0014316089557264a6b348958f449949df42a6d3a2e542c000/001432005226355aadb8d4b2f3f42f6b1d6f2c5bd8d5263000)"
   ]
  },
  {
   "cell_type": "markdown",
   "metadata": {
    "collapsed": true
   },
   "source": [
    "python对SMTP的支持有smtplib和email两个模块， email负责构造邮件，smtplib负责发送邮件。"
   ]
  },
  {
   "cell_type": "markdown",
   "metadata": {},
   "source": [
    "### 构造一个简单的纯文本邮件 "
   ]
  },
  {
   "cell_type": "code",
   "execution_count": 4,
   "metadata": {
    "ExecuteTime": {
     "end_time": "2018-03-31T15:37:11.925989Z",
     "start_time": "2018-03-31T15:37:11.921964Z"
    }
   },
   "outputs": [],
   "source": [
    "from email.mime.text import MIMEText\n",
    "from email import  encoders\n",
    "from email.header import  Header\n",
    "from email.utils import parseaddr, formataddr\n",
    "\n",
    "\n"
   ]
  },
  {
   "cell_type": "markdown",
   "metadata": {},
   "source": [
    "- 第一个参数是邮件正文，第二个参数是MIME的subtype，传入'plain'表示纯文本，最后用utf-8编码保证多语言兼容性"
   ]
  },
  {
   "cell_type": "markdown",
   "metadata": {},
   "source": [
    "### 通过SMTP发送"
   ]
  },
  {
   "cell_type": "code",
   "execution_count": null,
   "metadata": {
    "ExecuteTime": {
     "start_time": "2018-03-31T15:48:32.969Z"
    },
    "scrolled": true
   },
   "outputs": [],
   "source": [
    "def _format_addr(s):\n",
    "    name, addr = parseaddr(s)\n",
    "    return formataddr((Header(name, 'utf-8').encode(), addr))\n",
    "msg = MIMEText('Life is short, I use python', 'plain', 'utf-8')\n",
    "# msg['From'] = _format_addr(\"jdshen\")\n",
    "msg['To'] = _format_addr(\"2412697841@qq.com\")\n",
    "msg['Subject'] = Header(\"Hello!\", 'utf-8').encode()\n",
    "\n",
    "# 输入Email地址和口令\n",
    "from_addr = \"m18896921739@163.com\"\n",
    "passwd = input(\"Passwd: \")\n",
    "# 输入收件人地址\n",
    "to_addr = \"2412697841@qq.com\"\n",
    "# 输入smtp服务器地址\n",
    "smtp_server = \"smtp.163.com\"\n",
    "\n",
    "import smtplib\n",
    "server = smtplib.SMTP(smtp_server, 25)  # smtp协议的默认端口是25\n",
    "server.set_debuglevel(1)\n",
    "server.login(from_addr, passwd)\n",
    "server.sendmail(from_addr, [to_addr], msg.as_string())\n",
    "server.quit()"
   ]
  },
  {
   "cell_type": "markdown",
   "metadata": {},
   "source": [
    "- 使用set_debuglevel(1)就可以打印出和SMTP服务器交互的所有信息。SMTP协议就是简单的文本命令和响应，login()方法用来登录服务器，sendmail()方法是发邮件，一次可以发给多个人，所以传入一个list， 邮件正文是一个str，as_string()把MIMEText对象变成str"
   ]
  },
  {
   "cell_type": "markdown",
   "metadata": {},
   "source": [
    "** <span class=\"mark\">特别注意：邮件的to和subject一定要加上去，不然会出现545错误，还有发给其他邮箱很容易被当成垃圾邮件，需要在垃圾箱里设置为信任，以后发给这个邮箱的邮件就不会进垃圾箱了。</span>**"
   ]
  },
  {
   "cell_type": "code",
   "execution_count": null,
   "metadata": {
    "collapsed": true
   },
   "outputs": [],
   "source": []
  }
 ],
 "metadata": {
  "hide_input": false,
  "kernelspec": {
   "display_name": "Python 3",
   "language": "python",
   "name": "python3"
  },
  "language_info": {
   "codemirror_mode": {
    "name": "ipython",
    "version": 3
   },
   "file_extension": ".py",
   "mimetype": "text/x-python",
   "name": "python",
   "nbconvert_exporter": "python",
   "pygments_lexer": "ipython3",
   "version": "3.6.1"
  },
  "toc": {
   "nav_menu": {},
   "number_sections": true,
   "sideBar": true,
   "skip_h1_title": false,
   "toc_cell": false,
   "toc_position": {},
   "toc_section_display": "block",
   "toc_window_display": false
  },
  "varInspector": {
   "cols": {
    "lenName": 16,
    "lenType": 16,
    "lenVar": 40
   },
   "kernels_config": {
    "python": {
     "delete_cmd_postfix": "",
     "delete_cmd_prefix": "del ",
     "library": "var_list.py",
     "varRefreshCmd": "print(var_dic_list())"
    },
    "r": {
     "delete_cmd_postfix": ") ",
     "delete_cmd_prefix": "rm(",
     "library": "var_list.r",
     "varRefreshCmd": "cat(var_dic_list()) "
    }
   },
   "types_to_exclude": [
    "module",
    "function",
    "builtin_function_or_method",
    "instance",
    "_Feature"
   ],
   "window_display": false
  }
 },
 "nbformat": 4,
 "nbformat_minor": 2
}
