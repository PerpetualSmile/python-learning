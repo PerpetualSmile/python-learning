{
 "cells": [
  {
   "cell_type": "markdown",
   "metadata": {},
   "source": [
    "# mysql和python的整合"
   ]
  },
  {
   "cell_type": "code",
   "execution_count": 1,
   "metadata": {
    "ExecuteTime": {
     "end_time": "2018-03-27T13:04:05.772478Z",
     "start_time": "2018-03-27T13:04:05.736402Z"
    }
   },
   "outputs": [
    {
     "data": {
      "text/plain": [
       "0"
      ]
     },
     "execution_count": 1,
     "metadata": {},
     "output_type": "execute_result"
    }
   ],
   "source": [
    "import pymysql\n",
    "conn = pymysql.connect(host='127.0.0.1', user='root', passwd='720428', db='mysql')\n",
    "cur = conn.cursor()\n",
    "cur.execute(\"USE scraping\")"
   ]
  },
  {
   "cell_type": "code",
   "execution_count": 2,
   "metadata": {
    "ExecuteTime": {
     "end_time": "2018-03-27T13:04:05.797514Z",
     "start_time": "2018-03-27T13:04:05.774953Z"
    }
   },
   "outputs": [
    {
     "name": "stdout",
     "output_type": "stream",
     "text": [
      "(1, 'Test page title', 'This is some test page content.', datetime.datetime(2018, 3, 26, 0, 3, 20))\n"
     ]
    }
   ],
   "source": [
    "cur.execute(\"SELECT * FROM pages WHERE id=1\")\n",
    "print(cur.fetchone())\n",
    "cur.close()\n",
    "conn.close()"
   ]
  },
  {
   "cell_type": "markdown",
   "metadata": {},
   "source": [
    "这段程序有两个对象：连接对象（conn）和光标对象（cur）。连接和光标模式是数据库编程中常用的模式。"
   ]
  },
  {
   "cell_type": "markdown",
   "metadata": {},
   "source": [
    "连接模式除了要连接数据库之外，还要发送数据库信息，处理回滚操作、创建新的光标对象，等等"
   ]
  },
  {
   "cell_type": "markdown",
   "metadata": {},
   "source": [
    "一个连接可以有很多个光标，一个光标跟踪一种状态信息，比如跟踪数据库的使用状态，如果有多个数据库，且需要向所有的数据库写内容，就需要多个光标来处理，光标还会包含最后一次查询的执行结果。通过调用光标函数，比如cur.fetchone()可以获取查询结果。"
   ]
  },
  {
   "cell_type": "markdown",
   "metadata": {},
   "source": [
    "<div class=\"mark\">\n",
    "**用完光标和连接之后千万记得要把它们关闭，如果不关闭会导致连接泄露**</div><i class=\"fa fa-lightbulb-o \"></i>"
   ]
  },
  {
   "cell_type": "markdown",
   "metadata": {},
   "source": [
    "## 维基百科例子演示如何实现数据存储"
   ]
  },
  {
   "cell_type": "markdown",
   "metadata": {},
   "source": [
    "<div class=\"mark\">\n",
    "**在进行网络数据采集时，处理Unicode字符串是很痛苦的事情。**</div><i class=\"fa fa-lightbulb-o \"></i>"
   ]
  },
  {
   "cell_type": "markdown",
   "metadata": {},
   "source": [
    "默认情况下，MySql不支持Unicode字符处理，但是可以设置这个功能（这么做会增加数据库的占用空间）"
   ]
  },
  {
   "cell_type": "markdown",
   "metadata": {},
   "source": [
    "### 一开始就让数据库支持Unicode："
   ]
  },
  {
   "cell_type": "markdown",
   "metadata": {
    "ExecuteTime": {
     "end_time": "2018-03-27T12:05:12.169323Z",
     "start_time": "2018-03-27T12:05:12.163909Z"
    }
   },
   "source": [
    "```\n",
    "ALTER DATABASE scraping CHARACTER SET = utf8mb4 COLLATE = utf8mb4_unicode_ci;\n",
    "ALTER TABLE pages CONVERT TO CHARACTER SET utf8mb4 COLLATE utf8mb4_unicode_ci;\n",
    "ALTER TABLE pages CHANGE title title VARCHAR(200) CHARACTER SET utf8mb4 COLLATE utf8mb4_unicode_ci;\n",
    "ALTER TABLE pages CHANGE content content VARCHAR(10000) CHARACTER SET utf8mb4 COLLATE utf8mb4_unicode_ci;\n",
    "```"
   ]
  },
  {
   "cell_type": "markdown",
   "metadata": {},
   "source": [
    "这四行语句改变的内容有：数据库、数据表、以及两个字段的默认编码都从utf8mb4(严格来说也属于Unicode，但是对大多数Unicode字符的支持都非常不好)转变成了utf8mb4_unicode_ci"
   ]
  },
  {
   "cell_type": "markdown",
   "metadata": {},
   "source": [
    "存储数据的程序"
   ]
  },
  {
   "cell_type": "code",
   "execution_count": 3,
   "metadata": {
    "ExecuteTime": {
     "end_time": "2018-03-27T13:04:08.840505Z",
     "start_time": "2018-03-27T13:04:05.800522Z"
    }
   },
   "outputs": [],
   "source": [
    "from urllib.request import urlopen\n",
    "from bs4 import BeautifulSoup\n",
    "import re\n",
    "import datetime\n",
    "import random\n",
    "import pymysql\n",
    "\n",
    "conn = pymysql.connect(host='127.0.0.1', user='root', passwd='720428', db='mysql', charset='utf8')\n",
    "cur = conn.cursor()\n",
    "cur.execute('USE scraping')\n",
    "random.seed(datetime.datetime.now())\n",
    "\n",
    "def store(title, content):\n",
    "    cur.execute(\"INSERT INTO pages(title, content) VALUES (\\\"%s\\\", \\\"%s\\\")\", (title, content))\n",
    "    cur.connection.commit()\n",
    "\n",
    "def getLinks(articleUrl):\n",
    "    html = urlopen(\"http://en.wikipedia.org\" + articleUrl)\n",
    "    soup = BeautifulSoup(html, 'lxml')\n",
    "    title = soup.find(\"h1\").get_text()\n",
    "    content = soup.find(\"div\", {\"id\":\"mw-content-text\"}).find(\"p\").get_text()\n",
    "    store(title, content)\n",
    "    try: \n",
    "        temp = soup.find(\"div\", {\"id\":\"bodyContent\"}).findALL(\"a\", href=re.compile(\"^(/wiki/)((?!:).)*$\"))\n",
    "    except Exception as e:\n",
    "        return []\n",
    "    else:\n",
    "        return soup.find(\"div\", {\"id\":\"bodyContent\"}).findALL(\"a\", href=re.compile(\"^(/wiki/)((?!:).)*$\"))\n",
    "\n",
    "links = getLinks(\"/wiki/Kevin_Bacon\")\n",
    "try:\n",
    "    while len(links) > 0:\n",
    "        newArticle = links[random.randint(0, len(links)-1)].attrs[\"href\"]\n",
    "        print(newArticle)\n",
    "        links = getLinks(newArticle)\n",
    "finally:\n",
    "    cur.close()\n",
    "    conn.close()"
   ]
  },
  {
   "cell_type": "markdown",
   "metadata": {},
   "source": [
    "### 以上代码注意点"
   ]
  },
  {
   "cell_type": "markdown",
   "metadata": {},
   "source": [
    "- charset='utf8'要增加到连接字符串里，这是让连接conn把所有发送到数据库的信息都当成UTF-8编码格式\n",
    "- store函数中，用光标执行INSERT语句，然后用光标进行连接确认，这是一个让光标和连接操作分离的好例子，当光标里存储了一些数据库与数据库上下文的信息时，需要通过连接的确认操作将该信息传给数据库，再将信息插入数据库。\n",
    "- finally语句是在程序的主循环的外面，这样可以保证无论程序执行过程中如何发生中断或者抛出异常，光标和连接都会在程序结束前立即关闭。无论是采集网络还是打开一个连接的数据库，用try...finally都是一个好主意"
   ]
  },
  {
   "cell_type": "markdown",
   "metadata": {},
   "source": [
    "PyMySQL另外一些非常实用的函数参考[python的DBAPI标准文档](http://legacy.python.org/dev/peps/pep-0249/)"
   ]
  }
 ],
 "metadata": {
  "hide_input": false,
  "kernelspec": {
   "display_name": "Python 3",
   "language": "python",
   "name": "python3"
  },
  "language_info": {
   "codemirror_mode": {
    "name": "ipython",
    "version": 3
   },
   "file_extension": ".py",
   "mimetype": "text/x-python",
   "name": "python",
   "nbconvert_exporter": "python",
   "pygments_lexer": "ipython3",
   "version": "3.6.1"
  },
  "toc": {
   "nav_menu": {},
   "number_sections": true,
   "sideBar": true,
   "skip_h1_title": false,
   "toc_cell": false,
   "toc_position": {},
   "toc_section_display": "block",
   "toc_window_display": false
  },
  "varInspector": {
   "cols": {
    "lenName": 16,
    "lenType": 16,
    "lenVar": 40
   },
   "kernels_config": {
    "python": {
     "delete_cmd_postfix": "",
     "delete_cmd_prefix": "del ",
     "library": "var_list.py",
     "varRefreshCmd": "print(var_dic_list())"
    },
    "r": {
     "delete_cmd_postfix": ") ",
     "delete_cmd_prefix": "rm(",
     "library": "var_list.r",
     "varRefreshCmd": "cat(var_dic_list()) "
    }
   },
   "types_to_exclude": [
    "module",
    "function",
    "builtin_function_or_method",
    "instance",
    "_Feature"
   ],
   "window_display": false
  }
 },
 "nbformat": 4,
 "nbformat_minor": 2
}
