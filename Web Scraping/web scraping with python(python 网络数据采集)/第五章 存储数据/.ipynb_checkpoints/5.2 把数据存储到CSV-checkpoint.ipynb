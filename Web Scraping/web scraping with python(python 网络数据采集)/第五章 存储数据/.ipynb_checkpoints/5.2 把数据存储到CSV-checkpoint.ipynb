{
 "cells": [
  {
   "cell_type": "markdown",
   "metadata": {
    "ExecuteTime": {
     "end_time": "2018-03-26T07:43:28.647592Z",
     "start_time": "2018-03-26T07:43:28.642081Z"
    }
   },
   "source": [
    "# 把数据存储到CSV"
   ]
  },
  {
   "cell_type": "markdown",
   "metadata": {},
   "source": [
    "CSV(Comma-Separated Values, 逗号分隔值)是存储表格数据的常用文件格式。"
   ]
  },
  {
   "cell_type": "markdown",
   "metadata": {},
   "source": [
    "和python一样，CSV里面留白也很重要：每一行都用一个换行符分隔，列与列之间用逗号分隔。CSV文件还可以用Tab字符或其他字符分隔行，但是不常见，用得不多。"
   ]
  },
  {
   "cell_type": "markdown",
   "metadata": {},
   "source": [
    "## 使用python的CSV库简单修改和创建CSV文件"
   ]
  },
  {
   "cell_type": "code",
   "execution_count": 1,
   "metadata": {
    "ExecuteTime": {
     "end_time": "2018-03-26T08:56:41.371015Z",
     "start_time": "2018-03-26T08:56:41.356945Z"
    },
    "collapsed": true
   },
   "outputs": [],
   "source": [
    "import csv\n",
    "csvFile = open(\"test.csv\", \"w+\")\n",
    "try:\n",
    "    writer = csv.writer(csvFile)\n",
    "    writer.writerow(('number', 'number plus 2', 'number times 2'))\n",
    "    for i in range(10):\n",
    "        writer.writerow((i, i+2, i*2))\n",
    "finally:\n",
    "    csvFile.close()"
   ]
  },
  {
   "cell_type": "markdown",
   "metadata": {},
   "source": [
    "## 获取HTML表格并写入CSV文件"
   ]
  },
  {
   "cell_type": "markdown",
   "metadata": {},
   "source": [
    "将维基百科的文本编辑器对比词条（http://en.wikipedia.org/wiki/Comparison_of_text_editors） 中的HTML表格写入CSV文件，使用BeautifulSoup和get_text()函数"
   ]
  },
  {
   "cell_type": "code",
   "execution_count": 2,
   "metadata": {
    "ExecuteTime": {
     "end_time": "2018-03-26T08:56:45.247450Z",
     "start_time": "2018-03-26T08:56:41.374995Z"
    }
   },
   "outputs": [],
   "source": [
    "import csv\n",
    "from urllib.request import urlopen\n",
    "from bs4 import BeautifulSoup\n",
    "\n",
    "html = urlopen(\"http://en.wikipedia.org/wiki/Comparison_of_text_editors\")\n",
    "soup = BeautifulSoup(html, 'lxml')\n",
    "# 主对比表格是当前页面上的第一个表格\n",
    "table = soup.find_all(\"table\", {\"class\":\"wikitable\"})[0]\n",
    "rows = table.find_all(\"tr\")\n",
    "\n",
    "with open(\"editors.csv\", 'wt', newline='', encoding='utf-8') as csvFile:\n",
    "    writer = csv.writer(csvFile)\n",
    "    for row in rows:\n",
    "        csvRow = []\n",
    "        for cell in row.find_all(['td', 'th']):\n",
    "            csvRow.append(cell.get_text())\n",
    "        writer.writerow(csvRow)"
   ]
  },
  {
   "cell_type": "markdown",
   "metadata": {},
   "source": [
    "如果有很多HTML表格，且每个都要转换成CSV文件，或者许多HTML表格都要汇总到一个CSV文件，那么把这个程序整合到爬虫里以解决问题非常好。但是如果只需要做一次这种事情，更好的办法就是复制粘贴，选择HTML表格内容然后粘贴到Excel文件里，可以另存为CSV格式，不需要写代码就能搞定。"
   ]
  }
 ],
 "metadata": {
  "hide_input": false,
  "kernelspec": {
   "display_name": "Python 3",
   "language": "python",
   "name": "python3"
  },
  "language_info": {
   "codemirror_mode": {
    "name": "ipython",
    "version": 3
   },
   "file_extension": ".py",
   "mimetype": "text/x-python",
   "name": "python",
   "nbconvert_exporter": "python",
   "pygments_lexer": "ipython3",
   "version": "3.6.1"
  },
  "toc": {
   "nav_menu": {},
   "number_sections": true,
   "sideBar": true,
   "skip_h1_title": false,
   "toc_cell": false,
   "toc_position": {},
   "toc_section_display": "block",
   "toc_window_display": false
  },
  "varInspector": {
   "cols": {
    "lenName": 16,
    "lenType": 16,
    "lenVar": 40
   },
   "kernels_config": {
    "python": {
     "delete_cmd_postfix": "",
     "delete_cmd_prefix": "del ",
     "library": "var_list.py",
     "varRefreshCmd": "print(var_dic_list())"
    },
    "r": {
     "delete_cmd_postfix": ") ",
     "delete_cmd_prefix": "rm(",
     "library": "var_list.r",
     "varRefreshCmd": "cat(var_dic_list()) "
    }
   },
   "types_to_exclude": [
    "module",
    "function",
    "builtin_function_or_method",
    "instance",
    "_Feature"
   ],
   "window_display": false
  }
 },
 "nbformat": 4,
 "nbformat_minor": 2
}
