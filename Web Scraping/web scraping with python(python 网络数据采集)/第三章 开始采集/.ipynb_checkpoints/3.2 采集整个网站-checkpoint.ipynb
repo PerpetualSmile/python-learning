{
 "cells": [
  {
   "cell_type": "markdown",
   "metadata": {},
   "source": [
    "# 采集整个网站"
   ]
  },
  {
   "cell_type": "markdown",
   "metadata": {},
   "source": [
    "如果需要系统地把整个网站按目录分类，或者要搜索网站上的每一个页面，就得采集整个网站，那是非常耗费内存的，尤其是处理大型的网站，最适合的工具就是使用一个数据库来存储采集的资源。"
   ]
  },
  {
   "cell_type": "markdown",
   "metadata": {},
   "source": [
    "但我们也可以掌握这类工具的行为，并不需要大规模地运行它们。"
   ]
  },
  {
   "cell_type": "markdown",
   "metadata": {},
   "source": [
    "## 深网(deep web)、浅网(surface web)和暗网(dark web)或隐藏网络"
   ]
  },
  {
   "cell_type": "markdown",
   "metadata": {},
   "source": [
    "深网是网络的一部分，与浅网相对应，浅网是互联网上搜索引擎可以抓到的那部分网络，即谷歌爬虫机器人可以获取的数据，互联网中实际上有90%的网络都是深网"
   ]
  },
  {
   "cell_type": "markdown",
   "metadata": {},
   "source": [
    "暗网也被称为Darknet或dark Internet，完全是另一种怪兽，使用Tor客户端，带有运行在HTTP之上的新协议，提供了信息交换的安全隧道。"
   ]
  },
  {
   "cell_type": "markdown",
   "metadata": {},
   "source": [
    "## "
   ]
  }
 ],
 "metadata": {
  "hide_input": false,
  "kernelspec": {
   "display_name": "Python 3",
   "language": "python",
   "name": "python3"
  },
  "language_info": {
   "codemirror_mode": {
    "name": "ipython",
    "version": 3
   },
   "file_extension": ".py",
   "mimetype": "text/x-python",
   "name": "python",
   "nbconvert_exporter": "python",
   "pygments_lexer": "ipython3",
   "version": "3.6.1"
  },
  "toc": {
   "nav_menu": {},
   "number_sections": true,
   "sideBar": true,
   "skip_h1_title": false,
   "toc_cell": false,
   "toc_position": {},
   "toc_section_display": "block",
   "toc_window_display": false
  },
  "varInspector": {
   "cols": {
    "lenName": 16,
    "lenType": 16,
    "lenVar": 40
   },
   "kernels_config": {
    "python": {
     "delete_cmd_postfix": "",
     "delete_cmd_prefix": "del ",
     "library": "var_list.py",
     "varRefreshCmd": "print(var_dic_list())"
    },
    "r": {
     "delete_cmd_postfix": ") ",
     "delete_cmd_prefix": "rm(",
     "library": "var_list.r",
     "varRefreshCmd": "cat(var_dic_list()) "
    }
   },
   "types_to_exclude": [
    "module",
    "function",
    "builtin_function_or_method",
    "instance",
    "_Feature"
   ],
   "window_display": false
  }
 },
 "nbformat": 4,
 "nbformat_minor": 2
}
